{
 "cells": [
  {
   "attachments": {},
   "cell_type": "markdown",
   "metadata": {},
   "source": [
    "# 2. Análise exploratória\n",
    "\n",
    "Com os dados sanitizados, é possível agora verificar algumas distribuições das variáveis disponíveis, para entender como é o perfil dos clientes e das características dos laboratórios\n",
    "\n",
    "Com base nestas distribuições, será possível aprofundar as análises, orientando pelas perguntas de negócio que queremos responder\n",
    "\n",
    "### importando as bibliotecas necessárias"
   ]
  },
  {
   "cell_type": "code",
   "execution_count": 2,
   "metadata": {},
   "outputs": [
    {
     "data": {
      "text/html": [
       "        <script type=\"text/javascript\">\n",
       "        window.PlotlyConfig = {MathJaxConfig: 'local'};\n",
       "        if (window.MathJax && window.MathJax.Hub && window.MathJax.Hub.Config) {window.MathJax.Hub.Config({SVG: {font: \"STIX-Web\"}});}\n",
       "        if (typeof require !== 'undefined') {\n",
       "        require.undef(\"plotly\");\n",
       "        requirejs.config({\n",
       "            paths: {\n",
       "                'plotly': ['https://cdn.plot.ly/plotly-2.18.2.min']\n",
       "            }\n",
       "        });\n",
       "        require(['plotly'], function(Plotly) {\n",
       "            window._Plotly = Plotly;\n",
       "        });\n",
       "        }\n",
       "        </script>\n",
       "        "
      ]
     },
     "metadata": {},
     "output_type": "display_data"
    }
   ],
   "source": [
    "import pandas as pd\n",
    "import numpy as np\n",
    "import seaborn as sns\n",
    "import matplotlib.pyplot as plt\n",
    "import datetime\n",
    "\n",
    "from scipy.stats import f_oneway\n",
    "\n",
    "import plotly.express as px\n",
    "import plotly.graph_objects as go\n",
    "from plotly.offline import init_notebook_mode, iplot\n",
    "init_notebook_mode(connected=True) \n",
    "\n",
    "%matplotlib inline"
   ]
  },
  {
   "attachments": {},
   "cell_type": "markdown",
   "metadata": {},
   "source": [
    "### lendo as bases de dados tratadas"
   ]
  },
  {
   "cell_type": "code",
   "execution_count": 3,
   "metadata": {},
   "outputs": [
    {
     "name": "stderr",
     "output_type": "stream",
     "text": [
      "C:\\Users\\Leticia\\AppData\\Local\\Temp\\ipykernel_8020\\3369382902.py:5: DtypeWarning:\n",
      "\n",
      "Columns (9) have mixed types. Specify dtype option on import or set low_memory=False.\n",
      "\n"
     ]
    }
   ],
   "source": [
    "demographic_data = pd.read_csv('dados_tratados/demographic_data_trat.csv')\n",
    "df_geocode = pd.read_csv('dados_tratados/df_geocode_trat.csv')\n",
    "economic_data = pd.read_csv('dados_tratados/economic_data_trat.csv')\n",
    "test_data = pd.read_csv('dados_tratados/test_data_trat.csv')\n",
    "transactional_data = pd.read_csv('dados_tratados/transactional_data_trat.csv')\n",
    "\n",
    "zipcodes_states = pd.read_excel('dados_brutos/zipcodes-states.xlsx', index_col = 0) # fontes: https://codigo-postal.co/pt-br/eua/, https://pt.wikipedia.org/wiki/Lista_de_estados_dos_Estados_Unidos_por_popula%C3%A7%C3%A3o"
   ]
  },
  {
   "attachments": {},
   "cell_type": "markdown",
   "metadata": {},
   "source": [
    "## mapa com a distribuição das localizações\n",
    "\n",
    "inicialmente, será produzido um mapa dos estados unidos com a localização dos laboratórios\n",
    "\n",
    "para isso, será utilizada a base df_geocode, que tem as informações de latitude e longitude dos laboratórios "
   ]
  },
  {
   "cell_type": "code",
   "execution_count": 4,
   "metadata": {},
   "outputs": [
    {
     "data": {
      "text/html": [
       "<div>\n",
       "<style scoped>\n",
       "    .dataframe tbody tr th:only-of-type {\n",
       "        vertical-align: middle;\n",
       "    }\n",
       "\n",
       "    .dataframe tbody tr th {\n",
       "        vertical-align: top;\n",
       "    }\n",
       "\n",
       "    .dataframe thead th {\n",
       "        text-align: right;\n",
       "    }\n",
       "</style>\n",
       "<table border=\"1\" class=\"dataframe\">\n",
       "  <thead>\n",
       "    <tr style=\"text-align: right;\">\n",
       "      <th></th>\n",
       "      <th>Lab Id</th>\n",
       "      <th>Address</th>\n",
       "      <th>Location</th>\n",
       "      <th>Zipcode</th>\n",
       "      <th>latitude</th>\n",
       "      <th>longitude</th>\n",
       "      <th>Sigla</th>\n",
       "    </tr>\n",
       "  </thead>\n",
       "  <tbody>\n",
       "    <tr>\n",
       "      <th>0</th>\n",
       "      <td>L152</td>\n",
       "      <td>3800 PLEASANT HILL RD STE 1, DULUTH, GA 30096</td>\n",
       "      <td>34.000319,-84.1629724</td>\n",
       "      <td>30096.0</td>\n",
       "      <td>34.000319</td>\n",
       "      <td>-84.162972</td>\n",
       "      <td>GA</td>\n",
       "    </tr>\n",
       "    <tr>\n",
       "      <th>1</th>\n",
       "      <td>L520</td>\n",
       "      <td>1614 N JAMES ST, ROME, NY 13440</td>\n",
       "      <td>43.2311327,-75.4445363</td>\n",
       "      <td>13440.0</td>\n",
       "      <td>43.231133</td>\n",
       "      <td>-75.444536</td>\n",
       "      <td>NY</td>\n",
       "    </tr>\n",
       "    <tr>\n",
       "      <th>2</th>\n",
       "      <td>L141</td>\n",
       "      <td>12911 120TH AVE NE STE D60, KIRKLAND, WA 98034</td>\n",
       "      <td>47.7162786,-122.1838152</td>\n",
       "      <td>98034.0</td>\n",
       "      <td>47.716279</td>\n",
       "      <td>-122.183815</td>\n",
       "      <td>WA</td>\n",
       "    </tr>\n",
       "    <tr>\n",
       "      <th>3</th>\n",
       "      <td>L524</td>\n",
       "      <td>5667 PEACHTREE DUNWOODY RD 250, ATLANTA, GA 30342</td>\n",
       "      <td>33.9093875,-84.3529096</td>\n",
       "      <td>30342.0</td>\n",
       "      <td>33.909388</td>\n",
       "      <td>-84.352910</td>\n",
       "      <td>GA</td>\n",
       "    </tr>\n",
       "    <tr>\n",
       "      <th>4</th>\n",
       "      <td>L545</td>\n",
       "      <td>1204 IL HWY 164, OQUAWKA, IL 61469</td>\n",
       "      <td>40.9309925,-90.9437598</td>\n",
       "      <td>61469.0</td>\n",
       "      <td>40.930993</td>\n",
       "      <td>-90.943760</td>\n",
       "      <td>IL</td>\n",
       "    </tr>\n",
       "  </tbody>\n",
       "</table>\n",
       "</div>"
      ],
      "text/plain": [
       "  Lab Id                                            Address  \\\n",
       "0   L152      3800 PLEASANT HILL RD STE 1, DULUTH, GA 30096   \n",
       "1   L520                    1614 N JAMES ST, ROME, NY 13440   \n",
       "2   L141     12911 120TH AVE NE STE D60, KIRKLAND, WA 98034   \n",
       "3   L524  5667 PEACHTREE DUNWOODY RD 250, ATLANTA, GA 30342   \n",
       "4   L545                 1204 IL HWY 164, OQUAWKA, IL 61469   \n",
       "\n",
       "                  Location  Zipcode   latitude   longitude Sigla  \n",
       "0    34.000319,-84.1629724  30096.0  34.000319  -84.162972    GA  \n",
       "1   43.2311327,-75.4445363  13440.0  43.231133  -75.444536    NY  \n",
       "2  47.7162786,-122.1838152  98034.0  47.716279 -122.183815    WA  \n",
       "3   33.9093875,-84.3529096  30342.0  33.909388  -84.352910    GA  \n",
       "4   40.9309925,-90.9437598  61469.0  40.930993  -90.943760    IL  "
      ]
     },
     "execution_count": 4,
     "metadata": {},
     "output_type": "execute_result"
    }
   ],
   "source": [
    "coordenadas = df_geocode\n",
    "\n",
    "# separando a latitude e a longitude\n",
    "coordenadas['latitude'] = coordenadas['Location'].str.split(',').str[0].astype('float')\n",
    "coordenadas['longitude'] = coordenadas['Location'].str.split(',').str[1].astype('float')\n",
    "\n",
    "# separando o estado a partir da coluna de endereço\n",
    "coordenadas['Sigla'] = coordenadas['Address'].str.split(', ').str[2].str.split(' ').str[0]\n",
    "\n",
    "coordenadas.head()"
   ]
  },
  {
   "attachments": {},
   "cell_type": "markdown",
   "metadata": {},
   "source": [
    "quais são os estados que têm laboratórios? quantos laboratórios tem em cada um deles?"
   ]
  },
  {
   "cell_type": "code",
   "execution_count": 5,
   "metadata": {},
   "outputs": [
    {
     "data": {
      "text/html": [
       "<div>\n",
       "<style scoped>\n",
       "    .dataframe tbody tr th:only-of-type {\n",
       "        vertical-align: middle;\n",
       "    }\n",
       "\n",
       "    .dataframe tbody tr th {\n",
       "        vertical-align: top;\n",
       "    }\n",
       "\n",
       "    .dataframe thead th {\n",
       "        text-align: right;\n",
       "    }\n",
       "</style>\n",
       "<table border=\"1\" class=\"dataframe\">\n",
       "  <thead>\n",
       "    <tr style=\"text-align: right;\">\n",
       "      <th></th>\n",
       "      <th>Sigla</th>\n",
       "      <th>Estado</th>\n",
       "      <th>Estado.1</th>\n",
       "      <th>Intervalo de CEPs</th>\n",
       "      <th>Qtd de CEPs</th>\n",
       "      <th>Data de Fundação</th>\n",
       "      <th>População 2020</th>\n",
       "    </tr>\n",
       "  </thead>\n",
       "  <tbody>\n",
       "    <tr>\n",
       "      <th>1</th>\n",
       "      <td>AL</td>\n",
       "      <td>Alabama</td>\n",
       "      <td>Montgomery</td>\n",
       "      <td>35004 to 36925</td>\n",
       "      <td>838</td>\n",
       "      <td>December 14, 1819</td>\n",
       "      <td>5 024 279</td>\n",
       "    </tr>\n",
       "    <tr>\n",
       "      <th>2</th>\n",
       "      <td>AK</td>\n",
       "      <td>Alaska</td>\n",
       "      <td>Juneau</td>\n",
       "      <td>99501 to 99950</td>\n",
       "      <td>274</td>\n",
       "      <td>January 3, 1959</td>\n",
       "      <td>733 391</td>\n",
       "    </tr>\n",
       "    <tr>\n",
       "      <th>3</th>\n",
       "      <td>AZ</td>\n",
       "      <td>Arizona</td>\n",
       "      <td>Phoenix</td>\n",
       "      <td>85001 to 86556</td>\n",
       "      <td>567</td>\n",
       "      <td>February 14, 1912</td>\n",
       "      <td>7 151 502</td>\n",
       "    </tr>\n",
       "  </tbody>\n",
       "</table>\n",
       "</div>"
      ],
      "text/plain": [
       "  Sigla   Estado    Estado.1 Intervalo de CEPs  Qtd de CEPs  \\\n",
       "1    AL  Alabama  Montgomery    35004 to 36925          838   \n",
       "2    AK   Alaska      Juneau    99501 to 99950          274   \n",
       "3    AZ  Arizona     Phoenix    85001 to 86556          567   \n",
       "\n",
       "    Data de Fundação População 2020  \n",
       "1  December 14, 1819      5 024 279  \n",
       "2    January 3, 1959        733 391  \n",
       "3  February 14, 1912      7 151 502  "
      ]
     },
     "execution_count": 5,
     "metadata": {},
     "output_type": "execute_result"
    }
   ],
   "source": [
    "zipcodes_states.head(3)"
   ]
  },
  {
   "cell_type": "code",
   "execution_count": 7,
   "metadata": {},
   "outputs": [
    {
     "data": {
      "text/html": [
       "<div>\n",
       "<style scoped>\n",
       "    .dataframe tbody tr th:only-of-type {\n",
       "        vertical-align: middle;\n",
       "    }\n",
       "\n",
       "    .dataframe tbody tr th {\n",
       "        vertical-align: top;\n",
       "    }\n",
       "\n",
       "    .dataframe thead th {\n",
       "        text-align: right;\n",
       "    }\n",
       "</style>\n",
       "<table border=\"1\" class=\"dataframe\">\n",
       "  <thead>\n",
       "    <tr style=\"text-align: right;\">\n",
       "      <th></th>\n",
       "      <th>Sigla</th>\n",
       "      <th>Número de laboratórios</th>\n",
       "      <th>Estado</th>\n",
       "    </tr>\n",
       "  </thead>\n",
       "  <tbody>\n",
       "    <tr>\n",
       "      <th>0</th>\n",
       "      <td>WA</td>\n",
       "      <td>20</td>\n",
       "      <td>Washington</td>\n",
       "    </tr>\n",
       "    <tr>\n",
       "      <th>1</th>\n",
       "      <td>CA</td>\n",
       "      <td>18</td>\n",
       "      <td>California</td>\n",
       "    </tr>\n",
       "    <tr>\n",
       "      <th>2</th>\n",
       "      <td>GA</td>\n",
       "      <td>18</td>\n",
       "      <td>Georgia</td>\n",
       "    </tr>\n",
       "    <tr>\n",
       "      <th>3</th>\n",
       "      <td>PA</td>\n",
       "      <td>17</td>\n",
       "      <td>Pennsylvania</td>\n",
       "    </tr>\n",
       "    <tr>\n",
       "      <th>4</th>\n",
       "      <td>MA</td>\n",
       "      <td>12</td>\n",
       "      <td>Massachusetts</td>\n",
       "    </tr>\n",
       "    <tr>\n",
       "      <th>5</th>\n",
       "      <td>NY</td>\n",
       "      <td>11</td>\n",
       "      <td>New York</td>\n",
       "    </tr>\n",
       "    <tr>\n",
       "      <th>6</th>\n",
       "      <td>IL</td>\n",
       "      <td>6</td>\n",
       "      <td>Illinois</td>\n",
       "    </tr>\n",
       "    <tr>\n",
       "      <th>7</th>\n",
       "      <td>IA</td>\n",
       "      <td>5</td>\n",
       "      <td>Iowa</td>\n",
       "    </tr>\n",
       "    <tr>\n",
       "      <th>8</th>\n",
       "      <td>NH</td>\n",
       "      <td>4</td>\n",
       "      <td>New Hampshire</td>\n",
       "    </tr>\n",
       "    <tr>\n",
       "      <th>9</th>\n",
       "      <td>NJ</td>\n",
       "      <td>3</td>\n",
       "      <td>New Jersey</td>\n",
       "    </tr>\n",
       "    <tr>\n",
       "      <th>10</th>\n",
       "      <td>MI</td>\n",
       "      <td>2</td>\n",
       "      <td>Michigan</td>\n",
       "    </tr>\n",
       "    <tr>\n",
       "      <th>11</th>\n",
       "      <td>LA</td>\n",
       "      <td>1</td>\n",
       "      <td>Louisiana</td>\n",
       "    </tr>\n",
       "    <tr>\n",
       "      <th>12</th>\n",
       "      <td>TX</td>\n",
       "      <td>1</td>\n",
       "      <td>Texas</td>\n",
       "    </tr>\n",
       "  </tbody>\n",
       "</table>\n",
       "</div>"
      ],
      "text/plain": [
       "   Sigla  Número de laboratórios         Estado\n",
       "0     WA                      20     Washington\n",
       "1     CA                      18     California\n",
       "2     GA                      18        Georgia\n",
       "3     PA                      17   Pennsylvania\n",
       "4     MA                      12  Massachusetts\n",
       "5     NY                      11       New York\n",
       "6     IL                       6       Illinois\n",
       "7     IA                       5           Iowa\n",
       "8     NH                       4  New Hampshire\n",
       "9     NJ                       3     New Jersey\n",
       "10    MI                       2       Michigan\n",
       "11    LA                       1      Louisiana\n",
       "12    TX                       1          Texas"
      ]
     },
     "execution_count": 7,
     "metadata": {},
     "output_type": "execute_result"
    }
   ],
   "source": [
    "estados = coordenadas.groupby('Sigla').count()[['Lab Id']].sort_values('Lab Id', ascending = False).reset_index()\n",
    "\n",
    "estados = estados.merge(zipcodes_states[['Estado', 'Sigla']], how = 'left')\n",
    "\n",
    "estados = estados.rename({'Lab Id':'Número de laboratórios'}, axis = 1)\n",
    "\n",
    "estados"
   ]
  },
  {
   "cell_type": "code",
   "execution_count": 8,
   "metadata": {},
   "outputs": [
    {
     "data": {
      "image/png": "[encoded data removed]",
      "text/plain": [
       "<Figure size 900x700 with 1 Axes>"
      ]
     },
     "metadata": {},
     "output_type": "display_data"
    }
   ],
   "source": [
    "plt.figure(figsize = (9, 7))\n",
    "sns.set_style('white') # also 'ticks', 'darkgrid', 'whitegrid', white\n",
    "fig = sns.barplot(data = estados, x = 'Número de laboratórios', y = 'Estado', color = '#7f7f7f')\n",
    "\n",
    "# colocar os números no final da barra\n",
    "for i in fig.patches:\n",
    "    fig.annotate(i.get_width(),\n",
    "                  (i.get_width(), i.get_y() + i.get_height() / 2),\n",
    "                  ha = 'left', va = 'center', fontsize = 10,\n",
    "                  color = '#4d4d4d', xytext = (1, 0),\n",
    "                  textcoords = 'offset points')\n",
    "\n",
    "# remover o título do eixo x\n",
    "# fig.set_xlabel('')\n",
    "\n",
    "# remover os números do eixo x\n",
    "fig.set_xticklabels('')\n",
    "\n",
    "# remover as bordas do gráfico\n",
    "sns.despine(bottom = True)\n",
    "\n",
    "# deixar o gráfico transparente\n",
    "# plt.gcf().set_facecolor('none')\n",
    "# plt.gca().patch.set_alpha(0)"
   ]
  },
  {
   "attachments": {},
   "cell_type": "markdown",
   "metadata": {},
   "source": [
    "construindo o gráfico de mapa para visualizar as localizações - estão próximos uns dos outros ou mais espalhados pelos EUA?"
   ]
  },
  {
   "cell_type": "code",
   "execution_count": 9,
   "metadata": {},
   "outputs": [
    {
     "data": {
      "application/vnd.plotly.v1+json": {
       "config": {
        "linkText": "Export to plot.ly",
        "plotlyServerURL": "https://plot.ly",
        "showLink": false
       },
       "data": [
        {
         "lat": [
          34.000319,
          43.2311327,
          47.7162786,
          33.9093875,
          40.9309925,
          39.9924717,
          33.5113314,
          37.6759064,
          37.6993,
          42.7065088,
          37.9115042,
          39.934946,
          47.6208696,
          33.9484477,
          33.9710116,
          41.4877432,
          33.9735891,
          39.9076973,
          42.1077525,
          40.0374664,
          47.632801,
          41.8554575,
          33.7681453,
          47.7158288,
          41.497223,
          33.8254779,
          42.2653422,
          39.912442,
          33.451232,
          33.732926,
          41.5694897,
          37.6822922,
          40.0021676,
          47.750593,
          37.9838036,
          47.6076339,
          40.0303647,
          39.9560828,
          47.7084091,
          42.0281344,
          33.8786308,
          40.0066857,
          47.7510662,
          37.956103,
          47.8044871,
          41.5586991,
          37.9242863,
          37.9765001,
          37.7754429,
          40.0294758,
          47.6091997,
          47.6219477,
          41.5387268,
          33.4498013,
          42.7473541,
          43.1014617,
          37.7990818,
          39.9495713,
          42.8166911,
          42.1710988,
          39.957358,
          37.9694792,
          43.1201376,
          47.4568023,
          43.0978638,
          33.451232,
          33.7943032,
          37.7754429,
          42.276897,
          42.300344,
          40.7447179,
          47.760574,
          40.0173148,
          39.9213919,
          41.466876,
          42.8075256,
          43.2272241,
          42.8213859,
          42.2493985,
          37.9553785,
          43.0731473,
          38.4634804,
          34.0708467,
          42.775748,
          39.9507025,
          47.8026806,
          42.8073225,
          37.6762783,
          33.8473632,
          42.2607878,
          47.6821988,
          47.4585122,
          42.1146632,
          47.6674625,
          43.0150099,
          38.0070008,
          39.9130589,
          37.7762785,
          42.247582,
          47.6100869,
          43.1636949,
          33.5774091,
          39.9290428,
          41.4352418,
          34.1054485,
          33.677914,
          39.9457889,
          42.3020867,
          43.0879409,
          39.9218172,
          33.9073497,
          47.7148568,
          47.6516517,
          39.9184081,
          43.0773695,
          43.2530101,
          41.5611182,
          37.984716
         ],
         "lon": [
          -84.1629724,
          -75.4445363,
          -122.1838152,
          -84.3529096,
          -90.9437598,
          -75.1035442,
          -84.2316312,
          -121.8772172,
          -121.9014055,
          -71.171084,
          -122.0444705,
          -75.0669325,
          -122.1889933,
          -84.3369582,
          -84.5511075,
          -90.4216658,
          -84.4822033,
          -75.289741,
          -70.7667516,
          -75.1206684,
          -122.1330652,
          -89.489907,
          -84.388286,
          -122.180939,
          -90.5296326,
          -84.2571003,
          -71.7927896,
          -75.0583428,
          -94.0683805,
          -84.6724126,
          -90.5271587,
          -121.8756054,
          -75.2825227,
          -122.154299,
          -122.0360361,
          -122.3123067,
          -75.1834481,
          -75.1987675,
          -122.335505,
          -71.31267,
          -84.0214922,
          -75.2190999,
          -122.6477891,
          -121.9694513,
          -122.2090808,
          -90.518775,
          -121.7371186,
          -121.8012144,
          -121.9669886,
          -75.0869837,
          -122.3262981,
          -122.1870553,
          -90.5511836,
          -84.508719,
          -71.1313972,
          -76.060889,
          -121.9166879,
          -75.1567543,
          -71.5409322,
          -70.9577834,
          -75.1642512,
          -121.2901678,
          -76.1627233,
          -122.3457174,
          -75.3055966,
          -94.0683805,
          -84.2778831,
          -121.9669886,
          -71.4160299,
          -71.8038673,
          -90.9114665,
          -122.2527338,
          -75.1509415,
          -75.2561934,
          -90.5478657,
          -71.2622671,
          -75.4323824,
          -70.9065276,
          -84.4259382,
          -122.0411404,
          -75.2957098,
          -121.416546,
          -84.3000492,
          -71.2495637,
          -75.2286725,
          -122.3389483,
          -71.2650041,
          -121.7853993,
          -84.5065753,
          -83.7391191,
          -122.1259728,
          -122.3370864,
          -71.463432,
          -122.3817193,
          -75.0398441,
          -121.868574,
          -75.1518927,
          -121.9679406,
          -70.9842195,
          -122.3243021,
          -76.2366636,
          -84.3944193,
          -75.170544,
          -91.0759938,
          -84.5409941,
          -84.00695,
          -75.1533585,
          -71.407008,
          -75.2624454,
          -75.1730023,
          -84.3581189,
          -122.1866063,
          -122.687053,
          -75.035649,
          -75.6536905,
          -75.1860015,
          -90.5915183,
          -122.0383645
         ],
         "marker": {
          "autocolorscale": false,
          "color": [
           30096,
           13440,
           98034,
           30342,
           61469,
           9134,
           30281,
           94566,
           94588,
           1840,
           94598,
           8109,
           98004,
           30338,
           30060,
           61282,
           30062,
           19036,
           2359,
           19120,
           98008,
           61021,
           30308,
           98034,
           61265,
           30084,
           1605,
           8108,
           75503,
           30135,
           52807,
           94566,
           19096,
           98072,
           94520,
           98122,
           19144,
           19104,
           98133,
           2762,
           30078,
           19004,
           98370,
           94521,
           98012,
           52722,
           94513,
           94531,
           94526,
           19124,
           98104,
           98004,
           52803,
           30214,
           1844,
           13057,
           94506,
           19107,
           3054,
           2190,
           9107,
           95204,
           13088,
           98148,
           13413,
           71105,
           30033,
           94583,
           1702,
           1606,
           61480,
           98028,
           19140,
           19050,
           61201,
           3087,
           13441,
           1950,
           49201,
           94520,
           13413,
           95823,
           30009,
           3079,
           19143,
           98026,
           3087,
           94550,
           30080,
           48104,
           98052,
           98148,
           2019,
           98107,
           13357,
           94565,
           19148,
           94583,
           2169,
           98104,
           13090,
           30274,
           19148,
           52761,
           30189,
           30012,
           19106,
           1701,
           13502,
           19145,
           30342,
           98034,
           98383,
           8002,
           13421,
           13304,
           52806,
           94520
          ],
          "colorscale": [
           [
            0,
            "rgb(0,0,255)"
           ],
           [
            1,
            "rgb(255,0,0)"
           ]
          ],
          "size": 5
         },
         "type": "scattergeo"
        }
       ],
       "layout": {
        "geo": {
         "countrycolor": "rgb(100,100,100)",
         "countrywidth": 0.5,
         "landcolor": "rgb(250,250,250)",
         "projection": {
          "type": "albers usa"
         },
         "scope": "usa",
         "showland": true,
         "subunitcolor": "rgb(100,100,100)",
         "subunitwidth": 0.5
        },
        "template": {
         "data": {
          "bar": [
           {
            "error_x": {
             "color": "#2a3f5f"
            },
            "error_y": {
             "color": "#2a3f5f"
            },
            "marker": {
             "line": {
              "color": "#E5ECF6",
              "width": 0.5
             },
             "pattern": {
              "fillmode": "overlay",
              "size": 10,
              "solidity": 0.2
             }
            },
            "type": "bar"
           }
          ],
          "barpolar": [
           {
            "marker": {
             "line": {
              "color": "#E5ECF6",
              "width": 0.5
             },
             "pattern": {
              "fillmode": "overlay",
              "size": 10,
              "solidity": 0.2
             }
            },
            "type": "barpolar"
           }
          ],
          "carpet": [
           {
            "aaxis": {
             "endlinecolor": "#2a3f5f",
             "gridcolor": "white",
             "linecolor": "white",
             "minorgridcolor": "white",
             "startlinecolor": "#2a3f5f"
            },
            "baxis": {
             "endlinecolor": "#2a3f5f",
             "gridcolor": "white",
             "linecolor": "white",
             "minorgridcolor": "white",
             "startlinecolor": "#2a3f5f"
            },
            "type": "carpet"
           }
          ],
          "choropleth": [
           {
            "colorbar": {
             "outlinewidth": 0,
             "ticks": ""
            },
            "type": "choropleth"
           }
          ],
          "contour": [
           {
            "colorbar": {
             "outlinewidth": 0,
             "ticks": ""
            },
            "colorscale": [
             [
              0,
              "#0d0887"
             ],
             [
              0.1111111111111111,
              "#46039f"
             ],
             [
              0.2222222222222222,
              "#7201a8"
             ],
             [
              0.3333333333333333,
              "#9c179e"
             ],
             [
              0.4444444444444444,
              "#bd3786"
             ],
             [
              0.5555555555555556,
              "#d8576b"
             ],
             [
              0.6666666666666666,
              "#ed7953"
             ],
             [
              0.7777777777777778,
              "#fb9f3a"
             ],
             [
              0.8888888888888888,
              "#fdca26"
             ],
             [
              1,
              "#f0f921"
             ]
            ],
            "type": "contour"
           }
          ],
          "contourcarpet": [
           {
            "colorbar": {
             "outlinewidth": 0,
             "ticks": ""
            },
            "type": "contourcarpet"
           }
          ],
          "heatmap": [
           {
            "colorbar": {
             "outlinewidth": 0,
             "ticks": ""
            },
            "colorscale": [
             [
              0,
              "#0d0887"
             ],
             [
              0.1111111111111111,
              "#46039f"
             ],
             [
              0.2222222222222222,
              "#7201a8"
             ],
             [
              0.3333333333333333,
              "#9c179e"
             ],
             [
              0.4444444444444444,
              "#bd3786"
             ],
             [
              0.5555555555555556,
              "#d8576b"
             ],
             [
              0.6666666666666666,
              "#ed7953"
             ],
             [
              0.7777777777777778,
              "#fb9f3a"
             ],
             [
              0.8888888888888888,
              "#fdca26"
             ],
             [
              1,
              "#f0f921"
             ]
            ],
            "type": "heatmap"
           }
          ],
          "heatmapgl": [
           {
            "colorbar": {
             "outlinewidth": 0,
             "ticks": ""
            },
            "colorscale": [
             [
              0,
              "#0d0887"
             ],
             [
              0.1111111111111111,
              "#46039f"
             ],
             [
              0.2222222222222222,
              "#7201a8"
             ],
             [
              0.3333333333333333,
              "#9c179e"
             ],
             [
              0.4444444444444444,
              "#bd3786"
             ],
             [
              0.5555555555555556,
              "#d8576b"
             ],
             [
              0.6666666666666666,
              "#ed7953"
             ],
             [
              0.7777777777777778,
              "#fb9f3a"
             ],
             [
              0.8888888888888888,
              "#fdca26"
             ],
             [
              1,
              "#f0f921"
             ]
            ],
            "type": "heatmapgl"
           }
          ],
          "histogram": [
           {
            "marker": {
             "pattern": {
              "fillmode": "overlay",
              "size": 10,
              "solidity": 0.2
             }
            },
            "type": "histogram"
           }
          ],
          "histogram2d": [
           {
            "colorbar": {
             "outlinewidth": 0,
             "ticks": ""
            },
            "colorscale": [
             [
              0,
              "#0d0887"
             ],
             [
              0.1111111111111111,
              "#46039f"
             ],
             [
              0.2222222222222222,
              "#7201a8"
             ],
             [
              0.3333333333333333,
              "#9c179e"
             ],
             [
              0.4444444444444444,
              "#bd3786"
             ],
             [
              0.5555555555555556,
              "#d8576b"
             ],
             [
              0.6666666666666666,
              "#ed7953"
             ],
             [
              0.7777777777777778,
              "#fb9f3a"
             ],
             [
              0.8888888888888888,
              "#fdca26"
             ],
             [
              1,
              "#f0f921"
             ]
            ],
            "type": "histogram2d"
           }
          ],
          "histogram2dcontour": [
           {
            "colorbar": {
             "outlinewidth": 0,
             "ticks": ""
            },
            "colorscale": [
             [
              0,
              "#0d0887"
             ],
             [
              0.1111111111111111,
              "#46039f"
             ],
             [
              0.2222222222222222,
              "#7201a8"
             ],
             [
              0.3333333333333333,
              "#9c179e"
             ],
             [
              0.4444444444444444,
              "#bd3786"
             ],
             [
              0.5555555555555556,
              "#d8576b"
             ],
             [
              0.6666666666666666,
              "#ed7953"
             ],
             [
              0.7777777777777778,
              "#fb9f3a"
             ],
             [
              0.8888888888888888,
              "#fdca26"
             ],
             [
              1,
              "#f0f921"
             ]
            ],
            "type": "histogram2dcontour"
           }
          ],
          "mesh3d": [
           {
            "colorbar": {
             "outlinewidth": 0,
             "ticks": ""
            },
            "type": "mesh3d"
           }
          ],
          "parcoords": [
           {
            "line": {
             "colorbar": {
              "outlinewidth": 0,
              "ticks": ""
             }
            },
            "type": "parcoords"
           }
          ],
          "pie": [
           {
            "automargin": true,
            "type": "pie"
           }
          ],
          "scatter": [
           {
            "fillpattern": {
             "fillmode": "overlay",
             "size": 10,
             "solidity": 0.2
            },
            "type": "scatter"
           }
          ],
          "scatter3d": [
           {
            "line": {
             "colorbar": {
              "outlinewidth": 0,
              "ticks": ""
             }
            },
            "marker": {
             "colorbar": {
              "outlinewidth": 0,
              "ticks": ""
             }
            },
            "type": "scatter3d"
           }
          ],
          "scattercarpet": [
           {
            "marker": {
             "colorbar": {
              "outlinewidth": 0,
              "ticks": ""
             }
            },
            "type": "scattercarpet"
           }
          ],
          "scattergeo": [
           {
            "marker": {
             "colorbar": {
              "outlinewidth": 0,
              "ticks": ""
             }
            },
            "type": "scattergeo"
           }
          ],
          "scattergl": [
           {
            "marker": {
             "colorbar": {
              "outlinewidth": 0,
              "ticks": ""
             }
            },
            "type": "scattergl"
           }
          ],
          "scattermapbox": [
           {
            "marker": {
             "colorbar": {
              "outlinewidth": 0,
              "ticks": ""
             }
            },
            "type": "scattermapbox"
           }
          ],
          "scatterpolar": [
           {
            "marker": {
             "colorbar": {
              "outlinewidth": 0,
              "ticks": ""
             }
            },
            "type": "scatterpolar"
           }
          ],
          "scatterpolargl": [
           {
            "marker": {
             "colorbar": {
              "outlinewidth": 0,
              "ticks": ""
             }
            },
            "type": "scatterpolargl"
           }
          ],
          "scatterternary": [
           {
            "marker": {
             "colorbar": {
              "outlinewidth": 0,
              "ticks": ""
             }
            },
            "type": "scatterternary"
           }
          ],
          "surface": [
           {
            "colorbar": {
             "outlinewidth": 0,
             "ticks": ""
            },
            "colorscale": [
             [
              0,
              "#0d0887"
             ],
             [
              0.1111111111111111,
              "#46039f"
             ],
             [
              0.2222222222222222,
              "#7201a8"
             ],
             [
              0.3333333333333333,
              "#9c179e"
             ],
             [
              0.4444444444444444,
              "#bd3786"
             ],
             [
              0.5555555555555556,
              "#d8576b"
             ],
             [
              0.6666666666666666,
              "#ed7953"
             ],
             [
              0.7777777777777778,
              "#fb9f3a"
             ],
             [
              0.8888888888888888,
              "#fdca26"
             ],
             [
              1,
              "#f0f921"
             ]
            ],
            "type": "surface"
           }
          ],
          "table": [
           {
            "cells": {
             "fill": {
              "color": "#EBF0F8"
             },
             "line": {
              "color": "white"
             }
            },
            "header": {
             "fill": {
              "color": "#C8D4E3"
             },
             "line": {
              "color": "white"
             }
            },
            "type": "table"
           }
          ]
         },
         "layout": {
          "annotationdefaults": {
           "arrowcolor": "#2a3f5f",
           "arrowhead": 0,
           "arrowwidth": 1
          },
          "autotypenumbers": "strict",
          "coloraxis": {
           "colorbar": {
            "outlinewidth": 0,
            "ticks": ""
           }
          },
          "colorscale": {
           "diverging": [
            [
             0,
             "#8e0152"
            ],
            [
             0.1,
             "#c51b7d"
            ],
            [
             0.2,
             "#de77ae"
            ],
            [
             0.3,
             "#f1b6da"
            ],
            [
             0.4,
             "#fde0ef"
            ],
            [
             0.5,
             "#f7f7f7"
            ],
            [
             0.6,
             "#e6f5d0"
            ],
            [
             0.7,
             "#b8e186"
            ],
            [
             0.8,
             "#7fbc41"
            ],
            [
             0.9,
             "#4d9221"
            ],
            [
             1,
             "#276419"
            ]
           ],
           "sequential": [
            [
             0,
             "#0d0887"
            ],
            [
             0.1111111111111111,
             "#46039f"
            ],
            [
             0.2222222222222222,
             "#7201a8"
            ],
            [
             0.3333333333333333,
             "#9c179e"
            ],
            [
             0.4444444444444444,
             "#bd3786"
            ],
            [
             0.5555555555555556,
             "#d8576b"
            ],
            [
             0.6666666666666666,
             "#ed7953"
            ],
            [
             0.7777777777777778,
             "#fb9f3a"
            ],
            [
             0.8888888888888888,
             "#fdca26"
            ],
            [
             1,
             "#f0f921"
            ]
           ],
           "sequentialminus": [
            [
             0,
             "#0d0887"
            ],
            [
             0.1111111111111111,
             "#46039f"
            ],
            [
             0.2222222222222222,
             "#7201a8"
            ],
            [
             0.3333333333333333,
             "#9c179e"
            ],
            [
             0.4444444444444444,
             "#bd3786"
            ],
            [
             0.5555555555555556,
             "#d8576b"
            ],
            [
             0.6666666666666666,
             "#ed7953"
            ],
            [
             0.7777777777777778,
             "#fb9f3a"
            ],
            [
             0.8888888888888888,
             "#fdca26"
            ],
            [
             1,
             "#f0f921"
            ]
           ]
          },
          "colorway": [
           "#636efa",
           "#EF553B",
           "#00cc96",
           "#ab63fa",
           "#FFA15A",
           "#19d3f3",
           "#FF6692",
           "#B6E880",
           "#FF97FF",
           "#FECB52"
          ],
          "font": {
           "color": "#2a3f5f"
          },
          "geo": {
           "bgcolor": "white",
           "lakecolor": "white",
           "landcolor": "#E5ECF6",
           "showlakes": true,
           "showland": true,
           "subunitcolor": "white"
          },
          "hoverlabel": {
           "align": "left"
          },
          "hovermode": "closest",
          "mapbox": {
           "style": "light"
          },
          "paper_bgcolor": "white",
          "plot_bgcolor": "#E5ECF6",
          "polar": {
           "angularaxis": {
            "gridcolor": "white",
            "linecolor": "white",
            "ticks": ""
           },
           "bgcolor": "#E5ECF6",
           "radialaxis": {
            "gridcolor": "white",
            "linecolor": "white",
            "ticks": ""
           }
          },
          "scene": {
           "xaxis": {
            "backgroundcolor": "#E5ECF6",
            "gridcolor": "white",
            "gridwidth": 2,
            "linecolor": "white",
            "showbackground": true,
            "ticks": "",
            "zerolinecolor": "white"
           },
           "yaxis": {
            "backgroundcolor": "#E5ECF6",
            "gridcolor": "white",
            "gridwidth": 2,
            "linecolor": "white",
            "showbackground": true,
            "ticks": "",
            "zerolinecolor": "white"
           },
           "zaxis": {
            "backgroundcolor": "#E5ECF6",
            "gridcolor": "white",
            "gridwidth": 2,
            "linecolor": "white",
            "showbackground": true,
            "ticks": "",
            "zerolinecolor": "white"
           }
          },
          "shapedefaults": {
           "line": {
            "color": "#2a3f5f"
           }
          },
          "ternary": {
           "aaxis": {
            "gridcolor": "white",
            "linecolor": "white",
            "ticks": ""
           },
           "baxis": {
            "gridcolor": "white",
            "linecolor": "white",
            "ticks": ""
           },
           "bgcolor": "#E5ECF6",
           "caxis": {
            "gridcolor": "white",
            "linecolor": "white",
            "ticks": ""
           }
          },
          "title": {
           "x": 0.05
          },
          "xaxis": {
           "automargin": true,
           "gridcolor": "white",
           "linecolor": "white",
           "ticks": "",
           "title": {
            "standoff": 15
           },
           "zerolinecolor": "white",
           "zerolinewidth": 2
          },
          "yaxis": {
           "automargin": true,
           "gridcolor": "white",
           "linecolor": "white",
           "ticks": "",
           "title": {
            "standoff": 15
           },
           "zerolinecolor": "white",
           "zerolinewidth": 2
          }
         }
        },
        "title": {
         "text": "Localizações dos laboratórios"
        },
        "width": 700
       }
      },
      "text/html": [
       "<div>                            <div id=\"61fbacd0-508a-4e57-aa80-8a9358369029\" class=\"plotly-graph-div\" style=\"height:525px; width:700px;\"></div>            <script type=\"text/javascript\">                require([\"plotly\"], function(Plotly) {                    window.PLOTLYENV=window.PLOTLYENV || {};                                    if (document.getElementById(\"61fbacd0-508a-4e57-aa80-8a9358369029\")) {                    Plotly.newPlot(                        \"61fbacd0-508a-4e57-aa80-8a9358369029\",                        [{\"lat\":[34.000319,43.2311327,47.7162786,33.9093875,40.9309925,39.9924717,33.5113314,37.6759064,37.6993,42.7065088,37.9115042,39.934946,47.6208696,33.9484477,33.9710116,41.4877432,33.9735891,39.9076973,42.1077525,40.0374664,47.632801,41.8554575,33.7681453,47.7158288,41.497223,33.8254779,42.2653422,39.912442,33.451232,33.732926,41.5694897,37.6822922,40.0021676,47.750593,37.9838036,47.6076339,40.0303647,39.9560828,47.7084091,42.0281344,33.8786308,40.0066857,47.7510662,37.956103,47.8044871,41.5586991,37.9242863,37.9765001,37.7754429,40.0294758,47.6091997,47.6219477,41.5387268,33.4498013,42.7473541,43.1014617,37.7990818,39.9495713,42.8166911,42.1710988,39.957358,37.9694792,43.1201376,47.4568023,43.0978638,33.451232,33.7943032,37.7754429,42.276897,42.300344,40.7447179,47.760574,40.0173148,39.9213919,41.466876,42.8075256,43.2272241,42.8213859,42.2493985,37.9553785,43.0731473,38.4634804,34.0708467,42.775748,39.9507025,47.8026806,42.8073225,37.6762783,33.8473632,42.2607878,47.6821988,47.4585122,42.1146632,47.6674625,43.0150099,38.0070008,39.9130589,37.7762785,42.247582,47.6100869,43.1636949,33.5774091,39.9290428,41.4352418,34.1054485,33.677914,39.9457889,42.3020867,43.0879409,39.9218172,33.9073497,47.7148568,47.6516517,39.9184081,43.0773695,43.2530101,41.5611182,37.984716],\"lon\":[-84.1629724,-75.4445363,-122.1838152,-84.3529096,-90.9437598,-75.1035442,-84.2316312,-121.8772172,-121.9014055,-71.171084,-122.0444705,-75.0669325,-122.1889933,-84.3369582,-84.5511075,-90.4216658,-84.4822033,-75.289741,-70.7667516,-75.1206684,-122.1330652,-89.489907,-84.388286,-122.180939,-90.5296326,-84.2571003,-71.7927896,-75.0583428,-94.0683805,-84.6724126,-90.5271587,-121.8756054,-75.2825227,-122.154299,-122.0360361,-122.3123067,-75.1834481,-75.1987675,-122.335505,-71.31267,-84.0214922,-75.2190999,-122.6477891,-121.9694513,-122.2090808,-90.518775,-121.7371186,-121.8012144,-121.9669886,-75.0869837,-122.3262981,-122.1870553,-90.5511836,-84.508719,-71.1313972,-76.060889,-121.9166879,-75.1567543,-71.5409322,-70.9577834,-75.1642512,-121.2901678,-76.1627233,-122.3457174,-75.3055966,-94.0683805,-84.2778831,-121.9669886,-71.4160299,-71.8038673,-90.9114665,-122.2527338,-75.1509415,-75.2561934,-90.5478657,-71.2622671,-75.4323824,-70.9065276,-84.4259382,-122.0411404,-75.2957098,-121.416546,-84.3000492,-71.2495637,-75.2286725,-122.3389483,-71.2650041,-121.7853993,-84.5065753,-83.7391191,-122.1259728,-122.3370864,-71.463432,-122.3817193,-75.0398441,-121.868574,-75.1518927,-121.9679406,-70.9842195,-122.3243021,-76.2366636,-84.3944193,-75.170544,-91.0759938,-84.5409941,-84.00695,-75.1533585,-71.407008,-75.2624454,-75.1730023,-84.3581189,-122.1866063,-122.687053,-75.035649,-75.6536905,-75.1860015,-90.5915183,-122.0383645],\"marker\":{\"autocolorscale\":false,\"color\":[30096.0,13440.0,98034.0,30342.0,61469.0,9134.0,30281.0,94566.0,94588.0,1840.0,94598.0,8109.0,98004.0,30338.0,30060.0,61282.0,30062.0,19036.0,2359.0,19120.0,98008.0,61021.0,30308.0,98034.0,61265.0,30084.0,1605.0,8108.0,75503.0,30135.0,52807.0,94566.0,19096.0,98072.0,94520.0,98122.0,19144.0,19104.0,98133.0,2762.0,30078.0,19004.0,98370.0,94521.0,98012.0,52722.0,94513.0,94531.0,94526.0,19124.0,98104.0,98004.0,52803.0,30214.0,1844.0,13057.0,94506.0,19107.0,3054.0,2190.0,9107.0,95204.0,13088.0,98148.0,13413.0,71105.0,30033.0,94583.0,1702.0,1606.0,61480.0,98028.0,19140.0,19050.0,61201.0,3087.0,13441.0,1950.0,49201.0,94520.0,13413.0,95823.0,30009.0,3079.0,19143.0,98026.0,3087.0,94550.0,30080.0,48104.0,98052.0,98148.0,2019.0,98107.0,13357.0,94565.0,19148.0,94583.0,2169.0,98104.0,13090.0,30274.0,19148.0,52761.0,30189.0,30012.0,19106.0,1701.0,13502.0,19145.0,30342.0,98034.0,98383.0,8002.0,13421.0,13304.0,52806.0,94520.0],\"colorscale\":[[0.0,\"rgb(0,0,255)\"],[1.0,\"rgb(255,0,0)\"]],\"size\":5},\"type\":\"scattergeo\"}],                        {\"geo\":{\"countrycolor\":\"rgb(100,100,100)\",\"countrywidth\":0.5,\"landcolor\":\"rgb(250,250,250)\",\"projection\":{\"type\":\"albers usa\"},\"scope\":\"usa\",\"showland\":true,\"subunitcolor\":\"rgb(100,100,100)\",\"subunitwidth\":0.5},\"title\":{\"text\":\"Localiza\\u00e7\\u00f5es dos laborat\\u00f3rios\"},\"template\":{\"data\":{\"histogram2dcontour\":[{\"type\":\"histogram2dcontour\",\"colorbar\":{\"outlinewidth\":0,\"ticks\":\"\"},\"colorscale\":[[0.0,\"#0d0887\"],[0.1111111111111111,\"#46039f\"],[0.2222222222222222,\"#7201a8\"],[0.3333333333333333,\"#9c179e\"],[0.4444444444444444,\"#bd3786\"],[0.5555555555555556,\"#d8576b\"],[0.6666666666666666,\"#ed7953\"],[0.7777777777777778,\"#fb9f3a\"],[0.8888888888888888,\"#fdca26\"],[1.0,\"#f0f921\"]]}],\"choropleth\":[{\"type\":\"choropleth\",\"colorbar\":{\"outlinewidth\":0,\"ticks\":\"\"}}],\"histogram2d\":[{\"type\":\"histogram2d\",\"colorbar\":{\"outlinewidth\":0,\"ticks\":\"\"},\"colorscale\":[[0.0,\"#0d0887\"],[0.1111111111111111,\"#46039f\"],[0.2222222222222222,\"#7201a8\"],[0.3333333333333333,\"#9c179e\"],[0.4444444444444444,\"#bd3786\"],[0.5555555555555556,\"#d8576b\"],[0.6666666666666666,\"#ed7953\"],[0.7777777777777778,\"#fb9f3a\"],[0.8888888888888888,\"#fdca26\"],[1.0,\"#f0f921\"]]}],\"heatmap\":[{\"type\":\"heatmap\",\"colorbar\":{\"outlinewidth\":0,\"ticks\":\"\"},\"colorscale\":[[0.0,\"#0d0887\"],[0.1111111111111111,\"#46039f\"],[0.2222222222222222,\"#7201a8\"],[0.3333333333333333,\"#9c179e\"],[0.4444444444444444,\"#bd3786\"],[0.5555555555555556,\"#d8576b\"],[0.6666666666666666,\"#ed7953\"],[0.7777777777777778,\"#fb9f3a\"],[0.8888888888888888,\"#fdca26\"],[1.0,\"#f0f921\"]]}],\"heatmapgl\":[{\"type\":\"heatmapgl\",\"colorbar\":{\"outlinewidth\":0,\"ticks\":\"\"},\"colorscale\":[[0.0,\"#0d0887\"],[0.1111111111111111,\"#46039f\"],[0.2222222222222222,\"#7201a8\"],[0.3333333333333333,\"#9c179e\"],[0.4444444444444444,\"#bd3786\"],[0.5555555555555556,\"#d8576b\"],[0.6666666666666666,\"#ed7953\"],[0.7777777777777778,\"#fb9f3a\"],[0.8888888888888888,\"#fdca26\"],[1.0,\"#f0f921\"]]}],\"contourcarpet\":[{\"type\":\"contourcarpet\",\"colorbar\":{\"outlinewidth\":0,\"ticks\":\"\"}}],\"contour\":[{\"type\":\"contour\",\"colorbar\":{\"outlinewidth\":0,\"ticks\":\"\"},\"colorscale\":[[0.0,\"#0d0887\"],[0.1111111111111111,\"#46039f\"],[0.2222222222222222,\"#7201a8\"],[0.3333333333333333,\"#9c179e\"],[0.4444444444444444,\"#bd3786\"],[0.5555555555555556,\"#d8576b\"],[0.6666666666666666,\"#ed7953\"],[0.7777777777777778,\"#fb9f3a\"],[0.8888888888888888,\"#fdca26\"],[1.0,\"#f0f921\"]]}],\"surface\":[{\"type\":\"surface\",\"colorbar\":{\"outlinewidth\":0,\"ticks\":\"\"},\"colorscale\":[[0.0,\"#0d0887\"],[0.1111111111111111,\"#46039f\"],[0.2222222222222222,\"#7201a8\"],[0.3333333333333333,\"#9c179e\"],[0.4444444444444444,\"#bd3786\"],[0.5555555555555556,\"#d8576b\"],[0.6666666666666666,\"#ed7953\"],[0.7777777777777778,\"#fb9f3a\"],[0.8888888888888888,\"#fdca26\"],[1.0,\"#f0f921\"]]}],\"mesh3d\":[{\"type\":\"mesh3d\",\"colorbar\":{\"outlinewidth\":0,\"ticks\":\"\"}}],\"scatter\":[{\"fillpattern\":{\"fillmode\":\"overlay\",\"size\":10,\"solidity\":0.2},\"type\":\"scatter\"}],\"parcoords\":[{\"type\":\"parcoords\",\"line\":{\"colorbar\":{\"outlinewidth\":0,\"ticks\":\"\"}}}],\"scatterpolargl\":[{\"type\":\"scatterpolargl\",\"marker\":{\"colorbar\":{\"outlinewidth\":0,\"ticks\":\"\"}}}],\"bar\":[{\"error_x\":{\"color\":\"#2a3f5f\"},\"error_y\":{\"color\":\"#2a3f5f\"},\"marker\":{\"line\":{\"color\":\"#E5ECF6\",\"width\":0.5},\"pattern\":{\"fillmode\":\"overlay\",\"size\":10,\"solidity\":0.2}},\"type\":\"bar\"}],\"scattergeo\":[{\"type\":\"scattergeo\",\"marker\":{\"colorbar\":{\"outlinewidth\":0,\"ticks\":\"\"}}}],\"scatterpolar\":[{\"type\":\"scatterpolar\",\"marker\":{\"colorbar\":{\"outlinewidth\":0,\"ticks\":\"\"}}}],\"histogram\":[{\"marker\":{\"pattern\":{\"fillmode\":\"overlay\",\"size\":10,\"solidity\":0.2}},\"type\":\"histogram\"}],\"scattergl\":[{\"type\":\"scattergl\",\"marker\":{\"colorbar\":{\"outlinewidth\":0,\"ticks\":\"\"}}}],\"scatter3d\":[{\"type\":\"scatter3d\",\"line\":{\"colorbar\":{\"outlinewidth\":0,\"ticks\":\"\"}},\"marker\":{\"colorbar\":{\"outlinewidth\":0,\"ticks\":\"\"}}}],\"scattermapbox\":[{\"type\":\"scattermapbox\",\"marker\":{\"colorbar\":{\"outlinewidth\":0,\"ticks\":\"\"}}}],\"scatterternary\":[{\"type\":\"scatterternary\",\"marker\":{\"colorbar\":{\"outlinewidth\":0,\"ticks\":\"\"}}}],\"scattercarpet\":[{\"type\":\"scattercarpet\",\"marker\":{\"colorbar\":{\"outlinewidth\":0,\"ticks\":\"\"}}}],\"carpet\":[{\"aaxis\":{\"endlinecolor\":\"#2a3f5f\",\"gridcolor\":\"white\",\"linecolor\":\"white\",\"minorgridcolor\":\"white\",\"startlinecolor\":\"#2a3f5f\"},\"baxis\":{\"endlinecolor\":\"#2a3f5f\",\"gridcolor\":\"white\",\"linecolor\":\"white\",\"minorgridcolor\":\"white\",\"startlinecolor\":\"#2a3f5f\"},\"type\":\"carpet\"}],\"table\":[{\"cells\":{\"fill\":{\"color\":\"#EBF0F8\"},\"line\":{\"color\":\"white\"}},\"header\":{\"fill\":{\"color\":\"#C8D4E3\"},\"line\":{\"color\":\"white\"}},\"type\":\"table\"}],\"barpolar\":[{\"marker\":{\"line\":{\"color\":\"#E5ECF6\",\"width\":0.5},\"pattern\":{\"fillmode\":\"overlay\",\"size\":10,\"solidity\":0.2}},\"type\":\"barpolar\"}],\"pie\":[{\"automargin\":true,\"type\":\"pie\"}]},\"layout\":{\"autotypenumbers\":\"strict\",\"colorway\":[\"#636efa\",\"#EF553B\",\"#00cc96\",\"#ab63fa\",\"#FFA15A\",\"#19d3f3\",\"#FF6692\",\"#B6E880\",\"#FF97FF\",\"#FECB52\"],\"font\":{\"color\":\"#2a3f5f\"},\"hovermode\":\"closest\",\"hoverlabel\":{\"align\":\"left\"},\"paper_bgcolor\":\"white\",\"plot_bgcolor\":\"#E5ECF6\",\"polar\":{\"bgcolor\":\"#E5ECF6\",\"angularaxis\":{\"gridcolor\":\"white\",\"linecolor\":\"white\",\"ticks\":\"\"},\"radialaxis\":{\"gridcolor\":\"white\",\"linecolor\":\"white\",\"ticks\":\"\"}},\"ternary\":{\"bgcolor\":\"#E5ECF6\",\"aaxis\":{\"gridcolor\":\"white\",\"linecolor\":\"white\",\"ticks\":\"\"},\"baxis\":{\"gridcolor\":\"white\",\"linecolor\":\"white\",\"ticks\":\"\"},\"caxis\":{\"gridcolor\":\"white\",\"linecolor\":\"white\",\"ticks\":\"\"}},\"coloraxis\":{\"colorbar\":{\"outlinewidth\":0,\"ticks\":\"\"}},\"colorscale\":{\"sequential\":[[0.0,\"#0d0887\"],[0.1111111111111111,\"#46039f\"],[0.2222222222222222,\"#7201a8\"],[0.3333333333333333,\"#9c179e\"],[0.4444444444444444,\"#bd3786\"],[0.5555555555555556,\"#d8576b\"],[0.6666666666666666,\"#ed7953\"],[0.7777777777777778,\"#fb9f3a\"],[0.8888888888888888,\"#fdca26\"],[1.0,\"#f0f921\"]],\"sequentialminus\":[[0.0,\"#0d0887\"],[0.1111111111111111,\"#46039f\"],[0.2222222222222222,\"#7201a8\"],[0.3333333333333333,\"#9c179e\"],[0.4444444444444444,\"#bd3786\"],[0.5555555555555556,\"#d8576b\"],[0.6666666666666666,\"#ed7953\"],[0.7777777777777778,\"#fb9f3a\"],[0.8888888888888888,\"#fdca26\"],[1.0,\"#f0f921\"]],\"diverging\":[[0,\"#8e0152\"],[0.1,\"#c51b7d\"],[0.2,\"#de77ae\"],[0.3,\"#f1b6da\"],[0.4,\"#fde0ef\"],[0.5,\"#f7f7f7\"],[0.6,\"#e6f5d0\"],[0.7,\"#b8e186\"],[0.8,\"#7fbc41\"],[0.9,\"#4d9221\"],[1,\"#276419\"]]},\"xaxis\":{\"gridcolor\":\"white\",\"linecolor\":\"white\",\"ticks\":\"\",\"title\":{\"standoff\":15},\"zerolinecolor\":\"white\",\"automargin\":true,\"zerolinewidth\":2},\"yaxis\":{\"gridcolor\":\"white\",\"linecolor\":\"white\",\"ticks\":\"\",\"title\":{\"standoff\":15},\"zerolinecolor\":\"white\",\"automargin\":true,\"zerolinewidth\":2},\"scene\":{\"xaxis\":{\"backgroundcolor\":\"#E5ECF6\",\"gridcolor\":\"white\",\"linecolor\":\"white\",\"showbackground\":true,\"ticks\":\"\",\"zerolinecolor\":\"white\",\"gridwidth\":2},\"yaxis\":{\"backgroundcolor\":\"#E5ECF6\",\"gridcolor\":\"white\",\"linecolor\":\"white\",\"showbackground\":true,\"ticks\":\"\",\"zerolinecolor\":\"white\",\"gridwidth\":2},\"zaxis\":{\"backgroundcolor\":\"#E5ECF6\",\"gridcolor\":\"white\",\"linecolor\":\"white\",\"showbackground\":true,\"ticks\":\"\",\"zerolinecolor\":\"white\",\"gridwidth\":2}},\"shapedefaults\":{\"line\":{\"color\":\"#2a3f5f\"}},\"annotationdefaults\":{\"arrowcolor\":\"#2a3f5f\",\"arrowhead\":0,\"arrowwidth\":1},\"geo\":{\"bgcolor\":\"white\",\"landcolor\":\"#E5ECF6\",\"subunitcolor\":\"white\",\"showland\":true,\"showlakes\":true,\"lakecolor\":\"white\"},\"title\":{\"x\":0.05},\"mapbox\":{\"style\":\"light\"}}},\"width\":700},                        {\"responsive\": true}                    ).then(function(){\n",
       "                            \n",
       "var gd = document.getElementById('61fbacd0-508a-4e57-aa80-8a9358369029');\n",
       "var x = new MutationObserver(function (mutations, observer) {{\n",
       "        var display = window.getComputedStyle(gd).display;\n",
       "        if (!display || display === 'none') {{\n",
       "            console.log([gd, 'removed!']);\n",
       "            Plotly.purge(gd);\n",
       "            observer.disconnect();\n",
       "        }}\n",
       "}});\n",
       "\n",
       "// Listen for the removal of the full notebook cells\n",
       "var notebookContainer = gd.closest('#notebook-container');\n",
       "if (notebookContainer) {{\n",
       "    x.observe(notebookContainer, {childList: true});\n",
       "}}\n",
       "\n",
       "// Listen for the clearing of the current output cell\n",
       "var outputEl = gd.closest('.output');\n",
       "if (outputEl) {{\n",
       "    x.observe(outputEl, {childList: true});\n",
       "}}\n",
       "\n",
       "                        })                };                });            </script>        </div>"
      ]
     },
     "metadata": {},
     "output_type": "display_data"
    }
   ],
   "source": [
    "data = dict(\n",
    "    type = 'scattergeo',\n",
    "    # colorscale = 'RdBu',\n",
    "    lat = coordenadas['latitude'],\n",
    "    lon = coordenadas['longitude'],\n",
    "    # locations = coordenadas['state'],\n",
    "    # locationmode = 'USA-states',\n",
    "    # z = coordenadas['Lab Id'],\n",
    "    # text = coordenadas['Address'],\n",
    "    marker = dict(size = 5, autocolorscale = False, colorscale = 'Bluered', color = coordenadas['Zipcode']),\n",
    "    # colorbar = dict(title = 'Zipcode')\n",
    ")\n",
    "\n",
    "layout = dict(\n",
    "    title = 'Localizações dos laboratórios',\n",
    "    geo = dict(scope = 'usa', # showlakes = True, lakecolor = 'rgb(85, 173, 240)',\n",
    "               projection = dict(type ='albers usa'),showland = True,\n",
    "                    landcolor=\"rgb(250,250,250)\",subunitcolor = \"rgb(100,100,100)\",\n",
    "                     countrycolor = \"rgb(100,100,100)\",countrywidth =0.5, subunitwidth=0.5)\n",
    ")\n",
    "\n",
    "choromap = go.Figure(data = [data], layout = layout)\n",
    "\n",
    "\n",
    "choromap.update_layout(width=700)\n",
    "iplot(choromap, validate = False)\n"
   ]
  },
  {
   "attachments": {},
   "cell_type": "markdown",
   "metadata": {},
   "source": [
    "observando o mapa, é possível concluir que os laboratórios possuem pequenas concentrações espalhadas pelo país. \n",
    "\n",
    "é possível que as unidades estejam próximas para tentar consolidar uma clientela forte nestes locais e para facilitar a logística"
   ]
  },
  {
   "attachments": {},
   "cell_type": "markdown",
   "metadata": {},
   "source": [
    "## distribuição das variáveis dos clientes"
   ]
  },
  {
   "attachments": {},
   "cell_type": "markdown",
   "metadata": {},
   "source": [
    "Antes de fazer os gráficos de distribuição, é importante remover os clientes que estão com o final da id \"-2\" (podem ser pacientes diferentes) e deixar os pacientes como únicos"
   ]
  },
  {
   "cell_type": "code",
   "execution_count": 10,
   "metadata": {},
   "outputs": [
    {
     "data": {
      "text/plain": [
       "501445"
      ]
     },
     "execution_count": 10,
     "metadata": {},
     "output_type": "execute_result"
    }
   ],
   "source": [
    "# remover final_id = -2\n",
    "pacientes_unicos = transactional_data[transactional_data['final_id'] != '2'].drop_duplicates('Patient Id')\n",
    "\n",
    "pacientes_unicos['final_id'] = pacientes_unicos['final_id'].astype('str').astype('category')\n",
    "\n",
    "# número de pacientes únicos\n",
    "len(pacientes_unicos)"
   ]
  },
  {
   "attachments": {},
   "cell_type": "markdown",
   "metadata": {},
   "source": [
    "### distribuição de sexo"
   ]
  },
  {
   "cell_type": "code",
   "execution_count": 12,
   "metadata": {},
   "outputs": [
    {
     "data": {
      "text/html": [
       "<div>\n",
       "<style scoped>\n",
       "    .dataframe tbody tr th:only-of-type {\n",
       "        vertical-align: middle;\n",
       "    }\n",
       "\n",
       "    .dataframe tbody tr th {\n",
       "        vertical-align: top;\n",
       "    }\n",
       "\n",
       "    .dataframe thead th {\n",
       "        text-align: right;\n",
       "    }\n",
       "</style>\n",
       "<table border=\"1\" class=\"dataframe\">\n",
       "  <thead>\n",
       "    <tr style=\"text-align: right;\">\n",
       "      <th></th>\n",
       "      <th>Gender</th>\n",
       "      <th>Número</th>\n",
       "      <th>percentual</th>\n",
       "    </tr>\n",
       "  </thead>\n",
       "  <tbody>\n",
       "    <tr>\n",
       "      <th>0</th>\n",
       "      <td>F</td>\n",
       "      <td>341863</td>\n",
       "      <td>68.2</td>\n",
       "    </tr>\n",
       "    <tr>\n",
       "      <th>1</th>\n",
       "      <td>M</td>\n",
       "      <td>159582</td>\n",
       "      <td>31.8</td>\n",
       "    </tr>\n",
       "  </tbody>\n",
       "</table>\n",
       "</div>"
      ],
      "text/plain": [
       "  Gender  Número  percentual\n",
       "0      F  341863        68.2\n",
       "1      M  159582        31.8"
      ]
     },
     "execution_count": 12,
     "metadata": {},
     "output_type": "execute_result"
    }
   ],
   "source": [
    "# gerar tabela para o gráfico de sexo\n",
    "\n",
    "# agrupar por sexo e contar quantos tem\n",
    "sexo1 = pacientes_unicos.groupby('Gender').count()['Patient Id'].reset_index()\n",
    "\n",
    "sexo1 = sexo1.rename({'Patient Id':'Número'}, axis = 1)\n",
    "sexo1['percentual'] = round(sexo1['Número'] * 100/ len(pacientes_unicos), 1)\n",
    "\n",
    "sexo1\n"
   ]
  },
  {
   "cell_type": "code",
   "execution_count": 13,
   "metadata": {},
   "outputs": [
    {
     "data": {
      "image/png": "[encoded data removed]",
      "text/plain": [
       "<Figure size 1000x300 with 1 Axes>"
      ]
     },
     "metadata": {},
     "output_type": "display_data"
    }
   ],
   "source": [
    "# fazer o gráfico\n",
    "\n",
    "plt.figure(figsize = (10, 3))\n",
    "sns.set_style('white') # also 'ticks', 'darkgrid', 'whitegrid', white\n",
    "fig = sns.barplot(data = sexo1, x = 'percentual', y = 'Gender', color = '#7f7f7f', width = 0.5)\n",
    "\n",
    "# colocar os números no final da barra\n",
    "for i in fig.patches:\n",
    "    fig.annotate(f\"{i.get_width():.1f}%\",\n",
    "                  (i.get_width(), i.get_y() + i.get_height() / 2),\n",
    "                  ha = 'left', va = 'center', fontsize = 10,\n",
    "                  color = '#4d4d4d', xytext = (1, 0),\n",
    "                  textcoords = 'offset points')\n",
    "\n",
    "# remover os números do eixo x\n",
    "fig.set_xticklabels('')\n",
    "\n",
    "# remover as bordas do gráfico\n",
    "sns.despine(bottom = True)\n",
    "\n",
    "# deixar o gráfico transparente\n",
    "# plt.gcf().set_facecolor('none')\n",
    "# plt.gca().patch.set_alpha(0)"
   ]
  },
  {
   "attachments": {},
   "cell_type": "markdown",
   "metadata": {},
   "source": [
    "### histograma de idade"
   ]
  },
  {
   "cell_type": "code",
   "execution_count": 14,
   "metadata": {},
   "outputs": [
    {
     "data": {
      "text/html": [
       "<div>\n",
       "<style scoped>\n",
       "    .dataframe tbody tr th:only-of-type {\n",
       "        vertical-align: middle;\n",
       "    }\n",
       "\n",
       "    .dataframe tbody tr th {\n",
       "        vertical-align: top;\n",
       "    }\n",
       "\n",
       "    .dataframe thead th {\n",
       "        text-align: right;\n",
       "    }\n",
       "</style>\n",
       "<table border=\"1\" class=\"dataframe\">\n",
       "  <thead>\n",
       "    <tr style=\"text-align: right;\">\n",
       "      <th></th>\n",
       "      <th>Patient Id</th>\n",
       "      <th>Gender</th>\n",
       "      <th>Date of birth</th>\n",
       "      <th>Date of service</th>\n",
       "      <th>Service Id</th>\n",
       "      <th>Lab Id</th>\n",
       "      <th>CodItem</th>\n",
       "      <th>Valor Pago</th>\n",
       "      <th>Idade</th>\n",
       "      <th>final_id</th>\n",
       "    </tr>\n",
       "  </thead>\n",
       "  <tbody>\n",
       "    <tr>\n",
       "      <th>824591</th>\n",
       "      <td>10225811036-BIO002</td>\n",
       "      <td>M</td>\n",
       "      <td>1859-12-28 00:00:00</td>\n",
       "      <td>2019-09-19</td>\n",
       "      <td>574604575219-67</td>\n",
       "      <td>L152</td>\n",
       "      <td>70004795</td>\n",
       "      <td>264.0</td>\n",
       "      <td>159.0</td>\n",
       "      <td>BIO002</td>\n",
       "    </tr>\n",
       "    <tr>\n",
       "      <th>1659547</th>\n",
       "      <td>6162950424-1</td>\n",
       "      <td>F</td>\n",
       "      <td>1900-01-01 00:00:00</td>\n",
       "      <td>2020-04-05</td>\n",
       "      <td>6162950424-1-1</td>\n",
       "      <td>L139</td>\n",
       "      <td>70004461</td>\n",
       "      <td>94.0</td>\n",
       "      <td>120.0</td>\n",
       "      <td>1</td>\n",
       "    </tr>\n",
       "    <tr>\n",
       "      <th>156425</th>\n",
       "      <td>10240370370-BIO010</td>\n",
       "      <td>M</td>\n",
       "      <td>1911-08-20 00:00:00</td>\n",
       "      <td>2019-03-03</td>\n",
       "      <td>529400114551-122</td>\n",
       "      <td>L668</td>\n",
       "      <td>70005506</td>\n",
       "      <td>55.0</td>\n",
       "      <td>107.0</td>\n",
       "      <td>BIO010</td>\n",
       "    </tr>\n",
       "    <tr>\n",
       "      <th>66737</th>\n",
       "      <td>10240392383-BIO010</td>\n",
       "      <td>M</td>\n",
       "      <td>1911-08-20</td>\n",
       "      <td>2019-02-06</td>\n",
       "      <td>529400111857-122</td>\n",
       "      <td>L668</td>\n",
       "      <td>70005506</td>\n",
       "      <td>55.0</td>\n",
       "      <td>107.0</td>\n",
       "      <td>BIO010</td>\n",
       "    </tr>\n",
       "    <tr>\n",
       "      <th>72258</th>\n",
       "      <td>10240388647-BIO010</td>\n",
       "      <td>F</td>\n",
       "      <td>1912-09-07</td>\n",
       "      <td>2019-01-31</td>\n",
       "      <td>529709889235-123</td>\n",
       "      <td>L658</td>\n",
       "      <td>70005506</td>\n",
       "      <td>55.0</td>\n",
       "      <td>106.0</td>\n",
       "      <td>BIO010</td>\n",
       "    </tr>\n",
       "  </tbody>\n",
       "</table>\n",
       "</div>"
      ],
      "text/plain": [
       "                 Patient Id Gender        Date of birth Date of service  \\\n",
       "824591   10225811036-BIO002      M  1859-12-28 00:00:00      2019-09-19   \n",
       "1659547        6162950424-1      F  1900-01-01 00:00:00      2020-04-05   \n",
       "156425   10240370370-BIO010      M  1911-08-20 00:00:00      2019-03-03   \n",
       "66737    10240392383-BIO010      M           1911-08-20      2019-02-06   \n",
       "72258    10240388647-BIO010      F           1912-09-07      2019-01-31   \n",
       "\n",
       "               Service Id Lab Id   CodItem  Valor Pago  Idade final_id  \n",
       "824591    574604575219-67   L152  70004795       264.0  159.0   BIO002  \n",
       "1659547    6162950424-1-1   L139  70004461        94.0  120.0        1  \n",
       "156425   529400114551-122   L668  70005506        55.0  107.0   BIO010  \n",
       "66737    529400111857-122   L668  70005506        55.0  107.0   BIO010  \n",
       "72258    529709889235-123   L658  70005506        55.0  106.0   BIO010  "
      ]
     },
     "execution_count": 14,
     "metadata": {},
     "output_type": "execute_result"
    }
   ],
   "source": [
    "pacientes_unicos.sort_values('Idade', ascending = False).head()"
   ]
  },
  {
   "cell_type": "code",
   "execution_count": 15,
   "metadata": {},
   "outputs": [
    {
     "data": {
      "text/plain": [
       "<Axes: xlabel='Idade', ylabel='Count'>"
      ]
     },
     "execution_count": 15,
     "metadata": {},
     "output_type": "execute_result"
    },
    {
     "data": {
      "image/png": "[encoded data removed]",
      "text/plain": [
       "<Figure size 1000x400 with 1 Axes>"
      ]
     },
     "metadata": {},
     "output_type": "display_data"
    }
   ],
   "source": [
    "plt.figure(figsize = (10, 4))\n",
    "sns.set_style('white')\n",
    "sns.histplot(pacientes_unicos[pacientes_unicos['Idade'] <= 120], x = 'Idade', bins = 150, color = '#7f7f7f')"
   ]
  },
  {
   "attachments": {},
   "cell_type": "markdown",
   "metadata": {},
   "source": [
    "3. distribuição de sexo + idade"
   ]
  },
  {
   "cell_type": "code",
   "execution_count": 16,
   "metadata": {},
   "outputs": [
    {
     "data": {
      "text/plain": [
       "<Axes: xlabel='Idade', ylabel='Count'>"
      ]
     },
     "execution_count": 16,
     "metadata": {},
     "output_type": "execute_result"
    },
    {
     "data": {
      "image/png": "[encoded data removed]",
      "text/plain": [
       "<Figure size 1000x400 with 1 Axes>"
      ]
     },
     "metadata": {},
     "output_type": "display_data"
    }
   ],
   "source": [
    "plt.figure(figsize = (10, 4))\n",
    "sns.set_style('white')\n",
    "sns.histplot(pacientes_unicos[pacientes_unicos['Idade'] <= 120], x = 'Idade', bins = 150, hue = 'Gender', palette={\"M\": \"#1822DC\", \"F\": \"#7f7f7f\"})"
   ]
  },
  {
   "attachments": {},
   "cell_type": "markdown",
   "metadata": {},
   "source": [
    "### O que é o service id? qual a distribuição desta variável?"
   ]
  },
  {
   "cell_type": "code",
   "execution_count": 17,
   "metadata": {},
   "outputs": [
    {
     "data": {
      "text/plain": [
       "660059"
      ]
     },
     "execution_count": 17,
     "metadata": {},
     "output_type": "execute_result"
    }
   ],
   "source": [
    "transactional_data['Service Id'].nunique()"
   ]
  },
  {
   "attachments": {},
   "cell_type": "markdown",
   "metadata": {},
   "source": [
    "O número de service id diferentes é menor que o total de exames, mas maior que o de clientes únicos. \n",
    "\n",
    "tentando observar um padrão nos números pela tabela"
   ]
  },
  {
   "cell_type": "code",
   "execution_count": 18,
   "metadata": {},
   "outputs": [
    {
     "data": {
      "text/html": [
       "<div>\n",
       "<style scoped>\n",
       "    .dataframe tbody tr th:only-of-type {\n",
       "        vertical-align: middle;\n",
       "    }\n",
       "\n",
       "    .dataframe tbody tr th {\n",
       "        vertical-align: top;\n",
       "    }\n",
       "\n",
       "    .dataframe thead th {\n",
       "        text-align: right;\n",
       "    }\n",
       "</style>\n",
       "<table border=\"1\" class=\"dataframe\">\n",
       "  <thead>\n",
       "    <tr style=\"text-align: right;\">\n",
       "      <th></th>\n",
       "      <th>Patient Id</th>\n",
       "      <th>Gender</th>\n",
       "      <th>Date of birth</th>\n",
       "      <th>Date of service</th>\n",
       "      <th>Service Id</th>\n",
       "      <th>Lab Id</th>\n",
       "      <th>CodItem</th>\n",
       "      <th>Valor Pago</th>\n",
       "      <th>Idade</th>\n",
       "      <th>final_id</th>\n",
       "    </tr>\n",
       "  </thead>\n",
       "  <tbody>\n",
       "    <tr>\n",
       "      <th>0</th>\n",
       "      <td>10210830256-BIO003</td>\n",
       "      <td>F</td>\n",
       "      <td>1976-08-01 00:00:00</td>\n",
       "      <td>2019-01-07</td>\n",
       "      <td>571904533475-38</td>\n",
       "      <td>L133</td>\n",
       "      <td>70003237</td>\n",
       "      <td>9.0</td>\n",
       "      <td>42.0</td>\n",
       "      <td>BIO003</td>\n",
       "    </tr>\n",
       "    <tr>\n",
       "      <th>1</th>\n",
       "      <td>10210830256-BIO003</td>\n",
       "      <td>F</td>\n",
       "      <td>1976-08-01 00:00:00</td>\n",
       "      <td>2019-01-07</td>\n",
       "      <td>571904533475-38</td>\n",
       "      <td>L133</td>\n",
       "      <td>70000638</td>\n",
       "      <td>13.0</td>\n",
       "      <td>42.0</td>\n",
       "      <td>BIO003</td>\n",
       "    </tr>\n",
       "    <tr>\n",
       "      <th>2</th>\n",
       "      <td>10210830256-BIO003</td>\n",
       "      <td>F</td>\n",
       "      <td>1976-08-01 00:00:00</td>\n",
       "      <td>2019-01-07</td>\n",
       "      <td>571904533475-38</td>\n",
       "      <td>L133</td>\n",
       "      <td>70001597</td>\n",
       "      <td>49.0</td>\n",
       "      <td>42.0</td>\n",
       "      <td>BIO003</td>\n",
       "    </tr>\n",
       "    <tr>\n",
       "      <th>3</th>\n",
       "      <td>10210830256-BIO003</td>\n",
       "      <td>F</td>\n",
       "      <td>1976-08-01 00:00:00</td>\n",
       "      <td>2019-01-07</td>\n",
       "      <td>571904533475-38</td>\n",
       "      <td>L133</td>\n",
       "      <td>70000103</td>\n",
       "      <td>11.0</td>\n",
       "      <td>42.0</td>\n",
       "      <td>BIO003</td>\n",
       "    </tr>\n",
       "    <tr>\n",
       "      <th>4</th>\n",
       "      <td>10210830256-BIO003</td>\n",
       "      <td>F</td>\n",
       "      <td>1976-08-01 00:00:00</td>\n",
       "      <td>2019-01-07</td>\n",
       "      <td>571904533475-38</td>\n",
       "      <td>L133</td>\n",
       "      <td>70000224</td>\n",
       "      <td>10.0</td>\n",
       "      <td>42.0</td>\n",
       "      <td>BIO003</td>\n",
       "    </tr>\n",
       "    <tr>\n",
       "      <th>5</th>\n",
       "      <td>10210830256-BIO003</td>\n",
       "      <td>F</td>\n",
       "      <td>1976-08-01 00:00:00</td>\n",
       "      <td>2019-01-07</td>\n",
       "      <td>571904533475-38</td>\n",
       "      <td>L133</td>\n",
       "      <td>70002653</td>\n",
       "      <td>8.0</td>\n",
       "      <td>42.0</td>\n",
       "      <td>BIO003</td>\n",
       "    </tr>\n",
       "    <tr>\n",
       "      <th>6</th>\n",
       "      <td>10210830256-BIO003</td>\n",
       "      <td>F</td>\n",
       "      <td>1976-08-01 00:00:00</td>\n",
       "      <td>2019-01-07</td>\n",
       "      <td>571904533475-38</td>\n",
       "      <td>L133</td>\n",
       "      <td>70001206</td>\n",
       "      <td>41.0</td>\n",
       "      <td>42.0</td>\n",
       "      <td>BIO003</td>\n",
       "    </tr>\n",
       "    <tr>\n",
       "      <th>7</th>\n",
       "      <td>10210830256-BIO003</td>\n",
       "      <td>F</td>\n",
       "      <td>1976-08-01 00:00:00</td>\n",
       "      <td>2019-01-07</td>\n",
       "      <td>571904533475-38</td>\n",
       "      <td>L133</td>\n",
       "      <td>70005903</td>\n",
       "      <td>57.0</td>\n",
       "      <td>42.0</td>\n",
       "      <td>BIO003</td>\n",
       "    </tr>\n",
       "    <tr>\n",
       "      <th>8</th>\n",
       "      <td>10210830256-BIO003</td>\n",
       "      <td>F</td>\n",
       "      <td>1976-08-01 00:00:00</td>\n",
       "      <td>2019-01-07</td>\n",
       "      <td>571904533475-38</td>\n",
       "      <td>L133</td>\n",
       "      <td>70000392</td>\n",
       "      <td>8.0</td>\n",
       "      <td>42.0</td>\n",
       "      <td>BIO003</td>\n",
       "    </tr>\n",
       "    <tr>\n",
       "      <th>9</th>\n",
       "      <td>10210830256-BIO003</td>\n",
       "      <td>F</td>\n",
       "      <td>1976-08-01 00:00:00</td>\n",
       "      <td>2019-01-07</td>\n",
       "      <td>571904533475-38</td>\n",
       "      <td>L133</td>\n",
       "      <td>70000168</td>\n",
       "      <td>48.0</td>\n",
       "      <td>42.0</td>\n",
       "      <td>BIO003</td>\n",
       "    </tr>\n",
       "    <tr>\n",
       "      <th>10</th>\n",
       "      <td>10210848051-BIO003</td>\n",
       "      <td>F</td>\n",
       "      <td>1982-07-16 00:00:00</td>\n",
       "      <td>2019-01-30</td>\n",
       "      <td>571904618615-38</td>\n",
       "      <td>L133</td>\n",
       "      <td>70001115</td>\n",
       "      <td>39.0</td>\n",
       "      <td>36.0</td>\n",
       "      <td>BIO003</td>\n",
       "    </tr>\n",
       "    <tr>\n",
       "      <th>11</th>\n",
       "      <td>10210848051-BIO003</td>\n",
       "      <td>F</td>\n",
       "      <td>1982-07-16 00:00:00</td>\n",
       "      <td>2019-01-30</td>\n",
       "      <td>571904618615-38</td>\n",
       "      <td>L133</td>\n",
       "      <td>70004228</td>\n",
       "      <td>10.0</td>\n",
       "      <td>36.0</td>\n",
       "      <td>BIO003</td>\n",
       "    </tr>\n",
       "    <tr>\n",
       "      <th>12</th>\n",
       "      <td>10210848051-BIO003</td>\n",
       "      <td>F</td>\n",
       "      <td>1982-07-16 00:00:00</td>\n",
       "      <td>2019-01-30</td>\n",
       "      <td>571904618615-38</td>\n",
       "      <td>L133</td>\n",
       "      <td>70000638</td>\n",
       "      <td>13.0</td>\n",
       "      <td>36.0</td>\n",
       "      <td>BIO003</td>\n",
       "    </tr>\n",
       "    <tr>\n",
       "      <th>13</th>\n",
       "      <td>10210848051-BIO003</td>\n",
       "      <td>F</td>\n",
       "      <td>1982-07-16 00:00:00</td>\n",
       "      <td>2019-01-30</td>\n",
       "      <td>571904618615-38</td>\n",
       "      <td>L133</td>\n",
       "      <td>70000301</td>\n",
       "      <td>12.0</td>\n",
       "      <td>36.0</td>\n",
       "      <td>BIO003</td>\n",
       "    </tr>\n",
       "    <tr>\n",
       "      <th>14</th>\n",
       "      <td>10210848051-BIO003</td>\n",
       "      <td>F</td>\n",
       "      <td>1982-07-16 00:00:00</td>\n",
       "      <td>2019-01-30</td>\n",
       "      <td>571904618615-38</td>\n",
       "      <td>L133</td>\n",
       "      <td>70003318</td>\n",
       "      <td>10.0</td>\n",
       "      <td>36.0</td>\n",
       "      <td>BIO003</td>\n",
       "    </tr>\n",
       "    <tr>\n",
       "      <th>15</th>\n",
       "      <td>10210848051-BIO003</td>\n",
       "      <td>F</td>\n",
       "      <td>1982-07-16 00:00:00</td>\n",
       "      <td>2019-01-30</td>\n",
       "      <td>571904618615-38</td>\n",
       "      <td>L133</td>\n",
       "      <td>70001676</td>\n",
       "      <td>46.0</td>\n",
       "      <td>36.0</td>\n",
       "      <td>BIO003</td>\n",
       "    </tr>\n",
       "    <tr>\n",
       "      <th>16</th>\n",
       "      <td>10210848051-BIO003</td>\n",
       "      <td>F</td>\n",
       "      <td>1982-07-16 00:00:00</td>\n",
       "      <td>2019-01-30</td>\n",
       "      <td>571904618615-38</td>\n",
       "      <td>L133</td>\n",
       "      <td>70004795</td>\n",
       "      <td>264.0</td>\n",
       "      <td>36.0</td>\n",
       "      <td>BIO003</td>\n",
       "    </tr>\n",
       "    <tr>\n",
       "      <th>17</th>\n",
       "      <td>10210848051-BIO003</td>\n",
       "      <td>F</td>\n",
       "      <td>1982-07-16 00:00:00</td>\n",
       "      <td>2019-01-30</td>\n",
       "      <td>571904618615-38</td>\n",
       "      <td>L133</td>\n",
       "      <td>70006146</td>\n",
       "      <td>31.0</td>\n",
       "      <td>36.0</td>\n",
       "      <td>BIO003</td>\n",
       "    </tr>\n",
       "    <tr>\n",
       "      <th>18</th>\n",
       "      <td>10210848051-BIO003</td>\n",
       "      <td>F</td>\n",
       "      <td>1982-07-16 00:00:00</td>\n",
       "      <td>2019-01-30</td>\n",
       "      <td>571904618615-38</td>\n",
       "      <td>L133</td>\n",
       "      <td>70004134</td>\n",
       "      <td>10.0</td>\n",
       "      <td>36.0</td>\n",
       "      <td>BIO003</td>\n",
       "    </tr>\n",
       "    <tr>\n",
       "      <th>19</th>\n",
       "      <td>10210848051-BIO003</td>\n",
       "      <td>F</td>\n",
       "      <td>1982-07-16 00:00:00</td>\n",
       "      <td>2019-01-30</td>\n",
       "      <td>571904618615-38</td>\n",
       "      <td>L133</td>\n",
       "      <td>70002619</td>\n",
       "      <td>12.0</td>\n",
       "      <td>36.0</td>\n",
       "      <td>BIO003</td>\n",
       "    </tr>\n",
       "    <tr>\n",
       "      <th>20</th>\n",
       "      <td>10210848051-BIO003</td>\n",
       "      <td>F</td>\n",
       "      <td>1982-07-16 00:00:00</td>\n",
       "      <td>2019-01-30</td>\n",
       "      <td>571904618615-38</td>\n",
       "      <td>L133</td>\n",
       "      <td>70003018</td>\n",
       "      <td>76.0</td>\n",
       "      <td>36.0</td>\n",
       "      <td>BIO003</td>\n",
       "    </tr>\n",
       "    <tr>\n",
       "      <th>21</th>\n",
       "      <td>10210848051-BIO003</td>\n",
       "      <td>F</td>\n",
       "      <td>1982-07-16 00:00:00</td>\n",
       "      <td>2019-01-30</td>\n",
       "      <td>571904618615-38</td>\n",
       "      <td>L133</td>\n",
       "      <td>70003056</td>\n",
       "      <td>9.0</td>\n",
       "      <td>36.0</td>\n",
       "      <td>BIO003</td>\n",
       "    </tr>\n",
       "    <tr>\n",
       "      <th>22</th>\n",
       "      <td>10210848051-BIO003</td>\n",
       "      <td>F</td>\n",
       "      <td>1982-07-16 00:00:00</td>\n",
       "      <td>2019-01-30</td>\n",
       "      <td>571904618615-38</td>\n",
       "      <td>L133</td>\n",
       "      <td>70001276</td>\n",
       "      <td>53.0</td>\n",
       "      <td>36.0</td>\n",
       "      <td>BIO003</td>\n",
       "    </tr>\n",
       "    <tr>\n",
       "      <th>23</th>\n",
       "      <td>10210848051-BIO003</td>\n",
       "      <td>F</td>\n",
       "      <td>1982-07-16 00:00:00</td>\n",
       "      <td>2019-01-30</td>\n",
       "      <td>571904618615-38</td>\n",
       "      <td>L133</td>\n",
       "      <td>70004461</td>\n",
       "      <td>94.0</td>\n",
       "      <td>36.0</td>\n",
       "      <td>BIO003</td>\n",
       "    </tr>\n",
       "    <tr>\n",
       "      <th>24</th>\n",
       "      <td>10210848051-BIO003</td>\n",
       "      <td>F</td>\n",
       "      <td>1982-07-16 00:00:00</td>\n",
       "      <td>2019-01-30</td>\n",
       "      <td>571904618615-38</td>\n",
       "      <td>L133</td>\n",
       "      <td>70004180</td>\n",
       "      <td>10.0</td>\n",
       "      <td>36.0</td>\n",
       "      <td>BIO003</td>\n",
       "    </tr>\n",
       "    <tr>\n",
       "      <th>25</th>\n",
       "      <td>10210848051-BIO003</td>\n",
       "      <td>F</td>\n",
       "      <td>1982-07-16 00:00:00</td>\n",
       "      <td>2019-01-30</td>\n",
       "      <td>571904618615-38</td>\n",
       "      <td>L133</td>\n",
       "      <td>70004185</td>\n",
       "      <td>13.0</td>\n",
       "      <td>36.0</td>\n",
       "      <td>BIO003</td>\n",
       "    </tr>\n",
       "    <tr>\n",
       "      <th>26</th>\n",
       "      <td>10210848051-BIO003</td>\n",
       "      <td>F</td>\n",
       "      <td>1982-07-16 00:00:00</td>\n",
       "      <td>2019-01-30</td>\n",
       "      <td>571904618615-38</td>\n",
       "      <td>L133</td>\n",
       "      <td>70003200</td>\n",
       "      <td>9.0</td>\n",
       "      <td>36.0</td>\n",
       "      <td>BIO003</td>\n",
       "    </tr>\n",
       "    <tr>\n",
       "      <th>27</th>\n",
       "      <td>10210848051-BIO003</td>\n",
       "      <td>F</td>\n",
       "      <td>1982-07-16 00:00:00</td>\n",
       "      <td>2019-02-21</td>\n",
       "      <td>571904705469-38</td>\n",
       "      <td>L133</td>\n",
       "      <td>70006342</td>\n",
       "      <td>495.0</td>\n",
       "      <td>36.0</td>\n",
       "      <td>BIO003</td>\n",
       "    </tr>\n",
       "    <tr>\n",
       "      <th>28</th>\n",
       "      <td>10210848087-BIO003</td>\n",
       "      <td>F</td>\n",
       "      <td>1989-07-03 00:00:00</td>\n",
       "      <td>2019-01-30</td>\n",
       "      <td>576608412729-91</td>\n",
       "      <td>L167</td>\n",
       "      <td>70000301</td>\n",
       "      <td>12.0</td>\n",
       "      <td>29.0</td>\n",
       "      <td>BIO003</td>\n",
       "    </tr>\n",
       "    <tr>\n",
       "      <th>29</th>\n",
       "      <td>10210848087-BIO003</td>\n",
       "      <td>F</td>\n",
       "      <td>1989-07-03 00:00:00</td>\n",
       "      <td>2019-01-30</td>\n",
       "      <td>576608412729-91</td>\n",
       "      <td>L167</td>\n",
       "      <td>70004452</td>\n",
       "      <td>29.0</td>\n",
       "      <td>29.0</td>\n",
       "      <td>BIO003</td>\n",
       "    </tr>\n",
       "    <tr>\n",
       "      <th>30</th>\n",
       "      <td>10210848087-BIO003</td>\n",
       "      <td>F</td>\n",
       "      <td>1989-07-03 00:00:00</td>\n",
       "      <td>2019-01-30</td>\n",
       "      <td>576608412729-91</td>\n",
       "      <td>L167</td>\n",
       "      <td>70004134</td>\n",
       "      <td>10.0</td>\n",
       "      <td>29.0</td>\n",
       "      <td>BIO003</td>\n",
       "    </tr>\n",
       "    <tr>\n",
       "      <th>31</th>\n",
       "      <td>10210848087-BIO003</td>\n",
       "      <td>F</td>\n",
       "      <td>1989-07-03 00:00:00</td>\n",
       "      <td>2019-01-30</td>\n",
       "      <td>576608412729-91</td>\n",
       "      <td>L167</td>\n",
       "      <td>70002619</td>\n",
       "      <td>12.0</td>\n",
       "      <td>29.0</td>\n",
       "      <td>BIO003</td>\n",
       "    </tr>\n",
       "    <tr>\n",
       "      <th>32</th>\n",
       "      <td>10210848087-BIO003</td>\n",
       "      <td>F</td>\n",
       "      <td>1989-07-03 00:00:00</td>\n",
       "      <td>2019-01-30</td>\n",
       "      <td>576608412729-91</td>\n",
       "      <td>L167</td>\n",
       "      <td>70000638</td>\n",
       "      <td>13.0</td>\n",
       "      <td>29.0</td>\n",
       "      <td>BIO003</td>\n",
       "    </tr>\n",
       "    <tr>\n",
       "      <th>33</th>\n",
       "      <td>10210848087-BIO003</td>\n",
       "      <td>F</td>\n",
       "      <td>1989-07-03 00:00:00</td>\n",
       "      <td>2019-01-30</td>\n",
       "      <td>576608412729-91</td>\n",
       "      <td>L167</td>\n",
       "      <td>70000985</td>\n",
       "      <td>82.0</td>\n",
       "      <td>29.0</td>\n",
       "      <td>BIO003</td>\n",
       "    </tr>\n",
       "    <tr>\n",
       "      <th>34</th>\n",
       "      <td>10210848087-BIO003</td>\n",
       "      <td>F</td>\n",
       "      <td>1989-07-03 00:00:00</td>\n",
       "      <td>2019-01-30</td>\n",
       "      <td>576608412729-91</td>\n",
       "      <td>L167</td>\n",
       "      <td>70003200</td>\n",
       "      <td>9.0</td>\n",
       "      <td>29.0</td>\n",
       "      <td>BIO003</td>\n",
       "    </tr>\n",
       "    <tr>\n",
       "      <th>35</th>\n",
       "      <td>10210848087-BIO003</td>\n",
       "      <td>F</td>\n",
       "      <td>1989-07-03 00:00:00</td>\n",
       "      <td>2019-01-30</td>\n",
       "      <td>576608412729-91</td>\n",
       "      <td>L167</td>\n",
       "      <td>70001276</td>\n",
       "      <td>53.0</td>\n",
       "      <td>29.0</td>\n",
       "      <td>BIO003</td>\n",
       "    </tr>\n",
       "    <tr>\n",
       "      <th>36</th>\n",
       "      <td>10210264021-BIO003</td>\n",
       "      <td>F</td>\n",
       "      <td>1991-06-03 00:00:00</td>\n",
       "      <td>2019-01-25</td>\n",
       "      <td>437707024889-179</td>\n",
       "      <td>L662</td>\n",
       "      <td>70000139</td>\n",
       "      <td>14.0</td>\n",
       "      <td>27.0</td>\n",
       "      <td>BIO003</td>\n",
       "    </tr>\n",
       "    <tr>\n",
       "      <th>37</th>\n",
       "      <td>10210845039-BIO003</td>\n",
       "      <td>M</td>\n",
       "      <td>2017-03-22 00:00:00</td>\n",
       "      <td>2019-01-25</td>\n",
       "      <td>575202384562-74</td>\n",
       "      <td>L156</td>\n",
       "      <td>70001103</td>\n",
       "      <td>42.0</td>\n",
       "      <td>1.0</td>\n",
       "      <td>BIO003</td>\n",
       "    </tr>\n",
       "    <tr>\n",
       "      <th>38</th>\n",
       "      <td>10210845039-BIO003</td>\n",
       "      <td>M</td>\n",
       "      <td>2017-03-22 00:00:00</td>\n",
       "      <td>2019-01-25</td>\n",
       "      <td>575202384562-74</td>\n",
       "      <td>L156</td>\n",
       "      <td>70004215</td>\n",
       "      <td>42.0</td>\n",
       "      <td>1.0</td>\n",
       "      <td>BIO003</td>\n",
       "    </tr>\n",
       "    <tr>\n",
       "      <th>39</th>\n",
       "      <td>10210845039-BIO003</td>\n",
       "      <td>M</td>\n",
       "      <td>2017-03-22 00:00:00</td>\n",
       "      <td>2019-01-25</td>\n",
       "      <td>575202384562-74</td>\n",
       "      <td>L156</td>\n",
       "      <td>70003200</td>\n",
       "      <td>9.0</td>\n",
       "      <td>1.0</td>\n",
       "      <td>BIO003</td>\n",
       "    </tr>\n",
       "    <tr>\n",
       "      <th>40</th>\n",
       "      <td>10210845039-BIO003</td>\n",
       "      <td>M</td>\n",
       "      <td>2017-03-22 00:00:00</td>\n",
       "      <td>2019-01-25</td>\n",
       "      <td>575202384562-74</td>\n",
       "      <td>L156</td>\n",
       "      <td>70000570</td>\n",
       "      <td>42.0</td>\n",
       "      <td>1.0</td>\n",
       "      <td>BIO003</td>\n",
       "    </tr>\n",
       "    <tr>\n",
       "      <th>41</th>\n",
       "      <td>10210845039-BIO003</td>\n",
       "      <td>M</td>\n",
       "      <td>2017-03-22 00:00:00</td>\n",
       "      <td>2019-01-25</td>\n",
       "      <td>575202384562-74</td>\n",
       "      <td>L156</td>\n",
       "      <td>70000301</td>\n",
       "      <td>12.0</td>\n",
       "      <td>1.0</td>\n",
       "      <td>BIO003</td>\n",
       "    </tr>\n",
       "    <tr>\n",
       "      <th>42</th>\n",
       "      <td>10210845039-BIO003</td>\n",
       "      <td>M</td>\n",
       "      <td>2017-03-22 00:00:00</td>\n",
       "      <td>2019-01-25</td>\n",
       "      <td>575202384562-74</td>\n",
       "      <td>L156</td>\n",
       "      <td>70000638</td>\n",
       "      <td>13.0</td>\n",
       "      <td>1.0</td>\n",
       "      <td>BIO003</td>\n",
       "    </tr>\n",
       "    <tr>\n",
       "      <th>43</th>\n",
       "      <td>10210845039-BIO003</td>\n",
       "      <td>M</td>\n",
       "      <td>2017-03-22 00:00:00</td>\n",
       "      <td>2019-01-25</td>\n",
       "      <td>575202384562-74</td>\n",
       "      <td>L156</td>\n",
       "      <td>70000103</td>\n",
       "      <td>11.0</td>\n",
       "      <td>1.0</td>\n",
       "      <td>BIO003</td>\n",
       "    </tr>\n",
       "    <tr>\n",
       "      <th>44</th>\n",
       "      <td>10210845039-BIO003</td>\n",
       "      <td>M</td>\n",
       "      <td>2017-03-22 00:00:00</td>\n",
       "      <td>2019-01-25</td>\n",
       "      <td>575202384562-74</td>\n",
       "      <td>L156</td>\n",
       "      <td>70001445</td>\n",
       "      <td>42.0</td>\n",
       "      <td>1.0</td>\n",
       "      <td>BIO003</td>\n",
       "    </tr>\n",
       "    <tr>\n",
       "      <th>45</th>\n",
       "      <td>10210845039-BIO003</td>\n",
       "      <td>M</td>\n",
       "      <td>2017-03-22 00:00:00</td>\n",
       "      <td>2019-01-25</td>\n",
       "      <td>575202384562-74</td>\n",
       "      <td>L156</td>\n",
       "      <td>70001597</td>\n",
       "      <td>49.0</td>\n",
       "      <td>1.0</td>\n",
       "      <td>BIO003</td>\n",
       "    </tr>\n",
       "    <tr>\n",
       "      <th>46</th>\n",
       "      <td>10210845039-BIO003</td>\n",
       "      <td>M</td>\n",
       "      <td>2017-03-22 00:00:00</td>\n",
       "      <td>2019-01-25</td>\n",
       "      <td>575202384562-74</td>\n",
       "      <td>L156</td>\n",
       "      <td>70004358</td>\n",
       "      <td>42.0</td>\n",
       "      <td>1.0</td>\n",
       "      <td>BIO003</td>\n",
       "    </tr>\n",
       "    <tr>\n",
       "      <th>47</th>\n",
       "      <td>10210845039-BIO003</td>\n",
       "      <td>M</td>\n",
       "      <td>2017-03-22 00:00:00</td>\n",
       "      <td>2019-01-25</td>\n",
       "      <td>575202384562-74</td>\n",
       "      <td>L156</td>\n",
       "      <td>70004709</td>\n",
       "      <td>111.0</td>\n",
       "      <td>1.0</td>\n",
       "      <td>BIO003</td>\n",
       "    </tr>\n",
       "    <tr>\n",
       "      <th>48</th>\n",
       "      <td>10210625160-BIO003</td>\n",
       "      <td>F</td>\n",
       "      <td>1987-12-02 00:00:00</td>\n",
       "      <td>2019-03-14</td>\n",
       "      <td>575202500726-74</td>\n",
       "      <td>L156</td>\n",
       "      <td>70003759</td>\n",
       "      <td>14.0</td>\n",
       "      <td>31.0</td>\n",
       "      <td>BIO003</td>\n",
       "    </tr>\n",
       "    <tr>\n",
       "      <th>49</th>\n",
       "      <td>10225659539-BIO002</td>\n",
       "      <td>F</td>\n",
       "      <td>1995-04-24 00:00:00</td>\n",
       "      <td>2019-01-02</td>\n",
       "      <td>568200828756-119</td>\n",
       "      <td>L520</td>\n",
       "      <td>70003846</td>\n",
       "      <td>36.0</td>\n",
       "      <td>23.0</td>\n",
       "      <td>BIO002</td>\n",
       "    </tr>\n",
       "  </tbody>\n",
       "</table>\n",
       "</div>"
      ],
      "text/plain": [
       "            Patient Id Gender        Date of birth Date of service  \\\n",
       "0   10210830256-BIO003      F  1976-08-01 00:00:00      2019-01-07   \n",
       "1   10210830256-BIO003      F  1976-08-01 00:00:00      2019-01-07   \n",
       "2   10210830256-BIO003      F  1976-08-01 00:00:00      2019-01-07   \n",
       "3   10210830256-BIO003      F  1976-08-01 00:00:00      2019-01-07   \n",
       "4   10210830256-BIO003      F  1976-08-01 00:00:00      2019-01-07   \n",
       "5   10210830256-BIO003      F  1976-08-01 00:00:00      2019-01-07   \n",
       "6   10210830256-BIO003      F  1976-08-01 00:00:00      2019-01-07   \n",
       "7   10210830256-BIO003      F  1976-08-01 00:00:00      2019-01-07   \n",
       "8   10210830256-BIO003      F  1976-08-01 00:00:00      2019-01-07   \n",
       "9   10210830256-BIO003      F  1976-08-01 00:00:00      2019-01-07   \n",
       "10  10210848051-BIO003      F  1982-07-16 00:00:00      2019-01-30   \n",
       "11  10210848051-BIO003      F  1982-07-16 00:00:00      2019-01-30   \n",
       "12  10210848051-BIO003      F  1982-07-16 00:00:00      2019-01-30   \n",
       "13  10210848051-BIO003      F  1982-07-16 00:00:00      2019-01-30   \n",
       "14  10210848051-BIO003      F  1982-07-16 00:00:00      2019-01-30   \n",
       "15  10210848051-BIO003      F  1982-07-16 00:00:00      2019-01-30   \n",
       "16  10210848051-BIO003      F  1982-07-16 00:00:00      2019-01-30   \n",
       "17  10210848051-BIO003      F  1982-07-16 00:00:00      2019-01-30   \n",
       "18  10210848051-BIO003      F  1982-07-16 00:00:00      2019-01-30   \n",
       "19  10210848051-BIO003      F  1982-07-16 00:00:00      2019-01-30   \n",
       "20  10210848051-BIO003      F  1982-07-16 00:00:00      2019-01-30   \n",
       "21  10210848051-BIO003      F  1982-07-16 00:00:00      2019-01-30   \n",
       "22  10210848051-BIO003      F  1982-07-16 00:00:00      2019-01-30   \n",
       "23  10210848051-BIO003      F  1982-07-16 00:00:00      2019-01-30   \n",
       "24  10210848051-BIO003      F  1982-07-16 00:00:00      2019-01-30   \n",
       "25  10210848051-BIO003      F  1982-07-16 00:00:00      2019-01-30   \n",
       "26  10210848051-BIO003      F  1982-07-16 00:00:00      2019-01-30   \n",
       "27  10210848051-BIO003      F  1982-07-16 00:00:00      2019-02-21   \n",
       "28  10210848087-BIO003      F  1989-07-03 00:00:00      2019-01-30   \n",
       "29  10210848087-BIO003      F  1989-07-03 00:00:00      2019-01-30   \n",
       "30  10210848087-BIO003      F  1989-07-03 00:00:00      2019-01-30   \n",
       "31  10210848087-BIO003      F  1989-07-03 00:00:00      2019-01-30   \n",
       "32  10210848087-BIO003      F  1989-07-03 00:00:00      2019-01-30   \n",
       "33  10210848087-BIO003      F  1989-07-03 00:00:00      2019-01-30   \n",
       "34  10210848087-BIO003      F  1989-07-03 00:00:00      2019-01-30   \n",
       "35  10210848087-BIO003      F  1989-07-03 00:00:00      2019-01-30   \n",
       "36  10210264021-BIO003      F  1991-06-03 00:00:00      2019-01-25   \n",
       "37  10210845039-BIO003      M  2017-03-22 00:00:00      2019-01-25   \n",
       "38  10210845039-BIO003      M  2017-03-22 00:00:00      2019-01-25   \n",
       "39  10210845039-BIO003      M  2017-03-22 00:00:00      2019-01-25   \n",
       "40  10210845039-BIO003      M  2017-03-22 00:00:00      2019-01-25   \n",
       "41  10210845039-BIO003      M  2017-03-22 00:00:00      2019-01-25   \n",
       "42  10210845039-BIO003      M  2017-03-22 00:00:00      2019-01-25   \n",
       "43  10210845039-BIO003      M  2017-03-22 00:00:00      2019-01-25   \n",
       "44  10210845039-BIO003      M  2017-03-22 00:00:00      2019-01-25   \n",
       "45  10210845039-BIO003      M  2017-03-22 00:00:00      2019-01-25   \n",
       "46  10210845039-BIO003      M  2017-03-22 00:00:00      2019-01-25   \n",
       "47  10210845039-BIO003      M  2017-03-22 00:00:00      2019-01-25   \n",
       "48  10210625160-BIO003      F  1987-12-02 00:00:00      2019-03-14   \n",
       "49  10225659539-BIO002      F  1995-04-24 00:00:00      2019-01-02   \n",
       "\n",
       "          Service Id Lab Id   CodItem  Valor Pago  Idade final_id  \n",
       "0    571904533475-38   L133  70003237         9.0   42.0   BIO003  \n",
       "1    571904533475-38   L133  70000638        13.0   42.0   BIO003  \n",
       "2    571904533475-38   L133  70001597        49.0   42.0   BIO003  \n",
       "3    571904533475-38   L133  70000103        11.0   42.0   BIO003  \n",
       "4    571904533475-38   L133  70000224        10.0   42.0   BIO003  \n",
       "5    571904533475-38   L133  70002653         8.0   42.0   BIO003  \n",
       "6    571904533475-38   L133  70001206        41.0   42.0   BIO003  \n",
       "7    571904533475-38   L133  70005903        57.0   42.0   BIO003  \n",
       "8    571904533475-38   L133  70000392         8.0   42.0   BIO003  \n",
       "9    571904533475-38   L133  70000168        48.0   42.0   BIO003  \n",
       "10   571904618615-38   L133  70001115        39.0   36.0   BIO003  \n",
       "11   571904618615-38   L133  70004228        10.0   36.0   BIO003  \n",
       "12   571904618615-38   L133  70000638        13.0   36.0   BIO003  \n",
       "13   571904618615-38   L133  70000301        12.0   36.0   BIO003  \n",
       "14   571904618615-38   L133  70003318        10.0   36.0   BIO003  \n",
       "15   571904618615-38   L133  70001676        46.0   36.0   BIO003  \n",
       "16   571904618615-38   L133  70004795       264.0   36.0   BIO003  \n",
       "17   571904618615-38   L133  70006146        31.0   36.0   BIO003  \n",
       "18   571904618615-38   L133  70004134        10.0   36.0   BIO003  \n",
       "19   571904618615-38   L133  70002619        12.0   36.0   BIO003  \n",
       "20   571904618615-38   L133  70003018        76.0   36.0   BIO003  \n",
       "21   571904618615-38   L133  70003056         9.0   36.0   BIO003  \n",
       "22   571904618615-38   L133  70001276        53.0   36.0   BIO003  \n",
       "23   571904618615-38   L133  70004461        94.0   36.0   BIO003  \n",
       "24   571904618615-38   L133  70004180        10.0   36.0   BIO003  \n",
       "25   571904618615-38   L133  70004185        13.0   36.0   BIO003  \n",
       "26   571904618615-38   L133  70003200         9.0   36.0   BIO003  \n",
       "27   571904705469-38   L133  70006342       495.0   36.0   BIO003  \n",
       "28   576608412729-91   L167  70000301        12.0   29.0   BIO003  \n",
       "29   576608412729-91   L167  70004452        29.0   29.0   BIO003  \n",
       "30   576608412729-91   L167  70004134        10.0   29.0   BIO003  \n",
       "31   576608412729-91   L167  70002619        12.0   29.0   BIO003  \n",
       "32   576608412729-91   L167  70000638        13.0   29.0   BIO003  \n",
       "33   576608412729-91   L167  70000985        82.0   29.0   BIO003  \n",
       "34   576608412729-91   L167  70003200         9.0   29.0   BIO003  \n",
       "35   576608412729-91   L167  70001276        53.0   29.0   BIO003  \n",
       "36  437707024889-179   L662  70000139        14.0   27.0   BIO003  \n",
       "37   575202384562-74   L156  70001103        42.0    1.0   BIO003  \n",
       "38   575202384562-74   L156  70004215        42.0    1.0   BIO003  \n",
       "39   575202384562-74   L156  70003200         9.0    1.0   BIO003  \n",
       "40   575202384562-74   L156  70000570        42.0    1.0   BIO003  \n",
       "41   575202384562-74   L156  70000301        12.0    1.0   BIO003  \n",
       "42   575202384562-74   L156  70000638        13.0    1.0   BIO003  \n",
       "43   575202384562-74   L156  70000103        11.0    1.0   BIO003  \n",
       "44   575202384562-74   L156  70001445        42.0    1.0   BIO003  \n",
       "45   575202384562-74   L156  70001597        49.0    1.0   BIO003  \n",
       "46   575202384562-74   L156  70004358        42.0    1.0   BIO003  \n",
       "47   575202384562-74   L156  70004709       111.0    1.0   BIO003  \n",
       "48   575202500726-74   L156  70003759        14.0   31.0   BIO003  \n",
       "49  568200828756-119   L520  70003846        36.0   23.0   BIO002  "
      ]
     },
     "execution_count": 18,
     "metadata": {},
     "output_type": "execute_result"
    }
   ],
   "source": [
    "transactional_data.head(50)"
   ]
  },
  {
   "attachments": {},
   "cell_type": "markdown",
   "metadata": {},
   "source": [
    "pelos padrões observados, o service id é o mesmo para um mesmo cliente que realizou vários exames em um mesmo dia. portanto, podemos concluir que o service id é referente à bateria de exames que um cliente faz em um mesmo dia.\n",
    "\n",
    "com esta informação, é possível investigar qual é o número aproximado de exames que os clientes fazem de cada vez"
   ]
  },
  {
   "cell_type": "code",
   "execution_count": 19,
   "metadata": {},
   "outputs": [
    {
     "data": {
      "text/html": [
       "<div>\n",
       "<style scoped>\n",
       "    .dataframe tbody tr th:only-of-type {\n",
       "        vertical-align: middle;\n",
       "    }\n",
       "\n",
       "    .dataframe tbody tr th {\n",
       "        vertical-align: top;\n",
       "    }\n",
       "\n",
       "    .dataframe thead th {\n",
       "        text-align: right;\n",
       "    }\n",
       "</style>\n",
       "<table border=\"1\" class=\"dataframe\">\n",
       "  <thead>\n",
       "    <tr style=\"text-align: right;\">\n",
       "      <th></th>\n",
       "      <th>Service Id</th>\n",
       "      <th>Número de exames por bateria</th>\n",
       "    </tr>\n",
       "  </thead>\n",
       "  <tbody>\n",
       "    <tr>\n",
       "      <th>269437</th>\n",
       "      <td>6004395771-8-1</td>\n",
       "      <td>87</td>\n",
       "    </tr>\n",
       "    <tr>\n",
       "      <th>37661</th>\n",
       "      <td>437707339488-179</td>\n",
       "      <td>85</td>\n",
       "    </tr>\n",
       "    <tr>\n",
       "      <th>283211</th>\n",
       "      <td>6169569919-1-1</td>\n",
       "      <td>85</td>\n",
       "    </tr>\n",
       "    <tr>\n",
       "      <th>273062</th>\n",
       "      <td>6160868530-2-1</td>\n",
       "      <td>85</td>\n",
       "    </tr>\n",
       "    <tr>\n",
       "      <th>422639</th>\n",
       "      <td>7659340080-5-1</td>\n",
       "      <td>81</td>\n",
       "    </tr>\n",
       "  </tbody>\n",
       "</table>\n",
       "</div>"
      ],
      "text/plain": [
       "              Service Id  Número de exames por bateria\n",
       "269437    6004395771-8-1                            87\n",
       "37661   437707339488-179                            85\n",
       "283211    6169569919-1-1                            85\n",
       "273062    6160868530-2-1                            85\n",
       "422639    7659340080-5-1                            81"
      ]
     },
     "execution_count": 19,
     "metadata": {},
     "output_type": "execute_result"
    }
   ],
   "source": [
    "service_id = transactional_data.groupby('Service Id').count()['Patient Id'].reset_index()\n",
    "\n",
    "service_id = service_id.rename({'Patient Id': 'Número de exames por bateria'}, axis = 1)\n",
    "\n",
    "service_id.sort_values('Número de exames por bateria', ascending = False).head()"
   ]
  },
  {
   "cell_type": "code",
   "execution_count": 20,
   "metadata": {},
   "outputs": [
    {
     "data": {
      "image/png": "[encoded data removed]",
      "text/plain": [
       "<Figure size 1000x400 with 1 Axes>"
      ]
     },
     "metadata": {
      "needs_background": "light"
     },
     "output_type": "display_data"
    }
   ],
   "source": [
    "plt.figure(figsize = (10, 4))\n",
    "sns.set_style('white')\n",
    "sns.histplot(service_id,#[service_id['Número de exames por bateria'] < 25],\n",
    "              x = 'Número de exames por bateria', bins = 60, color = '#7f7f7f')\n",
    "# deixar o gráfico transparente\n",
    "plt.gcf().set_facecolor('none')\n",
    "plt.gca().patch.set_alpha(0)"
   ]
  },
  {
   "attachments": {},
   "cell_type": "markdown",
   "metadata": {},
   "source": [
    "seria interessante verificar se há alguma localidade em que a mediana de exames por bateria se destaca"
   ]
  },
  {
   "cell_type": "code",
   "execution_count": 22,
   "metadata": {},
   "outputs": [
    {
     "data": {
      "text/html": [
       "<div>\n",
       "<style scoped>\n",
       "    .dataframe tbody tr th:only-of-type {\n",
       "        vertical-align: middle;\n",
       "    }\n",
       "\n",
       "    .dataframe tbody tr th {\n",
       "        vertical-align: top;\n",
       "    }\n",
       "\n",
       "    .dataframe thead th {\n",
       "        text-align: right;\n",
       "    }\n",
       "</style>\n",
       "<table border=\"1\" class=\"dataframe\">\n",
       "  <thead>\n",
       "    <tr style=\"text-align: right;\">\n",
       "      <th></th>\n",
       "      <th>Patient Id</th>\n",
       "      <th>Gender</th>\n",
       "      <th>Date of birth</th>\n",
       "      <th>Date of service</th>\n",
       "      <th>Service Id</th>\n",
       "      <th>Lab Id</th>\n",
       "      <th>CodItem</th>\n",
       "      <th>Valor Pago</th>\n",
       "      <th>Idade</th>\n",
       "      <th>final_id</th>\n",
       "      <th>Sigla</th>\n",
       "    </tr>\n",
       "  </thead>\n",
       "  <tbody>\n",
       "    <tr>\n",
       "      <th>0</th>\n",
       "      <td>10210830256-BIO003</td>\n",
       "      <td>F</td>\n",
       "      <td>1976-08-01 00:00:00</td>\n",
       "      <td>2019-01-07</td>\n",
       "      <td>571904533475-38</td>\n",
       "      <td>L133</td>\n",
       "      <td>70003237</td>\n",
       "      <td>9.0</td>\n",
       "      <td>42.0</td>\n",
       "      <td>BIO003</td>\n",
       "      <td>CA</td>\n",
       "    </tr>\n",
       "    <tr>\n",
       "      <th>1</th>\n",
       "      <td>10210830256-BIO003</td>\n",
       "      <td>F</td>\n",
       "      <td>1976-08-01 00:00:00</td>\n",
       "      <td>2019-01-07</td>\n",
       "      <td>571904533475-38</td>\n",
       "      <td>L133</td>\n",
       "      <td>70000638</td>\n",
       "      <td>13.0</td>\n",
       "      <td>42.0</td>\n",
       "      <td>BIO003</td>\n",
       "      <td>CA</td>\n",
       "    </tr>\n",
       "    <tr>\n",
       "      <th>2</th>\n",
       "      <td>10210830256-BIO003</td>\n",
       "      <td>F</td>\n",
       "      <td>1976-08-01 00:00:00</td>\n",
       "      <td>2019-01-07</td>\n",
       "      <td>571904533475-38</td>\n",
       "      <td>L133</td>\n",
       "      <td>70001597</td>\n",
       "      <td>49.0</td>\n",
       "      <td>42.0</td>\n",
       "      <td>BIO003</td>\n",
       "      <td>CA</td>\n",
       "    </tr>\n",
       "    <tr>\n",
       "      <th>3</th>\n",
       "      <td>10210830256-BIO003</td>\n",
       "      <td>F</td>\n",
       "      <td>1976-08-01 00:00:00</td>\n",
       "      <td>2019-01-07</td>\n",
       "      <td>571904533475-38</td>\n",
       "      <td>L133</td>\n",
       "      <td>70000103</td>\n",
       "      <td>11.0</td>\n",
       "      <td>42.0</td>\n",
       "      <td>BIO003</td>\n",
       "      <td>CA</td>\n",
       "    </tr>\n",
       "    <tr>\n",
       "      <th>4</th>\n",
       "      <td>10210830256-BIO003</td>\n",
       "      <td>F</td>\n",
       "      <td>1976-08-01 00:00:00</td>\n",
       "      <td>2019-01-07</td>\n",
       "      <td>571904533475-38</td>\n",
       "      <td>L133</td>\n",
       "      <td>70000224</td>\n",
       "      <td>10.0</td>\n",
       "      <td>42.0</td>\n",
       "      <td>BIO003</td>\n",
       "      <td>CA</td>\n",
       "    </tr>\n",
       "  </tbody>\n",
       "</table>\n",
       "</div>"
      ],
      "text/plain": [
       "           Patient Id Gender        Date of birth Date of service  \\\n",
       "0  10210830256-BIO003      F  1976-08-01 00:00:00      2019-01-07   \n",
       "1  10210830256-BIO003      F  1976-08-01 00:00:00      2019-01-07   \n",
       "2  10210830256-BIO003      F  1976-08-01 00:00:00      2019-01-07   \n",
       "3  10210830256-BIO003      F  1976-08-01 00:00:00      2019-01-07   \n",
       "4  10210830256-BIO003      F  1976-08-01 00:00:00      2019-01-07   \n",
       "\n",
       "        Service Id Lab Id   CodItem  Valor Pago  Idade final_id Sigla  \n",
       "0  571904533475-38   L133  70003237         9.0   42.0   BIO003    CA  \n",
       "1  571904533475-38   L133  70000638        13.0   42.0   BIO003    CA  \n",
       "2  571904533475-38   L133  70001597        49.0   42.0   BIO003    CA  \n",
       "3  571904533475-38   L133  70000103        11.0   42.0   BIO003    CA  \n",
       "4  571904533475-38   L133  70000224        10.0   42.0   BIO003    CA  "
      ]
     },
     "execution_count": 22,
     "metadata": {},
     "output_type": "execute_result"
    }
   ],
   "source": [
    "# juntando a base de transações com o estado, disponível na base df_geocode\n",
    "\n",
    "transactional_location = transactional_data.merge(df_geocode[['Lab Id', 'Sigla']], how = 'left')\n",
    "\n",
    "transactional_location.head()"
   ]
  },
  {
   "cell_type": "code",
   "execution_count": 23,
   "metadata": {},
   "outputs": [
    {
     "data": {
      "text/html": [
       "<div>\n",
       "<style scoped>\n",
       "    .dataframe tbody tr th:only-of-type {\n",
       "        vertical-align: middle;\n",
       "    }\n",
       "\n",
       "    .dataframe tbody tr th {\n",
       "        vertical-align: top;\n",
       "    }\n",
       "\n",
       "    .dataframe thead th {\n",
       "        text-align: right;\n",
       "    }\n",
       "</style>\n",
       "<table border=\"1\" class=\"dataframe\">\n",
       "  <thead>\n",
       "    <tr style=\"text-align: right;\">\n",
       "      <th></th>\n",
       "      <th>index</th>\n",
       "      <th>Sigla</th>\n",
       "      <th>Média de exames por bateria</th>\n",
       "    </tr>\n",
       "  </thead>\n",
       "  <tbody>\n",
       "    <tr>\n",
       "      <th>0</th>\n",
       "      <td>6</td>\n",
       "      <td>MI</td>\n",
       "      <td>4.195907</td>\n",
       "    </tr>\n",
       "    <tr>\n",
       "      <th>1</th>\n",
       "      <td>7</td>\n",
       "      <td>NH</td>\n",
       "      <td>4.134845</td>\n",
       "    </tr>\n",
       "    <tr>\n",
       "      <th>2</th>\n",
       "      <td>3</td>\n",
       "      <td>IL</td>\n",
       "      <td>3.912349</td>\n",
       "    </tr>\n",
       "    <tr>\n",
       "      <th>3</th>\n",
       "      <td>8</td>\n",
       "      <td>NJ</td>\n",
       "      <td>3.886670</td>\n",
       "    </tr>\n",
       "    <tr>\n",
       "      <th>4</th>\n",
       "      <td>1</td>\n",
       "      <td>GA</td>\n",
       "      <td>3.644472</td>\n",
       "    </tr>\n",
       "    <tr>\n",
       "      <th>5</th>\n",
       "      <td>5</td>\n",
       "      <td>MA</td>\n",
       "      <td>3.615409</td>\n",
       "    </tr>\n",
       "    <tr>\n",
       "      <th>6</th>\n",
       "      <td>10</td>\n",
       "      <td>PA</td>\n",
       "      <td>3.557441</td>\n",
       "    </tr>\n",
       "    <tr>\n",
       "      <th>7</th>\n",
       "      <td>2</td>\n",
       "      <td>IA</td>\n",
       "      <td>3.535974</td>\n",
       "    </tr>\n",
       "    <tr>\n",
       "      <th>8</th>\n",
       "      <td>9</td>\n",
       "      <td>NY</td>\n",
       "      <td>3.512936</td>\n",
       "    </tr>\n",
       "    <tr>\n",
       "      <th>9</th>\n",
       "      <td>12</td>\n",
       "      <td>WA</td>\n",
       "      <td>3.483885</td>\n",
       "    </tr>\n",
       "    <tr>\n",
       "      <th>10</th>\n",
       "      <td>0</td>\n",
       "      <td>CA</td>\n",
       "      <td>3.364948</td>\n",
       "    </tr>\n",
       "    <tr>\n",
       "      <th>11</th>\n",
       "      <td>11</td>\n",
       "      <td>TX</td>\n",
       "      <td>3.213298</td>\n",
       "    </tr>\n",
       "    <tr>\n",
       "      <th>12</th>\n",
       "      <td>4</td>\n",
       "      <td>LA</td>\n",
       "      <td>1.807692</td>\n",
       "    </tr>\n",
       "  </tbody>\n",
       "</table>\n",
       "</div>"
      ],
      "text/plain": [
       "    index Sigla  Média de exames por bateria\n",
       "0       6    MI                     4.195907\n",
       "1       7    NH                     4.134845\n",
       "2       3    IL                     3.912349\n",
       "3       8    NJ                     3.886670\n",
       "4       1    GA                     3.644472\n",
       "5       5    MA                     3.615409\n",
       "6      10    PA                     3.557441\n",
       "7       2    IA                     3.535974\n",
       "8       9    NY                     3.512936\n",
       "9      12    WA                     3.483885\n",
       "10      0    CA                     3.364948\n",
       "11     11    TX                     3.213298\n",
       "12      4    LA                     1.807692"
      ]
     },
     "execution_count": 23,
     "metadata": {},
     "output_type": "execute_result"
    }
   ],
   "source": [
    "# fazendo a média de exames por bateria por estado\n",
    "\n",
    "mediana_bateria_estado = transactional_location.groupby(['Sigla', 'Service Id']).count()['Patient Id'].reset_index()\n",
    "\n",
    "mediana_bateria_estado = mediana_bateria_estado.groupby('Sigla').mean('Patient Id').reset_index()\n",
    "\n",
    "mediana_bateria_estado.sort_values('Patient Id', ascending = False).reset_index().rename({'Patient Id': 'Média de exames por bateria'}, axis = 1)"
   ]
  },
  {
   "attachments": {},
   "cell_type": "markdown",
   "metadata": {},
   "source": [
    "### qual a distribuição do final do código dos pacientes?\n",
    "\n",
    "não há hipóteses de que esta variável faça diferença para definir a localização, mas vale a pena ver a sua distribuição"
   ]
  },
  {
   "cell_type": "code",
   "execution_count": 230,
   "metadata": {},
   "outputs": [
    {
     "data": {
      "text/plain": [
       "final_id\n",
       "1          304822\n",
       "BIO003      91708\n",
       "BIO002      66762\n",
       "BIO010      36127\n",
       "UND2243      1788\n",
       "UND2113       238\n",
       "dtype: int64"
      ]
     },
     "execution_count": 230,
     "metadata": {},
     "output_type": "execute_result"
    }
   ],
   "source": [
    "pacientes_unicos.value_counts('final_id')"
   ]
  },
  {
   "attachments": {},
   "cell_type": "markdown",
   "metadata": {},
   "source": [
    "### há diferença no perfil de sexo ou idade entre os estados?"
   ]
  },
  {
   "cell_type": "code",
   "execution_count": 58,
   "metadata": {},
   "outputs": [
    {
     "name": "stderr",
     "output_type": "stream",
     "text": [
      "C:\\Users\\Leticia\\AppData\\Local\\Temp\\ipykernel_8020\\1080547803.py:3: FutureWarning:\n",
      "\n",
      "The default value of numeric_only in DataFrame.median is deprecated. In a future version, it will default to False. In addition, specifying 'numeric_only=None' is deprecated. Select only valid columns or specify the value of numeric_only to silence this warning.\n",
      "\n"
     ]
    },
    {
     "name": "stdout",
     "output_type": "stream",
     "text": [
      "mediana de idade geral = 38.0\n",
      "mediana de idade das mulheres = 37.0\n",
      "mediana de idade dos homens = 39.0\n"
     ]
    },
    {
     "name": "stderr",
     "output_type": "stream",
     "text": [
      "C:\\Users\\Leticia\\AppData\\Local\\Temp\\ipykernel_8020\\1080547803.py:4: FutureWarning:\n",
      "\n",
      "The default value of numeric_only in DataFrame.median is deprecated. In a future version, it will default to False. In addition, specifying 'numeric_only=None' is deprecated. Select only valid columns or specify the value of numeric_only to silence this warning.\n",
      "\n",
      "C:\\Users\\Leticia\\AppData\\Local\\Temp\\ipykernel_8020\\1080547803.py:5: FutureWarning:\n",
      "\n",
      "The default value of numeric_only in DataFrame.median is deprecated. In a future version, it will default to False. In addition, specifying 'numeric_only=None' is deprecated. Select only valid columns or specify the value of numeric_only to silence this warning.\n",
      "\n"
     ]
    }
   ],
   "source": [
    "# qual a mediana geral de idade?\n",
    "\n",
    "print('mediana de idade geral =', pacientes_unicos.median()['Idade'])\n",
    "print('mediana de idade das mulheres =', pacientes_unicos[pacientes_unicos['Gender'] == 'F'].median()['Idade'])\n",
    "print('mediana de idade dos homens =', pacientes_unicos[pacientes_unicos['Gender'] == 'M'].median()['Idade'])"
   ]
  },
  {
   "cell_type": "code",
   "execution_count": 71,
   "metadata": {},
   "outputs": [
    {
     "name": "stderr",
     "output_type": "stream",
     "text": [
      "C:\\Users\\Leticia\\AppData\\Local\\Temp\\ipykernel_8020\\1770038421.py:3: FutureWarning:\n",
      "\n",
      "The default value of numeric_only in DataFrameGroupBy.median is deprecated. In a future version, numeric_only will default to False. Either specify numeric_only or select only columns which should be valid for the function.\n",
      "\n"
     ]
    },
    {
     "data": {
      "text/plain": [
       "<matplotlib.lines.Line2D at 0x28116fc00a0>"
      ]
     },
     "execution_count": 71,
     "metadata": {},
     "output_type": "execute_result"
    },
    {
     "data": {
      "image/png": "[encoded data removed]",
      "text/plain": [
       "<Figure size 500x900 with 1 Axes>"
      ]
     },
     "metadata": {},
     "output_type": "display_data"
    }
   ],
   "source": [
    "sexo_idade_estado = pacientes_unicos.merge(df_geocode[['Lab Id', 'Sigla']], how = 'left')\n",
    "\n",
    "sexo_idade_estado = sexo_idade_estado.groupby('Sigla').median()[['Idade']].sort_values('Idade', ascending = False).reset_index()\n",
    "\n",
    "sexo_idade_estado = sexo_idade_estado.merge(zipcodes_states[['Sigla', 'Estado']], how = 'left')\n",
    "\n",
    "sexo_idade_estado = sexo_idade_estado.rename({'Idade':\"Mediana de idade\"}, axis = 1)\n",
    "\n",
    "cores = ['#ac3a4e' if x == 'Louisiana' else '#5288db' if x == 'Texas' else '#a6a6a6' for x in sexo_idade_estado['Estado']]\n",
    "\n",
    "plt.figure(figsize = (5,9))\n",
    "sns.set_style('white') # also 'ticks', 'darkgrid', 'whitegrid', white\n",
    "fig = sns.barplot(data = sexo_idade_estado, x = 'Mediana de idade', y = 'Estado', palette = cores, width = 0.6)\n",
    "\n",
    "# colocar os números no final da barra\n",
    "for i in fig.patches:\n",
    "    fig.annotate(i.get_width(),\n",
    "                  (i.get_width(), i.get_y() + i.get_height() / 2),\n",
    "                  ha = 'left', va = 'center', fontsize = 10,\n",
    "                  color = '#4d4d4d', xytext = (1, 0),\n",
    "                  textcoords = 'offset points')\n",
    "\n",
    "# remover os números do eixo x\n",
    "fig.set_xticklabels('')\n",
    "\n",
    "# remover as bordas do gráfico\n",
    "sns.despine(bottom = True)\n",
    "\n",
    "# adicionar linha vertical em x = 38\n",
    "plt.axvline(x=38, linestyle='--', color='red')\n"
   ]
  },
  {
   "attachments": {},
   "cell_type": "markdown",
   "metadata": {},
   "source": [
    "mesmo gráfico, filtrando apenas as mulheres"
   ]
  },
  {
   "cell_type": "code",
   "execution_count": 68,
   "metadata": {},
   "outputs": [
    {
     "name": "stderr",
     "output_type": "stream",
     "text": [
      "C:\\Users\\Leticia\\AppData\\Local\\Temp\\ipykernel_8020\\2747701003.py:3: FutureWarning:\n",
      "\n",
      "The default value of numeric_only in DataFrameGroupBy.median is deprecated. In a future version, numeric_only will default to False. Either specify numeric_only or select only columns which should be valid for the function.\n",
      "\n"
     ]
    },
    {
     "data": {
      "text/plain": [
       "<matplotlib.lines.Line2D at 0x28112cc4d00>"
      ]
     },
     "execution_count": 68,
     "metadata": {},
     "output_type": "execute_result"
    },
    {
     "data": {
      "image/png": "[encoded data removed]",
      "text/plain": [
       "<Figure size 500x600 with 1 Axes>"
      ]
     },
     "metadata": {},
     "output_type": "display_data"
    }
   ],
   "source": [
    "sexo_idade_estado = pacientes_unicos.merge(df_geocode[['Lab Id', 'Sigla']], how = 'left')\n",
    "\n",
    "sexo_idade_estado = sexo_idade_estado[sexo_idade_estado['Gender'] == 'F'].groupby('Sigla').median()[['Idade']].sort_values('Idade', ascending = False).reset_index()\n",
    "\n",
    "sexo_idade_estado = sexo_idade_estado.merge(zipcodes_states[['Sigla', 'Estado']], how = 'left')\n",
    "\n",
    "sexo_idade_estado = sexo_idade_estado.rename({'Idade':\"Mediana de idade\"}, axis = 1)\n",
    "\n",
    "cores = ['#ac3a4e' if x == 'Louisiana' else '#5288db' if x == 'Texas' else '#a6a6a6' for x in sexo_idade_estado['Estado']]\n",
    "\n",
    "plt.figure(figsize = (5,6))\n",
    "sns.set_style('white') # also 'ticks', 'darkgrid', 'whitegrid', white\n",
    "fig = sns.barplot(data = sexo_idade_estado, x = 'Mediana de idade', y = 'Estado', palette = cores, width = 0.6)\n",
    "\n",
    "# colocar os números no final da barra\n",
    "for i in fig.patches:\n",
    "    fig.annotate(i.get_width(),\n",
    "                  (i.get_width(), i.get_y() + i.get_height() / 2),\n",
    "                  ha = 'left', va = 'center', fontsize = 10,\n",
    "                  color = '#4d4d4d', xytext = (1, 0),\n",
    "                  textcoords = 'offset points')\n",
    "\n",
    "# remover os números do eixo x\n",
    "fig.set_xticklabels('')\n",
    "\n",
    "# remover as bordas do gráfico\n",
    "sns.despine(bottom = True)\n",
    "\n",
    "# adicionar linha vertical em x = 37 (mediana de idade das mulheres)\n",
    "plt.axvline(x=37, linestyle='--', color='blue')"
   ]
  },
  {
   "attachments": {},
   "cell_type": "markdown",
   "metadata": {},
   "source": [
    "filtrando agora os homens"
   ]
  },
  {
   "cell_type": "code",
   "execution_count": 72,
   "metadata": {},
   "outputs": [
    {
     "name": "stderr",
     "output_type": "stream",
     "text": [
      "C:\\Users\\Leticia\\AppData\\Local\\Temp\\ipykernel_8020\\3666205686.py:3: FutureWarning:\n",
      "\n",
      "The default value of numeric_only in DataFrameGroupBy.median is deprecated. In a future version, numeric_only will default to False. Either specify numeric_only or select only columns which should be valid for the function.\n",
      "\n"
     ]
    },
    {
     "data": {
      "text/plain": [
       "<matplotlib.lines.Line2D at 0x2810f334e50>"
      ]
     },
     "execution_count": 72,
     "metadata": {},
     "output_type": "execute_result"
    },
    {
     "data": {
      "image/png": "[encoded data removed]",
      "text/plain": [
       "<Figure size 500x600 with 1 Axes>"
      ]
     },
     "metadata": {},
     "output_type": "display_data"
    }
   ],
   "source": [
    "sexo_idade_estado = pacientes_unicos.merge(df_geocode[['Lab Id', 'Sigla']], how = 'left')\n",
    "\n",
    "sexo_idade_estado = sexo_idade_estado[sexo_idade_estado['Gender'] == 'M'].groupby('Sigla').median()[['Idade']].sort_values('Idade', ascending = False).reset_index()\n",
    "\n",
    "sexo_idade_estado = sexo_idade_estado.merge(zipcodes_states[['Sigla', 'Estado']], how = 'left')\n",
    "\n",
    "sexo_idade_estado = sexo_idade_estado.rename({'Idade':\"Mediana de idade\"}, axis = 1)\n",
    "\n",
    "cores = ['#ac3a4e' if x == 'Louisiana' else '#5288db' if x == 'Texas' else '#a6a6a6' for x in sexo_idade_estado['Estado']]\n",
    "\n",
    "plt.figure(figsize = (5,6))\n",
    "sns.set_style('white') # also 'ticks', 'darkgrid', 'whitegrid', white\n",
    "fig = sns.barplot(data = sexo_idade_estado, x = 'Mediana de idade', y = 'Estado', palette = cores, width = 0.6)\n",
    "\n",
    "# colocar os números no final da barra\n",
    "for i in fig.patches:\n",
    "    fig.annotate(i.get_width(),\n",
    "                  (i.get_width(), i.get_y() + i.get_height() / 2),\n",
    "                  ha = 'left', va = 'center', fontsize = 10,\n",
    "                  color = '#4d4d4d', xytext = (1, 0),\n",
    "                  textcoords = 'offset points')\n",
    "\n",
    "# remover os números do eixo x\n",
    "fig.set_xticklabels('')\n",
    "\n",
    "# remover as bordas do gráfico\n",
    "sns.despine(bottom = True)\n",
    "\n",
    "# adicionar linha vertical em x = 39 (mediana de idade dos homens)\n",
    "plt.axvline(x=39, linestyle='--', color='blue')"
   ]
  },
  {
   "attachments": {},
   "cell_type": "markdown",
   "metadata": {},
   "source": [
    "## distribuição das variáveis dos testes e dos laboratórios"
   ]
  },
  {
   "attachments": {},
   "cell_type": "markdown",
   "metadata": {},
   "source": [
    "### qual é o número de exames por mês do intervalo de dados disponível?"
   ]
  },
  {
   "cell_type": "code",
   "execution_count": 130,
   "metadata": {},
   "outputs": [],
   "source": [
    "exames_mes = transactional_data\n",
    "\n",
    "exames_mes['Date of service'] = pd.to_datetime(exames_mes['Date of service'])\n",
    "\n",
    "exames_mes['mes'] = exames_mes['Date of service'].dt.strftime('%b')\n",
    "# exames_mes['mes_ordem'] = exames_mes['Date of service'].dt.strftime('%m').astype('int')\n",
    "exames_mes['ano'] = exames_mes['Date of service'].dt.strftime('%y')\n",
    "\n",
    "ordem = exames_mes.sort_values('Date of service')[['mes', 'ano']].drop_duplicates()\n",
    "ordem['mes_ano'] = ordem['mes'] + '/' + ordem['ano']\n",
    "\n",
    "ordem = ordem.reset_index().reset_index()\n",
    "ordem = ordem.drop(['index'], axis = 1)\n",
    "ordem = ordem.rename({'level_0':'mes_ordem'}, axis = 1)\n",
    "ordem['mes_ordem'] = ordem['mes_ordem'] + 1\n"
   ]
  },
  {
   "cell_type": "code",
   "execution_count": 133,
   "metadata": {},
   "outputs": [
    {
     "data": {
      "text/html": [
       "<div>\n",
       "<style scoped>\n",
       "    .dataframe tbody tr th:only-of-type {\n",
       "        vertical-align: middle;\n",
       "    }\n",
       "\n",
       "    .dataframe tbody tr th {\n",
       "        vertical-align: top;\n",
       "    }\n",
       "\n",
       "    .dataframe thead th {\n",
       "        text-align: right;\n",
       "    }\n",
       "</style>\n",
       "<table border=\"1\" class=\"dataframe\">\n",
       "  <thead>\n",
       "    <tr style=\"text-align: right;\">\n",
       "      <th></th>\n",
       "      <th>mes_ano</th>\n",
       "      <th>Número de exames</th>\n",
       "      <th>mes_ordem</th>\n",
       "    </tr>\n",
       "  </thead>\n",
       "  <tbody>\n",
       "    <tr>\n",
       "      <th>0</th>\n",
       "      <td>Jan/19</td>\n",
       "      <td>93203</td>\n",
       "      <td>1</td>\n",
       "    </tr>\n",
       "    <tr>\n",
       "      <th>1</th>\n",
       "      <td>Feb/19</td>\n",
       "      <td>84560</td>\n",
       "      <td>2</td>\n",
       "    </tr>\n",
       "    <tr>\n",
       "      <th>2</th>\n",
       "      <td>Mar/19</td>\n",
       "      <td>102251</td>\n",
       "      <td>3</td>\n",
       "    </tr>\n",
       "    <tr>\n",
       "      <th>3</th>\n",
       "      <td>Apr/19</td>\n",
       "      <td>93955</td>\n",
       "      <td>4</td>\n",
       "    </tr>\n",
       "    <tr>\n",
       "      <th>4</th>\n",
       "      <td>May/19</td>\n",
       "      <td>91182</td>\n",
       "      <td>5</td>\n",
       "    </tr>\n",
       "  </tbody>\n",
       "</table>\n",
       "</div>"
      ],
      "text/plain": [
       "  mes_ano  Número de exames  mes_ordem\n",
       "0  Jan/19             93203          1\n",
       "1  Feb/19             84560          2\n",
       "2  Mar/19            102251          3\n",
       "3  Apr/19             93955          4\n",
       "4  May/19             91182          5"
      ]
     },
     "execution_count": 133,
     "metadata": {},
     "output_type": "execute_result"
    }
   ],
   "source": [
    "exames_mes2 = exames_mes\n",
    "\n",
    "exames_mes2['mes_ano'] = exames_mes2['mes'] + '/' + exames_mes2['ano']\n",
    "\n",
    "exames_mes2 = exames_mes2.groupby('mes_ano').count()['CodItem'].reset_index().merge(ordem[['mes_ano', 'mes_ordem']], how = 'left').sort_values('mes_ordem').reset_index()\n",
    "\n",
    "exames_mes2 = exames_mes2.drop('index', axis = 1)\n",
    "\n",
    "exames_mes2 = exames_mes2.rename({'CodItem':'Número de exames'}, axis = 1)\n",
    "\n",
    "exames_mes2.head()"
   ]
  },
  {
   "cell_type": "code",
   "execution_count": 134,
   "metadata": {},
   "outputs": [
    {
     "data": {
      "image/png": "[encoded data removed]",
      "text/plain": [
       "<Figure size 1800x700 with 1 Axes>"
      ]
     },
     "metadata": {},
     "output_type": "display_data"
    }
   ],
   "source": [
    "# gráfico\n",
    "\n",
    "plt.figure(figsize = (18, 7))\n",
    "sns.set_style('white')\n",
    "fig = sns.barplot(data = exames_mes2, x = 'mes_ano', y = 'Número de exames', color = '#a6a6a6', width = 0.6)\n",
    "\n",
    "# remover o título do eixo x\n",
    "fig.set_xlabel('')\n",
    "\n",
    "# remover as bordas do gráfico\n",
    "sns.despine(left = True)"
   ]
  },
  {
   "attachments": {},
   "cell_type": "markdown",
   "metadata": {},
   "source": [
    "### qual a distribuição dos testes de covid ao longo dos meses?"
   ]
  },
  {
   "cell_type": "code",
   "execution_count": 143,
   "metadata": {},
   "outputs": [
    {
     "data": {
      "text/html": [
       "<div>\n",
       "<style scoped>\n",
       "    .dataframe tbody tr th:only-of-type {\n",
       "        vertical-align: middle;\n",
       "    }\n",
       "\n",
       "    .dataframe tbody tr th {\n",
       "        vertical-align: top;\n",
       "    }\n",
       "\n",
       "    .dataframe thead th {\n",
       "        text-align: right;\n",
       "    }\n",
       "</style>\n",
       "<table border=\"1\" class=\"dataframe\">\n",
       "  <thead>\n",
       "    <tr style=\"text-align: right;\">\n",
       "      <th></th>\n",
       "      <th>CodItem</th>\n",
       "      <th>Desc Item</th>\n",
       "      <th>Category</th>\n",
       "      <th>Family</th>\n",
       "      <th>Speciality</th>\n",
       "      <th>Testing Cost</th>\n",
       "    </tr>\n",
       "  </thead>\n",
       "  <tbody>\n",
       "  </tbody>\n",
       "</table>\n",
       "</div>"
      ],
      "text/plain": [
       "Empty DataFrame\n",
       "Columns: [CodItem, Desc Item, Category, Family, Speciality, Testing Cost]\n",
       "Index: []"
      ]
     },
     "execution_count": 143,
     "metadata": {},
     "output_type": "execute_result"
    }
   ],
   "source": [
    "test_data[test_data['Desc Item'].str.contains('COVID')]"
   ]
  },
  {
   "attachments": {},
   "cell_type": "markdown",
   "metadata": {},
   "source": [
    "não foram encontrados exames de COVID-19, permitindo a conclusão de que a análise não será enviesada pela pandemia."
   ]
  },
  {
   "attachments": {},
   "cell_type": "markdown",
   "metadata": {},
   "source": [
    "### quais são as categorias das outras variáveis dos exames?"
   ]
  },
  {
   "cell_type": "code",
   "execution_count": 149,
   "metadata": {},
   "outputs": [
    {
     "data": {
      "text/html": [
       "<div>\n",
       "<style scoped>\n",
       "    .dataframe tbody tr th:only-of-type {\n",
       "        vertical-align: middle;\n",
       "    }\n",
       "\n",
       "    .dataframe tbody tr th {\n",
       "        vertical-align: top;\n",
       "    }\n",
       "\n",
       "    .dataframe thead th {\n",
       "        text-align: right;\n",
       "    }\n",
       "</style>\n",
       "<table border=\"1\" class=\"dataframe\">\n",
       "  <thead>\n",
       "    <tr style=\"text-align: right;\">\n",
       "      <th></th>\n",
       "      <th>CodItem</th>\n",
       "      <th>Desc Item</th>\n",
       "      <th>Category</th>\n",
       "      <th>Family</th>\n",
       "      <th>Speciality</th>\n",
       "      <th>Testing Cost</th>\n",
       "    </tr>\n",
       "  </thead>\n",
       "  <tbody>\n",
       "    <tr>\n",
       "      <th>0</th>\n",
       "      <td>70003237</td>\n",
       "      <td>MAGNESIO, SORO (EXEMPLO DE EXPRESSAO DE RESULT...</td>\n",
       "      <td>CA</td>\n",
       "      <td>CORELAB</td>\n",
       "      <td>BIOCHEMISTRY</td>\n",
       "      <td>1.78</td>\n",
       "    </tr>\n",
       "    <tr>\n",
       "      <th>1</th>\n",
       "      <td>70000638</td>\n",
       "      <td>HEMOGRAMA, AUTOMATIZADO, SANGUE</td>\n",
       "      <td>CA</td>\n",
       "      <td>HEMATO</td>\n",
       "      <td>BLOOD COUNT</td>\n",
       "      <td>2.46</td>\n",
       "    </tr>\n",
       "    <tr>\n",
       "      <th>2</th>\n",
       "      <td>70001597</td>\n",
       "      <td>FERRITINA, SORO</td>\n",
       "      <td>CA</td>\n",
       "      <td>CORELAB</td>\n",
       "      <td>IMMUNOHORMONE</td>\n",
       "      <td>2.11</td>\n",
       "    </tr>\n",
       "    <tr>\n",
       "      <th>3</th>\n",
       "      <td>70000103</td>\n",
       "      <td>FERRO, DOSAGEM, SORO (EXEMPLO DE EXPRESSAO DE ...</td>\n",
       "      <td>CA</td>\n",
       "      <td>CORELAB</td>\n",
       "      <td>BIOCHEMISTRY</td>\n",
       "      <td>0.80</td>\n",
       "    </tr>\n",
       "    <tr>\n",
       "      <th>4</th>\n",
       "      <td>70000224</td>\n",
       "      <td>CALCIO, DOSAGEM, SORO (EXEMPLO DE EXPRESSAO DE...</td>\n",
       "      <td>CA</td>\n",
       "      <td>CORELAB</td>\n",
       "      <td>BIOCHEMISTRY</td>\n",
       "      <td>1.02</td>\n",
       "    </tr>\n",
       "  </tbody>\n",
       "</table>\n",
       "</div>"
      ],
      "text/plain": [
       "    CodItem                                          Desc Item Category  \\\n",
       "0  70003237  MAGNESIO, SORO (EXEMPLO DE EXPRESSAO DE RESULT...       CA   \n",
       "1  70000638                    HEMOGRAMA, AUTOMATIZADO, SANGUE       CA   \n",
       "2  70001597                                    FERRITINA, SORO       CA   \n",
       "3  70000103  FERRO, DOSAGEM, SORO (EXEMPLO DE EXPRESSAO DE ...       CA   \n",
       "4  70000224  CALCIO, DOSAGEM, SORO (EXEMPLO DE EXPRESSAO DE...       CA   \n",
       "\n",
       "    Family     Speciality  Testing Cost  \n",
       "0  CORELAB   BIOCHEMISTRY          1.78  \n",
       "1   HEMATO    BLOOD COUNT          2.46  \n",
       "2  CORELAB  IMMUNOHORMONE          2.11  \n",
       "3  CORELAB   BIOCHEMISTRY          0.80  \n",
       "4  CORELAB   BIOCHEMISTRY          1.02  "
      ]
     },
     "execution_count": 149,
     "metadata": {},
     "output_type": "execute_result"
    }
   ],
   "source": [
    "test_data.head()"
   ]
  },
  {
   "cell_type": "code",
   "execution_count": 156,
   "metadata": {},
   "outputs": [
    {
     "name": "stdout",
     "output_type": "stream",
     "text": [
      "n categorias Category = 6\n",
      "n categorias Family = 23\n",
      "n categorias Speciality = 77\n"
     ]
    }
   ],
   "source": [
    "## quantas categorias há em cada variável?\n",
    "\n",
    "print('n categorias Category =', test_data['Category'].nunique())\n",
    "print('n categorias Family =', test_data['Family'].nunique())\n",
    "print('n categorias Speciality =', test_data['Speciality'].nunique())"
   ]
  },
  {
   "attachments": {},
   "cell_type": "markdown",
   "metadata": {},
   "source": [
    "há testes que são de graça?"
   ]
  },
  {
   "cell_type": "code",
   "execution_count": 196,
   "metadata": {},
   "outputs": [
    {
     "data": {
      "text/plain": [
       "CodItem \n",
       "70005139    39134\n",
       "70006809      267\n",
       "70006810      232\n",
       "70006532      217\n",
       "70002489      205\n",
       "            ...  \n",
       "70006933        1\n",
       "70006936        1\n",
       "70001660        1\n",
       "70006937        1\n",
       "70006932        1\n",
       "Length: 71, dtype: int64"
      ]
     },
     "execution_count": 196,
     "metadata": {},
     "output_type": "execute_result"
    }
   ],
   "source": [
    "testes_grat = transactional_data[transactional_data['Valor Pago'] == 0]\n",
    "\n",
    "testes_grat_list = testes_grat[['CodItem']].value_counts()\n",
    "\n",
    "testes_grat_list\n"
   ]
  },
  {
   "attachments": {},
   "cell_type": "markdown",
   "metadata": {},
   "source": [
    "há 71 tipos de teste que foram de graça. o custo deles também é nulo?"
   ]
  },
  {
   "cell_type": "code",
   "execution_count": 198,
   "metadata": {},
   "outputs": [
    {
     "data": {
      "text/html": [
       "<div>\n",
       "<style scoped>\n",
       "    .dataframe tbody tr th:only-of-type {\n",
       "        vertical-align: middle;\n",
       "    }\n",
       "\n",
       "    .dataframe tbody tr th {\n",
       "        vertical-align: top;\n",
       "    }\n",
       "\n",
       "    .dataframe thead th {\n",
       "        text-align: right;\n",
       "    }\n",
       "</style>\n",
       "<table border=\"1\" class=\"dataframe\">\n",
       "  <thead>\n",
       "    <tr style=\"text-align: right;\">\n",
       "      <th></th>\n",
       "      <th>CodItem</th>\n",
       "      <th>Desc Item</th>\n",
       "      <th>Category</th>\n",
       "      <th>Family</th>\n",
       "      <th>Speciality</th>\n",
       "      <th>Testing Cost</th>\n",
       "    </tr>\n",
       "  </thead>\n",
       "  <tbody>\n",
       "    <tr>\n",
       "      <th>1678</th>\n",
       "      <td>70007751</td>\n",
       "      <td>GENE COL2A1, HIPOCONDROGENESE, SEQUENCIAMENTO ...</td>\n",
       "      <td>CA</td>\n",
       "      <td>GENETICS</td>\n",
       "      <td>SPECIAL GENETICS</td>\n",
       "      <td>585.29</td>\n",
       "    </tr>\n",
       "    <tr>\n",
       "      <th>1648</th>\n",
       "      <td>70003536</td>\n",
       "      <td>ESCLEROSE TUBEROSA (TSC1, TSC2), SEQUENCIAMENT...</td>\n",
       "      <td>CA</td>\n",
       "      <td>GENETICS</td>\n",
       "      <td>SPECIAL GENETICS</td>\n",
       "      <td>558.83</td>\n",
       "    </tr>\n",
       "    <tr>\n",
       "      <th>1656</th>\n",
       "      <td>70007607</td>\n",
       "      <td>GENE IDUA, MUCOPOLISSACARIDOSE TIPO 1 - DOENA...</td>\n",
       "      <td>CA</td>\n",
       "      <td>GENETICS</td>\n",
       "      <td>SPECIAL GENETICS</td>\n",
       "      <td>495.87</td>\n",
       "    </tr>\n",
       "    <tr>\n",
       "      <th>1640</th>\n",
       "      <td>70005483</td>\n",
       "      <td>GENE COL1A1, SEQUENCIAMENTO, SANGUE</td>\n",
       "      <td>CA</td>\n",
       "      <td>GENETICS</td>\n",
       "      <td>SPECIAL GENETICS</td>\n",
       "      <td>481.29</td>\n",
       "    </tr>\n",
       "    <tr>\n",
       "      <th>1672</th>\n",
       "      <td>70005299</td>\n",
       "      <td>DISTROFIA MIOTONICA DE STEINERT, SANGUE, ANALI...</td>\n",
       "      <td>CA</td>\n",
       "      <td>GENETICS</td>\n",
       "      <td>SPECIAL GENETICS</td>\n",
       "      <td>479.71</td>\n",
       "    </tr>\n",
       "    <tr>\n",
       "      <th>1675</th>\n",
       "      <td>70007550</td>\n",
       "      <td>GENE (COL3AI), SINDROME EHLERS-DANLOS, TIPO 4,...</td>\n",
       "      <td>CA</td>\n",
       "      <td>GENETICS</td>\n",
       "      <td>SPECIAL GENETICS</td>\n",
       "      <td>424.58</td>\n",
       "    </tr>\n",
       "    <tr>\n",
       "      <th>1661</th>\n",
       "      <td>70007750</td>\n",
       "      <td>OSTEOGENESE IMPERFEITA, PAINEL, SEQUENCIAMENTO...</td>\n",
       "      <td>CA</td>\n",
       "      <td>GENETICS</td>\n",
       "      <td>SPECIAL GENETICS</td>\n",
       "      <td>404.34</td>\n",
       "    </tr>\n",
       "    <tr>\n",
       "      <th>1671</th>\n",
       "      <td>70007763</td>\n",
       "      <td>GENE RET, NEOPLASIA ENDOCRINA MULTIPLA TIPO 2A...</td>\n",
       "      <td>CA</td>\n",
       "      <td>GENETICS</td>\n",
       "      <td>SPECIAL GENETICS</td>\n",
       "      <td>390.98</td>\n",
       "    </tr>\n",
       "    <tr>\n",
       "      <th>1653</th>\n",
       "      <td>70007610</td>\n",
       "      <td>GENE FGFR3, ACONDROPL SICO, SEQUENCIAMENTO (NG...</td>\n",
       "      <td>CA</td>\n",
       "      <td>GENETICS</td>\n",
       "      <td>SPECIAL GENETICS</td>\n",
       "      <td>379.89</td>\n",
       "    </tr>\n",
       "    <tr>\n",
       "      <th>1643</th>\n",
       "      <td>70007621</td>\n",
       "      <td>GENE PTPN11, ESTUDO MOLECULAR SINDROME NOONAN,...</td>\n",
       "      <td>CA</td>\n",
       "      <td>GENETICS</td>\n",
       "      <td>SPECIAL GENETICS</td>\n",
       "      <td>376.81</td>\n",
       "    </tr>\n",
       "  </tbody>\n",
       "</table>\n",
       "</div>"
      ],
      "text/plain": [
       "       CodItem                                          Desc Item  \\\n",
       "1678  70007751  GENE COL2A1, HIPOCONDROGENESE, SEQUENCIAMENTO ...   \n",
       "1648  70003536  ESCLEROSE TUBEROSA (TSC1, TSC2), SEQUENCIAMENT...   \n",
       "1656  70007607  GENE IDUA, MUCOPOLISSACARIDOSE TIPO 1 - DOENA...   \n",
       "1640  70005483                GENE COL1A1, SEQUENCIAMENTO, SANGUE   \n",
       "1672  70005299  DISTROFIA MIOTONICA DE STEINERT, SANGUE, ANALI...   \n",
       "1675  70007550  GENE (COL3AI), SINDROME EHLERS-DANLOS, TIPO 4,...   \n",
       "1661  70007750  OSTEOGENESE IMPERFEITA, PAINEL, SEQUENCIAMENTO...   \n",
       "1671  70007763  GENE RET, NEOPLASIA ENDOCRINA MULTIPLA TIPO 2A...   \n",
       "1653  70007610  GENE FGFR3, ACONDROPL SICO, SEQUENCIAMENTO (NG...   \n",
       "1643  70007621  GENE PTPN11, ESTUDO MOLECULAR SINDROME NOONAN,...   \n",
       "\n",
       "                                      Category    Family        Speciality  \\\n",
       "1678                                        CA  GENETICS  SPECIAL GENETICS   \n",
       "1648  CA                                        GENETICS  SPECIAL GENETICS   \n",
       "1656                                        CA  GENETICS  SPECIAL GENETICS   \n",
       "1640                                        CA  GENETICS  SPECIAL GENETICS   \n",
       "1672                                        CA  GENETICS  SPECIAL GENETICS   \n",
       "1675                                        CA  GENETICS  SPECIAL GENETICS   \n",
       "1661                                        CA  GENETICS  SPECIAL GENETICS   \n",
       "1671                                        CA  GENETICS  SPECIAL GENETICS   \n",
       "1653                                        CA  GENETICS  SPECIAL GENETICS   \n",
       "1643                                        CA  GENETICS  SPECIAL GENETICS   \n",
       "\n",
       "      Testing Cost  \n",
       "1678        585.29  \n",
       "1648        558.83  \n",
       "1656        495.87  \n",
       "1640        481.29  \n",
       "1672        479.71  \n",
       "1675        424.58  \n",
       "1661        404.34  \n",
       "1671        390.98  \n",
       "1653        379.89  \n",
       "1643        376.81  "
      ]
     },
     "execution_count": 198,
     "metadata": {},
     "output_type": "execute_result"
    }
   ],
   "source": [
    "test_data[test_data['CodItem'].isin(testes_grat[['CodItem']].drop_duplicates().reset_index(drop = True)['CodItem'])].sort_values('Testing Cost', ascending = False).head(10)"
   ]
  },
  {
   "attachments": {},
   "cell_type": "markdown",
   "metadata": {},
   "source": [
    "muitas pessoas fizeram testes de forma gratuita sendo que o custo do teste não é nulo.\n",
    "\n",
    "esse teste que muita gente fez de graça custa quanto?"
   ]
  },
  {
   "cell_type": "code",
   "execution_count": 189,
   "metadata": {},
   "outputs": [
    {
     "data": {
      "text/html": [
       "<div>\n",
       "<style scoped>\n",
       "    .dataframe tbody tr th:only-of-type {\n",
       "        vertical-align: middle;\n",
       "    }\n",
       "\n",
       "    .dataframe tbody tr th {\n",
       "        vertical-align: top;\n",
       "    }\n",
       "\n",
       "    .dataframe thead th {\n",
       "        text-align: right;\n",
       "    }\n",
       "</style>\n",
       "<table border=\"1\" class=\"dataframe\">\n",
       "  <thead>\n",
       "    <tr style=\"text-align: right;\">\n",
       "      <th></th>\n",
       "      <th>CodItem</th>\n",
       "      <th>Desc Item</th>\n",
       "      <th>Category</th>\n",
       "      <th>Family</th>\n",
       "      <th>Speciality</th>\n",
       "      <th>Testing Cost</th>\n",
       "    </tr>\n",
       "  </thead>\n",
       "  <tbody>\n",
       "    <tr>\n",
       "      <th>40</th>\n",
       "      <td>70005139</td>\n",
       "      <td>BACTERIAS, ANTIBIOGRAMA AUTOMATIZADO</td>\n",
       "      <td>CA</td>\n",
       "      <td>MICROBIO</td>\n",
       "      <td>CULTURE</td>\n",
       "      <td>7.87</td>\n",
       "    </tr>\n",
       "  </tbody>\n",
       "</table>\n",
       "</div>"
      ],
      "text/plain": [
       "     CodItem                             Desc Item Category    Family  \\\n",
       "40  70005139  BACTERIAS, ANTIBIOGRAMA AUTOMATIZADO       CA  MICROBIO   \n",
       "\n",
       "   Speciality  Testing Cost  \n",
       "40    CULTURE          7.87  "
      ]
     },
     "execution_count": 189,
     "metadata": {},
     "output_type": "execute_result"
    }
   ],
   "source": [
    "test_data[test_data['CodItem'] == 70005139]"
   ]
  },
  {
   "attachments": {},
   "cell_type": "markdown",
   "metadata": {},
   "source": [
    "quantos testes são de fato gratuitos?"
   ]
  },
  {
   "cell_type": "code",
   "execution_count": 193,
   "metadata": {},
   "outputs": [
    {
     "name": "stdout",
     "output_type": "stream",
     "text": [
      "número de testes que já foram feitos de graça = 64\n",
      "número de testes que são de fato de graça = 7\n"
     ]
    }
   ],
   "source": [
    "testes_gratuitos = test_data[test_data['CodItem'].isin(testes_grat.drop_duplicates().reset_index(drop = True)['CodItem'])]\n",
    "\n",
    "print('número de testes que já foram feitos de graça =', len(testes_gratuitos))\n",
    "print('número de testes que são de fato de graça =', len(testes_gratuitos[testes_gratuitos['Testing Cost'] == 0]))"
   ]
  },
  {
   "attachments": {},
   "cell_type": "markdown",
   "metadata": {},
   "source": [
    "esses testes gratuitos são realizados em algum laboratório em específico?"
   ]
  },
  {
   "cell_type": "code",
   "execution_count": 200,
   "metadata": {},
   "outputs": [
    {
     "data": {
      "text/plain": [
       "L133    2038\n",
       "L166    1600\n",
       "L121    1317\n",
       "L152    1298\n",
       "L156    1280\n",
       "        ... \n",
       "L660       4\n",
       "L127       2\n",
       "L149       1\n",
       "L665       1\n",
       "L967       1\n",
       "Name: Lab Id, Length: 118, dtype: int64"
      ]
     },
     "execution_count": 200,
     "metadata": {},
     "output_type": "execute_result"
    }
   ],
   "source": [
    "testes_grat['Lab Id'].value_counts()"
   ]
  },
  {
   "attachments": {},
   "cell_type": "markdown",
   "metadata": {},
   "source": [
    "não é em algum específico, todos os laboratórios já realizaram testes gratuitos\n",
    "\n",
    "qual a distribuição dos valores pagos nos exames?"
   ]
  },
  {
   "cell_type": "code",
   "execution_count": 202,
   "metadata": {},
   "outputs": [
    {
     "data": {
      "text/plain": [
       "<Axes: xlabel='Valor Pago', ylabel='Count'>"
      ]
     },
     "execution_count": 202,
     "metadata": {},
     "output_type": "execute_result"
    },
    {
     "data": {
      "image/png": "[encoded data removed]",
      "text/plain": [
       "<Figure size 640x480 with 1 Axes>"
      ]
     },
     "metadata": {},
     "output_type": "display_data"
    }
   ],
   "source": [
    "sns.histplot(data = transactional_data[transactional_data['Valor Pago'] < 500], x = 'Valor Pago')"
   ]
  },
  {
   "attachments": {},
   "cell_type": "markdown",
   "metadata": {},
   "source": [
    "qual a média e a mediana do valor pago nos testes?"
   ]
  },
  {
   "cell_type": "code",
   "execution_count": 204,
   "metadata": {},
   "outputs": [
    {
     "name": "stdout",
     "output_type": "stream",
     "text": [
      "média do valor pago = 51.1\n",
      "mediana do valor pago = 24.0\n"
     ]
    }
   ],
   "source": [
    "print('média do valor pago =', round(transactional_data['Valor Pago'].mean(), 2))\n",
    "print('mediana do valor pago =', round(transactional_data['Valor Pago'].median(), 2))"
   ]
  },
  {
   "attachments": {},
   "cell_type": "markdown",
   "metadata": {},
   "source": [
    "qual o maior valor já pago em um teste?"
   ]
  },
  {
   "cell_type": "code",
   "execution_count": 206,
   "metadata": {},
   "outputs": [
    {
     "data": {
      "text/plain": [
       "9500.0"
      ]
     },
     "execution_count": 206,
     "metadata": {},
     "output_type": "execute_result"
    }
   ],
   "source": [
    "transactional_data.sort_values('Valor Pago', ascending = False)['Valor Pago'].reset_index(drop = True).iloc[0]"
   ]
  },
  {
   "attachments": {},
   "cell_type": "markdown",
   "metadata": {},
   "source": [
    "qual o teste mais caro para a empresa?"
   ]
  },
  {
   "attachments": {},
   "cell_type": "markdown",
   "metadata": {},
   "source": [
    "## distribuição das variáveis dos laboratórios"
   ]
  },
  {
   "cell_type": "code",
   "execution_count": 236,
   "metadata": {},
   "outputs": [
    {
     "data": {
      "text/html": [
       "<div>\n",
       "<style scoped>\n",
       "    .dataframe tbody tr th:only-of-type {\n",
       "        vertical-align: middle;\n",
       "    }\n",
       "\n",
       "    .dataframe tbody tr th {\n",
       "        vertical-align: top;\n",
       "    }\n",
       "\n",
       "    .dataframe thead th {\n",
       "        text-align: right;\n",
       "    }\n",
       "</style>\n",
       "<table border=\"1\" class=\"dataframe\">\n",
       "  <thead>\n",
       "    <tr style=\"text-align: right;\">\n",
       "      <th></th>\n",
       "      <th>Patient Id</th>\n",
       "      <th>Gender</th>\n",
       "    </tr>\n",
       "  </thead>\n",
       "  <tbody>\n",
       "    <tr>\n",
       "      <th>501445</th>\n",
       "      <td>9999999-1</td>\n",
       "      <td>1409</td>\n",
       "    </tr>\n",
       "    <tr>\n",
       "      <th>178086</th>\n",
       "      <td>381241267-BIO002</td>\n",
       "      <td>415</td>\n",
       "    </tr>\n",
       "    <tr>\n",
       "      <th>248946</th>\n",
       "      <td>7600923838-1</td>\n",
       "      <td>397</td>\n",
       "    </tr>\n",
       "    <tr>\n",
       "      <th>250334</th>\n",
       "      <td>7656548765-1</td>\n",
       "      <td>363</td>\n",
       "    </tr>\n",
       "    <tr>\n",
       "      <th>300355</th>\n",
       "      <td>7659099707-1</td>\n",
       "      <td>269</td>\n",
       "    </tr>\n",
       "    <tr>\n",
       "      <th>...</th>\n",
       "      <td>...</td>\n",
       "      <td>...</td>\n",
       "    </tr>\n",
       "    <tr>\n",
       "      <th>337553</th>\n",
       "      <td>7659654240-1</td>\n",
       "      <td>1</td>\n",
       "    </tr>\n",
       "    <tr>\n",
       "      <th>75116</th>\n",
       "      <td>10225206037-BIO002</td>\n",
       "      <td>1</td>\n",
       "    </tr>\n",
       "    <tr>\n",
       "      <th>337556</th>\n",
       "      <td>7659654249-1</td>\n",
       "      <td>1</td>\n",
       "    </tr>\n",
       "    <tr>\n",
       "      <th>337557</th>\n",
       "      <td>7659654274-1</td>\n",
       "      <td>1</td>\n",
       "    </tr>\n",
       "    <tr>\n",
       "      <th>250723</th>\n",
       "      <td>7656986549-1</td>\n",
       "      <td>1</td>\n",
       "    </tr>\n",
       "  </tbody>\n",
       "</table>\n",
       "<p>501446 rows × 2 columns</p>\n",
       "</div>"
      ],
      "text/plain": [
       "                Patient Id  Gender\n",
       "501445           9999999-1    1409\n",
       "178086    381241267-BIO002     415\n",
       "248946        7600923838-1     397\n",
       "250334        7656548765-1     363\n",
       "300355        7659099707-1     269\n",
       "...                    ...     ...\n",
       "337553        7659654240-1       1\n",
       "75116   10225206037-BIO002       1\n",
       "337556        7659654249-1       1\n",
       "337557        7659654274-1       1\n",
       "250723        7656986549-1       1\n",
       "\n",
       "[501446 rows x 2 columns]"
      ]
     },
     "execution_count": 236,
     "metadata": {},
     "output_type": "execute_result"
    }
   ],
   "source": [
    "# em qual laboratório os clientes são mais fidelizados?\n",
    "transactional_data.groupby(['Patient Id']).count()['Gender'].reset_index().sort_values('Gender', ascending = False)"
   ]
  },
  {
   "attachments": {},
   "cell_type": "markdown",
   "metadata": {},
   "source": [
    "## aprofundamentos"
   ]
  },
  {
   "cell_type": "code",
   "execution_count": null,
   "metadata": {},
   "outputs": [],
   "source": []
  },
  {
   "attachments": {},
   "cell_type": "markdown",
   "metadata": {},
   "source": [
    "### dataframe com a população e o intervalo de zipcodes de cada estado dos EUA"
   ]
  },
  {
   "cell_type": "code",
   "execution_count": 108,
   "metadata": {},
   "outputs": [
    {
     "data": {
      "text/html": [
       "<div>\n",
       "<style scoped>\n",
       "    .dataframe tbody tr th:only-of-type {\n",
       "        vertical-align: middle;\n",
       "    }\n",
       "\n",
       "    .dataframe tbody tr th {\n",
       "        vertical-align: top;\n",
       "    }\n",
       "\n",
       "    .dataframe thead th {\n",
       "        text-align: right;\n",
       "    }\n",
       "</style>\n",
       "<table border=\"1\" class=\"dataframe\">\n",
       "  <thead>\n",
       "    <tr style=\"text-align: right;\">\n",
       "      <th></th>\n",
       "      <th>Sigla</th>\n",
       "      <th>Estado</th>\n",
       "      <th>Estado.1</th>\n",
       "      <th>Intervalo de CEPs</th>\n",
       "      <th>Qtd de CEPs</th>\n",
       "      <th>Data de Fundação</th>\n",
       "      <th>População 2020</th>\n",
       "      <th>primeiro_zipcode</th>\n",
       "      <th>ultimo_zipcode</th>\n",
       "    </tr>\n",
       "  </thead>\n",
       "  <tbody>\n",
       "    <tr>\n",
       "      <th>21</th>\n",
       "      <td>MA</td>\n",
       "      <td>Massachusetts</td>\n",
       "      <td>Boston</td>\n",
       "      <td>01001 to 02544</td>\n",
       "      <td>703</td>\n",
       "      <td>February 6, 1788</td>\n",
       "      <td>7029917</td>\n",
       "      <td>1001.0</td>\n",
       "      <td>2544.0</td>\n",
       "    </tr>\n",
       "    <tr>\n",
       "      <th>39</th>\n",
       "      <td>RI</td>\n",
       "      <td>Rhode Island</td>\n",
       "      <td>Providence</td>\n",
       "      <td>02801 to 02940</td>\n",
       "      <td>91</td>\n",
       "      <td>May 19, 1790</td>\n",
       "      <td>1097379</td>\n",
       "      <td>2801.0</td>\n",
       "      <td>2940.0</td>\n",
       "    </tr>\n",
       "    <tr>\n",
       "      <th>29</th>\n",
       "      <td>NH</td>\n",
       "      <td>New Hampshire</td>\n",
       "      <td>Concord</td>\n",
       "      <td>03031 to 03897</td>\n",
       "      <td>284</td>\n",
       "      <td>June 21, 1788</td>\n",
       "      <td>1377529</td>\n",
       "      <td>3031.0</td>\n",
       "      <td>3897.0</td>\n",
       "    </tr>\n",
       "    <tr>\n",
       "      <th>19</th>\n",
       "      <td>ME</td>\n",
       "      <td>Maine</td>\n",
       "      <td>Augusta</td>\n",
       "      <td>03901 to 04992</td>\n",
       "      <td>488</td>\n",
       "      <td>March 15, 1820</td>\n",
       "      <td>1362359</td>\n",
       "      <td>3901.0</td>\n",
       "      <td>4992.0</td>\n",
       "    </tr>\n",
       "    <tr>\n",
       "      <th>45</th>\n",
       "      <td>VT</td>\n",
       "      <td>Vermont</td>\n",
       "      <td>Montpelier</td>\n",
       "      <td>05001 to 05907</td>\n",
       "      <td>309</td>\n",
       "      <td>March 4, 1791</td>\n",
       "      <td>643077</td>\n",
       "      <td>5001.0</td>\n",
       "      <td>5907.0</td>\n",
       "    </tr>\n",
       "  </tbody>\n",
       "</table>\n",
       "</div>"
      ],
      "text/plain": [
       "   Sigla         Estado    Estado.1 Intervalo de CEPs  Qtd de CEPs  \\\n",
       "21    MA  Massachusetts      Boston    01001 to 02544          703   \n",
       "39    RI   Rhode Island  Providence    02801 to 02940           91   \n",
       "29    NH  New Hampshire     Concord    03031 to 03897          284   \n",
       "19    ME          Maine     Augusta    03901 to 04992          488   \n",
       "45    VT        Vermont  Montpelier    05001 to 05907          309   \n",
       "\n",
       "    Data de Fundação  População 2020  primeiro_zipcode  ultimo_zipcode  \n",
       "21  February 6, 1788         7029917            1001.0          2544.0  \n",
       "39      May 19, 1790         1097379            2801.0          2940.0  \n",
       "29     June 21, 1788         1377529            3031.0          3897.0  \n",
       "19    March 15, 1820         1362359            3901.0          4992.0  \n",
       "45     March 4, 1791          643077            5001.0          5907.0  "
      ]
     },
     "execution_count": 108,
     "metadata": {},
     "output_type": "execute_result"
    }
   ],
   "source": [
    "zipcodes_states['População 2020'] = zipcodes_states['População 2020'].apply(lambda x: \"\".join(x.split())).astype('int')\n",
    "zipcodes_states['primeiro_zipcode'] = zipcodes_states['Intervalo de CEPs'].apply(lambda x: \"\".join(x.split())).str.split('to').str[0].astype('float')\n",
    "zipcodes_states['ultimo_zipcode'] = zipcodes_states['Intervalo de CEPs'].apply(lambda x: \"\".join(x.split())).str.split('to').str[1].astype('float')\n",
    "\n",
    "zipcodes_states.sort_values('primeiro_zipcode').head()"
   ]
  },
  {
   "cell_type": "code",
   "execution_count": 106,
   "metadata": {},
   "outputs": [
    {
     "ename": "KeyError",
     "evalue": "<function <lambda> at 0x00000289324371C0>",
     "output_type": "error",
     "traceback": [
      "\u001b[1;31m---------------------------------------------------------------------------\u001b[0m",
      "\u001b[1;31mKeyError\u001b[0m                                  Traceback (most recent call last)",
      "Cell \u001b[1;32mIn[106], line 1\u001b[0m\n\u001b[1;32m----> 1\u001b[0m merged_df \u001b[39m=\u001b[39m df_geocode\u001b[39m.\u001b[39;49mmerge(zipcodes_states[[\u001b[39m'\u001b[39;49m\u001b[39mEstado\u001b[39;49m\u001b[39m'\u001b[39;49m, \u001b[39m'\u001b[39;49m\u001b[39mprimeiro_zipcode\u001b[39;49m\u001b[39m'\u001b[39;49m, \u001b[39m'\u001b[39;49m\u001b[39multimo_zipcode\u001b[39;49m\u001b[39m'\u001b[39;49m]], left_on\u001b[39m=\u001b[39;49m\u001b[39m'\u001b[39;49m\u001b[39mZipcode\u001b[39;49m\u001b[39m'\u001b[39;49m, right_on\u001b[39m=\u001b[39;49m\u001b[39mlambda\u001b[39;49;00m x: (zipcodes_states[\u001b[39m'\u001b[39;49m\u001b[39mprimeiro_zipcode\u001b[39;49m\u001b[39m'\u001b[39;49m] \u001b[39m<\u001b[39;49m\u001b[39m=\u001b[39;49m x) \u001b[39m&\u001b[39;49m (x \u001b[39m<\u001b[39;49m\u001b[39m=\u001b[39;49m zipcodes_states[\u001b[39m'\u001b[39;49m\u001b[39multimo_zipcode\u001b[39;49m\u001b[39m'\u001b[39;49m]))\n\u001b[0;32m      3\u001b[0m merged_df\n",
      "File \u001b[1;32mc:\\Users\\Leticia\\AppData\\Local\\Programs\\Python\\Python310\\lib\\site-packages\\pandas\\core\\frame.py:10093\u001b[0m, in \u001b[0;36mDataFrame.merge\u001b[1;34m(self, right, how, on, left_on, right_on, left_index, right_index, sort, suffixes, copy, indicator, validate)\u001b[0m\n\u001b[0;32m  10074\u001b[0m \u001b[39m@Substitution\u001b[39m(\u001b[39m\"\u001b[39m\u001b[39m\"\u001b[39m)\n\u001b[0;32m  10075\u001b[0m \u001b[39m@Appender\u001b[39m(_merge_doc, indents\u001b[39m=\u001b[39m\u001b[39m2\u001b[39m)\n\u001b[0;32m  10076\u001b[0m \u001b[39mdef\u001b[39;00m \u001b[39mmerge\u001b[39m(\n\u001b[1;32m   (...)\u001b[0m\n\u001b[0;32m  10089\u001b[0m     validate: \u001b[39mstr\u001b[39m \u001b[39m|\u001b[39m \u001b[39mNone\u001b[39;00m \u001b[39m=\u001b[39m \u001b[39mNone\u001b[39;00m,\n\u001b[0;32m  10090\u001b[0m ) \u001b[39m-\u001b[39m\u001b[39m>\u001b[39m DataFrame:\n\u001b[0;32m  10091\u001b[0m     \u001b[39mfrom\u001b[39;00m \u001b[39mpandas\u001b[39;00m\u001b[39m.\u001b[39;00m\u001b[39mcore\u001b[39;00m\u001b[39m.\u001b[39;00m\u001b[39mreshape\u001b[39;00m\u001b[39m.\u001b[39;00m\u001b[39mmerge\u001b[39;00m \u001b[39mimport\u001b[39;00m merge\n\u001b[1;32m> 10093\u001b[0m     \u001b[39mreturn\u001b[39;00m merge(\n\u001b[0;32m  10094\u001b[0m         \u001b[39mself\u001b[39;49m,\n\u001b[0;32m  10095\u001b[0m         right,\n\u001b[0;32m  10096\u001b[0m         how\u001b[39m=\u001b[39;49mhow,\n\u001b[0;32m  10097\u001b[0m         on\u001b[39m=\u001b[39;49mon,\n\u001b[0;32m  10098\u001b[0m         left_on\u001b[39m=\u001b[39;49mleft_on,\n\u001b[0;32m  10099\u001b[0m         right_on\u001b[39m=\u001b[39;49mright_on,\n\u001b[0;32m  10100\u001b[0m         left_index\u001b[39m=\u001b[39;49mleft_index,\n\u001b[0;32m  10101\u001b[0m         right_index\u001b[39m=\u001b[39;49mright_index,\n\u001b[0;32m  10102\u001b[0m         sort\u001b[39m=\u001b[39;49msort,\n\u001b[0;32m  10103\u001b[0m         suffixes\u001b[39m=\u001b[39;49msuffixes,\n\u001b[0;32m  10104\u001b[0m         copy\u001b[39m=\u001b[39;49mcopy,\n\u001b[0;32m  10105\u001b[0m         indicator\u001b[39m=\u001b[39;49mindicator,\n\u001b[0;32m  10106\u001b[0m         validate\u001b[39m=\u001b[39;49mvalidate,\n\u001b[0;32m  10107\u001b[0m     )\n",
      "File \u001b[1;32mc:\\Users\\Leticia\\AppData\\Local\\Programs\\Python\\Python310\\lib\\site-packages\\pandas\\core\\reshape\\merge.py:110\u001b[0m, in \u001b[0;36mmerge\u001b[1;34m(left, right, how, on, left_on, right_on, left_index, right_index, sort, suffixes, copy, indicator, validate)\u001b[0m\n\u001b[0;32m     93\u001b[0m \u001b[39m@Substitution\u001b[39m(\u001b[39m\"\u001b[39m\u001b[39m\\n\u001b[39;00m\u001b[39mleft : DataFrame or named Series\u001b[39m\u001b[39m\"\u001b[39m)\n\u001b[0;32m     94\u001b[0m \u001b[39m@Appender\u001b[39m(_merge_doc, indents\u001b[39m=\u001b[39m\u001b[39m0\u001b[39m)\n\u001b[0;32m     95\u001b[0m \u001b[39mdef\u001b[39;00m \u001b[39mmerge\u001b[39m(\n\u001b[1;32m   (...)\u001b[0m\n\u001b[0;32m    108\u001b[0m     validate: \u001b[39mstr\u001b[39m \u001b[39m|\u001b[39m \u001b[39mNone\u001b[39;00m \u001b[39m=\u001b[39m \u001b[39mNone\u001b[39;00m,\n\u001b[0;32m    109\u001b[0m ) \u001b[39m-\u001b[39m\u001b[39m>\u001b[39m DataFrame:\n\u001b[1;32m--> 110\u001b[0m     op \u001b[39m=\u001b[39m _MergeOperation(\n\u001b[0;32m    111\u001b[0m         left,\n\u001b[0;32m    112\u001b[0m         right,\n\u001b[0;32m    113\u001b[0m         how\u001b[39m=\u001b[39;49mhow,\n\u001b[0;32m    114\u001b[0m         on\u001b[39m=\u001b[39;49mon,\n\u001b[0;32m    115\u001b[0m         left_on\u001b[39m=\u001b[39;49mleft_on,\n\u001b[0;32m    116\u001b[0m         right_on\u001b[39m=\u001b[39;49mright_on,\n\u001b[0;32m    117\u001b[0m         left_index\u001b[39m=\u001b[39;49mleft_index,\n\u001b[0;32m    118\u001b[0m         right_index\u001b[39m=\u001b[39;49mright_index,\n\u001b[0;32m    119\u001b[0m         sort\u001b[39m=\u001b[39;49msort,\n\u001b[0;32m    120\u001b[0m         suffixes\u001b[39m=\u001b[39;49msuffixes,\n\u001b[0;32m    121\u001b[0m         indicator\u001b[39m=\u001b[39;49mindicator,\n\u001b[0;32m    122\u001b[0m         validate\u001b[39m=\u001b[39;49mvalidate,\n\u001b[0;32m    123\u001b[0m     )\n\u001b[0;32m    124\u001b[0m     \u001b[39mreturn\u001b[39;00m op\u001b[39m.\u001b[39mget_result(copy\u001b[39m=\u001b[39mcopy)\n",
      "File \u001b[1;32mc:\\Users\\Leticia\\AppData\\Local\\Programs\\Python\\Python310\\lib\\site-packages\\pandas\\core\\reshape\\merge.py:703\u001b[0m, in \u001b[0;36m_MergeOperation.__init__\u001b[1;34m(self, left, right, how, on, left_on, right_on, axis, left_index, right_index, sort, suffixes, indicator, validate)\u001b[0m\n\u001b[0;32m    696\u001b[0m \u001b[39mself\u001b[39m\u001b[39m.\u001b[39m_cross \u001b[39m=\u001b[39m cross_col\n\u001b[0;32m    698\u001b[0m \u001b[39m# note this function has side effects\u001b[39;00m\n\u001b[0;32m    699\u001b[0m (\n\u001b[0;32m    700\u001b[0m     \u001b[39mself\u001b[39m\u001b[39m.\u001b[39mleft_join_keys,\n\u001b[0;32m    701\u001b[0m     \u001b[39mself\u001b[39m\u001b[39m.\u001b[39mright_join_keys,\n\u001b[0;32m    702\u001b[0m     \u001b[39mself\u001b[39m\u001b[39m.\u001b[39mjoin_names,\n\u001b[1;32m--> 703\u001b[0m ) \u001b[39m=\u001b[39m \u001b[39mself\u001b[39;49m\u001b[39m.\u001b[39;49m_get_merge_keys()\n\u001b[0;32m    705\u001b[0m \u001b[39m# validate the merge keys dtypes. We may need to coerce\u001b[39;00m\n\u001b[0;32m    706\u001b[0m \u001b[39m# to avoid incompatible dtypes\u001b[39;00m\n\u001b[0;32m    707\u001b[0m \u001b[39mself\u001b[39m\u001b[39m.\u001b[39m_maybe_coerce_merge_keys()\n",
      "File \u001b[1;32mc:\\Users\\Leticia\\AppData\\Local\\Programs\\Python\\Python310\\lib\\site-packages\\pandas\\core\\reshape\\merge.py:1162\u001b[0m, in \u001b[0;36m_MergeOperation._get_merge_keys\u001b[1;34m(self)\u001b[0m\n\u001b[0;32m   1160\u001b[0m rk \u001b[39m=\u001b[39m cast(Hashable, rk)\n\u001b[0;32m   1161\u001b[0m \u001b[39mif\u001b[39;00m rk \u001b[39mis\u001b[39;00m \u001b[39mnot\u001b[39;00m \u001b[39mNone\u001b[39;00m:\n\u001b[1;32m-> 1162\u001b[0m     right_keys\u001b[39m.\u001b[39mappend(right\u001b[39m.\u001b[39;49m_get_label_or_level_values(rk))\n\u001b[0;32m   1163\u001b[0m \u001b[39melse\u001b[39;00m:\n\u001b[0;32m   1164\u001b[0m     \u001b[39m# work-around for merge_asof(right_index=True)\u001b[39;00m\n\u001b[0;32m   1165\u001b[0m     right_keys\u001b[39m.\u001b[39mappend(right\u001b[39m.\u001b[39mindex)\n",
      "File \u001b[1;32mc:\\Users\\Leticia\\AppData\\Local\\Programs\\Python\\Python310\\lib\\site-packages\\pandas\\core\\generic.py:1850\u001b[0m, in \u001b[0;36mNDFrame._get_label_or_level_values\u001b[1;34m(self, key, axis)\u001b[0m\n\u001b[0;32m   1844\u001b[0m     values \u001b[39m=\u001b[39m (\n\u001b[0;32m   1845\u001b[0m         \u001b[39mself\u001b[39m\u001b[39m.\u001b[39maxes[axis]\n\u001b[0;32m   1846\u001b[0m         \u001b[39m.\u001b[39mget_level_values(key)  \u001b[39m# type: ignore[assignment]\u001b[39;00m\n\u001b[0;32m   1847\u001b[0m         \u001b[39m.\u001b[39m_values\n\u001b[0;32m   1848\u001b[0m     )\n\u001b[0;32m   1849\u001b[0m \u001b[39melse\u001b[39;00m:\n\u001b[1;32m-> 1850\u001b[0m     \u001b[39mraise\u001b[39;00m \u001b[39mKeyError\u001b[39;00m(key)\n\u001b[0;32m   1852\u001b[0m \u001b[39m# Check for duplicates\u001b[39;00m\n\u001b[0;32m   1853\u001b[0m \u001b[39mif\u001b[39;00m values\u001b[39m.\u001b[39mndim \u001b[39m>\u001b[39m \u001b[39m1\u001b[39m:\n",
      "\u001b[1;31mKeyError\u001b[0m: <function <lambda> at 0x00000289324371C0>"
     ]
    }
   ],
   "source": [
    "merged_df = df_geocode.merge(zipcodes_states[['Estado', 'primeiro_zipcode', 'ultimo_zipcode']], left_on='Zipcode', right_on=lambda x: (zipcodes_states['primeiro_zipcode'] <= x) & (x <= zipcodes_states['ultimo_zipcode']))\n",
    "\n",
    "merged_df"
   ]
  },
  {
   "cell_type": "code",
   "execution_count": null,
   "metadata": {},
   "outputs": [],
   "source": []
  }
 ],
 "metadata": {
  "kernelspec": {
   "display_name": "Python 3",
   "language": "python",
   "name": "python3"
  },
  "language_info": {
   "codemirror_mode": {
    "name": "ipython",
    "version": 3
   },
   "file_extension": ".py",
   "mimetype": "text/x-python",
   "name": "python",
   "nbconvert_exporter": "python",
   "pygments_lexer": "ipython3",
   "version": "3.10.10"
  },
  "orig_nbformat": 4
 },
 "nbformat": 4,
 "nbformat_minor": 2
}
