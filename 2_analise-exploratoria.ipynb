{
 "cells": [
  {
   "attachments": {},
   "cell_type": "markdown",
   "metadata": {},
   "source": [
    "# 2. Análise exploratória\n",
    "\n",
    "Com os dados sanitizados, é possível agora verificar algumas distribuições das variáveis disponíveis, para entender como é o perfil dos clientes e das características dos laboratórios\n",
    "\n",
    "Com base nestas distribuições, será possível aprofundar as análises, orientando pelas perguntas de negócio que queremos responder\n",
    "\n",
    "### importando as bibliotecas necessárias"
   ]
  },
  {
   "cell_type": "code",
   "execution_count": 1,
   "metadata": {},
   "outputs": [
    {
     "data": {
      "text/html": [
       "        <script type=\"text/javascript\">\n",
       "        window.PlotlyConfig = {MathJaxConfig: 'local'};\n",
       "        if (window.MathJax) {MathJax.Hub.Config({SVG: {font: \"STIX-Web\"}});}\n",
       "        if (typeof require !== 'undefined') {\n",
       "        require.undef(\"plotly\");\n",
       "        requirejs.config({\n",
       "            paths: {\n",
       "                'plotly': ['https://cdn.plot.ly/plotly-2.9.0.min']\n",
       "            }\n",
       "        });\n",
       "        require(['plotly'], function(Plotly) {\n",
       "            window._Plotly = Plotly;\n",
       "        });\n",
       "        }\n",
       "        </script>\n",
       "        "
      ]
     },
     "metadata": {},
     "output_type": "display_data"
    }
   ],
   "source": [
    "import pandas as pd\n",
    "import numpy as np\n",
    "import seaborn as sns\n",
    "import matplotlib.pyplot as plt\n",
    "import datetime\n",
    "\n",
    "from scipy.stats import f_oneway\n",
    "\n",
    "import plotly.express as px\n",
    "import plotly.graph_objects as go\n",
    "from plotly.offline import init_notebook_mode, iplot\n",
    "init_notebook_mode(connected=True) \n",
    "\n",
    "%matplotlib inline"
   ]
  },
  {
   "attachments": {},
   "cell_type": "markdown",
   "metadata": {},
   "source": [
    "### lendo as bases de dados tratadas"
   ]
  },
  {
   "cell_type": "code",
   "execution_count": 2,
   "metadata": {},
   "outputs": [
    {
     "name": "stderr",
     "output_type": "stream",
     "text": [
      "c:\\Users\\Leticia\\AppData\\Local\\Programs\\Python\\Python310\\lib\\site-packages\\IPython\\core\\interactiveshell.py:3524: DtypeWarning:\n",
      "\n",
      "Columns (9) have mixed types.Specify dtype option on import or set low_memory=False.\n",
      "\n"
     ]
    }
   ],
   "source": [
    "demographic_data = pd.read_csv('dados_tratados/demographic_data_trat.csv')\n",
    "df_geocode = pd.read_csv('dados_tratados/df_geocode_trat.csv')\n",
    "economic_data = pd.read_csv('dados_tratados/economic_data_trat.csv')\n",
    "test_data = pd.read_csv('dados_tratados/test_data_trat.csv')\n",
    "transactional_data = pd.read_csv('dados_tratados/transactional_data_trat.csv')\n",
    "\n",
    "zipcodes_states = pd.read_excel('dados_brutos/zipcodes-states.xlsx', index_col = 0) # fontes: https://codigo-postal.co/pt-br/eua/, https://pt.wikipedia.org/wiki/Lista_de_estados_dos_Estados_Unidos_por_popula%C3%A7%C3%A3o"
   ]
  },
  {
   "attachments": {},
   "cell_type": "markdown",
   "metadata": {},
   "source": [
    "tratamentos da base zipcodes_states"
   ]
  },
  {
   "cell_type": "code",
   "execution_count": 3,
   "metadata": {},
   "outputs": [
    {
     "data": {
      "text/html": [
       "<div>\n",
       "<style scoped>\n",
       "    .dataframe tbody tr th:only-of-type {\n",
       "        vertical-align: middle;\n",
       "    }\n",
       "\n",
       "    .dataframe tbody tr th {\n",
       "        vertical-align: top;\n",
       "    }\n",
       "\n",
       "    .dataframe thead th {\n",
       "        text-align: right;\n",
       "    }\n",
       "</style>\n",
       "<table border=\"1\" class=\"dataframe\">\n",
       "  <thead>\n",
       "    <tr style=\"text-align: right;\">\n",
       "      <th></th>\n",
       "      <th>Sigla</th>\n",
       "      <th>Estado</th>\n",
       "      <th>Capital</th>\n",
       "      <th>Intervalo de CEPs</th>\n",
       "      <th>Qtd de CEPs</th>\n",
       "      <th>Data de Fundação</th>\n",
       "      <th>População 2020</th>\n",
       "      <th>primeiro_zipcode</th>\n",
       "      <th>ultimo_zipcode</th>\n",
       "    </tr>\n",
       "  </thead>\n",
       "  <tbody>\n",
       "    <tr>\n",
       "      <th>1</th>\n",
       "      <td>AL</td>\n",
       "      <td>Alabama</td>\n",
       "      <td>Montgomery</td>\n",
       "      <td>35004 to 36925</td>\n",
       "      <td>838</td>\n",
       "      <td>December 14, 1819</td>\n",
       "      <td>5024279</td>\n",
       "      <td>35004.0</td>\n",
       "      <td>36925.0</td>\n",
       "    </tr>\n",
       "    <tr>\n",
       "      <th>2</th>\n",
       "      <td>AK</td>\n",
       "      <td>Alaska</td>\n",
       "      <td>Juneau</td>\n",
       "      <td>99501 to 99950</td>\n",
       "      <td>274</td>\n",
       "      <td>January 3, 1959</td>\n",
       "      <td>733391</td>\n",
       "      <td>99501.0</td>\n",
       "      <td>99950.0</td>\n",
       "    </tr>\n",
       "    <tr>\n",
       "      <th>3</th>\n",
       "      <td>AZ</td>\n",
       "      <td>Arizona</td>\n",
       "      <td>Phoenix</td>\n",
       "      <td>85001 to 86556</td>\n",
       "      <td>567</td>\n",
       "      <td>February 14, 1912</td>\n",
       "      <td>7151502</td>\n",
       "      <td>85001.0</td>\n",
       "      <td>86556.0</td>\n",
       "    </tr>\n",
       "    <tr>\n",
       "      <th>4</th>\n",
       "      <td>AR</td>\n",
       "      <td>Arkansas</td>\n",
       "      <td>Little Rock</td>\n",
       "      <td>71601 to 72959</td>\n",
       "      <td>709</td>\n",
       "      <td>June 15, 1836</td>\n",
       "      <td>3011524</td>\n",
       "      <td>71601.0</td>\n",
       "      <td>72959.0</td>\n",
       "    </tr>\n",
       "    <tr>\n",
       "      <th>5</th>\n",
       "      <td>CA</td>\n",
       "      <td>California</td>\n",
       "      <td>Sacramento</td>\n",
       "      <td>90001 to 96162</td>\n",
       "      <td>2653</td>\n",
       "      <td>September 9, 1850</td>\n",
       "      <td>39538223</td>\n",
       "      <td>90001.0</td>\n",
       "      <td>96162.0</td>\n",
       "    </tr>\n",
       "  </tbody>\n",
       "</table>\n",
       "</div>"
      ],
      "text/plain": [
       "  Sigla      Estado      Capital Intervalo de CEPs  Qtd de CEPs  \\\n",
       "1    AL     Alabama   Montgomery    35004 to 36925          838   \n",
       "2    AK      Alaska       Juneau    99501 to 99950          274   \n",
       "3    AZ     Arizona      Phoenix    85001 to 86556          567   \n",
       "4    AR    Arkansas  Little Rock    71601 to 72959          709   \n",
       "5    CA  California   Sacramento    90001 to 96162         2653   \n",
       "\n",
       "    Data de Fundação  População 2020  primeiro_zipcode  ultimo_zipcode  \n",
       "1  December 14, 1819         5024279           35004.0         36925.0  \n",
       "2    January 3, 1959          733391           99501.0         99950.0  \n",
       "3  February 14, 1912         7151502           85001.0         86556.0  \n",
       "4      June 15, 1836         3011524           71601.0         72959.0  \n",
       "5  September 9, 1850        39538223           90001.0         96162.0  "
      ]
     },
     "execution_count": 3,
     "metadata": {},
     "output_type": "execute_result"
    }
   ],
   "source": [
    "zipcodes_states['População 2020'] = zipcodes_states['População 2020'].apply(lambda x: \"\".join(x.split())).astype('int')\n",
    "zipcodes_states['primeiro_zipcode'] = zipcodes_states['Intervalo de CEPs'].apply(lambda x: \"\".join(x.split())).str.split('to').str[0].astype('float')\n",
    "zipcodes_states['ultimo_zipcode'] = zipcodes_states['Intervalo de CEPs'].apply(lambda x: \"\".join(x.split())).str.split('to').str[1].astype('float')\n",
    "\n",
    "zipcodes_states.head()"
   ]
  },
  {
   "attachments": {},
   "cell_type": "markdown",
   "metadata": {},
   "source": [
    "## mapa com a distribuição das localizações\n",
    "\n",
    "inicialmente, será produzido um mapa dos estados unidos com a localização dos laboratórios\n",
    "\n",
    "para isso, será utilizada a base df_geocode, que tem as informações de latitude e longitude dos laboratórios "
   ]
  },
  {
   "cell_type": "code",
   "execution_count": 5,
   "metadata": {},
   "outputs": [
    {
     "data": {
      "text/html": [
       "<div>\n",
       "<style scoped>\n",
       "    .dataframe tbody tr th:only-of-type {\n",
       "        vertical-align: middle;\n",
       "    }\n",
       "\n",
       "    .dataframe tbody tr th {\n",
       "        vertical-align: top;\n",
       "    }\n",
       "\n",
       "    .dataframe thead th {\n",
       "        text-align: right;\n",
       "    }\n",
       "</style>\n",
       "<table border=\"1\" class=\"dataframe\">\n",
       "  <thead>\n",
       "    <tr style=\"text-align: right;\">\n",
       "      <th></th>\n",
       "      <th>Lab Id</th>\n",
       "      <th>Address</th>\n",
       "      <th>Location</th>\n",
       "      <th>Zipcode</th>\n",
       "      <th>latitude</th>\n",
       "      <th>longitude</th>\n",
       "      <th>Sigla</th>\n",
       "    </tr>\n",
       "  </thead>\n",
       "  <tbody>\n",
       "    <tr>\n",
       "      <th>0</th>\n",
       "      <td>L152</td>\n",
       "      <td>3800 PLEASANT HILL RD STE 1, DULUTH, GA 30096</td>\n",
       "      <td>34.000319,-84.1629724</td>\n",
       "      <td>30096.0</td>\n",
       "      <td>34.000319</td>\n",
       "      <td>-84.162972</td>\n",
       "      <td>GA</td>\n",
       "    </tr>\n",
       "    <tr>\n",
       "      <th>1</th>\n",
       "      <td>L520</td>\n",
       "      <td>1614 N JAMES ST, ROME, NY 13440</td>\n",
       "      <td>43.2311327,-75.4445363</td>\n",
       "      <td>13440.0</td>\n",
       "      <td>43.231133</td>\n",
       "      <td>-75.444536</td>\n",
       "      <td>NY</td>\n",
       "    </tr>\n",
       "    <tr>\n",
       "      <th>2</th>\n",
       "      <td>L141</td>\n",
       "      <td>12911 120TH AVE NE STE D60, KIRKLAND, WA 98034</td>\n",
       "      <td>47.7162786,-122.1838152</td>\n",
       "      <td>98034.0</td>\n",
       "      <td>47.716279</td>\n",
       "      <td>-122.183815</td>\n",
       "      <td>WA</td>\n",
       "    </tr>\n",
       "    <tr>\n",
       "      <th>3</th>\n",
       "      <td>L524</td>\n",
       "      <td>5667 PEACHTREE DUNWOODY RD 250, ATLANTA, GA 30342</td>\n",
       "      <td>33.9093875,-84.3529096</td>\n",
       "      <td>30342.0</td>\n",
       "      <td>33.909388</td>\n",
       "      <td>-84.352910</td>\n",
       "      <td>GA</td>\n",
       "    </tr>\n",
       "    <tr>\n",
       "      <th>4</th>\n",
       "      <td>L545</td>\n",
       "      <td>1204 IL HWY 164, OQUAWKA, IL 61469</td>\n",
       "      <td>40.9309925,-90.9437598</td>\n",
       "      <td>61469.0</td>\n",
       "      <td>40.930993</td>\n",
       "      <td>-90.943760</td>\n",
       "      <td>IL</td>\n",
       "    </tr>\n",
       "  </tbody>\n",
       "</table>\n",
       "</div>"
      ],
      "text/plain": [
       "  Lab Id                                            Address  \\\n",
       "0   L152      3800 PLEASANT HILL RD STE 1, DULUTH, GA 30096   \n",
       "1   L520                    1614 N JAMES ST, ROME, NY 13440   \n",
       "2   L141     12911 120TH AVE NE STE D60, KIRKLAND, WA 98034   \n",
       "3   L524  5667 PEACHTREE DUNWOODY RD 250, ATLANTA, GA 30342   \n",
       "4   L545                 1204 IL HWY 164, OQUAWKA, IL 61469   \n",
       "\n",
       "                  Location  Zipcode   latitude   longitude Sigla  \n",
       "0    34.000319,-84.1629724  30096.0  34.000319  -84.162972    GA  \n",
       "1   43.2311327,-75.4445363  13440.0  43.231133  -75.444536    NY  \n",
       "2  47.7162786,-122.1838152  98034.0  47.716279 -122.183815    WA  \n",
       "3   33.9093875,-84.3529096  30342.0  33.909388  -84.352910    GA  \n",
       "4   40.9309925,-90.9437598  61469.0  40.930993  -90.943760    IL  "
      ]
     },
     "execution_count": 5,
     "metadata": {},
     "output_type": "execute_result"
    }
   ],
   "source": [
    "coordenadas = df_geocode\n",
    "\n",
    "# separando a latitude e a longitude\n",
    "coordenadas['latitude'] = coordenadas['Location'].str.split(',').str[0].astype('float')\n",
    "coordenadas['longitude'] = coordenadas['Location'].str.split(',').str[1].astype('float')\n",
    "\n",
    "# separando o estado a partir da coluna de endereço\n",
    "coordenadas['Sigla'] = coordenadas['Address'].str.split(', ').str[2].str.split(' ').str[0]\n",
    "\n",
    "coordenadas.head()"
   ]
  },
  {
   "attachments": {},
   "cell_type": "markdown",
   "metadata": {},
   "source": [
    "quais são os estados que têm laboratórios? quantos laboratórios tem em cada um deles?"
   ]
  },
  {
   "cell_type": "code",
   "execution_count": 5,
   "metadata": {},
   "outputs": [
    {
     "data": {
      "text/html": [
       "<div>\n",
       "<style scoped>\n",
       "    .dataframe tbody tr th:only-of-type {\n",
       "        vertical-align: middle;\n",
       "    }\n",
       "\n",
       "    .dataframe tbody tr th {\n",
       "        vertical-align: top;\n",
       "    }\n",
       "\n",
       "    .dataframe thead th {\n",
       "        text-align: right;\n",
       "    }\n",
       "</style>\n",
       "<table border=\"1\" class=\"dataframe\">\n",
       "  <thead>\n",
       "    <tr style=\"text-align: right;\">\n",
       "      <th></th>\n",
       "      <th>Sigla</th>\n",
       "      <th>Estado</th>\n",
       "      <th>Capital</th>\n",
       "      <th>Intervalo de CEPs</th>\n",
       "      <th>Qtd de CEPs</th>\n",
       "      <th>Data de Fundação</th>\n",
       "      <th>População 2020</th>\n",
       "      <th>primeiro_zipcode</th>\n",
       "      <th>ultimo_zipcode</th>\n",
       "    </tr>\n",
       "  </thead>\n",
       "  <tbody>\n",
       "    <tr>\n",
       "      <th>1</th>\n",
       "      <td>AL</td>\n",
       "      <td>Alabama</td>\n",
       "      <td>Montgomery</td>\n",
       "      <td>35004 to 36925</td>\n",
       "      <td>838</td>\n",
       "      <td>December 14, 1819</td>\n",
       "      <td>5024279</td>\n",
       "      <td>35004.0</td>\n",
       "      <td>36925.0</td>\n",
       "    </tr>\n",
       "    <tr>\n",
       "      <th>2</th>\n",
       "      <td>AK</td>\n",
       "      <td>Alaska</td>\n",
       "      <td>Juneau</td>\n",
       "      <td>99501 to 99950</td>\n",
       "      <td>274</td>\n",
       "      <td>January 3, 1959</td>\n",
       "      <td>733391</td>\n",
       "      <td>99501.0</td>\n",
       "      <td>99950.0</td>\n",
       "    </tr>\n",
       "    <tr>\n",
       "      <th>3</th>\n",
       "      <td>AZ</td>\n",
       "      <td>Arizona</td>\n",
       "      <td>Phoenix</td>\n",
       "      <td>85001 to 86556</td>\n",
       "      <td>567</td>\n",
       "      <td>February 14, 1912</td>\n",
       "      <td>7151502</td>\n",
       "      <td>85001.0</td>\n",
       "      <td>86556.0</td>\n",
       "    </tr>\n",
       "  </tbody>\n",
       "</table>\n",
       "</div>"
      ],
      "text/plain": [
       "  Sigla   Estado     Capital Intervalo de CEPs  Qtd de CEPs  \\\n",
       "1    AL  Alabama  Montgomery    35004 to 36925          838   \n",
       "2    AK   Alaska      Juneau    99501 to 99950          274   \n",
       "3    AZ  Arizona     Phoenix    85001 to 86556          567   \n",
       "\n",
       "    Data de Fundação  População 2020  primeiro_zipcode  ultimo_zipcode  \n",
       "1  December 14, 1819         5024279           35004.0         36925.0  \n",
       "2    January 3, 1959          733391           99501.0         99950.0  \n",
       "3  February 14, 1912         7151502           85001.0         86556.0  "
      ]
     },
     "execution_count": 5,
     "metadata": {},
     "output_type": "execute_result"
    }
   ],
   "source": [
    "zipcodes_states.head(3)"
   ]
  },
  {
   "cell_type": "code",
   "execution_count": 6,
   "metadata": {},
   "outputs": [
    {
     "data": {
      "text/html": [
       "<div>\n",
       "<style scoped>\n",
       "    .dataframe tbody tr th:only-of-type {\n",
       "        vertical-align: middle;\n",
       "    }\n",
       "\n",
       "    .dataframe tbody tr th {\n",
       "        vertical-align: top;\n",
       "    }\n",
       "\n",
       "    .dataframe thead th {\n",
       "        text-align: right;\n",
       "    }\n",
       "</style>\n",
       "<table border=\"1\" class=\"dataframe\">\n",
       "  <thead>\n",
       "    <tr style=\"text-align: right;\">\n",
       "      <th></th>\n",
       "      <th>Sigla</th>\n",
       "      <th>Número de laboratórios</th>\n",
       "      <th>Estado</th>\n",
       "    </tr>\n",
       "  </thead>\n",
       "  <tbody>\n",
       "    <tr>\n",
       "      <th>0</th>\n",
       "      <td>WA</td>\n",
       "      <td>20</td>\n",
       "      <td>Washington</td>\n",
       "    </tr>\n",
       "    <tr>\n",
       "      <th>1</th>\n",
       "      <td>CA</td>\n",
       "      <td>18</td>\n",
       "      <td>California</td>\n",
       "    </tr>\n",
       "    <tr>\n",
       "      <th>2</th>\n",
       "      <td>GA</td>\n",
       "      <td>18</td>\n",
       "      <td>Georgia</td>\n",
       "    </tr>\n",
       "    <tr>\n",
       "      <th>3</th>\n",
       "      <td>PA</td>\n",
       "      <td>17</td>\n",
       "      <td>Pennsylvania</td>\n",
       "    </tr>\n",
       "    <tr>\n",
       "      <th>4</th>\n",
       "      <td>MA</td>\n",
       "      <td>12</td>\n",
       "      <td>Massachusetts</td>\n",
       "    </tr>\n",
       "    <tr>\n",
       "      <th>5</th>\n",
       "      <td>NY</td>\n",
       "      <td>11</td>\n",
       "      <td>New York</td>\n",
       "    </tr>\n",
       "    <tr>\n",
       "      <th>6</th>\n",
       "      <td>IL</td>\n",
       "      <td>6</td>\n",
       "      <td>Illinois</td>\n",
       "    </tr>\n",
       "    <tr>\n",
       "      <th>7</th>\n",
       "      <td>IA</td>\n",
       "      <td>5</td>\n",
       "      <td>Iowa</td>\n",
       "    </tr>\n",
       "    <tr>\n",
       "      <th>8</th>\n",
       "      <td>NH</td>\n",
       "      <td>4</td>\n",
       "      <td>New Hampshire</td>\n",
       "    </tr>\n",
       "    <tr>\n",
       "      <th>9</th>\n",
       "      <td>NJ</td>\n",
       "      <td>3</td>\n",
       "      <td>New Jersey</td>\n",
       "    </tr>\n",
       "    <tr>\n",
       "      <th>10</th>\n",
       "      <td>MI</td>\n",
       "      <td>2</td>\n",
       "      <td>Michigan</td>\n",
       "    </tr>\n",
       "    <tr>\n",
       "      <th>11</th>\n",
       "      <td>LA</td>\n",
       "      <td>1</td>\n",
       "      <td>Louisiana</td>\n",
       "    </tr>\n",
       "    <tr>\n",
       "      <th>12</th>\n",
       "      <td>TX</td>\n",
       "      <td>1</td>\n",
       "      <td>Texas</td>\n",
       "    </tr>\n",
       "  </tbody>\n",
       "</table>\n",
       "</div>"
      ],
      "text/plain": [
       "   Sigla  Número de laboratórios         Estado\n",
       "0     WA                      20     Washington\n",
       "1     CA                      18     California\n",
       "2     GA                      18        Georgia\n",
       "3     PA                      17   Pennsylvania\n",
       "4     MA                      12  Massachusetts\n",
       "5     NY                      11       New York\n",
       "6     IL                       6       Illinois\n",
       "7     IA                       5           Iowa\n",
       "8     NH                       4  New Hampshire\n",
       "9     NJ                       3     New Jersey\n",
       "10    MI                       2       Michigan\n",
       "11    LA                       1      Louisiana\n",
       "12    TX                       1          Texas"
      ]
     },
     "execution_count": 6,
     "metadata": {},
     "output_type": "execute_result"
    }
   ],
   "source": [
    "estados = coordenadas.groupby('Sigla').count()[['Lab Id']].sort_values('Lab Id', ascending = False).reset_index()\n",
    "\n",
    "estados = estados.merge(zipcodes_states[['Estado', 'Sigla']], how = 'left')\n",
    "\n",
    "estados = estados.rename({'Lab Id':'Número de laboratórios'}, axis = 1)\n",
    "\n",
    "estados"
   ]
  },
  {
   "cell_type": "code",
   "execution_count": 10,
   "metadata": {},
   "outputs": [
    {
     "data": {
      "image/png": "[encoded data removed]",
      "text/plain": [
       "<Figure size 648x504 with 1 Axes>"
      ]
     },
     "metadata": {
      "needs_background": "light"
     },
     "output_type": "display_data"
    }
   ],
   "source": [
    "plt.figure(figsize = (9, 7))\n",
    "sns.set_style('white') # also 'ticks', 'darkgrid', 'whitegrid', white\n",
    "fig = sns.barplot(data = estados, x = 'Número de laboratórios', y = 'Estado', color = '#7f7f7f')\n",
    "\n",
    "# colocar os números no final da barra\n",
    "for i in fig.patches:\n",
    "    fig.annotate(int(i.get_width()),\n",
    "                  (i.get_width(), i.get_y() + i.get_height() / 2),\n",
    "                  ha = 'left', va = 'center', fontsize = 12,\n",
    "                  color = '#4d4d4d', xytext = (1, 0),\n",
    "                  textcoords = 'offset points')\n",
    "\n",
    "# remover o título do eixo x\n",
    "# fig.set_xlabel('')\n",
    "\n",
    "# remover os números do eixo x\n",
    "fig.set_xticklabels('')\n",
    "fig.set_yticklabels(fig.get_yticklabels(), fontsize=12)\n",
    "\n",
    "# remover as bordas do gráfico\n",
    "sns.despine(bottom = True)\n",
    "\n",
    "# deixar o gráfico transparente\n",
    "plt.gcf().set_facecolor('none')\n",
    "plt.gca().patch.set_alpha(0)"
   ]
  },
  {
   "attachments": {},
   "cell_type": "markdown",
   "metadata": {},
   "source": [
    "construindo o gráfico de mapa para visualizar as localizações - estão próximos uns dos outros ou mais espalhados pelos EUA?"
   ]
  },
  {
   "cell_type": "code",
   "execution_count": 74,
   "metadata": {},
   "outputs": [
    {
     "data": {
      "application/vnd.plotly.v1+json": {
       "config": {
        "linkText": "Export to plot.ly",
        "plotlyServerURL": "https://plot.ly",
        "showLink": false
       },
       "data": [
        {
         "lat": [
          34.000319,
          43.2311327,
          47.7162786,
          33.9093875,
          40.9309925,
          39.9924717,
          33.5113314,
          37.6759064,
          37.6993,
          42.7065088,
          37.9115042,
          39.934946,
          47.6208696,
          33.9484477,
          33.9710116,
          41.4877432,
          33.9735891,
          39.9076973,
          42.1077525,
          40.0374664,
          47.632801,
          41.8554575,
          33.7681453,
          47.7158288,
          41.497223,
          33.8254779,
          42.2653422,
          39.912442,
          33.451232,
          33.732926,
          41.5694897,
          37.6822922,
          40.0021676,
          47.750593,
          37.9838036,
          47.6076339,
          40.0303647,
          39.9560828,
          47.7084091,
          42.0281344,
          33.8786308,
          40.0066857,
          47.7510662,
          37.956103,
          47.8044871,
          41.5586991,
          37.9242863,
          37.9765001,
          37.7754429,
          40.0294758,
          47.6091997,
          47.6219477,
          41.5387268,
          33.4498013,
          42.7473541,
          43.1014617,
          37.7990818,
          39.9495713,
          42.8166911,
          42.1710988,
          39.957358,
          37.9694792,
          43.1201376,
          47.4568023,
          43.0978638,
          33.451232,
          33.7943032,
          37.7754429,
          42.276897,
          42.300344,
          40.7447179,
          47.760574,
          40.0173148,
          39.9213919,
          41.466876,
          42.8075256,
          43.2272241,
          42.8213859,
          42.2493985,
          37.9553785,
          43.0731473,
          38.4634804,
          34.0708467,
          42.775748,
          39.9507025,
          47.8026806,
          42.8073225,
          37.6762783,
          33.8473632,
          42.2607878,
          47.6821988,
          47.4585122,
          42.1146632,
          47.6674625,
          43.0150099,
          38.0070008,
          39.9130589,
          37.7762785,
          42.247582,
          47.6100869,
          43.1636949,
          33.5774091,
          39.9290428,
          41.4352418,
          34.1054485,
          33.677914,
          39.9457889,
          42.3020867,
          43.0879409,
          39.9218172,
          33.9073497,
          47.7148568,
          47.6516517,
          39.9184081,
          43.0773695,
          43.2530101,
          41.5611182,
          37.984716
         ],
         "lon": [
          -84.1629724,
          -75.4445363,
          -122.1838152,
          -84.3529096,
          -90.9437598,
          -75.1035442,
          -84.2316312,
          -121.8772172,
          -121.9014055,
          -71.171084,
          -122.0444705,
          -75.0669325,
          -122.1889933,
          -84.3369582,
          -84.5511075,
          -90.4216658,
          -84.4822033,
          -75.289741,
          -70.7667516,
          -75.1206684,
          -122.1330652,
          -89.489907,
          -84.388286,
          -122.180939,
          -90.5296326,
          -84.2571003,
          -71.7927896,
          -75.0583428,
          -94.0683805,
          -84.6724126,
          -90.5271587,
          -121.8756054,
          -75.2825227,
          -122.154299,
          -122.0360361,
          -122.3123067,
          -75.1834481,
          -75.1987675,
          -122.335505,
          -71.31267,
          -84.0214922,
          -75.2190999,
          -122.6477891,
          -121.9694513,
          -122.2090808,
          -90.518775,
          -121.7371186,
          -121.8012144,
          -121.9669886,
          -75.0869837,
          -122.3262981,
          -122.1870553,
          -90.5511836,
          -84.508719,
          -71.1313972,
          -76.060889,
          -121.9166879,
          -75.1567543,
          -71.5409322,
          -70.9577834,
          -75.1642512,
          -121.2901678,
          -76.1627233,
          -122.3457174,
          -75.3055966,
          -94.0683805,
          -84.2778831,
          -121.9669886,
          -71.4160299,
          -71.8038673,
          -90.9114665,
          -122.2527338,
          -75.1509415,
          -75.2561934,
          -90.5478657,
          -71.2622671,
          -75.4323824,
          -70.9065276,
          -84.4259382,
          -122.0411404,
          -75.2957098,
          -121.416546,
          -84.3000492,
          -71.2495637,
          -75.2286725,
          -122.3389483,
          -71.2650041,
          -121.7853993,
          -84.5065753,
          -83.7391191,
          -122.1259728,
          -122.3370864,
          -71.463432,
          -122.3817193,
          -75.0398441,
          -121.868574,
          -75.1518927,
          -121.9679406,
          -70.9842195,
          -122.3243021,
          -76.2366636,
          -84.3944193,
          -75.170544,
          -91.0759938,
          -84.5409941,
          -84.00695,
          -75.1533585,
          -71.407008,
          -75.2624454,
          -75.1730023,
          -84.3581189,
          -122.1866063,
          -122.687053,
          -75.035649,
          -75.6536905,
          -75.1860015,
          -90.5915183,
          -122.0383645
         ],
         "marker": {
          "autocolorscale": false,
          "color": "#5288db",
          "colorscale": [
           [
            0,
            "rgb(0,0,255)"
           ],
           [
            1,
            "rgb(255,0,0)"
           ]
          ],
          "size": 5
         },
         "type": "scattergeo"
        }
       ],
       "layout": {
        "geo": {
         "countrycolor": "rgb(100,100,100)",
         "countrywidth": 0.5,
         "landcolor": "rgb(250,250,250)",
         "projection": {
          "type": "albers usa"
         },
         "scope": "usa",
         "showland": true,
         "subunitcolor": "rgb(100,100,100)",
         "subunitwidth": 0.5
        },
        "template": {
         "data": {
          "bar": [
           {
            "error_x": {
             "color": "#2a3f5f"
            },
            "error_y": {
             "color": "#2a3f5f"
            },
            "marker": {
             "line": {
              "color": "#E5ECF6",
              "width": 0.5
             },
             "pattern": {
              "fillmode": "overlay",
              "size": 10,
              "solidity": 0.2
             }
            },
            "type": "bar"
           }
          ],
          "barpolar": [
           {
            "marker": {
             "line": {
              "color": "#E5ECF6",
              "width": 0.5
             },
             "pattern": {
              "fillmode": "overlay",
              "size": 10,
              "solidity": 0.2
             }
            },
            "type": "barpolar"
           }
          ],
          "carpet": [
           {
            "aaxis": {
             "endlinecolor": "#2a3f5f",
             "gridcolor": "white",
             "linecolor": "white",
             "minorgridcolor": "white",
             "startlinecolor": "#2a3f5f"
            },
            "baxis": {
             "endlinecolor": "#2a3f5f",
             "gridcolor": "white",
             "linecolor": "white",
             "minorgridcolor": "white",
             "startlinecolor": "#2a3f5f"
            },
            "type": "carpet"
           }
          ],
          "choropleth": [
           {
            "colorbar": {
             "outlinewidth": 0,
             "ticks": ""
            },
            "type": "choropleth"
           }
          ],
          "contour": [
           {
            "colorbar": {
             "outlinewidth": 0,
             "ticks": ""
            },
            "colorscale": [
             [
              0,
              "#0d0887"
             ],
             [
              0.1111111111111111,
              "#46039f"
             ],
             [
              0.2222222222222222,
              "#7201a8"
             ],
             [
              0.3333333333333333,
              "#9c179e"
             ],
             [
              0.4444444444444444,
              "#bd3786"
             ],
             [
              0.5555555555555556,
              "#d8576b"
             ],
             [
              0.6666666666666666,
              "#ed7953"
             ],
             [
              0.7777777777777778,
              "#fb9f3a"
             ],
             [
              0.8888888888888888,
              "#fdca26"
             ],
             [
              1,
              "#f0f921"
             ]
            ],
            "type": "contour"
           }
          ],
          "contourcarpet": [
           {
            "colorbar": {
             "outlinewidth": 0,
             "ticks": ""
            },
            "type": "contourcarpet"
           }
          ],
          "heatmap": [
           {
            "colorbar": {
             "outlinewidth": 0,
             "ticks": ""
            },
            "colorscale": [
             [
              0,
              "#0d0887"
             ],
             [
              0.1111111111111111,
              "#46039f"
             ],
             [
              0.2222222222222222,
              "#7201a8"
             ],
             [
              0.3333333333333333,
              "#9c179e"
             ],
             [
              0.4444444444444444,
              "#bd3786"
             ],
             [
              0.5555555555555556,
              "#d8576b"
             ],
             [
              0.6666666666666666,
              "#ed7953"
             ],
             [
              0.7777777777777778,
              "#fb9f3a"
             ],
             [
              0.8888888888888888,
              "#fdca26"
             ],
             [
              1,
              "#f0f921"
             ]
            ],
            "type": "heatmap"
           }
          ],
          "heatmapgl": [
           {
            "colorbar": {
             "outlinewidth": 0,
             "ticks": ""
            },
            "colorscale": [
             [
              0,
              "#0d0887"
             ],
             [
              0.1111111111111111,
              "#46039f"
             ],
             [
              0.2222222222222222,
              "#7201a8"
             ],
             [
              0.3333333333333333,
              "#9c179e"
             ],
             [
              0.4444444444444444,
              "#bd3786"
             ],
             [
              0.5555555555555556,
              "#d8576b"
             ],
             [
              0.6666666666666666,
              "#ed7953"
             ],
             [
              0.7777777777777778,
              "#fb9f3a"
             ],
             [
              0.8888888888888888,
              "#fdca26"
             ],
             [
              1,
              "#f0f921"
             ]
            ],
            "type": "heatmapgl"
           }
          ],
          "histogram": [
           {
            "marker": {
             "pattern": {
              "fillmode": "overlay",
              "size": 10,
              "solidity": 0.2
             }
            },
            "type": "histogram"
           }
          ],
          "histogram2d": [
           {
            "colorbar": {
             "outlinewidth": 0,
             "ticks": ""
            },
            "colorscale": [
             [
              0,
              "#0d0887"
             ],
             [
              0.1111111111111111,
              "#46039f"
             ],
             [
              0.2222222222222222,
              "#7201a8"
             ],
             [
              0.3333333333333333,
              "#9c179e"
             ],
             [
              0.4444444444444444,
              "#bd3786"
             ],
             [
              0.5555555555555556,
              "#d8576b"
             ],
             [
              0.6666666666666666,
              "#ed7953"
             ],
             [
              0.7777777777777778,
              "#fb9f3a"
             ],
             [
              0.8888888888888888,
              "#fdca26"
             ],
             [
              1,
              "#f0f921"
             ]
            ],
            "type": "histogram2d"
           }
          ],
          "histogram2dcontour": [
           {
            "colorbar": {
             "outlinewidth": 0,
             "ticks": ""
            },
            "colorscale": [
             [
              0,
              "#0d0887"
             ],
             [
              0.1111111111111111,
              "#46039f"
             ],
             [
              0.2222222222222222,
              "#7201a8"
             ],
             [
              0.3333333333333333,
              "#9c179e"
             ],
             [
              0.4444444444444444,
              "#bd3786"
             ],
             [
              0.5555555555555556,
              "#d8576b"
             ],
             [
              0.6666666666666666,
              "#ed7953"
             ],
             [
              0.7777777777777778,
              "#fb9f3a"
             ],
             [
              0.8888888888888888,
              "#fdca26"
             ],
             [
              1,
              "#f0f921"
             ]
            ],
            "type": "histogram2dcontour"
           }
          ],
          "mesh3d": [
           {
            "colorbar": {
             "outlinewidth": 0,
             "ticks": ""
            },
            "type": "mesh3d"
           }
          ],
          "parcoords": [
           {
            "line": {
             "colorbar": {
              "outlinewidth": 0,
              "ticks": ""
             }
            },
            "type": "parcoords"
           }
          ],
          "pie": [
           {
            "automargin": true,
            "type": "pie"
           }
          ],
          "scatter": [
           {
            "fillpattern": {
             "fillmode": "overlay",
             "size": 10,
             "solidity": 0.2
            },
            "type": "scatter"
           }
          ],
          "scatter3d": [
           {
            "line": {
             "colorbar": {
              "outlinewidth": 0,
              "ticks": ""
             }
            },
            "marker": {
             "colorbar": {
              "outlinewidth": 0,
              "ticks": ""
             }
            },
            "type": "scatter3d"
           }
          ],
          "scattercarpet": [
           {
            "marker": {
             "colorbar": {
              "outlinewidth": 0,
              "ticks": ""
             }
            },
            "type": "scattercarpet"
           }
          ],
          "scattergeo": [
           {
            "marker": {
             "colorbar": {
              "outlinewidth": 0,
              "ticks": ""
             }
            },
            "type": "scattergeo"
           }
          ],
          "scattergl": [
           {
            "marker": {
             "colorbar": {
              "outlinewidth": 0,
              "ticks": ""
             }
            },
            "type": "scattergl"
           }
          ],
          "scattermapbox": [
           {
            "marker": {
             "colorbar": {
              "outlinewidth": 0,
              "ticks": ""
             }
            },
            "type": "scattermapbox"
           }
          ],
          "scatterpolar": [
           {
            "marker": {
             "colorbar": {
              "outlinewidth": 0,
              "ticks": ""
             }
            },
            "type": "scatterpolar"
           }
          ],
          "scatterpolargl": [
           {
            "marker": {
             "colorbar": {
              "outlinewidth": 0,
              "ticks": ""
             }
            },
            "type": "scatterpolargl"
           }
          ],
          "scatterternary": [
           {
            "marker": {
             "colorbar": {
              "outlinewidth": 0,
              "ticks": ""
             }
            },
            "type": "scatterternary"
           }
          ],
          "surface": [
           {
            "colorbar": {
             "outlinewidth": 0,
             "ticks": ""
            },
            "colorscale": [
             [
              0,
              "#0d0887"
             ],
             [
              0.1111111111111111,
              "#46039f"
             ],
             [
              0.2222222222222222,
              "#7201a8"
             ],
             [
              0.3333333333333333,
              "#9c179e"
             ],
             [
              0.4444444444444444,
              "#bd3786"
             ],
             [
              0.5555555555555556,
              "#d8576b"
             ],
             [
              0.6666666666666666,
              "#ed7953"
             ],
             [
              0.7777777777777778,
              "#fb9f3a"
             ],
             [
              0.8888888888888888,
              "#fdca26"
             ],
             [
              1,
              "#f0f921"
             ]
            ],
            "type": "surface"
           }
          ],
          "table": [
           {
            "cells": {
             "fill": {
              "color": "#EBF0F8"
             },
             "line": {
              "color": "white"
             }
            },
            "header": {
             "fill": {
              "color": "#C8D4E3"
             },
             "line": {
              "color": "white"
             }
            },
            "type": "table"
           }
          ]
         },
         "layout": {
          "annotationdefaults": {
           "arrowcolor": "#2a3f5f",
           "arrowhead": 0,
           "arrowwidth": 1
          },
          "autotypenumbers": "strict",
          "coloraxis": {
           "colorbar": {
            "outlinewidth": 0,
            "ticks": ""
           }
          },
          "colorscale": {
           "diverging": [
            [
             0,
             "#8e0152"
            ],
            [
             0.1,
             "#c51b7d"
            ],
            [
             0.2,
             "#de77ae"
            ],
            [
             0.3,
             "#f1b6da"
            ],
            [
             0.4,
             "#fde0ef"
            ],
            [
             0.5,
             "#f7f7f7"
            ],
            [
             0.6,
             "#e6f5d0"
            ],
            [
             0.7,
             "#b8e186"
            ],
            [
             0.8,
             "#7fbc41"
            ],
            [
             0.9,
             "#4d9221"
            ],
            [
             1,
             "#276419"
            ]
           ],
           "sequential": [
            [
             0,
             "#0d0887"
            ],
            [
             0.1111111111111111,
             "#46039f"
            ],
            [
             0.2222222222222222,
             "#7201a8"
            ],
            [
             0.3333333333333333,
             "#9c179e"
            ],
            [
             0.4444444444444444,
             "#bd3786"
            ],
            [
             0.5555555555555556,
             "#d8576b"
            ],
            [
             0.6666666666666666,
             "#ed7953"
            ],
            [
             0.7777777777777778,
             "#fb9f3a"
            ],
            [
             0.8888888888888888,
             "#fdca26"
            ],
            [
             1,
             "#f0f921"
            ]
           ],
           "sequentialminus": [
            [
             0,
             "#0d0887"
            ],
            [
             0.1111111111111111,
             "#46039f"
            ],
            [
             0.2222222222222222,
             "#7201a8"
            ],
            [
             0.3333333333333333,
             "#9c179e"
            ],
            [
             0.4444444444444444,
             "#bd3786"
            ],
            [
             0.5555555555555556,
             "#d8576b"
            ],
            [
             0.6666666666666666,
             "#ed7953"
            ],
            [
             0.7777777777777778,
             "#fb9f3a"
            ],
            [
             0.8888888888888888,
             "#fdca26"
            ],
            [
             1,
             "#f0f921"
            ]
           ]
          },
          "colorway": [
           "#636efa",
           "#EF553B",
           "#00cc96",
           "#ab63fa",
           "#FFA15A",
           "#19d3f3",
           "#FF6692",
           "#B6E880",
           "#FF97FF",
           "#FECB52"
          ],
          "font": {
           "color": "#2a3f5f"
          },
          "geo": {
           "bgcolor": "white",
           "lakecolor": "white",
           "landcolor": "#E5ECF6",
           "showlakes": true,
           "showland": true,
           "subunitcolor": "white"
          },
          "hoverlabel": {
           "align": "left"
          },
          "hovermode": "closest",
          "mapbox": {
           "style": "light"
          },
          "paper_bgcolor": "white",
          "plot_bgcolor": "#E5ECF6",
          "polar": {
           "angularaxis": {
            "gridcolor": "white",
            "linecolor": "white",
            "ticks": ""
           },
           "bgcolor": "#E5ECF6",
           "radialaxis": {
            "gridcolor": "white",
            "linecolor": "white",
            "ticks": ""
           }
          },
          "scene": {
           "xaxis": {
            "backgroundcolor": "#E5ECF6",
            "gridcolor": "white",
            "gridwidth": 2,
            "linecolor": "white",
            "showbackground": true,
            "ticks": "",
            "zerolinecolor": "white"
           },
           "yaxis": {
            "backgroundcolor": "#E5ECF6",
            "gridcolor": "white",
            "gridwidth": 2,
            "linecolor": "white",
            "showbackground": true,
            "ticks": "",
            "zerolinecolor": "white"
           },
           "zaxis": {
            "backgroundcolor": "#E5ECF6",
            "gridcolor": "white",
            "gridwidth": 2,
            "linecolor": "white",
            "showbackground": true,
            "ticks": "",
            "zerolinecolor": "white"
           }
          },
          "shapedefaults": {
           "line": {
            "color": "#2a3f5f"
           }
          },
          "ternary": {
           "aaxis": {
            "gridcolor": "white",
            "linecolor": "white",
            "ticks": ""
           },
           "baxis": {
            "gridcolor": "white",
            "linecolor": "white",
            "ticks": ""
           },
           "bgcolor": "#E5ECF6",
           "caxis": {
            "gridcolor": "white",
            "linecolor": "white",
            "ticks": ""
           }
          },
          "title": {
           "x": 0.05
          },
          "xaxis": {
           "automargin": true,
           "gridcolor": "white",
           "linecolor": "white",
           "ticks": "",
           "title": {
            "standoff": 15
           },
           "zerolinecolor": "white",
           "zerolinewidth": 2
          },
          "yaxis": {
           "automargin": true,
           "gridcolor": "white",
           "linecolor": "white",
           "ticks": "",
           "title": {
            "standoff": 15
           },
           "zerolinecolor": "white",
           "zerolinewidth": 2
          }
         }
        },
        "title": {
         "text": "Localizações dos laboratórios"
        },
        "width": 700
       }
      },
      "text/html": [
       "<div>                            <div id=\"3de59c35-716e-4acd-aa7d-2265fc4b3c46\" class=\"plotly-graph-div\" style=\"height:525px; width:700px;\"></div>            <script type=\"text/javascript\">                require([\"plotly\"], function(Plotly) {                    window.PLOTLYENV=window.PLOTLYENV || {};                                    if (document.getElementById(\"3de59c35-716e-4acd-aa7d-2265fc4b3c46\")) {                    Plotly.newPlot(                        \"3de59c35-716e-4acd-aa7d-2265fc4b3c46\",                        [{\"lat\":[34.000319,43.2311327,47.7162786,33.9093875,40.9309925,39.9924717,33.5113314,37.6759064,37.6993,42.7065088,37.9115042,39.934946,47.6208696,33.9484477,33.9710116,41.4877432,33.9735891,39.9076973,42.1077525,40.0374664,47.632801,41.8554575,33.7681453,47.7158288,41.497223,33.8254779,42.2653422,39.912442,33.451232,33.732926,41.5694897,37.6822922,40.0021676,47.750593,37.9838036,47.6076339,40.0303647,39.9560828,47.7084091,42.0281344,33.8786308,40.0066857,47.7510662,37.956103,47.8044871,41.5586991,37.9242863,37.9765001,37.7754429,40.0294758,47.6091997,47.6219477,41.5387268,33.4498013,42.7473541,43.1014617,37.7990818,39.9495713,42.8166911,42.1710988,39.957358,37.9694792,43.1201376,47.4568023,43.0978638,33.451232,33.7943032,37.7754429,42.276897,42.300344,40.7447179,47.760574,40.0173148,39.9213919,41.466876,42.8075256,43.2272241,42.8213859,42.2493985,37.9553785,43.0731473,38.4634804,34.0708467,42.775748,39.9507025,47.8026806,42.8073225,37.6762783,33.8473632,42.2607878,47.6821988,47.4585122,42.1146632,47.6674625,43.0150099,38.0070008,39.9130589,37.7762785,42.247582,47.6100869,43.1636949,33.5774091,39.9290428,41.4352418,34.1054485,33.677914,39.9457889,42.3020867,43.0879409,39.9218172,33.9073497,47.7148568,47.6516517,39.9184081,43.0773695,43.2530101,41.5611182,37.984716],\"lon\":[-84.1629724,-75.4445363,-122.1838152,-84.3529096,-90.9437598,-75.1035442,-84.2316312,-121.8772172,-121.9014055,-71.171084,-122.0444705,-75.0669325,-122.1889933,-84.3369582,-84.5511075,-90.4216658,-84.4822033,-75.289741,-70.7667516,-75.1206684,-122.1330652,-89.489907,-84.388286,-122.180939,-90.5296326,-84.2571003,-71.7927896,-75.0583428,-94.0683805,-84.6724126,-90.5271587,-121.8756054,-75.2825227,-122.154299,-122.0360361,-122.3123067,-75.1834481,-75.1987675,-122.335505,-71.31267,-84.0214922,-75.2190999,-122.6477891,-121.9694513,-122.2090808,-90.518775,-121.7371186,-121.8012144,-121.9669886,-75.0869837,-122.3262981,-122.1870553,-90.5511836,-84.508719,-71.1313972,-76.060889,-121.9166879,-75.1567543,-71.5409322,-70.9577834,-75.1642512,-121.2901678,-76.1627233,-122.3457174,-75.3055966,-94.0683805,-84.2778831,-121.9669886,-71.4160299,-71.8038673,-90.9114665,-122.2527338,-75.1509415,-75.2561934,-90.5478657,-71.2622671,-75.4323824,-70.9065276,-84.4259382,-122.0411404,-75.2957098,-121.416546,-84.3000492,-71.2495637,-75.2286725,-122.3389483,-71.2650041,-121.7853993,-84.5065753,-83.7391191,-122.1259728,-122.3370864,-71.463432,-122.3817193,-75.0398441,-121.868574,-75.1518927,-121.9679406,-70.9842195,-122.3243021,-76.2366636,-84.3944193,-75.170544,-91.0759938,-84.5409941,-84.00695,-75.1533585,-71.407008,-75.2624454,-75.1730023,-84.3581189,-122.1866063,-122.687053,-75.035649,-75.6536905,-75.1860015,-90.5915183,-122.0383645],\"marker\":{\"autocolorscale\":false,\"color\":\"#5288db\",\"colorscale\":[[0.0,\"rgb(0,0,255)\"],[1.0,\"rgb(255,0,0)\"]],\"size\":5},\"type\":\"scattergeo\"}],                        {\"geo\":{\"countrycolor\":\"rgb(100,100,100)\",\"countrywidth\":0.5,\"landcolor\":\"rgb(250,250,250)\",\"projection\":{\"type\":\"albers usa\"},\"scope\":\"usa\",\"showland\":true,\"subunitcolor\":\"rgb(100,100,100)\",\"subunitwidth\":0.5},\"title\":{\"text\":\"Localiza\\u00e7\\u00f5es dos laborat\\u00f3rios\"},\"template\":{\"data\":{\"histogram2dcontour\":[{\"type\":\"histogram2dcontour\",\"colorbar\":{\"outlinewidth\":0,\"ticks\":\"\"},\"colorscale\":[[0.0,\"#0d0887\"],[0.1111111111111111,\"#46039f\"],[0.2222222222222222,\"#7201a8\"],[0.3333333333333333,\"#9c179e\"],[0.4444444444444444,\"#bd3786\"],[0.5555555555555556,\"#d8576b\"],[0.6666666666666666,\"#ed7953\"],[0.7777777777777778,\"#fb9f3a\"],[0.8888888888888888,\"#fdca26\"],[1.0,\"#f0f921\"]]}],\"choropleth\":[{\"type\":\"choropleth\",\"colorbar\":{\"outlinewidth\":0,\"ticks\":\"\"}}],\"histogram2d\":[{\"type\":\"histogram2d\",\"colorbar\":{\"outlinewidth\":0,\"ticks\":\"\"},\"colorscale\":[[0.0,\"#0d0887\"],[0.1111111111111111,\"#46039f\"],[0.2222222222222222,\"#7201a8\"],[0.3333333333333333,\"#9c179e\"],[0.4444444444444444,\"#bd3786\"],[0.5555555555555556,\"#d8576b\"],[0.6666666666666666,\"#ed7953\"],[0.7777777777777778,\"#fb9f3a\"],[0.8888888888888888,\"#fdca26\"],[1.0,\"#f0f921\"]]}],\"heatmap\":[{\"type\":\"heatmap\",\"colorbar\":{\"outlinewidth\":0,\"ticks\":\"\"},\"colorscale\":[[0.0,\"#0d0887\"],[0.1111111111111111,\"#46039f\"],[0.2222222222222222,\"#7201a8\"],[0.3333333333333333,\"#9c179e\"],[0.4444444444444444,\"#bd3786\"],[0.5555555555555556,\"#d8576b\"],[0.6666666666666666,\"#ed7953\"],[0.7777777777777778,\"#fb9f3a\"],[0.8888888888888888,\"#fdca26\"],[1.0,\"#f0f921\"]]}],\"heatmapgl\":[{\"type\":\"heatmapgl\",\"colorbar\":{\"outlinewidth\":0,\"ticks\":\"\"},\"colorscale\":[[0.0,\"#0d0887\"],[0.1111111111111111,\"#46039f\"],[0.2222222222222222,\"#7201a8\"],[0.3333333333333333,\"#9c179e\"],[0.4444444444444444,\"#bd3786\"],[0.5555555555555556,\"#d8576b\"],[0.6666666666666666,\"#ed7953\"],[0.7777777777777778,\"#fb9f3a\"],[0.8888888888888888,\"#fdca26\"],[1.0,\"#f0f921\"]]}],\"contourcarpet\":[{\"type\":\"contourcarpet\",\"colorbar\":{\"outlinewidth\":0,\"ticks\":\"\"}}],\"contour\":[{\"type\":\"contour\",\"colorbar\":{\"outlinewidth\":0,\"ticks\":\"\"},\"colorscale\":[[0.0,\"#0d0887\"],[0.1111111111111111,\"#46039f\"],[0.2222222222222222,\"#7201a8\"],[0.3333333333333333,\"#9c179e\"],[0.4444444444444444,\"#bd3786\"],[0.5555555555555556,\"#d8576b\"],[0.6666666666666666,\"#ed7953\"],[0.7777777777777778,\"#fb9f3a\"],[0.8888888888888888,\"#fdca26\"],[1.0,\"#f0f921\"]]}],\"surface\":[{\"type\":\"surface\",\"colorbar\":{\"outlinewidth\":0,\"ticks\":\"\"},\"colorscale\":[[0.0,\"#0d0887\"],[0.1111111111111111,\"#46039f\"],[0.2222222222222222,\"#7201a8\"],[0.3333333333333333,\"#9c179e\"],[0.4444444444444444,\"#bd3786\"],[0.5555555555555556,\"#d8576b\"],[0.6666666666666666,\"#ed7953\"],[0.7777777777777778,\"#fb9f3a\"],[0.8888888888888888,\"#fdca26\"],[1.0,\"#f0f921\"]]}],\"mesh3d\":[{\"type\":\"mesh3d\",\"colorbar\":{\"outlinewidth\":0,\"ticks\":\"\"}}],\"scatter\":[{\"fillpattern\":{\"fillmode\":\"overlay\",\"size\":10,\"solidity\":0.2},\"type\":\"scatter\"}],\"parcoords\":[{\"type\":\"parcoords\",\"line\":{\"colorbar\":{\"outlinewidth\":0,\"ticks\":\"\"}}}],\"scatterpolargl\":[{\"type\":\"scatterpolargl\",\"marker\":{\"colorbar\":{\"outlinewidth\":0,\"ticks\":\"\"}}}],\"bar\":[{\"error_x\":{\"color\":\"#2a3f5f\"},\"error_y\":{\"color\":\"#2a3f5f\"},\"marker\":{\"line\":{\"color\":\"#E5ECF6\",\"width\":0.5},\"pattern\":{\"fillmode\":\"overlay\",\"size\":10,\"solidity\":0.2}},\"type\":\"bar\"}],\"scattergeo\":[{\"type\":\"scattergeo\",\"marker\":{\"colorbar\":{\"outlinewidth\":0,\"ticks\":\"\"}}}],\"scatterpolar\":[{\"type\":\"scatterpolar\",\"marker\":{\"colorbar\":{\"outlinewidth\":0,\"ticks\":\"\"}}}],\"histogram\":[{\"marker\":{\"pattern\":{\"fillmode\":\"overlay\",\"size\":10,\"solidity\":0.2}},\"type\":\"histogram\"}],\"scattergl\":[{\"type\":\"scattergl\",\"marker\":{\"colorbar\":{\"outlinewidth\":0,\"ticks\":\"\"}}}],\"scatter3d\":[{\"type\":\"scatter3d\",\"line\":{\"colorbar\":{\"outlinewidth\":0,\"ticks\":\"\"}},\"marker\":{\"colorbar\":{\"outlinewidth\":0,\"ticks\":\"\"}}}],\"scattermapbox\":[{\"type\":\"scattermapbox\",\"marker\":{\"colorbar\":{\"outlinewidth\":0,\"ticks\":\"\"}}}],\"scatterternary\":[{\"type\":\"scatterternary\",\"marker\":{\"colorbar\":{\"outlinewidth\":0,\"ticks\":\"\"}}}],\"scattercarpet\":[{\"type\":\"scattercarpet\",\"marker\":{\"colorbar\":{\"outlinewidth\":0,\"ticks\":\"\"}}}],\"carpet\":[{\"aaxis\":{\"endlinecolor\":\"#2a3f5f\",\"gridcolor\":\"white\",\"linecolor\":\"white\",\"minorgridcolor\":\"white\",\"startlinecolor\":\"#2a3f5f\"},\"baxis\":{\"endlinecolor\":\"#2a3f5f\",\"gridcolor\":\"white\",\"linecolor\":\"white\",\"minorgridcolor\":\"white\",\"startlinecolor\":\"#2a3f5f\"},\"type\":\"carpet\"}],\"table\":[{\"cells\":{\"fill\":{\"color\":\"#EBF0F8\"},\"line\":{\"color\":\"white\"}},\"header\":{\"fill\":{\"color\":\"#C8D4E3\"},\"line\":{\"color\":\"white\"}},\"type\":\"table\"}],\"barpolar\":[{\"marker\":{\"line\":{\"color\":\"#E5ECF6\",\"width\":0.5},\"pattern\":{\"fillmode\":\"overlay\",\"size\":10,\"solidity\":0.2}},\"type\":\"barpolar\"}],\"pie\":[{\"automargin\":true,\"type\":\"pie\"}]},\"layout\":{\"autotypenumbers\":\"strict\",\"colorway\":[\"#636efa\",\"#EF553B\",\"#00cc96\",\"#ab63fa\",\"#FFA15A\",\"#19d3f3\",\"#FF6692\",\"#B6E880\",\"#FF97FF\",\"#FECB52\"],\"font\":{\"color\":\"#2a3f5f\"},\"hovermode\":\"closest\",\"hoverlabel\":{\"align\":\"left\"},\"paper_bgcolor\":\"white\",\"plot_bgcolor\":\"#E5ECF6\",\"polar\":{\"bgcolor\":\"#E5ECF6\",\"angularaxis\":{\"gridcolor\":\"white\",\"linecolor\":\"white\",\"ticks\":\"\"},\"radialaxis\":{\"gridcolor\":\"white\",\"linecolor\":\"white\",\"ticks\":\"\"}},\"ternary\":{\"bgcolor\":\"#E5ECF6\",\"aaxis\":{\"gridcolor\":\"white\",\"linecolor\":\"white\",\"ticks\":\"\"},\"baxis\":{\"gridcolor\":\"white\",\"linecolor\":\"white\",\"ticks\":\"\"},\"caxis\":{\"gridcolor\":\"white\",\"linecolor\":\"white\",\"ticks\":\"\"}},\"coloraxis\":{\"colorbar\":{\"outlinewidth\":0,\"ticks\":\"\"}},\"colorscale\":{\"sequential\":[[0.0,\"#0d0887\"],[0.1111111111111111,\"#46039f\"],[0.2222222222222222,\"#7201a8\"],[0.3333333333333333,\"#9c179e\"],[0.4444444444444444,\"#bd3786\"],[0.5555555555555556,\"#d8576b\"],[0.6666666666666666,\"#ed7953\"],[0.7777777777777778,\"#fb9f3a\"],[0.8888888888888888,\"#fdca26\"],[1.0,\"#f0f921\"]],\"sequentialminus\":[[0.0,\"#0d0887\"],[0.1111111111111111,\"#46039f\"],[0.2222222222222222,\"#7201a8\"],[0.3333333333333333,\"#9c179e\"],[0.4444444444444444,\"#bd3786\"],[0.5555555555555556,\"#d8576b\"],[0.6666666666666666,\"#ed7953\"],[0.7777777777777778,\"#fb9f3a\"],[0.8888888888888888,\"#fdca26\"],[1.0,\"#f0f921\"]],\"diverging\":[[0,\"#8e0152\"],[0.1,\"#c51b7d\"],[0.2,\"#de77ae\"],[0.3,\"#f1b6da\"],[0.4,\"#fde0ef\"],[0.5,\"#f7f7f7\"],[0.6,\"#e6f5d0\"],[0.7,\"#b8e186\"],[0.8,\"#7fbc41\"],[0.9,\"#4d9221\"],[1,\"#276419\"]]},\"xaxis\":{\"gridcolor\":\"white\",\"linecolor\":\"white\",\"ticks\":\"\",\"title\":{\"standoff\":15},\"zerolinecolor\":\"white\",\"automargin\":true,\"zerolinewidth\":2},\"yaxis\":{\"gridcolor\":\"white\",\"linecolor\":\"white\",\"ticks\":\"\",\"title\":{\"standoff\":15},\"zerolinecolor\":\"white\",\"automargin\":true,\"zerolinewidth\":2},\"scene\":{\"xaxis\":{\"backgroundcolor\":\"#E5ECF6\",\"gridcolor\":\"white\",\"linecolor\":\"white\",\"showbackground\":true,\"ticks\":\"\",\"zerolinecolor\":\"white\",\"gridwidth\":2},\"yaxis\":{\"backgroundcolor\":\"#E5ECF6\",\"gridcolor\":\"white\",\"linecolor\":\"white\",\"showbackground\":true,\"ticks\":\"\",\"zerolinecolor\":\"white\",\"gridwidth\":2},\"zaxis\":{\"backgroundcolor\":\"#E5ECF6\",\"gridcolor\":\"white\",\"linecolor\":\"white\",\"showbackground\":true,\"ticks\":\"\",\"zerolinecolor\":\"white\",\"gridwidth\":2}},\"shapedefaults\":{\"line\":{\"color\":\"#2a3f5f\"}},\"annotationdefaults\":{\"arrowcolor\":\"#2a3f5f\",\"arrowhead\":0,\"arrowwidth\":1},\"geo\":{\"bgcolor\":\"white\",\"landcolor\":\"#E5ECF6\",\"subunitcolor\":\"white\",\"showland\":true,\"showlakes\":true,\"lakecolor\":\"white\"},\"title\":{\"x\":0.05},\"mapbox\":{\"style\":\"light\"}}},\"width\":700},                        {\"responsive\": true}                    ).then(function(){\n",
       "                            \n",
       "var gd = document.getElementById('3de59c35-716e-4acd-aa7d-2265fc4b3c46');\n",
       "var x = new MutationObserver(function (mutations, observer) {{\n",
       "        var display = window.getComputedStyle(gd).display;\n",
       "        if (!display || display === 'none') {{\n",
       "            console.log([gd, 'removed!']);\n",
       "            Plotly.purge(gd);\n",
       "            observer.disconnect();\n",
       "        }}\n",
       "}});\n",
       "\n",
       "// Listen for the removal of the full notebook cells\n",
       "var notebookContainer = gd.closest('#notebook-container');\n",
       "if (notebookContainer) {{\n",
       "    x.observe(notebookContainer, {childList: true});\n",
       "}}\n",
       "\n",
       "// Listen for the clearing of the current output cell\n",
       "var outputEl = gd.closest('.output');\n",
       "if (outputEl) {{\n",
       "    x.observe(outputEl, {childList: true});\n",
       "}}\n",
       "\n",
       "                        })                };                });            </script>        </div>"
      ]
     },
     "metadata": {},
     "output_type": "display_data"
    }
   ],
   "source": [
    "data = dict(\n",
    "    type = 'scattergeo',\n",
    "    # colorscale = 'RdBu',\n",
    "    lat = coordenadas['latitude'],\n",
    "    lon = coordenadas['longitude'],\n",
    "    # locations = coordenadas['state'],\n",
    "    # locationmode = 'USA-states',\n",
    "    # z = coordenadas['Lab Id'],\n",
    "    # text = coordenadas['Address'],\n",
    "    marker = dict(size = 5, autocolorscale = False, colorscale = 'Bluered', color = '#5288db'),\n",
    "    # colorbar = dict(title = 'Zipcode')\n",
    ")\n",
    "\n",
    "layout = dict(\n",
    "    title = 'Localizações dos laboratórios',\n",
    "    geo = dict(scope = 'usa', # showlakes = True, lakecolor = 'rgb(85, 173, 240)',\n",
    "               projection = dict(type ='albers usa'),showland = True,\n",
    "                    landcolor=\"rgb(250,250,250)\",subunitcolor = \"rgb(100,100,100)\",\n",
    "                     countrycolor = \"rgb(100,100,100)\",countrywidth =0.5, subunitwidth=0.5)\n",
    ")\n",
    "\n",
    "choromap = go.Figure(data = [data], layout = layout)\n",
    "\n",
    "\n",
    "choromap.update_layout(width=700)\n",
    "iplot(choromap, validate = False)\n"
   ]
  },
  {
   "attachments": {},
   "cell_type": "markdown",
   "metadata": {},
   "source": [
    "observando o mapa, é possível concluir que os laboratórios possuem pequenas concentrações espalhadas pelo país. \n",
    "\n",
    "é possível que as unidades estejam próximas para tentar consolidar uma clientela forte nestes locais e para facilitar a logística"
   ]
  },
  {
   "attachments": {},
   "cell_type": "markdown",
   "metadata": {},
   "source": [
    "## distribuição das variáveis dos clientes"
   ]
  },
  {
   "attachments": {},
   "cell_type": "markdown",
   "metadata": {},
   "source": [
    "Antes de fazer os gráficos de distribuição, é importante remover os clientes que estão com o final da id \"-2\" (podem ser pacientes diferentes) e deixar os pacientes como únicos"
   ]
  },
  {
   "cell_type": "code",
   "execution_count": 9,
   "metadata": {},
   "outputs": [
    {
     "data": {
      "text/plain": [
       "501445"
      ]
     },
     "execution_count": 9,
     "metadata": {},
     "output_type": "execute_result"
    }
   ],
   "source": [
    "# remover final_id = -2\n",
    "pacientes_unicos = transactional_data[transactional_data['final_id'] != '2'].drop_duplicates('Patient Id')\n",
    "\n",
    "pacientes_unicos['final_id'] = pacientes_unicos['final_id'].astype('str').astype('category')\n",
    "\n",
    "# número de pacientes únicos\n",
    "len(pacientes_unicos)"
   ]
  },
  {
   "attachments": {},
   "cell_type": "markdown",
   "metadata": {},
   "source": [
    "### distribuição de sexo"
   ]
  },
  {
   "cell_type": "code",
   "execution_count": 10,
   "metadata": {},
   "outputs": [
    {
     "data": {
      "text/html": [
       "<div>\n",
       "<style scoped>\n",
       "    .dataframe tbody tr th:only-of-type {\n",
       "        vertical-align: middle;\n",
       "    }\n",
       "\n",
       "    .dataframe tbody tr th {\n",
       "        vertical-align: top;\n",
       "    }\n",
       "\n",
       "    .dataframe thead th {\n",
       "        text-align: right;\n",
       "    }\n",
       "</style>\n",
       "<table border=\"1\" class=\"dataframe\">\n",
       "  <thead>\n",
       "    <tr style=\"text-align: right;\">\n",
       "      <th></th>\n",
       "      <th>Gender</th>\n",
       "      <th>Número</th>\n",
       "      <th>percentual</th>\n",
       "    </tr>\n",
       "  </thead>\n",
       "  <tbody>\n",
       "    <tr>\n",
       "      <th>0</th>\n",
       "      <td>F</td>\n",
       "      <td>341863</td>\n",
       "      <td>68.2</td>\n",
       "    </tr>\n",
       "    <tr>\n",
       "      <th>1</th>\n",
       "      <td>M</td>\n",
       "      <td>159582</td>\n",
       "      <td>31.8</td>\n",
       "    </tr>\n",
       "  </tbody>\n",
       "</table>\n",
       "</div>"
      ],
      "text/plain": [
       "  Gender  Número  percentual\n",
       "0      F  341863        68.2\n",
       "1      M  159582        31.8"
      ]
     },
     "execution_count": 10,
     "metadata": {},
     "output_type": "execute_result"
    }
   ],
   "source": [
    "# gerar tabela para o gráfico de sexo\n",
    "\n",
    "# agrupar por sexo e contar quantos tem\n",
    "sexo1 = pacientes_unicos.groupby('Gender').count()['Patient Id'].reset_index()\n",
    "\n",
    "sexo1 = sexo1.rename({'Patient Id':'Número'}, axis = 1)\n",
    "sexo1['percentual'] = round(sexo1['Número'] * 100/ len(pacientes_unicos), 1)\n",
    "\n",
    "sexo1\n"
   ]
  },
  {
   "cell_type": "code",
   "execution_count": 11,
   "metadata": {},
   "outputs": [
    {
     "data": {
      "image/png": "[encoded data removed]",
      "text/plain": [
       "<Figure size 1000x300 with 1 Axes>"
      ]
     },
     "metadata": {},
     "output_type": "display_data"
    }
   ],
   "source": [
    "# fazer o gráfico\n",
    "\n",
    "plt.figure(figsize = (10, 3))\n",
    "sns.set_style('white') # also 'ticks', 'darkgrid', 'whitegrid', white\n",
    "fig = sns.barplot(data = sexo1, x = 'percentual', y = 'Gender', color = '#7f7f7f', width = 0.5)\n",
    "\n",
    "# colocar os números no final da barra\n",
    "for i in fig.patches:\n",
    "    fig.annotate(f\"{i.get_width():.1f}%\",\n",
    "                  (i.get_width(), i.get_y() + i.get_height() / 2),\n",
    "                  ha = 'left', va = 'center', fontsize = 10,\n",
    "                  color = '#4d4d4d', xytext = (1, 0),\n",
    "                  textcoords = 'offset points')\n",
    "\n",
    "# remover os números do eixo x\n",
    "fig.set_xticklabels('')\n",
    "\n",
    "# remover as bordas do gráfico\n",
    "sns.despine(bottom = True)\n",
    "\n",
    "# deixar o gráfico transparente\n",
    "# plt.gcf().set_facecolor('none')\n",
    "# plt.gca().patch.set_alpha(0)"
   ]
  },
  {
   "attachments": {},
   "cell_type": "markdown",
   "metadata": {},
   "source": [
    "### histograma de idade"
   ]
  },
  {
   "cell_type": "code",
   "execution_count": 12,
   "metadata": {},
   "outputs": [
    {
     "data": {
      "text/html": [
       "<div>\n",
       "<style scoped>\n",
       "    .dataframe tbody tr th:only-of-type {\n",
       "        vertical-align: middle;\n",
       "    }\n",
       "\n",
       "    .dataframe tbody tr th {\n",
       "        vertical-align: top;\n",
       "    }\n",
       "\n",
       "    .dataframe thead th {\n",
       "        text-align: right;\n",
       "    }\n",
       "</style>\n",
       "<table border=\"1\" class=\"dataframe\">\n",
       "  <thead>\n",
       "    <tr style=\"text-align: right;\">\n",
       "      <th></th>\n",
       "      <th>Patient Id</th>\n",
       "      <th>Gender</th>\n",
       "      <th>Date of birth</th>\n",
       "      <th>Date of service</th>\n",
       "      <th>Service Id</th>\n",
       "      <th>Lab Id</th>\n",
       "      <th>CodItem</th>\n",
       "      <th>Valor Pago</th>\n",
       "      <th>Idade</th>\n",
       "      <th>final_id</th>\n",
       "    </tr>\n",
       "  </thead>\n",
       "  <tbody>\n",
       "    <tr>\n",
       "      <th>824591</th>\n",
       "      <td>10225811036-BIO002</td>\n",
       "      <td>M</td>\n",
       "      <td>1859-12-28 00:00:00</td>\n",
       "      <td>2019-09-19</td>\n",
       "      <td>574604575219-67</td>\n",
       "      <td>L152</td>\n",
       "      <td>70004795</td>\n",
       "      <td>264.0</td>\n",
       "      <td>159.0</td>\n",
       "      <td>BIO002</td>\n",
       "    </tr>\n",
       "    <tr>\n",
       "      <th>1659547</th>\n",
       "      <td>6162950424-1</td>\n",
       "      <td>F</td>\n",
       "      <td>1900-01-01 00:00:00</td>\n",
       "      <td>2020-04-05</td>\n",
       "      <td>6162950424-1-1</td>\n",
       "      <td>L139</td>\n",
       "      <td>70004461</td>\n",
       "      <td>94.0</td>\n",
       "      <td>120.0</td>\n",
       "      <td>1</td>\n",
       "    </tr>\n",
       "    <tr>\n",
       "      <th>156425</th>\n",
       "      <td>10240370370-BIO010</td>\n",
       "      <td>M</td>\n",
       "      <td>1911-08-20 00:00:00</td>\n",
       "      <td>2019-03-03</td>\n",
       "      <td>529400114551-122</td>\n",
       "      <td>L668</td>\n",
       "      <td>70005506</td>\n",
       "      <td>55.0</td>\n",
       "      <td>107.0</td>\n",
       "      <td>BIO010</td>\n",
       "    </tr>\n",
       "    <tr>\n",
       "      <th>66737</th>\n",
       "      <td>10240392383-BIO010</td>\n",
       "      <td>M</td>\n",
       "      <td>1911-08-20</td>\n",
       "      <td>2019-02-06</td>\n",
       "      <td>529400111857-122</td>\n",
       "      <td>L668</td>\n",
       "      <td>70005506</td>\n",
       "      <td>55.0</td>\n",
       "      <td>107.0</td>\n",
       "      <td>BIO010</td>\n",
       "    </tr>\n",
       "    <tr>\n",
       "      <th>72258</th>\n",
       "      <td>10240388647-BIO010</td>\n",
       "      <td>F</td>\n",
       "      <td>1912-09-07</td>\n",
       "      <td>2019-01-31</td>\n",
       "      <td>529709889235-123</td>\n",
       "      <td>L658</td>\n",
       "      <td>70005506</td>\n",
       "      <td>55.0</td>\n",
       "      <td>106.0</td>\n",
       "      <td>BIO010</td>\n",
       "    </tr>\n",
       "  </tbody>\n",
       "</table>\n",
       "</div>"
      ],
      "text/plain": [
       "                 Patient Id Gender        Date of birth Date of service  \\\n",
       "824591   10225811036-BIO002      M  1859-12-28 00:00:00      2019-09-19   \n",
       "1659547        6162950424-1      F  1900-01-01 00:00:00      2020-04-05   \n",
       "156425   10240370370-BIO010      M  1911-08-20 00:00:00      2019-03-03   \n",
       "66737    10240392383-BIO010      M           1911-08-20      2019-02-06   \n",
       "72258    10240388647-BIO010      F           1912-09-07      2019-01-31   \n",
       "\n",
       "               Service Id Lab Id   CodItem  Valor Pago  Idade final_id  \n",
       "824591    574604575219-67   L152  70004795       264.0  159.0   BIO002  \n",
       "1659547    6162950424-1-1   L139  70004461        94.0  120.0        1  \n",
       "156425   529400114551-122   L668  70005506        55.0  107.0   BIO010  \n",
       "66737    529400111857-122   L668  70005506        55.0  107.0   BIO010  \n",
       "72258    529709889235-123   L658  70005506        55.0  106.0   BIO010  "
      ]
     },
     "execution_count": 12,
     "metadata": {},
     "output_type": "execute_result"
    }
   ],
   "source": [
    "pacientes_unicos.sort_values('Idade', ascending = False).head()"
   ]
  },
  {
   "cell_type": "code",
   "execution_count": 13,
   "metadata": {},
   "outputs": [
    {
     "data": {
      "text/plain": [
       "<Axes: xlabel='Idade', ylabel='Count'>"
      ]
     },
     "execution_count": 13,
     "metadata": {},
     "output_type": "execute_result"
    },
    {
     "data": {
      "image/png": "[encoded data removed]",
      "text/plain": [
       "<Figure size 1000x400 with 1 Axes>"
      ]
     },
     "metadata": {},
     "output_type": "display_data"
    }
   ],
   "source": [
    "plt.figure(figsize = (10, 4))\n",
    "sns.set_style('white')\n",
    "sns.histplot(pacientes_unicos[pacientes_unicos['Idade'] <= 120], x = 'Idade', bins = 150, color = '#7f7f7f')"
   ]
  },
  {
   "attachments": {},
   "cell_type": "markdown",
   "metadata": {},
   "source": [
    "3. distribuição de sexo + idade"
   ]
  },
  {
   "cell_type": "code",
   "execution_count": 14,
   "metadata": {},
   "outputs": [
    {
     "data": {
      "text/plain": [
       "<Axes: xlabel='Idade', ylabel='Count'>"
      ]
     },
     "execution_count": 14,
     "metadata": {},
     "output_type": "execute_result"
    },
    {
     "data": {
      "image/png": "[encoded data removed]",
      "text/plain": [
       "<Figure size 1000x400 with 1 Axes>"
      ]
     },
     "metadata": {},
     "output_type": "display_data"
    }
   ],
   "source": [
    "plt.figure(figsize = (10, 4))\n",
    "sns.set_style('white')\n",
    "sns.histplot(pacientes_unicos[pacientes_unicos['Idade'] <= 120], x = 'Idade', bins = 150, hue = 'Gender', palette={\"M\": \"#1822DC\", \"F\": \"#7f7f7f\"})"
   ]
  },
  {
   "attachments": {},
   "cell_type": "markdown",
   "metadata": {},
   "source": [
    "### O que é o service id? qual a distribuição desta variável?"
   ]
  },
  {
   "cell_type": "code",
   "execution_count": 15,
   "metadata": {},
   "outputs": [
    {
     "data": {
      "text/plain": [
       "660059"
      ]
     },
     "execution_count": 15,
     "metadata": {},
     "output_type": "execute_result"
    }
   ],
   "source": [
    "transactional_data['Service Id'].nunique()"
   ]
  },
  {
   "attachments": {},
   "cell_type": "markdown",
   "metadata": {},
   "source": [
    "O número de service id diferentes é menor que o total de exames, mas maior que o de clientes únicos. \n",
    "\n",
    "tentando observar um padrão nos números pela tabela"
   ]
  },
  {
   "cell_type": "code",
   "execution_count": 16,
   "metadata": {},
   "outputs": [
    {
     "data": {
      "text/html": [
       "<div>\n",
       "<style scoped>\n",
       "    .dataframe tbody tr th:only-of-type {\n",
       "        vertical-align: middle;\n",
       "    }\n",
       "\n",
       "    .dataframe tbody tr th {\n",
       "        vertical-align: top;\n",
       "    }\n",
       "\n",
       "    .dataframe thead th {\n",
       "        text-align: right;\n",
       "    }\n",
       "</style>\n",
       "<table border=\"1\" class=\"dataframe\">\n",
       "  <thead>\n",
       "    <tr style=\"text-align: right;\">\n",
       "      <th></th>\n",
       "      <th>Patient Id</th>\n",
       "      <th>Gender</th>\n",
       "      <th>Date of birth</th>\n",
       "      <th>Date of service</th>\n",
       "      <th>Service Id</th>\n",
       "      <th>Lab Id</th>\n",
       "      <th>CodItem</th>\n",
       "      <th>Valor Pago</th>\n",
       "      <th>Idade</th>\n",
       "      <th>final_id</th>\n",
       "    </tr>\n",
       "  </thead>\n",
       "  <tbody>\n",
       "    <tr>\n",
       "      <th>0</th>\n",
       "      <td>10210830256-BIO003</td>\n",
       "      <td>F</td>\n",
       "      <td>1976-08-01 00:00:00</td>\n",
       "      <td>2019-01-07</td>\n",
       "      <td>571904533475-38</td>\n",
       "      <td>L133</td>\n",
       "      <td>70003237</td>\n",
       "      <td>9.0</td>\n",
       "      <td>42.0</td>\n",
       "      <td>BIO003</td>\n",
       "    </tr>\n",
       "    <tr>\n",
       "      <th>1</th>\n",
       "      <td>10210830256-BIO003</td>\n",
       "      <td>F</td>\n",
       "      <td>1976-08-01 00:00:00</td>\n",
       "      <td>2019-01-07</td>\n",
       "      <td>571904533475-38</td>\n",
       "      <td>L133</td>\n",
       "      <td>70000638</td>\n",
       "      <td>13.0</td>\n",
       "      <td>42.0</td>\n",
       "      <td>BIO003</td>\n",
       "    </tr>\n",
       "    <tr>\n",
       "      <th>2</th>\n",
       "      <td>10210830256-BIO003</td>\n",
       "      <td>F</td>\n",
       "      <td>1976-08-01 00:00:00</td>\n",
       "      <td>2019-01-07</td>\n",
       "      <td>571904533475-38</td>\n",
       "      <td>L133</td>\n",
       "      <td>70001597</td>\n",
       "      <td>49.0</td>\n",
       "      <td>42.0</td>\n",
       "      <td>BIO003</td>\n",
       "    </tr>\n",
       "    <tr>\n",
       "      <th>3</th>\n",
       "      <td>10210830256-BIO003</td>\n",
       "      <td>F</td>\n",
       "      <td>1976-08-01 00:00:00</td>\n",
       "      <td>2019-01-07</td>\n",
       "      <td>571904533475-38</td>\n",
       "      <td>L133</td>\n",
       "      <td>70000103</td>\n",
       "      <td>11.0</td>\n",
       "      <td>42.0</td>\n",
       "      <td>BIO003</td>\n",
       "    </tr>\n",
       "    <tr>\n",
       "      <th>4</th>\n",
       "      <td>10210830256-BIO003</td>\n",
       "      <td>F</td>\n",
       "      <td>1976-08-01 00:00:00</td>\n",
       "      <td>2019-01-07</td>\n",
       "      <td>571904533475-38</td>\n",
       "      <td>L133</td>\n",
       "      <td>70000224</td>\n",
       "      <td>10.0</td>\n",
       "      <td>42.0</td>\n",
       "      <td>BIO003</td>\n",
       "    </tr>\n",
       "    <tr>\n",
       "      <th>5</th>\n",
       "      <td>10210830256-BIO003</td>\n",
       "      <td>F</td>\n",
       "      <td>1976-08-01 00:00:00</td>\n",
       "      <td>2019-01-07</td>\n",
       "      <td>571904533475-38</td>\n",
       "      <td>L133</td>\n",
       "      <td>70002653</td>\n",
       "      <td>8.0</td>\n",
       "      <td>42.0</td>\n",
       "      <td>BIO003</td>\n",
       "    </tr>\n",
       "    <tr>\n",
       "      <th>6</th>\n",
       "      <td>10210830256-BIO003</td>\n",
       "      <td>F</td>\n",
       "      <td>1976-08-01 00:00:00</td>\n",
       "      <td>2019-01-07</td>\n",
       "      <td>571904533475-38</td>\n",
       "      <td>L133</td>\n",
       "      <td>70001206</td>\n",
       "      <td>41.0</td>\n",
       "      <td>42.0</td>\n",
       "      <td>BIO003</td>\n",
       "    </tr>\n",
       "    <tr>\n",
       "      <th>7</th>\n",
       "      <td>10210830256-BIO003</td>\n",
       "      <td>F</td>\n",
       "      <td>1976-08-01 00:00:00</td>\n",
       "      <td>2019-01-07</td>\n",
       "      <td>571904533475-38</td>\n",
       "      <td>L133</td>\n",
       "      <td>70005903</td>\n",
       "      <td>57.0</td>\n",
       "      <td>42.0</td>\n",
       "      <td>BIO003</td>\n",
       "    </tr>\n",
       "    <tr>\n",
       "      <th>8</th>\n",
       "      <td>10210830256-BIO003</td>\n",
       "      <td>F</td>\n",
       "      <td>1976-08-01 00:00:00</td>\n",
       "      <td>2019-01-07</td>\n",
       "      <td>571904533475-38</td>\n",
       "      <td>L133</td>\n",
       "      <td>70000392</td>\n",
       "      <td>8.0</td>\n",
       "      <td>42.0</td>\n",
       "      <td>BIO003</td>\n",
       "    </tr>\n",
       "    <tr>\n",
       "      <th>9</th>\n",
       "      <td>10210830256-BIO003</td>\n",
       "      <td>F</td>\n",
       "      <td>1976-08-01 00:00:00</td>\n",
       "      <td>2019-01-07</td>\n",
       "      <td>571904533475-38</td>\n",
       "      <td>L133</td>\n",
       "      <td>70000168</td>\n",
       "      <td>48.0</td>\n",
       "      <td>42.0</td>\n",
       "      <td>BIO003</td>\n",
       "    </tr>\n",
       "    <tr>\n",
       "      <th>10</th>\n",
       "      <td>10210848051-BIO003</td>\n",
       "      <td>F</td>\n",
       "      <td>1982-07-16 00:00:00</td>\n",
       "      <td>2019-01-30</td>\n",
       "      <td>571904618615-38</td>\n",
       "      <td>L133</td>\n",
       "      <td>70001115</td>\n",
       "      <td>39.0</td>\n",
       "      <td>36.0</td>\n",
       "      <td>BIO003</td>\n",
       "    </tr>\n",
       "    <tr>\n",
       "      <th>11</th>\n",
       "      <td>10210848051-BIO003</td>\n",
       "      <td>F</td>\n",
       "      <td>1982-07-16 00:00:00</td>\n",
       "      <td>2019-01-30</td>\n",
       "      <td>571904618615-38</td>\n",
       "      <td>L133</td>\n",
       "      <td>70004228</td>\n",
       "      <td>10.0</td>\n",
       "      <td>36.0</td>\n",
       "      <td>BIO003</td>\n",
       "    </tr>\n",
       "    <tr>\n",
       "      <th>12</th>\n",
       "      <td>10210848051-BIO003</td>\n",
       "      <td>F</td>\n",
       "      <td>1982-07-16 00:00:00</td>\n",
       "      <td>2019-01-30</td>\n",
       "      <td>571904618615-38</td>\n",
       "      <td>L133</td>\n",
       "      <td>70000638</td>\n",
       "      <td>13.0</td>\n",
       "      <td>36.0</td>\n",
       "      <td>BIO003</td>\n",
       "    </tr>\n",
       "    <tr>\n",
       "      <th>13</th>\n",
       "      <td>10210848051-BIO003</td>\n",
       "      <td>F</td>\n",
       "      <td>1982-07-16 00:00:00</td>\n",
       "      <td>2019-01-30</td>\n",
       "      <td>571904618615-38</td>\n",
       "      <td>L133</td>\n",
       "      <td>70000301</td>\n",
       "      <td>12.0</td>\n",
       "      <td>36.0</td>\n",
       "      <td>BIO003</td>\n",
       "    </tr>\n",
       "    <tr>\n",
       "      <th>14</th>\n",
       "      <td>10210848051-BIO003</td>\n",
       "      <td>F</td>\n",
       "      <td>1982-07-16 00:00:00</td>\n",
       "      <td>2019-01-30</td>\n",
       "      <td>571904618615-38</td>\n",
       "      <td>L133</td>\n",
       "      <td>70003318</td>\n",
       "      <td>10.0</td>\n",
       "      <td>36.0</td>\n",
       "      <td>BIO003</td>\n",
       "    </tr>\n",
       "    <tr>\n",
       "      <th>15</th>\n",
       "      <td>10210848051-BIO003</td>\n",
       "      <td>F</td>\n",
       "      <td>1982-07-16 00:00:00</td>\n",
       "      <td>2019-01-30</td>\n",
       "      <td>571904618615-38</td>\n",
       "      <td>L133</td>\n",
       "      <td>70001676</td>\n",
       "      <td>46.0</td>\n",
       "      <td>36.0</td>\n",
       "      <td>BIO003</td>\n",
       "    </tr>\n",
       "    <tr>\n",
       "      <th>16</th>\n",
       "      <td>10210848051-BIO003</td>\n",
       "      <td>F</td>\n",
       "      <td>1982-07-16 00:00:00</td>\n",
       "      <td>2019-01-30</td>\n",
       "      <td>571904618615-38</td>\n",
       "      <td>L133</td>\n",
       "      <td>70004795</td>\n",
       "      <td>264.0</td>\n",
       "      <td>36.0</td>\n",
       "      <td>BIO003</td>\n",
       "    </tr>\n",
       "    <tr>\n",
       "      <th>17</th>\n",
       "      <td>10210848051-BIO003</td>\n",
       "      <td>F</td>\n",
       "      <td>1982-07-16 00:00:00</td>\n",
       "      <td>2019-01-30</td>\n",
       "      <td>571904618615-38</td>\n",
       "      <td>L133</td>\n",
       "      <td>70006146</td>\n",
       "      <td>31.0</td>\n",
       "      <td>36.0</td>\n",
       "      <td>BIO003</td>\n",
       "    </tr>\n",
       "    <tr>\n",
       "      <th>18</th>\n",
       "      <td>10210848051-BIO003</td>\n",
       "      <td>F</td>\n",
       "      <td>1982-07-16 00:00:00</td>\n",
       "      <td>2019-01-30</td>\n",
       "      <td>571904618615-38</td>\n",
       "      <td>L133</td>\n",
       "      <td>70004134</td>\n",
       "      <td>10.0</td>\n",
       "      <td>36.0</td>\n",
       "      <td>BIO003</td>\n",
       "    </tr>\n",
       "    <tr>\n",
       "      <th>19</th>\n",
       "      <td>10210848051-BIO003</td>\n",
       "      <td>F</td>\n",
       "      <td>1982-07-16 00:00:00</td>\n",
       "      <td>2019-01-30</td>\n",
       "      <td>571904618615-38</td>\n",
       "      <td>L133</td>\n",
       "      <td>70002619</td>\n",
       "      <td>12.0</td>\n",
       "      <td>36.0</td>\n",
       "      <td>BIO003</td>\n",
       "    </tr>\n",
       "    <tr>\n",
       "      <th>20</th>\n",
       "      <td>10210848051-BIO003</td>\n",
       "      <td>F</td>\n",
       "      <td>1982-07-16 00:00:00</td>\n",
       "      <td>2019-01-30</td>\n",
       "      <td>571904618615-38</td>\n",
       "      <td>L133</td>\n",
       "      <td>70003018</td>\n",
       "      <td>76.0</td>\n",
       "      <td>36.0</td>\n",
       "      <td>BIO003</td>\n",
       "    </tr>\n",
       "    <tr>\n",
       "      <th>21</th>\n",
       "      <td>10210848051-BIO003</td>\n",
       "      <td>F</td>\n",
       "      <td>1982-07-16 00:00:00</td>\n",
       "      <td>2019-01-30</td>\n",
       "      <td>571904618615-38</td>\n",
       "      <td>L133</td>\n",
       "      <td>70003056</td>\n",
       "      <td>9.0</td>\n",
       "      <td>36.0</td>\n",
       "      <td>BIO003</td>\n",
       "    </tr>\n",
       "    <tr>\n",
       "      <th>22</th>\n",
       "      <td>10210848051-BIO003</td>\n",
       "      <td>F</td>\n",
       "      <td>1982-07-16 00:00:00</td>\n",
       "      <td>2019-01-30</td>\n",
       "      <td>571904618615-38</td>\n",
       "      <td>L133</td>\n",
       "      <td>70001276</td>\n",
       "      <td>53.0</td>\n",
       "      <td>36.0</td>\n",
       "      <td>BIO003</td>\n",
       "    </tr>\n",
       "    <tr>\n",
       "      <th>23</th>\n",
       "      <td>10210848051-BIO003</td>\n",
       "      <td>F</td>\n",
       "      <td>1982-07-16 00:00:00</td>\n",
       "      <td>2019-01-30</td>\n",
       "      <td>571904618615-38</td>\n",
       "      <td>L133</td>\n",
       "      <td>70004461</td>\n",
       "      <td>94.0</td>\n",
       "      <td>36.0</td>\n",
       "      <td>BIO003</td>\n",
       "    </tr>\n",
       "    <tr>\n",
       "      <th>24</th>\n",
       "      <td>10210848051-BIO003</td>\n",
       "      <td>F</td>\n",
       "      <td>1982-07-16 00:00:00</td>\n",
       "      <td>2019-01-30</td>\n",
       "      <td>571904618615-38</td>\n",
       "      <td>L133</td>\n",
       "      <td>70004180</td>\n",
       "      <td>10.0</td>\n",
       "      <td>36.0</td>\n",
       "      <td>BIO003</td>\n",
       "    </tr>\n",
       "    <tr>\n",
       "      <th>25</th>\n",
       "      <td>10210848051-BIO003</td>\n",
       "      <td>F</td>\n",
       "      <td>1982-07-16 00:00:00</td>\n",
       "      <td>2019-01-30</td>\n",
       "      <td>571904618615-38</td>\n",
       "      <td>L133</td>\n",
       "      <td>70004185</td>\n",
       "      <td>13.0</td>\n",
       "      <td>36.0</td>\n",
       "      <td>BIO003</td>\n",
       "    </tr>\n",
       "    <tr>\n",
       "      <th>26</th>\n",
       "      <td>10210848051-BIO003</td>\n",
       "      <td>F</td>\n",
       "      <td>1982-07-16 00:00:00</td>\n",
       "      <td>2019-01-30</td>\n",
       "      <td>571904618615-38</td>\n",
       "      <td>L133</td>\n",
       "      <td>70003200</td>\n",
       "      <td>9.0</td>\n",
       "      <td>36.0</td>\n",
       "      <td>BIO003</td>\n",
       "    </tr>\n",
       "    <tr>\n",
       "      <th>27</th>\n",
       "      <td>10210848051-BIO003</td>\n",
       "      <td>F</td>\n",
       "      <td>1982-07-16 00:00:00</td>\n",
       "      <td>2019-02-21</td>\n",
       "      <td>571904705469-38</td>\n",
       "      <td>L133</td>\n",
       "      <td>70006342</td>\n",
       "      <td>495.0</td>\n",
       "      <td>36.0</td>\n",
       "      <td>BIO003</td>\n",
       "    </tr>\n",
       "    <tr>\n",
       "      <th>28</th>\n",
       "      <td>10210848087-BIO003</td>\n",
       "      <td>F</td>\n",
       "      <td>1989-07-03 00:00:00</td>\n",
       "      <td>2019-01-30</td>\n",
       "      <td>576608412729-91</td>\n",
       "      <td>L167</td>\n",
       "      <td>70000301</td>\n",
       "      <td>12.0</td>\n",
       "      <td>29.0</td>\n",
       "      <td>BIO003</td>\n",
       "    </tr>\n",
       "    <tr>\n",
       "      <th>29</th>\n",
       "      <td>10210848087-BIO003</td>\n",
       "      <td>F</td>\n",
       "      <td>1989-07-03 00:00:00</td>\n",
       "      <td>2019-01-30</td>\n",
       "      <td>576608412729-91</td>\n",
       "      <td>L167</td>\n",
       "      <td>70004452</td>\n",
       "      <td>29.0</td>\n",
       "      <td>29.0</td>\n",
       "      <td>BIO003</td>\n",
       "    </tr>\n",
       "    <tr>\n",
       "      <th>30</th>\n",
       "      <td>10210848087-BIO003</td>\n",
       "      <td>F</td>\n",
       "      <td>1989-07-03 00:00:00</td>\n",
       "      <td>2019-01-30</td>\n",
       "      <td>576608412729-91</td>\n",
       "      <td>L167</td>\n",
       "      <td>70004134</td>\n",
       "      <td>10.0</td>\n",
       "      <td>29.0</td>\n",
       "      <td>BIO003</td>\n",
       "    </tr>\n",
       "    <tr>\n",
       "      <th>31</th>\n",
       "      <td>10210848087-BIO003</td>\n",
       "      <td>F</td>\n",
       "      <td>1989-07-03 00:00:00</td>\n",
       "      <td>2019-01-30</td>\n",
       "      <td>576608412729-91</td>\n",
       "      <td>L167</td>\n",
       "      <td>70002619</td>\n",
       "      <td>12.0</td>\n",
       "      <td>29.0</td>\n",
       "      <td>BIO003</td>\n",
       "    </tr>\n",
       "    <tr>\n",
       "      <th>32</th>\n",
       "      <td>10210848087-BIO003</td>\n",
       "      <td>F</td>\n",
       "      <td>1989-07-03 00:00:00</td>\n",
       "      <td>2019-01-30</td>\n",
       "      <td>576608412729-91</td>\n",
       "      <td>L167</td>\n",
       "      <td>70000638</td>\n",
       "      <td>13.0</td>\n",
       "      <td>29.0</td>\n",
       "      <td>BIO003</td>\n",
       "    </tr>\n",
       "    <tr>\n",
       "      <th>33</th>\n",
       "      <td>10210848087-BIO003</td>\n",
       "      <td>F</td>\n",
       "      <td>1989-07-03 00:00:00</td>\n",
       "      <td>2019-01-30</td>\n",
       "      <td>576608412729-91</td>\n",
       "      <td>L167</td>\n",
       "      <td>70000985</td>\n",
       "      <td>82.0</td>\n",
       "      <td>29.0</td>\n",
       "      <td>BIO003</td>\n",
       "    </tr>\n",
       "    <tr>\n",
       "      <th>34</th>\n",
       "      <td>10210848087-BIO003</td>\n",
       "      <td>F</td>\n",
       "      <td>1989-07-03 00:00:00</td>\n",
       "      <td>2019-01-30</td>\n",
       "      <td>576608412729-91</td>\n",
       "      <td>L167</td>\n",
       "      <td>70003200</td>\n",
       "      <td>9.0</td>\n",
       "      <td>29.0</td>\n",
       "      <td>BIO003</td>\n",
       "    </tr>\n",
       "    <tr>\n",
       "      <th>35</th>\n",
       "      <td>10210848087-BIO003</td>\n",
       "      <td>F</td>\n",
       "      <td>1989-07-03 00:00:00</td>\n",
       "      <td>2019-01-30</td>\n",
       "      <td>576608412729-91</td>\n",
       "      <td>L167</td>\n",
       "      <td>70001276</td>\n",
       "      <td>53.0</td>\n",
       "      <td>29.0</td>\n",
       "      <td>BIO003</td>\n",
       "    </tr>\n",
       "    <tr>\n",
       "      <th>36</th>\n",
       "      <td>10210264021-BIO003</td>\n",
       "      <td>F</td>\n",
       "      <td>1991-06-03 00:00:00</td>\n",
       "      <td>2019-01-25</td>\n",
       "      <td>437707024889-179</td>\n",
       "      <td>L662</td>\n",
       "      <td>70000139</td>\n",
       "      <td>14.0</td>\n",
       "      <td>27.0</td>\n",
       "      <td>BIO003</td>\n",
       "    </tr>\n",
       "    <tr>\n",
       "      <th>37</th>\n",
       "      <td>10210845039-BIO003</td>\n",
       "      <td>M</td>\n",
       "      <td>2017-03-22 00:00:00</td>\n",
       "      <td>2019-01-25</td>\n",
       "      <td>575202384562-74</td>\n",
       "      <td>L156</td>\n",
       "      <td>70001103</td>\n",
       "      <td>42.0</td>\n",
       "      <td>1.0</td>\n",
       "      <td>BIO003</td>\n",
       "    </tr>\n",
       "    <tr>\n",
       "      <th>38</th>\n",
       "      <td>10210845039-BIO003</td>\n",
       "      <td>M</td>\n",
       "      <td>2017-03-22 00:00:00</td>\n",
       "      <td>2019-01-25</td>\n",
       "      <td>575202384562-74</td>\n",
       "      <td>L156</td>\n",
       "      <td>70004215</td>\n",
       "      <td>42.0</td>\n",
       "      <td>1.0</td>\n",
       "      <td>BIO003</td>\n",
       "    </tr>\n",
       "    <tr>\n",
       "      <th>39</th>\n",
       "      <td>10210845039-BIO003</td>\n",
       "      <td>M</td>\n",
       "      <td>2017-03-22 00:00:00</td>\n",
       "      <td>2019-01-25</td>\n",
       "      <td>575202384562-74</td>\n",
       "      <td>L156</td>\n",
       "      <td>70003200</td>\n",
       "      <td>9.0</td>\n",
       "      <td>1.0</td>\n",
       "      <td>BIO003</td>\n",
       "    </tr>\n",
       "    <tr>\n",
       "      <th>40</th>\n",
       "      <td>10210845039-BIO003</td>\n",
       "      <td>M</td>\n",
       "      <td>2017-03-22 00:00:00</td>\n",
       "      <td>2019-01-25</td>\n",
       "      <td>575202384562-74</td>\n",
       "      <td>L156</td>\n",
       "      <td>70000570</td>\n",
       "      <td>42.0</td>\n",
       "      <td>1.0</td>\n",
       "      <td>BIO003</td>\n",
       "    </tr>\n",
       "    <tr>\n",
       "      <th>41</th>\n",
       "      <td>10210845039-BIO003</td>\n",
       "      <td>M</td>\n",
       "      <td>2017-03-22 00:00:00</td>\n",
       "      <td>2019-01-25</td>\n",
       "      <td>575202384562-74</td>\n",
       "      <td>L156</td>\n",
       "      <td>70000301</td>\n",
       "      <td>12.0</td>\n",
       "      <td>1.0</td>\n",
       "      <td>BIO003</td>\n",
       "    </tr>\n",
       "    <tr>\n",
       "      <th>42</th>\n",
       "      <td>10210845039-BIO003</td>\n",
       "      <td>M</td>\n",
       "      <td>2017-03-22 00:00:00</td>\n",
       "      <td>2019-01-25</td>\n",
       "      <td>575202384562-74</td>\n",
       "      <td>L156</td>\n",
       "      <td>70000638</td>\n",
       "      <td>13.0</td>\n",
       "      <td>1.0</td>\n",
       "      <td>BIO003</td>\n",
       "    </tr>\n",
       "    <tr>\n",
       "      <th>43</th>\n",
       "      <td>10210845039-BIO003</td>\n",
       "      <td>M</td>\n",
       "      <td>2017-03-22 00:00:00</td>\n",
       "      <td>2019-01-25</td>\n",
       "      <td>575202384562-74</td>\n",
       "      <td>L156</td>\n",
       "      <td>70000103</td>\n",
       "      <td>11.0</td>\n",
       "      <td>1.0</td>\n",
       "      <td>BIO003</td>\n",
       "    </tr>\n",
       "    <tr>\n",
       "      <th>44</th>\n",
       "      <td>10210845039-BIO003</td>\n",
       "      <td>M</td>\n",
       "      <td>2017-03-22 00:00:00</td>\n",
       "      <td>2019-01-25</td>\n",
       "      <td>575202384562-74</td>\n",
       "      <td>L156</td>\n",
       "      <td>70001445</td>\n",
       "      <td>42.0</td>\n",
       "      <td>1.0</td>\n",
       "      <td>BIO003</td>\n",
       "    </tr>\n",
       "    <tr>\n",
       "      <th>45</th>\n",
       "      <td>10210845039-BIO003</td>\n",
       "      <td>M</td>\n",
       "      <td>2017-03-22 00:00:00</td>\n",
       "      <td>2019-01-25</td>\n",
       "      <td>575202384562-74</td>\n",
       "      <td>L156</td>\n",
       "      <td>70001597</td>\n",
       "      <td>49.0</td>\n",
       "      <td>1.0</td>\n",
       "      <td>BIO003</td>\n",
       "    </tr>\n",
       "    <tr>\n",
       "      <th>46</th>\n",
       "      <td>10210845039-BIO003</td>\n",
       "      <td>M</td>\n",
       "      <td>2017-03-22 00:00:00</td>\n",
       "      <td>2019-01-25</td>\n",
       "      <td>575202384562-74</td>\n",
       "      <td>L156</td>\n",
       "      <td>70004358</td>\n",
       "      <td>42.0</td>\n",
       "      <td>1.0</td>\n",
       "      <td>BIO003</td>\n",
       "    </tr>\n",
       "    <tr>\n",
       "      <th>47</th>\n",
       "      <td>10210845039-BIO003</td>\n",
       "      <td>M</td>\n",
       "      <td>2017-03-22 00:00:00</td>\n",
       "      <td>2019-01-25</td>\n",
       "      <td>575202384562-74</td>\n",
       "      <td>L156</td>\n",
       "      <td>70004709</td>\n",
       "      <td>111.0</td>\n",
       "      <td>1.0</td>\n",
       "      <td>BIO003</td>\n",
       "    </tr>\n",
       "    <tr>\n",
       "      <th>48</th>\n",
       "      <td>10210625160-BIO003</td>\n",
       "      <td>F</td>\n",
       "      <td>1987-12-02 00:00:00</td>\n",
       "      <td>2019-03-14</td>\n",
       "      <td>575202500726-74</td>\n",
       "      <td>L156</td>\n",
       "      <td>70003759</td>\n",
       "      <td>14.0</td>\n",
       "      <td>31.0</td>\n",
       "      <td>BIO003</td>\n",
       "    </tr>\n",
       "    <tr>\n",
       "      <th>49</th>\n",
       "      <td>10225659539-BIO002</td>\n",
       "      <td>F</td>\n",
       "      <td>1995-04-24 00:00:00</td>\n",
       "      <td>2019-01-02</td>\n",
       "      <td>568200828756-119</td>\n",
       "      <td>L520</td>\n",
       "      <td>70003846</td>\n",
       "      <td>36.0</td>\n",
       "      <td>23.0</td>\n",
       "      <td>BIO002</td>\n",
       "    </tr>\n",
       "  </tbody>\n",
       "</table>\n",
       "</div>"
      ],
      "text/plain": [
       "            Patient Id Gender        Date of birth Date of service  \\\n",
       "0   10210830256-BIO003      F  1976-08-01 00:00:00      2019-01-07   \n",
       "1   10210830256-BIO003      F  1976-08-01 00:00:00      2019-01-07   \n",
       "2   10210830256-BIO003      F  1976-08-01 00:00:00      2019-01-07   \n",
       "3   10210830256-BIO003      F  1976-08-01 00:00:00      2019-01-07   \n",
       "4   10210830256-BIO003      F  1976-08-01 00:00:00      2019-01-07   \n",
       "5   10210830256-BIO003      F  1976-08-01 00:00:00      2019-01-07   \n",
       "6   10210830256-BIO003      F  1976-08-01 00:00:00      2019-01-07   \n",
       "7   10210830256-BIO003      F  1976-08-01 00:00:00      2019-01-07   \n",
       "8   10210830256-BIO003      F  1976-08-01 00:00:00      2019-01-07   \n",
       "9   10210830256-BIO003      F  1976-08-01 00:00:00      2019-01-07   \n",
       "10  10210848051-BIO003      F  1982-07-16 00:00:00      2019-01-30   \n",
       "11  10210848051-BIO003      F  1982-07-16 00:00:00      2019-01-30   \n",
       "12  10210848051-BIO003      F  1982-07-16 00:00:00      2019-01-30   \n",
       "13  10210848051-BIO003      F  1982-07-16 00:00:00      2019-01-30   \n",
       "14  10210848051-BIO003      F  1982-07-16 00:00:00      2019-01-30   \n",
       "15  10210848051-BIO003      F  1982-07-16 00:00:00      2019-01-30   \n",
       "16  10210848051-BIO003      F  1982-07-16 00:00:00      2019-01-30   \n",
       "17  10210848051-BIO003      F  1982-07-16 00:00:00      2019-01-30   \n",
       "18  10210848051-BIO003      F  1982-07-16 00:00:00      2019-01-30   \n",
       "19  10210848051-BIO003      F  1982-07-16 00:00:00      2019-01-30   \n",
       "20  10210848051-BIO003      F  1982-07-16 00:00:00      2019-01-30   \n",
       "21  10210848051-BIO003      F  1982-07-16 00:00:00      2019-01-30   \n",
       "22  10210848051-BIO003      F  1982-07-16 00:00:00      2019-01-30   \n",
       "23  10210848051-BIO003      F  1982-07-16 00:00:00      2019-01-30   \n",
       "24  10210848051-BIO003      F  1982-07-16 00:00:00      2019-01-30   \n",
       "25  10210848051-BIO003      F  1982-07-16 00:00:00      2019-01-30   \n",
       "26  10210848051-BIO003      F  1982-07-16 00:00:00      2019-01-30   \n",
       "27  10210848051-BIO003      F  1982-07-16 00:00:00      2019-02-21   \n",
       "28  10210848087-BIO003      F  1989-07-03 00:00:00      2019-01-30   \n",
       "29  10210848087-BIO003      F  1989-07-03 00:00:00      2019-01-30   \n",
       "30  10210848087-BIO003      F  1989-07-03 00:00:00      2019-01-30   \n",
       "31  10210848087-BIO003      F  1989-07-03 00:00:00      2019-01-30   \n",
       "32  10210848087-BIO003      F  1989-07-03 00:00:00      2019-01-30   \n",
       "33  10210848087-BIO003      F  1989-07-03 00:00:00      2019-01-30   \n",
       "34  10210848087-BIO003      F  1989-07-03 00:00:00      2019-01-30   \n",
       "35  10210848087-BIO003      F  1989-07-03 00:00:00      2019-01-30   \n",
       "36  10210264021-BIO003      F  1991-06-03 00:00:00      2019-01-25   \n",
       "37  10210845039-BIO003      M  2017-03-22 00:00:00      2019-01-25   \n",
       "38  10210845039-BIO003      M  2017-03-22 00:00:00      2019-01-25   \n",
       "39  10210845039-BIO003      M  2017-03-22 00:00:00      2019-01-25   \n",
       "40  10210845039-BIO003      M  2017-03-22 00:00:00      2019-01-25   \n",
       "41  10210845039-BIO003      M  2017-03-22 00:00:00      2019-01-25   \n",
       "42  10210845039-BIO003      M  2017-03-22 00:00:00      2019-01-25   \n",
       "43  10210845039-BIO003      M  2017-03-22 00:00:00      2019-01-25   \n",
       "44  10210845039-BIO003      M  2017-03-22 00:00:00      2019-01-25   \n",
       "45  10210845039-BIO003      M  2017-03-22 00:00:00      2019-01-25   \n",
       "46  10210845039-BIO003      M  2017-03-22 00:00:00      2019-01-25   \n",
       "47  10210845039-BIO003      M  2017-03-22 00:00:00      2019-01-25   \n",
       "48  10210625160-BIO003      F  1987-12-02 00:00:00      2019-03-14   \n",
       "49  10225659539-BIO002      F  1995-04-24 00:00:00      2019-01-02   \n",
       "\n",
       "          Service Id Lab Id   CodItem  Valor Pago  Idade final_id  \n",
       "0    571904533475-38   L133  70003237         9.0   42.0   BIO003  \n",
       "1    571904533475-38   L133  70000638        13.0   42.0   BIO003  \n",
       "2    571904533475-38   L133  70001597        49.0   42.0   BIO003  \n",
       "3    571904533475-38   L133  70000103        11.0   42.0   BIO003  \n",
       "4    571904533475-38   L133  70000224        10.0   42.0   BIO003  \n",
       "5    571904533475-38   L133  70002653         8.0   42.0   BIO003  \n",
       "6    571904533475-38   L133  70001206        41.0   42.0   BIO003  \n",
       "7    571904533475-38   L133  70005903        57.0   42.0   BIO003  \n",
       "8    571904533475-38   L133  70000392         8.0   42.0   BIO003  \n",
       "9    571904533475-38   L133  70000168        48.0   42.0   BIO003  \n",
       "10   571904618615-38   L133  70001115        39.0   36.0   BIO003  \n",
       "11   571904618615-38   L133  70004228        10.0   36.0   BIO003  \n",
       "12   571904618615-38   L133  70000638        13.0   36.0   BIO003  \n",
       "13   571904618615-38   L133  70000301        12.0   36.0   BIO003  \n",
       "14   571904618615-38   L133  70003318        10.0   36.0   BIO003  \n",
       "15   571904618615-38   L133  70001676        46.0   36.0   BIO003  \n",
       "16   571904618615-38   L133  70004795       264.0   36.0   BIO003  \n",
       "17   571904618615-38   L133  70006146        31.0   36.0   BIO003  \n",
       "18   571904618615-38   L133  70004134        10.0   36.0   BIO003  \n",
       "19   571904618615-38   L133  70002619        12.0   36.0   BIO003  \n",
       "20   571904618615-38   L133  70003018        76.0   36.0   BIO003  \n",
       "21   571904618615-38   L133  70003056         9.0   36.0   BIO003  \n",
       "22   571904618615-38   L133  70001276        53.0   36.0   BIO003  \n",
       "23   571904618615-38   L133  70004461        94.0   36.0   BIO003  \n",
       "24   571904618615-38   L133  70004180        10.0   36.0   BIO003  \n",
       "25   571904618615-38   L133  70004185        13.0   36.0   BIO003  \n",
       "26   571904618615-38   L133  70003200         9.0   36.0   BIO003  \n",
       "27   571904705469-38   L133  70006342       495.0   36.0   BIO003  \n",
       "28   576608412729-91   L167  70000301        12.0   29.0   BIO003  \n",
       "29   576608412729-91   L167  70004452        29.0   29.0   BIO003  \n",
       "30   576608412729-91   L167  70004134        10.0   29.0   BIO003  \n",
       "31   576608412729-91   L167  70002619        12.0   29.0   BIO003  \n",
       "32   576608412729-91   L167  70000638        13.0   29.0   BIO003  \n",
       "33   576608412729-91   L167  70000985        82.0   29.0   BIO003  \n",
       "34   576608412729-91   L167  70003200         9.0   29.0   BIO003  \n",
       "35   576608412729-91   L167  70001276        53.0   29.0   BIO003  \n",
       "36  437707024889-179   L662  70000139        14.0   27.0   BIO003  \n",
       "37   575202384562-74   L156  70001103        42.0    1.0   BIO003  \n",
       "38   575202384562-74   L156  70004215        42.0    1.0   BIO003  \n",
       "39   575202384562-74   L156  70003200         9.0    1.0   BIO003  \n",
       "40   575202384562-74   L156  70000570        42.0    1.0   BIO003  \n",
       "41   575202384562-74   L156  70000301        12.0    1.0   BIO003  \n",
       "42   575202384562-74   L156  70000638        13.0    1.0   BIO003  \n",
       "43   575202384562-74   L156  70000103        11.0    1.0   BIO003  \n",
       "44   575202384562-74   L156  70001445        42.0    1.0   BIO003  \n",
       "45   575202384562-74   L156  70001597        49.0    1.0   BIO003  \n",
       "46   575202384562-74   L156  70004358        42.0    1.0   BIO003  \n",
       "47   575202384562-74   L156  70004709       111.0    1.0   BIO003  \n",
       "48   575202500726-74   L156  70003759        14.0   31.0   BIO003  \n",
       "49  568200828756-119   L520  70003846        36.0   23.0   BIO002  "
      ]
     },
     "execution_count": 16,
     "metadata": {},
     "output_type": "execute_result"
    }
   ],
   "source": [
    "transactional_data.head(50)"
   ]
  },
  {
   "attachments": {},
   "cell_type": "markdown",
   "metadata": {},
   "source": [
    "pelos padrões observados, o service id é o mesmo para um mesmo cliente que realizou vários exames em um mesmo dia. portanto, podemos concluir que o service id é referente à bateria de exames que um cliente faz em um mesmo dia.\n",
    "\n",
    "com esta informação, é possível investigar qual é o número aproximado de exames que os clientes fazem de cada vez"
   ]
  },
  {
   "cell_type": "code",
   "execution_count": 17,
   "metadata": {},
   "outputs": [
    {
     "data": {
      "text/html": [
       "<div>\n",
       "<style scoped>\n",
       "    .dataframe tbody tr th:only-of-type {\n",
       "        vertical-align: middle;\n",
       "    }\n",
       "\n",
       "    .dataframe tbody tr th {\n",
       "        vertical-align: top;\n",
       "    }\n",
       "\n",
       "    .dataframe thead th {\n",
       "        text-align: right;\n",
       "    }\n",
       "</style>\n",
       "<table border=\"1\" class=\"dataframe\">\n",
       "  <thead>\n",
       "    <tr style=\"text-align: right;\">\n",
       "      <th></th>\n",
       "      <th>Service Id</th>\n",
       "      <th>Número de exames por bateria</th>\n",
       "    </tr>\n",
       "  </thead>\n",
       "  <tbody>\n",
       "    <tr>\n",
       "      <th>269437</th>\n",
       "      <td>6004395771-8-1</td>\n",
       "      <td>87</td>\n",
       "    </tr>\n",
       "    <tr>\n",
       "      <th>37661</th>\n",
       "      <td>437707339488-179</td>\n",
       "      <td>85</td>\n",
       "    </tr>\n",
       "    <tr>\n",
       "      <th>283211</th>\n",
       "      <td>6169569919-1-1</td>\n",
       "      <td>85</td>\n",
       "    </tr>\n",
       "    <tr>\n",
       "      <th>273062</th>\n",
       "      <td>6160868530-2-1</td>\n",
       "      <td>85</td>\n",
       "    </tr>\n",
       "    <tr>\n",
       "      <th>422639</th>\n",
       "      <td>7659340080-5-1</td>\n",
       "      <td>81</td>\n",
       "    </tr>\n",
       "  </tbody>\n",
       "</table>\n",
       "</div>"
      ],
      "text/plain": [
       "              Service Id  Número de exames por bateria\n",
       "269437    6004395771-8-1                            87\n",
       "37661   437707339488-179                            85\n",
       "283211    6169569919-1-1                            85\n",
       "273062    6160868530-2-1                            85\n",
       "422639    7659340080-5-1                            81"
      ]
     },
     "execution_count": 17,
     "metadata": {},
     "output_type": "execute_result"
    }
   ],
   "source": [
    "service_id = transactional_data.groupby('Service Id').count()['Patient Id'].reset_index()\n",
    "\n",
    "service_id = service_id.rename({'Patient Id': 'Número de exames por bateria'}, axis = 1)\n",
    "\n",
    "service_id.sort_values('Número de exames por bateria', ascending = False).head()"
   ]
  },
  {
   "cell_type": "code",
   "execution_count": 18,
   "metadata": {},
   "outputs": [
    {
     "data": {
      "image/png": "[encoded data removed]",
      "text/plain": [
       "<Figure size 1000x400 with 1 Axes>"
      ]
     },
     "metadata": {
      "needs_background": "light"
     },
     "output_type": "display_data"
    }
   ],
   "source": [
    "plt.figure(figsize = (10, 4))\n",
    "sns.set_style('white')\n",
    "sns.histplot(service_id,#[service_id['Número de exames por bateria'] < 25],\n",
    "              x = 'Número de exames por bateria', bins = 60, color = '#7f7f7f')\n",
    "# deixar o gráfico transparente\n",
    "plt.gcf().set_facecolor('none')\n",
    "plt.gca().patch.set_alpha(0)"
   ]
  },
  {
   "attachments": {},
   "cell_type": "markdown",
   "metadata": {},
   "source": [
    "qual o percentual de baterias com menos de 20 exames?"
   ]
  },
  {
   "cell_type": "code",
   "execution_count": 69,
   "metadata": {},
   "outputs": [
    {
     "data": {
      "text/plain": [
       "0.9832924026488541"
      ]
     },
     "execution_count": 69,
     "metadata": {},
     "output_type": "execute_result"
    }
   ],
   "source": [
    "def menor_20(x):\n",
    "    if x <= 20:\n",
    "        return 1\n",
    "    else:\n",
    "        return 0\n",
    "\n",
    "perc_service_id = service_id\n",
    "perc_service_id['menor_20'] = perc_service_id['Número de exames por bateria'].apply(menor_20)\n",
    "perc_service_id['menor_20'].mean()"
   ]
  },
  {
   "attachments": {},
   "cell_type": "markdown",
   "metadata": {},
   "source": [
    "seria interessante verificar se há alguma localidade em que a mediana de exames por bateria se destaca"
   ]
  },
  {
   "cell_type": "code",
   "execution_count": 19,
   "metadata": {},
   "outputs": [
    {
     "data": {
      "text/html": [
       "<div>\n",
       "<style scoped>\n",
       "    .dataframe tbody tr th:only-of-type {\n",
       "        vertical-align: middle;\n",
       "    }\n",
       "\n",
       "    .dataframe tbody tr th {\n",
       "        vertical-align: top;\n",
       "    }\n",
       "\n",
       "    .dataframe thead th {\n",
       "        text-align: right;\n",
       "    }\n",
       "</style>\n",
       "<table border=\"1\" class=\"dataframe\">\n",
       "  <thead>\n",
       "    <tr style=\"text-align: right;\">\n",
       "      <th></th>\n",
       "      <th>Patient Id</th>\n",
       "      <th>Gender</th>\n",
       "      <th>Date of birth</th>\n",
       "      <th>Date of service</th>\n",
       "      <th>Service Id</th>\n",
       "      <th>Lab Id</th>\n",
       "      <th>CodItem</th>\n",
       "      <th>Valor Pago</th>\n",
       "      <th>Idade</th>\n",
       "      <th>final_id</th>\n",
       "      <th>Sigla</th>\n",
       "    </tr>\n",
       "  </thead>\n",
       "  <tbody>\n",
       "    <tr>\n",
       "      <th>0</th>\n",
       "      <td>10210830256-BIO003</td>\n",
       "      <td>F</td>\n",
       "      <td>1976-08-01 00:00:00</td>\n",
       "      <td>2019-01-07</td>\n",
       "      <td>571904533475-38</td>\n",
       "      <td>L133</td>\n",
       "      <td>70003237</td>\n",
       "      <td>9.0</td>\n",
       "      <td>42.0</td>\n",
       "      <td>BIO003</td>\n",
       "      <td>CA</td>\n",
       "    </tr>\n",
       "    <tr>\n",
       "      <th>1</th>\n",
       "      <td>10210830256-BIO003</td>\n",
       "      <td>F</td>\n",
       "      <td>1976-08-01 00:00:00</td>\n",
       "      <td>2019-01-07</td>\n",
       "      <td>571904533475-38</td>\n",
       "      <td>L133</td>\n",
       "      <td>70000638</td>\n",
       "      <td>13.0</td>\n",
       "      <td>42.0</td>\n",
       "      <td>BIO003</td>\n",
       "      <td>CA</td>\n",
       "    </tr>\n",
       "    <tr>\n",
       "      <th>2</th>\n",
       "      <td>10210830256-BIO003</td>\n",
       "      <td>F</td>\n",
       "      <td>1976-08-01 00:00:00</td>\n",
       "      <td>2019-01-07</td>\n",
       "      <td>571904533475-38</td>\n",
       "      <td>L133</td>\n",
       "      <td>70001597</td>\n",
       "      <td>49.0</td>\n",
       "      <td>42.0</td>\n",
       "      <td>BIO003</td>\n",
       "      <td>CA</td>\n",
       "    </tr>\n",
       "    <tr>\n",
       "      <th>3</th>\n",
       "      <td>10210830256-BIO003</td>\n",
       "      <td>F</td>\n",
       "      <td>1976-08-01 00:00:00</td>\n",
       "      <td>2019-01-07</td>\n",
       "      <td>571904533475-38</td>\n",
       "      <td>L133</td>\n",
       "      <td>70000103</td>\n",
       "      <td>11.0</td>\n",
       "      <td>42.0</td>\n",
       "      <td>BIO003</td>\n",
       "      <td>CA</td>\n",
       "    </tr>\n",
       "    <tr>\n",
       "      <th>4</th>\n",
       "      <td>10210830256-BIO003</td>\n",
       "      <td>F</td>\n",
       "      <td>1976-08-01 00:00:00</td>\n",
       "      <td>2019-01-07</td>\n",
       "      <td>571904533475-38</td>\n",
       "      <td>L133</td>\n",
       "      <td>70000224</td>\n",
       "      <td>10.0</td>\n",
       "      <td>42.0</td>\n",
       "      <td>BIO003</td>\n",
       "      <td>CA</td>\n",
       "    </tr>\n",
       "  </tbody>\n",
       "</table>\n",
       "</div>"
      ],
      "text/plain": [
       "           Patient Id Gender        Date of birth Date of service  \\\n",
       "0  10210830256-BIO003      F  1976-08-01 00:00:00      2019-01-07   \n",
       "1  10210830256-BIO003      F  1976-08-01 00:00:00      2019-01-07   \n",
       "2  10210830256-BIO003      F  1976-08-01 00:00:00      2019-01-07   \n",
       "3  10210830256-BIO003      F  1976-08-01 00:00:00      2019-01-07   \n",
       "4  10210830256-BIO003      F  1976-08-01 00:00:00      2019-01-07   \n",
       "\n",
       "        Service Id Lab Id   CodItem  Valor Pago  Idade final_id Sigla  \n",
       "0  571904533475-38   L133  70003237         9.0   42.0   BIO003    CA  \n",
       "1  571904533475-38   L133  70000638        13.0   42.0   BIO003    CA  \n",
       "2  571904533475-38   L133  70001597        49.0   42.0   BIO003    CA  \n",
       "3  571904533475-38   L133  70000103        11.0   42.0   BIO003    CA  \n",
       "4  571904533475-38   L133  70000224        10.0   42.0   BIO003    CA  "
      ]
     },
     "execution_count": 19,
     "metadata": {},
     "output_type": "execute_result"
    }
   ],
   "source": [
    "# juntando a base de transações com o estado, disponível na base df_geocode\n",
    "\n",
    "transactional_location = transactional_data.merge(df_geocode[['Lab Id', 'Sigla']], how = 'left')\n",
    "\n",
    "transactional_location.head()"
   ]
  },
  {
   "cell_type": "code",
   "execution_count": 20,
   "metadata": {},
   "outputs": [
    {
     "data": {
      "text/html": [
       "<div>\n",
       "<style scoped>\n",
       "    .dataframe tbody tr th:only-of-type {\n",
       "        vertical-align: middle;\n",
       "    }\n",
       "\n",
       "    .dataframe tbody tr th {\n",
       "        vertical-align: top;\n",
       "    }\n",
       "\n",
       "    .dataframe thead th {\n",
       "        text-align: right;\n",
       "    }\n",
       "</style>\n",
       "<table border=\"1\" class=\"dataframe\">\n",
       "  <thead>\n",
       "    <tr style=\"text-align: right;\">\n",
       "      <th></th>\n",
       "      <th>index</th>\n",
       "      <th>Sigla</th>\n",
       "      <th>Média de exames por bateria</th>\n",
       "    </tr>\n",
       "  </thead>\n",
       "  <tbody>\n",
       "    <tr>\n",
       "      <th>0</th>\n",
       "      <td>6</td>\n",
       "      <td>MI</td>\n",
       "      <td>4.195907</td>\n",
       "    </tr>\n",
       "    <tr>\n",
       "      <th>1</th>\n",
       "      <td>7</td>\n",
       "      <td>NH</td>\n",
       "      <td>4.134845</td>\n",
       "    </tr>\n",
       "    <tr>\n",
       "      <th>2</th>\n",
       "      <td>3</td>\n",
       "      <td>IL</td>\n",
       "      <td>3.912349</td>\n",
       "    </tr>\n",
       "    <tr>\n",
       "      <th>3</th>\n",
       "      <td>8</td>\n",
       "      <td>NJ</td>\n",
       "      <td>3.886670</td>\n",
       "    </tr>\n",
       "    <tr>\n",
       "      <th>4</th>\n",
       "      <td>1</td>\n",
       "      <td>GA</td>\n",
       "      <td>3.644472</td>\n",
       "    </tr>\n",
       "    <tr>\n",
       "      <th>5</th>\n",
       "      <td>5</td>\n",
       "      <td>MA</td>\n",
       "      <td>3.615409</td>\n",
       "    </tr>\n",
       "    <tr>\n",
       "      <th>6</th>\n",
       "      <td>10</td>\n",
       "      <td>PA</td>\n",
       "      <td>3.557441</td>\n",
       "    </tr>\n",
       "    <tr>\n",
       "      <th>7</th>\n",
       "      <td>2</td>\n",
       "      <td>IA</td>\n",
       "      <td>3.535974</td>\n",
       "    </tr>\n",
       "    <tr>\n",
       "      <th>8</th>\n",
       "      <td>9</td>\n",
       "      <td>NY</td>\n",
       "      <td>3.512936</td>\n",
       "    </tr>\n",
       "    <tr>\n",
       "      <th>9</th>\n",
       "      <td>12</td>\n",
       "      <td>WA</td>\n",
       "      <td>3.483885</td>\n",
       "    </tr>\n",
       "    <tr>\n",
       "      <th>10</th>\n",
       "      <td>0</td>\n",
       "      <td>CA</td>\n",
       "      <td>3.364948</td>\n",
       "    </tr>\n",
       "    <tr>\n",
       "      <th>11</th>\n",
       "      <td>11</td>\n",
       "      <td>TX</td>\n",
       "      <td>3.213298</td>\n",
       "    </tr>\n",
       "    <tr>\n",
       "      <th>12</th>\n",
       "      <td>4</td>\n",
       "      <td>LA</td>\n",
       "      <td>1.807692</td>\n",
       "    </tr>\n",
       "  </tbody>\n",
       "</table>\n",
       "</div>"
      ],
      "text/plain": [
       "    index Sigla  Média de exames por bateria\n",
       "0       6    MI                     4.195907\n",
       "1       7    NH                     4.134845\n",
       "2       3    IL                     3.912349\n",
       "3       8    NJ                     3.886670\n",
       "4       1    GA                     3.644472\n",
       "5       5    MA                     3.615409\n",
       "6      10    PA                     3.557441\n",
       "7       2    IA                     3.535974\n",
       "8       9    NY                     3.512936\n",
       "9      12    WA                     3.483885\n",
       "10      0    CA                     3.364948\n",
       "11     11    TX                     3.213298\n",
       "12      4    LA                     1.807692"
      ]
     },
     "execution_count": 20,
     "metadata": {},
     "output_type": "execute_result"
    }
   ],
   "source": [
    "# fazendo a média de exames por bateria por estado\n",
    "\n",
    "mediana_bateria_estado = transactional_location.groupby(['Sigla', 'Service Id']).count()['Patient Id'].reset_index()\n",
    "\n",
    "mediana_bateria_estado = mediana_bateria_estado.groupby('Sigla').mean('Patient Id').reset_index()\n",
    "\n",
    "mediana_bateria_estado.sort_values('Patient Id', ascending = False).reset_index().rename({'Patient Id': 'Média de exames por bateria'}, axis = 1)"
   ]
  },
  {
   "attachments": {},
   "cell_type": "markdown",
   "metadata": {},
   "source": [
    "### qual a distribuição do final do código dos pacientes?\n",
    "\n",
    "não há hipóteses de que esta variável faça diferença para definir a localização, mas vale a pena ver a sua distribuição"
   ]
  },
  {
   "cell_type": "code",
   "execution_count": 21,
   "metadata": {},
   "outputs": [
    {
     "data": {
      "text/plain": [
       "final_id\n",
       "1          304822\n",
       "BIO003      91708\n",
       "BIO002      66762\n",
       "BIO010      36127\n",
       "UND2243      1788\n",
       "UND2113       238\n",
       "dtype: int64"
      ]
     },
     "execution_count": 21,
     "metadata": {},
     "output_type": "execute_result"
    }
   ],
   "source": [
    "pacientes_unicos.value_counts('final_id')"
   ]
  },
  {
   "attachments": {},
   "cell_type": "markdown",
   "metadata": {},
   "source": [
    "### há diferença no perfil de sexo ou idade entre os estados?"
   ]
  },
  {
   "cell_type": "code",
   "execution_count": 22,
   "metadata": {},
   "outputs": [
    {
     "name": "stderr",
     "output_type": "stream",
     "text": [
      "C:\\Users\\Leticia\\AppData\\Local\\Temp\\ipykernel_6828\\1080547803.py:3: FutureWarning:\n",
      "\n",
      "The default value of numeric_only in DataFrame.median is deprecated. In a future version, it will default to False. In addition, specifying 'numeric_only=None' is deprecated. Select only valid columns or specify the value of numeric_only to silence this warning.\n",
      "\n"
     ]
    },
    {
     "name": "stdout",
     "output_type": "stream",
     "text": [
      "mediana de idade geral = 38.0\n",
      "mediana de idade das mulheres = 37.0\n",
      "mediana de idade dos homens = 39.0\n"
     ]
    },
    {
     "name": "stderr",
     "output_type": "stream",
     "text": [
      "C:\\Users\\Leticia\\AppData\\Local\\Temp\\ipykernel_6828\\1080547803.py:4: FutureWarning:\n",
      "\n",
      "The default value of numeric_only in DataFrame.median is deprecated. In a future version, it will default to False. In addition, specifying 'numeric_only=None' is deprecated. Select only valid columns or specify the value of numeric_only to silence this warning.\n",
      "\n",
      "C:\\Users\\Leticia\\AppData\\Local\\Temp\\ipykernel_6828\\1080547803.py:5: FutureWarning:\n",
      "\n",
      "The default value of numeric_only in DataFrame.median is deprecated. In a future version, it will default to False. In addition, specifying 'numeric_only=None' is deprecated. Select only valid columns or specify the value of numeric_only to silence this warning.\n",
      "\n"
     ]
    }
   ],
   "source": [
    "# qual a mediana geral de idade?\n",
    "\n",
    "print('mediana de idade geral =', pacientes_unicos.median()['Idade'])\n",
    "print('mediana de idade das mulheres =', pacientes_unicos[pacientes_unicos['Gender'] == 'F'].median()['Idade'])\n",
    "print('mediana de idade dos homens =', pacientes_unicos[pacientes_unicos['Gender'] == 'M'].median()['Idade'])"
   ]
  },
  {
   "cell_type": "code",
   "execution_count": 71,
   "metadata": {},
   "outputs": [
    {
     "name": "stderr",
     "output_type": "stream",
     "text": [
      "C:\\Users\\Leticia\\AppData\\Local\\Temp\\ipykernel_6828\\2571284745.py:3: FutureWarning:\n",
      "\n",
      "The default value of numeric_only in DataFrameGroupBy.median is deprecated. In a future version, numeric_only will default to False. Either specify numeric_only or select only columns which should be valid for the function.\n",
      "\n"
     ]
    },
    {
     "data": {
      "text/plain": [
       "<matplotlib.lines.Line2D at 0x28e20146560>"
      ]
     },
     "execution_count": 71,
     "metadata": {},
     "output_type": "execute_result"
    },
    {
     "data": {
      "image/png": "[encoded data removed]",
      "text/plain": [
       "<Figure size 500x900 with 1 Axes>"
      ]
     },
     "metadata": {},
     "output_type": "display_data"
    }
   ],
   "source": [
    "sexo_idade_estado = pacientes_unicos.merge(df_geocode[['Lab Id', 'Sigla']], how = 'left')\n",
    "\n",
    "sexo_idade_estado = sexo_idade_estado.groupby('Sigla').median()[['Idade']].sort_values('Idade', ascending = False).reset_index()\n",
    "\n",
    "sexo_idade_estado = sexo_idade_estado.merge(zipcodes_states[['Sigla', 'Estado']], how = 'left')\n",
    "\n",
    "sexo_idade_estado = sexo_idade_estado.rename({'Idade':\"Mediana de idade\"}, axis = 1)\n",
    "\n",
    "cores = ['#ac3a4e' if x == 'Louisiana' else '#5288db' if x == 'Texas' else '#a6a6a6' for x in sexo_idade_estado['Estado']]\n",
    "\n",
    "plt.figure(figsize = (5,9))\n",
    "sns.set_style('white') # also 'ticks', 'darkgrid', 'whitegrid', white\n",
    "fig = sns.barplot(data = sexo_idade_estado, x = 'Mediana de idade', y = 'Estado', palette = cores, width = 0.6)\n",
    "\n",
    "# colocar os números no final da barra\n",
    "for i in fig.patches:\n",
    "    fig.annotate(i.get_width(),\n",
    "                  (i.get_width(), i.get_y() + i.get_height() / 2),\n",
    "                  ha = 'left', va = 'center', fontsize = 10,\n",
    "                  color = '#4d4d4d', xytext = (1, 0),\n",
    "                  textcoords = 'offset points')\n",
    "\n",
    "# remover os números do eixo x\n",
    "fig.set_xticklabels('')\n",
    "\n",
    "# remover as bordas do gráfico\n",
    "sns.despine(bottom = True)\n",
    "\n",
    "# adicionar linha vertical em x = 38\n",
    "plt.axvline(x=38, linestyle='--', color='#ac3a4e')\n"
   ]
  },
  {
   "attachments": {},
   "cell_type": "markdown",
   "metadata": {},
   "source": [
    "mesmo gráfico, filtrando apenas as mulheres"
   ]
  },
  {
   "cell_type": "code",
   "execution_count": 72,
   "metadata": {},
   "outputs": [
    {
     "name": "stderr",
     "output_type": "stream",
     "text": [
      "C:\\Users\\Leticia\\AppData\\Local\\Temp\\ipykernel_6828\\2506785231.py:3: FutureWarning:\n",
      "\n",
      "The default value of numeric_only in DataFrameGroupBy.median is deprecated. In a future version, numeric_only will default to False. Either specify numeric_only or select only columns which should be valid for the function.\n",
      "\n"
     ]
    },
    {
     "data": {
      "text/plain": [
       "<matplotlib.lines.Line2D at 0x28e203437c0>"
      ]
     },
     "execution_count": 72,
     "metadata": {},
     "output_type": "execute_result"
    },
    {
     "data": {
      "image/png": "[encoded data removed]",
      "text/plain": [
       "<Figure size 500x600 with 1 Axes>"
      ]
     },
     "metadata": {},
     "output_type": "display_data"
    }
   ],
   "source": [
    "sexo_idade_estado = pacientes_unicos.merge(df_geocode[['Lab Id', 'Sigla']], how = 'left')\n",
    "\n",
    "sexo_idade_estado = sexo_idade_estado[sexo_idade_estado['Gender'] == 'F'].groupby('Sigla').median()[['Idade']].sort_values('Idade', ascending = False).reset_index()\n",
    "\n",
    "sexo_idade_estado = sexo_idade_estado.merge(zipcodes_states[['Sigla', 'Estado']], how = 'left')\n",
    "\n",
    "sexo_idade_estado = sexo_idade_estado.rename({'Idade':\"Mediana de idade\"}, axis = 1)\n",
    "\n",
    "cores = ['#ac3a4e' if x == 'Louisiana' else '#5288db' if x == 'Texas' else '#a6a6a6' for x in sexo_idade_estado['Estado']]\n",
    "\n",
    "plt.figure(figsize = (5,6))\n",
    "sns.set_style('white') # also 'ticks', 'darkgrid', 'whitegrid', white\n",
    "fig = sns.barplot(data = sexo_idade_estado, x = 'Mediana de idade', y = 'Estado', palette = cores, width = 0.6)\n",
    "\n",
    "# colocar os números no final da barra\n",
    "for i in fig.patches:\n",
    "    fig.annotate(i.get_width(),\n",
    "                  (i.get_width(), i.get_y() + i.get_height() / 2),\n",
    "                  ha = 'left', va = 'center', fontsize = 10,\n",
    "                  color = '#4d4d4d', xytext = (1, 0),\n",
    "                  textcoords = 'offset points')\n",
    "\n",
    "# remover os números do eixo x\n",
    "fig.set_xticklabels('')\n",
    "\n",
    "# remover as bordas do gráfico\n",
    "sns.despine(bottom = True)\n",
    "\n",
    "# adicionar linha vertical em x = 37 (mediana de idade das mulheres)\n",
    "plt.axvline(x=37, linestyle='--', color='#5288db')"
   ]
  },
  {
   "attachments": {},
   "cell_type": "markdown",
   "metadata": {},
   "source": [
    "filtrando agora os homens"
   ]
  },
  {
   "cell_type": "code",
   "execution_count": 73,
   "metadata": {},
   "outputs": [
    {
     "name": "stderr",
     "output_type": "stream",
     "text": [
      "C:\\Users\\Leticia\\AppData\\Local\\Temp\\ipykernel_6828\\75750920.py:3: FutureWarning:\n",
      "\n",
      "The default value of numeric_only in DataFrameGroupBy.median is deprecated. In a future version, numeric_only will default to False. Either specify numeric_only or select only columns which should be valid for the function.\n",
      "\n"
     ]
    },
    {
     "data": {
      "text/plain": [
       "<matplotlib.lines.Line2D at 0x28e20326350>"
      ]
     },
     "execution_count": 73,
     "metadata": {},
     "output_type": "execute_result"
    },
    {
     "data": {
      "image/png": "[encoded data removed]",
      "text/plain": [
       "<Figure size 500x600 with 1 Axes>"
      ]
     },
     "metadata": {},
     "output_type": "display_data"
    }
   ],
   "source": [
    "sexo_idade_estado = pacientes_unicos.merge(df_geocode[['Lab Id', 'Sigla']], how = 'left')\n",
    "\n",
    "sexo_idade_estado = sexo_idade_estado[sexo_idade_estado['Gender'] == 'M'].groupby('Sigla').median()[['Idade']].sort_values('Idade', ascending = False).reset_index()\n",
    "\n",
    "sexo_idade_estado = sexo_idade_estado.merge(zipcodes_states[['Sigla', 'Estado']], how = 'left')\n",
    "\n",
    "sexo_idade_estado = sexo_idade_estado.rename({'Idade':\"Mediana de idade\"}, axis = 1)\n",
    "\n",
    "cores = ['#ac3a4e' if x == 'Louisiana' else '#5288db' if x == 'Texas' else '#a6a6a6' for x in sexo_idade_estado['Estado']]\n",
    "\n",
    "plt.figure(figsize = (5,6))\n",
    "sns.set_style('white') # also 'ticks', 'darkgrid', 'whitegrid', white\n",
    "fig = sns.barplot(data = sexo_idade_estado, x = 'Mediana de idade', y = 'Estado', palette = cores, width = 0.6)\n",
    "\n",
    "# colocar os números no final da barra\n",
    "for i in fig.patches:\n",
    "    fig.annotate(i.get_width(),\n",
    "                  (i.get_width(), i.get_y() + i.get_height() / 2),\n",
    "                  ha = 'left', va = 'center', fontsize = 10,\n",
    "                  color = '#4d4d4d', xytext = (1, 0),\n",
    "                  textcoords = 'offset points')\n",
    "\n",
    "# remover os números do eixo x\n",
    "fig.set_xticklabels('')\n",
    "\n",
    "# remover as bordas do gráfico\n",
    "sns.despine(bottom = True)\n",
    "\n",
    "# adicionar linha vertical em x = 39 (mediana de idade dos homens)\n",
    "plt.axvline(x=39, linestyle='--', color='#5288db')"
   ]
  },
  {
   "attachments": {},
   "cell_type": "markdown",
   "metadata": {},
   "source": [
    "## distribuição das variáveis dos testes"
   ]
  },
  {
   "attachments": {},
   "cell_type": "markdown",
   "metadata": {},
   "source": [
    "### qual é o número de exames por mês do intervalo de dados disponível?"
   ]
  },
  {
   "cell_type": "code",
   "execution_count": 26,
   "metadata": {},
   "outputs": [],
   "source": [
    "exames_mes = transactional_data\n",
    "\n",
    "exames_mes['Date of service'] = pd.to_datetime(exames_mes['Date of service'])\n",
    "\n",
    "exames_mes['mes'] = exames_mes['Date of service'].dt.strftime('%b')\n",
    "# exames_mes['mes_ordem'] = exames_mes['Date of service'].dt.strftime('%m').astype('int')\n",
    "exames_mes['ano'] = exames_mes['Date of service'].dt.strftime('%y')\n",
    "\n",
    "ordem = exames_mes.sort_values('Date of service')[['mes', 'ano']].drop_duplicates()\n",
    "ordem['mes_ano'] = ordem['mes'] + '/' + ordem['ano']\n",
    "\n",
    "ordem = ordem.reset_index().reset_index()\n",
    "ordem = ordem.drop(['index'], axis = 1)\n",
    "ordem = ordem.rename({'level_0':'mes_ordem'}, axis = 1)\n",
    "ordem['mes_ordem'] = ordem['mes_ordem'] + 1\n"
   ]
  },
  {
   "cell_type": "code",
   "execution_count": 27,
   "metadata": {},
   "outputs": [
    {
     "data": {
      "text/html": [
       "<div>\n",
       "<style scoped>\n",
       "    .dataframe tbody tr th:only-of-type {\n",
       "        vertical-align: middle;\n",
       "    }\n",
       "\n",
       "    .dataframe tbody tr th {\n",
       "        vertical-align: top;\n",
       "    }\n",
       "\n",
       "    .dataframe thead th {\n",
       "        text-align: right;\n",
       "    }\n",
       "</style>\n",
       "<table border=\"1\" class=\"dataframe\">\n",
       "  <thead>\n",
       "    <tr style=\"text-align: right;\">\n",
       "      <th></th>\n",
       "      <th>mes_ano</th>\n",
       "      <th>Número de exames</th>\n",
       "      <th>mes_ordem</th>\n",
       "    </tr>\n",
       "  </thead>\n",
       "  <tbody>\n",
       "    <tr>\n",
       "      <th>0</th>\n",
       "      <td>Jan/19</td>\n",
       "      <td>93203</td>\n",
       "      <td>1</td>\n",
       "    </tr>\n",
       "    <tr>\n",
       "      <th>1</th>\n",
       "      <td>Feb/19</td>\n",
       "      <td>84560</td>\n",
       "      <td>2</td>\n",
       "    </tr>\n",
       "    <tr>\n",
       "      <th>2</th>\n",
       "      <td>Mar/19</td>\n",
       "      <td>102251</td>\n",
       "      <td>3</td>\n",
       "    </tr>\n",
       "    <tr>\n",
       "      <th>3</th>\n",
       "      <td>Apr/19</td>\n",
       "      <td>93955</td>\n",
       "      <td>4</td>\n",
       "    </tr>\n",
       "    <tr>\n",
       "      <th>4</th>\n",
       "      <td>May/19</td>\n",
       "      <td>91182</td>\n",
       "      <td>5</td>\n",
       "    </tr>\n",
       "  </tbody>\n",
       "</table>\n",
       "</div>"
      ],
      "text/plain": [
       "  mes_ano  Número de exames  mes_ordem\n",
       "0  Jan/19             93203          1\n",
       "1  Feb/19             84560          2\n",
       "2  Mar/19            102251          3\n",
       "3  Apr/19             93955          4\n",
       "4  May/19             91182          5"
      ]
     },
     "execution_count": 27,
     "metadata": {},
     "output_type": "execute_result"
    }
   ],
   "source": [
    "exames_mes2 = exames_mes\n",
    "\n",
    "exames_mes2['mes_ano'] = exames_mes2['mes'] + '/' + exames_mes2['ano']\n",
    "\n",
    "exames_mes2 = exames_mes2.groupby('mes_ano').count()['CodItem'].reset_index().merge(ordem[['mes_ano', 'mes_ordem']], how = 'left').sort_values('mes_ordem').reset_index()\n",
    "\n",
    "exames_mes2 = exames_mes2.drop('index', axis = 1)\n",
    "\n",
    "exames_mes2 = exames_mes2.rename({'CodItem':'Número de exames'}, axis = 1)\n",
    "\n",
    "exames_mes2.head()"
   ]
  },
  {
   "cell_type": "code",
   "execution_count": 28,
   "metadata": {},
   "outputs": [
    {
     "data": {
      "image/png": "[encoded data removed]",
      "text/plain": [
       "<Figure size 1800x700 with 1 Axes>"
      ]
     },
     "metadata": {},
     "output_type": "display_data"
    }
   ],
   "source": [
    "# gráfico\n",
    "\n",
    "plt.figure(figsize = (18, 7))\n",
    "sns.set_style('white')\n",
    "fig = sns.barplot(data = exames_mes2, x = 'mes_ano', y = 'Número de exames', color = '#a6a6a6', width = 0.6)\n",
    "\n",
    "# remover o título do eixo x\n",
    "fig.set_xlabel('')\n",
    "\n",
    "# remover as bordas do gráfico\n",
    "sns.despine(left = True)"
   ]
  },
  {
   "attachments": {},
   "cell_type": "markdown",
   "metadata": {},
   "source": [
    "### qual a distribuição dos testes de covid ao longo dos meses?"
   ]
  },
  {
   "cell_type": "code",
   "execution_count": 29,
   "metadata": {},
   "outputs": [
    {
     "data": {
      "text/html": [
       "<div>\n",
       "<style scoped>\n",
       "    .dataframe tbody tr th:only-of-type {\n",
       "        vertical-align: middle;\n",
       "    }\n",
       "\n",
       "    .dataframe tbody tr th {\n",
       "        vertical-align: top;\n",
       "    }\n",
       "\n",
       "    .dataframe thead th {\n",
       "        text-align: right;\n",
       "    }\n",
       "</style>\n",
       "<table border=\"1\" class=\"dataframe\">\n",
       "  <thead>\n",
       "    <tr style=\"text-align: right;\">\n",
       "      <th></th>\n",
       "      <th>CodItem</th>\n",
       "      <th>Desc Item</th>\n",
       "      <th>Category</th>\n",
       "      <th>Family</th>\n",
       "      <th>Speciality</th>\n",
       "      <th>Testing Cost</th>\n",
       "    </tr>\n",
       "  </thead>\n",
       "  <tbody>\n",
       "  </tbody>\n",
       "</table>\n",
       "</div>"
      ],
      "text/plain": [
       "Empty DataFrame\n",
       "Columns: [CodItem, Desc Item, Category, Family, Speciality, Testing Cost]\n",
       "Index: []"
      ]
     },
     "execution_count": 29,
     "metadata": {},
     "output_type": "execute_result"
    }
   ],
   "source": [
    "test_data[test_data['Desc Item'].str.contains('COVID')]"
   ]
  },
  {
   "attachments": {},
   "cell_type": "markdown",
   "metadata": {},
   "source": [
    "não foram encontrados exames de COVID-19, permitindo a conclusão de que a análise não será enviesada pela pandemia."
   ]
  },
  {
   "attachments": {},
   "cell_type": "markdown",
   "metadata": {},
   "source": [
    "### quais são as categorias das outras variáveis dos exames?"
   ]
  },
  {
   "cell_type": "code",
   "execution_count": 30,
   "metadata": {},
   "outputs": [
    {
     "data": {
      "text/html": [
       "<div>\n",
       "<style scoped>\n",
       "    .dataframe tbody tr th:only-of-type {\n",
       "        vertical-align: middle;\n",
       "    }\n",
       "\n",
       "    .dataframe tbody tr th {\n",
       "        vertical-align: top;\n",
       "    }\n",
       "\n",
       "    .dataframe thead th {\n",
       "        text-align: right;\n",
       "    }\n",
       "</style>\n",
       "<table border=\"1\" class=\"dataframe\">\n",
       "  <thead>\n",
       "    <tr style=\"text-align: right;\">\n",
       "      <th></th>\n",
       "      <th>CodItem</th>\n",
       "      <th>Desc Item</th>\n",
       "      <th>Category</th>\n",
       "      <th>Family</th>\n",
       "      <th>Speciality</th>\n",
       "      <th>Testing Cost</th>\n",
       "    </tr>\n",
       "  </thead>\n",
       "  <tbody>\n",
       "    <tr>\n",
       "      <th>0</th>\n",
       "      <td>70003237</td>\n",
       "      <td>MAGNESIO, SORO (EXEMPLO DE EXPRESSAO DE RESULT...</td>\n",
       "      <td>CA</td>\n",
       "      <td>CORELAB</td>\n",
       "      <td>BIOCHEMISTRY</td>\n",
       "      <td>1.78</td>\n",
       "    </tr>\n",
       "    <tr>\n",
       "      <th>1</th>\n",
       "      <td>70000638</td>\n",
       "      <td>HEMOGRAMA, AUTOMATIZADO, SANGUE</td>\n",
       "      <td>CA</td>\n",
       "      <td>HEMATO</td>\n",
       "      <td>BLOOD COUNT</td>\n",
       "      <td>2.46</td>\n",
       "    </tr>\n",
       "    <tr>\n",
       "      <th>2</th>\n",
       "      <td>70001597</td>\n",
       "      <td>FERRITINA, SORO</td>\n",
       "      <td>CA</td>\n",
       "      <td>CORELAB</td>\n",
       "      <td>IMMUNOHORMONE</td>\n",
       "      <td>2.11</td>\n",
       "    </tr>\n",
       "    <tr>\n",
       "      <th>3</th>\n",
       "      <td>70000103</td>\n",
       "      <td>FERRO, DOSAGEM, SORO (EXEMPLO DE EXPRESSAO DE ...</td>\n",
       "      <td>CA</td>\n",
       "      <td>CORELAB</td>\n",
       "      <td>BIOCHEMISTRY</td>\n",
       "      <td>0.80</td>\n",
       "    </tr>\n",
       "    <tr>\n",
       "      <th>4</th>\n",
       "      <td>70000224</td>\n",
       "      <td>CALCIO, DOSAGEM, SORO (EXEMPLO DE EXPRESSAO DE...</td>\n",
       "      <td>CA</td>\n",
       "      <td>CORELAB</td>\n",
       "      <td>BIOCHEMISTRY</td>\n",
       "      <td>1.02</td>\n",
       "    </tr>\n",
       "  </tbody>\n",
       "</table>\n",
       "</div>"
      ],
      "text/plain": [
       "    CodItem                                          Desc Item Category  \\\n",
       "0  70003237  MAGNESIO, SORO (EXEMPLO DE EXPRESSAO DE RESULT...       CA   \n",
       "1  70000638                    HEMOGRAMA, AUTOMATIZADO, SANGUE       CA   \n",
       "2  70001597                                    FERRITINA, SORO       CA   \n",
       "3  70000103  FERRO, DOSAGEM, SORO (EXEMPLO DE EXPRESSAO DE ...       CA   \n",
       "4  70000224  CALCIO, DOSAGEM, SORO (EXEMPLO DE EXPRESSAO DE...       CA   \n",
       "\n",
       "    Family     Speciality  Testing Cost  \n",
       "0  CORELAB   BIOCHEMISTRY          1.78  \n",
       "1   HEMATO    BLOOD COUNT          2.46  \n",
       "2  CORELAB  IMMUNOHORMONE          2.11  \n",
       "3  CORELAB   BIOCHEMISTRY          0.80  \n",
       "4  CORELAB   BIOCHEMISTRY          1.02  "
      ]
     },
     "execution_count": 30,
     "metadata": {},
     "output_type": "execute_result"
    }
   ],
   "source": [
    "test_data.head()"
   ]
  },
  {
   "cell_type": "code",
   "execution_count": 31,
   "metadata": {},
   "outputs": [
    {
     "name": "stdout",
     "output_type": "stream",
     "text": [
      "n categorias Category = 6\n",
      "n categorias Family = 23\n",
      "n categorias Speciality = 77\n"
     ]
    }
   ],
   "source": [
    "## quantas categorias há em cada variável?\n",
    "\n",
    "print('n categorias Category =', test_data['Category'].nunique())\n",
    "print('n categorias Family =', test_data['Family'].nunique())\n",
    "print('n categorias Speciality =', test_data['Speciality'].nunique())"
   ]
  },
  {
   "attachments": {},
   "cell_type": "markdown",
   "metadata": {},
   "source": [
    "há testes que são de graça?"
   ]
  },
  {
   "cell_type": "code",
   "execution_count": 32,
   "metadata": {},
   "outputs": [
    {
     "data": {
      "text/plain": [
       "CodItem \n",
       "70005139    39134\n",
       "70006809      267\n",
       "70006810      232\n",
       "70006532      217\n",
       "70002489      205\n",
       "            ...  \n",
       "70006933        1\n",
       "70006936        1\n",
       "70001660        1\n",
       "70006937        1\n",
       "70006932        1\n",
       "Length: 71, dtype: int64"
      ]
     },
     "execution_count": 32,
     "metadata": {},
     "output_type": "execute_result"
    }
   ],
   "source": [
    "testes_grat = transactional_data[transactional_data['Valor Pago'] == 0]\n",
    "\n",
    "testes_grat_list = testes_grat[['CodItem']].value_counts()\n",
    "\n",
    "testes_grat_list\n"
   ]
  },
  {
   "attachments": {},
   "cell_type": "markdown",
   "metadata": {},
   "source": [
    "há 71 tipos de teste que foram de graça. o custo deles também é nulo?"
   ]
  },
  {
   "cell_type": "code",
   "execution_count": 33,
   "metadata": {},
   "outputs": [
    {
     "data": {
      "text/html": [
       "<div>\n",
       "<style scoped>\n",
       "    .dataframe tbody tr th:only-of-type {\n",
       "        vertical-align: middle;\n",
       "    }\n",
       "\n",
       "    .dataframe tbody tr th {\n",
       "        vertical-align: top;\n",
       "    }\n",
       "\n",
       "    .dataframe thead th {\n",
       "        text-align: right;\n",
       "    }\n",
       "</style>\n",
       "<table border=\"1\" class=\"dataframe\">\n",
       "  <thead>\n",
       "    <tr style=\"text-align: right;\">\n",
       "      <th></th>\n",
       "      <th>CodItem</th>\n",
       "      <th>Desc Item</th>\n",
       "      <th>Category</th>\n",
       "      <th>Family</th>\n",
       "      <th>Speciality</th>\n",
       "      <th>Testing Cost</th>\n",
       "    </tr>\n",
       "  </thead>\n",
       "  <tbody>\n",
       "    <tr>\n",
       "      <th>1678</th>\n",
       "      <td>70007751</td>\n",
       "      <td>GENE COL2A1, HIPOCONDROGENESE, SEQUENCIAMENTO ...</td>\n",
       "      <td>CA</td>\n",
       "      <td>GENETICS</td>\n",
       "      <td>SPECIAL GENETICS</td>\n",
       "      <td>585.29</td>\n",
       "    </tr>\n",
       "    <tr>\n",
       "      <th>1648</th>\n",
       "      <td>70003536</td>\n",
       "      <td>ESCLEROSE TUBEROSA (TSC1, TSC2), SEQUENCIAMENT...</td>\n",
       "      <td>CA</td>\n",
       "      <td>GENETICS</td>\n",
       "      <td>SPECIAL GENETICS</td>\n",
       "      <td>558.83</td>\n",
       "    </tr>\n",
       "    <tr>\n",
       "      <th>1656</th>\n",
       "      <td>70007607</td>\n",
       "      <td>GENE IDUA, MUCOPOLISSACARIDOSE TIPO 1 - DOENA...</td>\n",
       "      <td>CA</td>\n",
       "      <td>GENETICS</td>\n",
       "      <td>SPECIAL GENETICS</td>\n",
       "      <td>495.87</td>\n",
       "    </tr>\n",
       "    <tr>\n",
       "      <th>1640</th>\n",
       "      <td>70005483</td>\n",
       "      <td>GENE COL1A1, SEQUENCIAMENTO, SANGUE</td>\n",
       "      <td>CA</td>\n",
       "      <td>GENETICS</td>\n",
       "      <td>SPECIAL GENETICS</td>\n",
       "      <td>481.29</td>\n",
       "    </tr>\n",
       "    <tr>\n",
       "      <th>1672</th>\n",
       "      <td>70005299</td>\n",
       "      <td>DISTROFIA MIOTONICA DE STEINERT, SANGUE, ANALI...</td>\n",
       "      <td>CA</td>\n",
       "      <td>GENETICS</td>\n",
       "      <td>SPECIAL GENETICS</td>\n",
       "      <td>479.71</td>\n",
       "    </tr>\n",
       "    <tr>\n",
       "      <th>1675</th>\n",
       "      <td>70007550</td>\n",
       "      <td>GENE (COL3AI), SINDROME EHLERS-DANLOS, TIPO 4,...</td>\n",
       "      <td>CA</td>\n",
       "      <td>GENETICS</td>\n",
       "      <td>SPECIAL GENETICS</td>\n",
       "      <td>424.58</td>\n",
       "    </tr>\n",
       "    <tr>\n",
       "      <th>1661</th>\n",
       "      <td>70007750</td>\n",
       "      <td>OSTEOGENESE IMPERFEITA, PAINEL, SEQUENCIAMENTO...</td>\n",
       "      <td>CA</td>\n",
       "      <td>GENETICS</td>\n",
       "      <td>SPECIAL GENETICS</td>\n",
       "      <td>404.34</td>\n",
       "    </tr>\n",
       "    <tr>\n",
       "      <th>1671</th>\n",
       "      <td>70007763</td>\n",
       "      <td>GENE RET, NEOPLASIA ENDOCRINA MULTIPLA TIPO 2A...</td>\n",
       "      <td>CA</td>\n",
       "      <td>GENETICS</td>\n",
       "      <td>SPECIAL GENETICS</td>\n",
       "      <td>390.98</td>\n",
       "    </tr>\n",
       "    <tr>\n",
       "      <th>1653</th>\n",
       "      <td>70007610</td>\n",
       "      <td>GENE FGFR3, ACONDROPL SICO, SEQUENCIAMENTO (NG...</td>\n",
       "      <td>CA</td>\n",
       "      <td>GENETICS</td>\n",
       "      <td>SPECIAL GENETICS</td>\n",
       "      <td>379.89</td>\n",
       "    </tr>\n",
       "    <tr>\n",
       "      <th>1643</th>\n",
       "      <td>70007621</td>\n",
       "      <td>GENE PTPN11, ESTUDO MOLECULAR SINDROME NOONAN,...</td>\n",
       "      <td>CA</td>\n",
       "      <td>GENETICS</td>\n",
       "      <td>SPECIAL GENETICS</td>\n",
       "      <td>376.81</td>\n",
       "    </tr>\n",
       "  </tbody>\n",
       "</table>\n",
       "</div>"
      ],
      "text/plain": [
       "       CodItem                                          Desc Item  \\\n",
       "1678  70007751  GENE COL2A1, HIPOCONDROGENESE, SEQUENCIAMENTO ...   \n",
       "1648  70003536  ESCLEROSE TUBEROSA (TSC1, TSC2), SEQUENCIAMENT...   \n",
       "1656  70007607  GENE IDUA, MUCOPOLISSACARIDOSE TIPO 1 - DOENA...   \n",
       "1640  70005483                GENE COL1A1, SEQUENCIAMENTO, SANGUE   \n",
       "1672  70005299  DISTROFIA MIOTONICA DE STEINERT, SANGUE, ANALI...   \n",
       "1675  70007550  GENE (COL3AI), SINDROME EHLERS-DANLOS, TIPO 4,...   \n",
       "1661  70007750  OSTEOGENESE IMPERFEITA, PAINEL, SEQUENCIAMENTO...   \n",
       "1671  70007763  GENE RET, NEOPLASIA ENDOCRINA MULTIPLA TIPO 2A...   \n",
       "1653  70007610  GENE FGFR3, ACONDROPL SICO, SEQUENCIAMENTO (NG...   \n",
       "1643  70007621  GENE PTPN11, ESTUDO MOLECULAR SINDROME NOONAN,...   \n",
       "\n",
       "                                      Category    Family        Speciality  \\\n",
       "1678                                        CA  GENETICS  SPECIAL GENETICS   \n",
       "1648  CA                                        GENETICS  SPECIAL GENETICS   \n",
       "1656                                        CA  GENETICS  SPECIAL GENETICS   \n",
       "1640                                        CA  GENETICS  SPECIAL GENETICS   \n",
       "1672                                        CA  GENETICS  SPECIAL GENETICS   \n",
       "1675                                        CA  GENETICS  SPECIAL GENETICS   \n",
       "1661                                        CA  GENETICS  SPECIAL GENETICS   \n",
       "1671                                        CA  GENETICS  SPECIAL GENETICS   \n",
       "1653                                        CA  GENETICS  SPECIAL GENETICS   \n",
       "1643                                        CA  GENETICS  SPECIAL GENETICS   \n",
       "\n",
       "      Testing Cost  \n",
       "1678        585.29  \n",
       "1648        558.83  \n",
       "1656        495.87  \n",
       "1640        481.29  \n",
       "1672        479.71  \n",
       "1675        424.58  \n",
       "1661        404.34  \n",
       "1671        390.98  \n",
       "1653        379.89  \n",
       "1643        376.81  "
      ]
     },
     "execution_count": 33,
     "metadata": {},
     "output_type": "execute_result"
    }
   ],
   "source": [
    "test_data[test_data['CodItem'].isin(testes_grat[['CodItem']].drop_duplicates().reset_index(drop = True)['CodItem'])].sort_values('Testing Cost', ascending = False).head(10)"
   ]
  },
  {
   "attachments": {},
   "cell_type": "markdown",
   "metadata": {},
   "source": [
    "muitas pessoas fizeram testes de forma gratuita sendo que o custo do teste não é nulo.\n",
    "\n",
    "esse teste que muita gente fez de graça custa quanto?"
   ]
  },
  {
   "cell_type": "code",
   "execution_count": 34,
   "metadata": {},
   "outputs": [
    {
     "data": {
      "text/html": [
       "<div>\n",
       "<style scoped>\n",
       "    .dataframe tbody tr th:only-of-type {\n",
       "        vertical-align: middle;\n",
       "    }\n",
       "\n",
       "    .dataframe tbody tr th {\n",
       "        vertical-align: top;\n",
       "    }\n",
       "\n",
       "    .dataframe thead th {\n",
       "        text-align: right;\n",
       "    }\n",
       "</style>\n",
       "<table border=\"1\" class=\"dataframe\">\n",
       "  <thead>\n",
       "    <tr style=\"text-align: right;\">\n",
       "      <th></th>\n",
       "      <th>CodItem</th>\n",
       "      <th>Desc Item</th>\n",
       "      <th>Category</th>\n",
       "      <th>Family</th>\n",
       "      <th>Speciality</th>\n",
       "      <th>Testing Cost</th>\n",
       "    </tr>\n",
       "  </thead>\n",
       "  <tbody>\n",
       "    <tr>\n",
       "      <th>40</th>\n",
       "      <td>70005139</td>\n",
       "      <td>BACTERIAS, ANTIBIOGRAMA AUTOMATIZADO</td>\n",
       "      <td>CA</td>\n",
       "      <td>MICROBIO</td>\n",
       "      <td>CULTURE</td>\n",
       "      <td>7.87</td>\n",
       "    </tr>\n",
       "  </tbody>\n",
       "</table>\n",
       "</div>"
      ],
      "text/plain": [
       "     CodItem                             Desc Item Category    Family  \\\n",
       "40  70005139  BACTERIAS, ANTIBIOGRAMA AUTOMATIZADO       CA  MICROBIO   \n",
       "\n",
       "   Speciality  Testing Cost  \n",
       "40    CULTURE          7.87  "
      ]
     },
     "execution_count": 34,
     "metadata": {},
     "output_type": "execute_result"
    }
   ],
   "source": [
    "test_data[test_data['CodItem'] == 70005139]"
   ]
  },
  {
   "attachments": {},
   "cell_type": "markdown",
   "metadata": {},
   "source": [
    "quantos testes são de fato gratuitos?"
   ]
  },
  {
   "cell_type": "code",
   "execution_count": 35,
   "metadata": {},
   "outputs": [
    {
     "name": "stdout",
     "output_type": "stream",
     "text": [
      "número de testes que já foram feitos de graça = 64\n",
      "número de testes que são de fato de graça = 7\n"
     ]
    }
   ],
   "source": [
    "testes_gratuitos = test_data[test_data['CodItem'].isin(testes_grat.drop_duplicates().reset_index(drop = True)['CodItem'])]\n",
    "\n",
    "print('número de testes que já foram feitos de graça =', len(testes_gratuitos))\n",
    "print('número de testes que são de fato de graça =', len(testes_gratuitos[testes_gratuitos['Testing Cost'] == 0]))"
   ]
  },
  {
   "attachments": {},
   "cell_type": "markdown",
   "metadata": {},
   "source": [
    "esses testes gratuitos são realizados em algum laboratório em específico?"
   ]
  },
  {
   "cell_type": "code",
   "execution_count": 36,
   "metadata": {},
   "outputs": [
    {
     "data": {
      "text/plain": [
       "L133    2038\n",
       "L166    1600\n",
       "L121    1317\n",
       "L152    1298\n",
       "L156    1280\n",
       "        ... \n",
       "L660       4\n",
       "L127       2\n",
       "L149       1\n",
       "L665       1\n",
       "L967       1\n",
       "Name: Lab Id, Length: 118, dtype: int64"
      ]
     },
     "execution_count": 36,
     "metadata": {},
     "output_type": "execute_result"
    }
   ],
   "source": [
    "testes_grat['Lab Id'].value_counts()"
   ]
  },
  {
   "attachments": {},
   "cell_type": "markdown",
   "metadata": {},
   "source": [
    "não é em algum específico, todos os laboratórios já realizaram testes gratuitos\n",
    "\n",
    "qual a distribuição dos valores pagos nos exames?"
   ]
  },
  {
   "cell_type": "code",
   "execution_count": 37,
   "metadata": {},
   "outputs": [
    {
     "data": {
      "text/plain": [
       "<Axes: xlabel='Valor Pago', ylabel='Count'>"
      ]
     },
     "execution_count": 37,
     "metadata": {},
     "output_type": "execute_result"
    },
    {
     "data": {
      "image/png": "[encoded data removed]",
      "text/plain": [
       "<Figure size 640x480 with 1 Axes>"
      ]
     },
     "metadata": {},
     "output_type": "display_data"
    }
   ],
   "source": [
    "sns.histplot(data = transactional_data[transactional_data['Valor Pago'] < 500], x = 'Valor Pago')"
   ]
  },
  {
   "attachments": {},
   "cell_type": "markdown",
   "metadata": {},
   "source": [
    "qual a média e a mediana do valor pago nos testes?"
   ]
  },
  {
   "cell_type": "code",
   "execution_count": 38,
   "metadata": {},
   "outputs": [
    {
     "name": "stdout",
     "output_type": "stream",
     "text": [
      "média do valor pago = 51.1\n",
      "mediana do valor pago = 24.0\n"
     ]
    }
   ],
   "source": [
    "print('média do valor pago =', round(transactional_data['Valor Pago'].mean(), 2))\n",
    "print('mediana do valor pago =', round(transactional_data['Valor Pago'].median(), 2))"
   ]
  },
  {
   "attachments": {},
   "cell_type": "markdown",
   "metadata": {},
   "source": [
    "qual o maior valor já pago em um teste?"
   ]
  },
  {
   "cell_type": "code",
   "execution_count": 39,
   "metadata": {},
   "outputs": [
    {
     "data": {
      "text/html": [
       "<div>\n",
       "<style scoped>\n",
       "    .dataframe tbody tr th:only-of-type {\n",
       "        vertical-align: middle;\n",
       "    }\n",
       "\n",
       "    .dataframe tbody tr th {\n",
       "        vertical-align: top;\n",
       "    }\n",
       "\n",
       "    .dataframe thead th {\n",
       "        text-align: right;\n",
       "    }\n",
       "</style>\n",
       "<table border=\"1\" class=\"dataframe\">\n",
       "  <thead>\n",
       "    <tr style=\"text-align: right;\">\n",
       "      <th></th>\n",
       "      <th>Patient Id</th>\n",
       "      <th>Gender</th>\n",
       "      <th>Date of birth</th>\n",
       "      <th>Date of service</th>\n",
       "      <th>Service Id</th>\n",
       "      <th>Lab Id</th>\n",
       "      <th>CodItem</th>\n",
       "      <th>Valor Pago</th>\n",
       "      <th>Idade</th>\n",
       "      <th>final_id</th>\n",
       "      <th>mes</th>\n",
       "      <th>ano</th>\n",
       "      <th>mes_ano</th>\n",
       "    </tr>\n",
       "  </thead>\n",
       "  <tbody>\n",
       "    <tr>\n",
       "      <th>1071698</th>\n",
       "      <td>7658190136-1</td>\n",
       "      <td>F</td>\n",
       "      <td>1994-03-27 00:00:00</td>\n",
       "      <td>2019-10-30</td>\n",
       "      <td>7658190136-2-1</td>\n",
       "      <td>L170</td>\n",
       "      <td>70003713</td>\n",
       "      <td>9500.0</td>\n",
       "      <td>25.0</td>\n",
       "      <td>1</td>\n",
       "      <td>Oct</td>\n",
       "      <td>19</td>\n",
       "      <td>Oct/19</td>\n",
       "    </tr>\n",
       "    <tr>\n",
       "      <th>928311</th>\n",
       "      <td>7658949749-1</td>\n",
       "      <td>F</td>\n",
       "      <td>2018-10-30 00:00:00</td>\n",
       "      <td>2019-10-30</td>\n",
       "      <td>7658949749-1-1</td>\n",
       "      <td>L172</td>\n",
       "      <td>70003713</td>\n",
       "      <td>9500.0</td>\n",
       "      <td>1.0</td>\n",
       "      <td>1</td>\n",
       "      <td>Oct</td>\n",
       "      <td>19</td>\n",
       "      <td>Oct/19</td>\n",
       "    </tr>\n",
       "    <tr>\n",
       "      <th>965251</th>\n",
       "      <td>7600739366-1</td>\n",
       "      <td>M</td>\n",
       "      <td>2015-05-15</td>\n",
       "      <td>2019-12-03</td>\n",
       "      <td>7600739366-2-1</td>\n",
       "      <td>L537</td>\n",
       "      <td>70003713</td>\n",
       "      <td>9500.0</td>\n",
       "      <td>4.0</td>\n",
       "      <td>1</td>\n",
       "      <td>Dec</td>\n",
       "      <td>19</td>\n",
       "      <td>Dec/19</td>\n",
       "    </tr>\n",
       "    <tr>\n",
       "      <th>104906</th>\n",
       "      <td>9999999-1</td>\n",
       "      <td>F</td>\n",
       "      <td>2010-01-01 00:00:00</td>\n",
       "      <td>2019-03-08</td>\n",
       "      <td>9999999-2237-1</td>\n",
       "      <td>L121</td>\n",
       "      <td>70008010</td>\n",
       "      <td>7250.0</td>\n",
       "      <td>9.0</td>\n",
       "      <td>1</td>\n",
       "      <td>Mar</td>\n",
       "      <td>19</td>\n",
       "      <td>Mar/19</td>\n",
       "    </tr>\n",
       "    <tr>\n",
       "      <th>160448</th>\n",
       "      <td>7657797382-1</td>\n",
       "      <td>F</td>\n",
       "      <td>1991-05-14 00:00:00</td>\n",
       "      <td>2019-03-13</td>\n",
       "      <td>7657797382-2-1</td>\n",
       "      <td>L171</td>\n",
       "      <td>70008011</td>\n",
       "      <td>7250.0</td>\n",
       "      <td>27.0</td>\n",
       "      <td>1</td>\n",
       "      <td>Mar</td>\n",
       "      <td>19</td>\n",
       "      <td>Mar/19</td>\n",
       "    </tr>\n",
       "    <tr>\n",
       "      <th>...</th>\n",
       "      <td>...</td>\n",
       "      <td>...</td>\n",
       "      <td>...</td>\n",
       "      <td>...</td>\n",
       "      <td>...</td>\n",
       "      <td>...</td>\n",
       "      <td>...</td>\n",
       "      <td>...</td>\n",
       "      <td>...</td>\n",
       "      <td>...</td>\n",
       "      <td>...</td>\n",
       "      <td>...</td>\n",
       "      <td>...</td>\n",
       "    </tr>\n",
       "    <tr>\n",
       "      <th>311400</th>\n",
       "      <td>10225741817-BIO002</td>\n",
       "      <td>F</td>\n",
       "      <td>1961-04-17 00:00:00</td>\n",
       "      <td>2019-05-12</td>\n",
       "      <td>575301626693-75</td>\n",
       "      <td>L157</td>\n",
       "      <td>70005139</td>\n",
       "      <td>0.0</td>\n",
       "      <td>58.0</td>\n",
       "      <td>BIO002</td>\n",
       "      <td>May</td>\n",
       "      <td>19</td>\n",
       "      <td>May/19</td>\n",
       "    </tr>\n",
       "    <tr>\n",
       "      <th>612078</th>\n",
       "      <td>10211007626-BIO003</td>\n",
       "      <td>F</td>\n",
       "      <td>1981-11-13 00:00:00</td>\n",
       "      <td>2019-09-08</td>\n",
       "      <td>571905464310-38</td>\n",
       "      <td>L133</td>\n",
       "      <td>70005139</td>\n",
       "      <td>0.0</td>\n",
       "      <td>37.0</td>\n",
       "      <td>BIO003</td>\n",
       "      <td>Sep</td>\n",
       "      <td>19</td>\n",
       "      <td>Sep/19</td>\n",
       "    </tr>\n",
       "    <tr>\n",
       "      <th>311378</th>\n",
       "      <td>10210926671-BIO003</td>\n",
       "      <td>F</td>\n",
       "      <td>1998-09-19 00:00:00</td>\n",
       "      <td>2019-05-09</td>\n",
       "      <td>575202637552-74</td>\n",
       "      <td>L156</td>\n",
       "      <td>70005139</td>\n",
       "      <td>0.0</td>\n",
       "      <td>20.0</td>\n",
       "      <td>BIO003</td>\n",
       "      <td>May</td>\n",
       "      <td>19</td>\n",
       "      <td>May/19</td>\n",
       "    </tr>\n",
       "    <tr>\n",
       "      <th>2309747</th>\n",
       "      <td>7663927201-1</td>\n",
       "      <td>M</td>\n",
       "      <td>1983-07-09 00:00:00</td>\n",
       "      <td>2021-01-28</td>\n",
       "      <td>7663927201-1-1</td>\n",
       "      <td>L658</td>\n",
       "      <td>70005139</td>\n",
       "      <td>0.0</td>\n",
       "      <td>37.0</td>\n",
       "      <td>1</td>\n",
       "      <td>Jan</td>\n",
       "      <td>21</td>\n",
       "      <td>Jan/21</td>\n",
       "    </tr>\n",
       "    <tr>\n",
       "      <th>2258515</th>\n",
       "      <td>7663858862-1</td>\n",
       "      <td>M</td>\n",
       "      <td>1969-07-31</td>\n",
       "      <td>2021-01-15</td>\n",
       "      <td>7663858862-1-1</td>\n",
       "      <td>L126</td>\n",
       "      <td>70005139</td>\n",
       "      <td>0.0</td>\n",
       "      <td>51.0</td>\n",
       "      <td>1</td>\n",
       "      <td>Jan</td>\n",
       "      <td>21</td>\n",
       "      <td>Jan/21</td>\n",
       "    </tr>\n",
       "  </tbody>\n",
       "</table>\n",
       "<p>2340722 rows × 13 columns</p>\n",
       "</div>"
      ],
      "text/plain": [
       "                 Patient Id Gender        Date of birth Date of service  \\\n",
       "1071698        7658190136-1      F  1994-03-27 00:00:00      2019-10-30   \n",
       "928311         7658949749-1      F  2018-10-30 00:00:00      2019-10-30   \n",
       "965251         7600739366-1      M           2015-05-15      2019-12-03   \n",
       "104906            9999999-1      F  2010-01-01 00:00:00      2019-03-08   \n",
       "160448         7657797382-1      F  1991-05-14 00:00:00      2019-03-13   \n",
       "...                     ...    ...                  ...             ...   \n",
       "311400   10225741817-BIO002      F  1961-04-17 00:00:00      2019-05-12   \n",
       "612078   10211007626-BIO003      F  1981-11-13 00:00:00      2019-09-08   \n",
       "311378   10210926671-BIO003      F  1998-09-19 00:00:00      2019-05-09   \n",
       "2309747        7663927201-1      M  1983-07-09 00:00:00      2021-01-28   \n",
       "2258515        7663858862-1      M           1969-07-31      2021-01-15   \n",
       "\n",
       "              Service Id Lab Id   CodItem  Valor Pago  Idade final_id  mes  \\\n",
       "1071698   7658190136-2-1   L170  70003713      9500.0   25.0        1  Oct   \n",
       "928311    7658949749-1-1   L172  70003713      9500.0    1.0        1  Oct   \n",
       "965251    7600739366-2-1   L537  70003713      9500.0    4.0        1  Dec   \n",
       "104906    9999999-2237-1   L121  70008010      7250.0    9.0        1  Mar   \n",
       "160448    7657797382-2-1   L171  70008011      7250.0   27.0        1  Mar   \n",
       "...                  ...    ...       ...         ...    ...      ...  ...   \n",
       "311400   575301626693-75   L157  70005139         0.0   58.0   BIO002  May   \n",
       "612078   571905464310-38   L133  70005139         0.0   37.0   BIO003  Sep   \n",
       "311378   575202637552-74   L156  70005139         0.0   20.0   BIO003  May   \n",
       "2309747   7663927201-1-1   L658  70005139         0.0   37.0        1  Jan   \n",
       "2258515   7663858862-1-1   L126  70005139         0.0   51.0        1  Jan   \n",
       "\n",
       "        ano mes_ano  \n",
       "1071698  19  Oct/19  \n",
       "928311   19  Oct/19  \n",
       "965251   19  Dec/19  \n",
       "104906   19  Mar/19  \n",
       "160448   19  Mar/19  \n",
       "...      ..     ...  \n",
       "311400   19  May/19  \n",
       "612078   19  Sep/19  \n",
       "311378   19  May/19  \n",
       "2309747  21  Jan/21  \n",
       "2258515  21  Jan/21  \n",
       "\n",
       "[2340722 rows x 13 columns]"
      ]
     },
     "execution_count": 39,
     "metadata": {},
     "output_type": "execute_result"
    }
   ],
   "source": [
    "transactional_data.sort_values('Valor Pago', ascending = False) # ['Valor Pago'].reset_index(drop = True).iloc[0]"
   ]
  },
  {
   "attachments": {},
   "cell_type": "markdown",
   "metadata": {},
   "source": [
    "qual é este teste?"
   ]
  },
  {
   "cell_type": "code",
   "execution_count": 40,
   "metadata": {},
   "outputs": [
    {
     "data": {
      "text/html": [
       "<div>\n",
       "<style scoped>\n",
       "    .dataframe tbody tr th:only-of-type {\n",
       "        vertical-align: middle;\n",
       "    }\n",
       "\n",
       "    .dataframe tbody tr th {\n",
       "        vertical-align: top;\n",
       "    }\n",
       "\n",
       "    .dataframe thead th {\n",
       "        text-align: right;\n",
       "    }\n",
       "</style>\n",
       "<table border=\"1\" class=\"dataframe\">\n",
       "  <thead>\n",
       "    <tr style=\"text-align: right;\">\n",
       "      <th></th>\n",
       "      <th>CodItem</th>\n",
       "      <th>Desc Item</th>\n",
       "      <th>Category</th>\n",
       "      <th>Family</th>\n",
       "      <th>Speciality</th>\n",
       "      <th>Testing Cost</th>\n",
       "    </tr>\n",
       "  </thead>\n",
       "  <tbody>\n",
       "    <tr>\n",
       "      <th>1925</th>\n",
       "      <td>70003713</td>\n",
       "      <td>EXOMA COMPLETO, SEQUENCIAMENTO (NGS), SANGUE</td>\n",
       "      <td>CA</td>\n",
       "      <td>GENETICS</td>\n",
       "      <td>SPECIAL GENETICS</td>\n",
       "      <td>1490.77</td>\n",
       "    </tr>\n",
       "  </tbody>\n",
       "</table>\n",
       "</div>"
      ],
      "text/plain": [
       "       CodItem                                     Desc Item Category  \\\n",
       "1925  70003713  EXOMA COMPLETO, SEQUENCIAMENTO (NGS), SANGUE       CA   \n",
       "\n",
       "        Family        Speciality  Testing Cost  \n",
       "1925  GENETICS  SPECIAL GENETICS       1490.77  "
      ]
     },
     "execution_count": 40,
     "metadata": {},
     "output_type": "execute_result"
    }
   ],
   "source": [
    "test_data[test_data['CodItem'] == 70003713]"
   ]
  },
  {
   "attachments": {},
   "cell_type": "markdown",
   "metadata": {},
   "source": [
    "qual o teste mais caro para a empresa?"
   ]
  },
  {
   "cell_type": "code",
   "execution_count": 41,
   "metadata": {},
   "outputs": [
    {
     "data": {
      "text/html": [
       "<div>\n",
       "<style scoped>\n",
       "    .dataframe tbody tr th:only-of-type {\n",
       "        vertical-align: middle;\n",
       "    }\n",
       "\n",
       "    .dataframe tbody tr th {\n",
       "        vertical-align: top;\n",
       "    }\n",
       "\n",
       "    .dataframe thead th {\n",
       "        text-align: right;\n",
       "    }\n",
       "</style>\n",
       "<table border=\"1\" class=\"dataframe\">\n",
       "  <thead>\n",
       "    <tr style=\"text-align: right;\">\n",
       "      <th></th>\n",
       "      <th>CodItem</th>\n",
       "      <th>Desc Item</th>\n",
       "      <th>Category</th>\n",
       "      <th>Family</th>\n",
       "      <th>Speciality</th>\n",
       "      <th>Testing Cost</th>\n",
       "    </tr>\n",
       "  </thead>\n",
       "  <tbody>\n",
       "    <tr>\n",
       "      <th>0</th>\n",
       "      <td>70006589</td>\n",
       "      <td>DETECCAO, TRISSOMIAS FETAIS 21, 18, 13 E MICRO...</td>\n",
       "      <td>CA</td>\n",
       "      <td>GENETICS</td>\n",
       "      <td>SPECIAL GENETICS</td>\n",
       "      <td>1762.46</td>\n",
       "    </tr>\n",
       "  </tbody>\n",
       "</table>\n",
       "</div>"
      ],
      "text/plain": [
       "    CodItem                                          Desc Item Category  \\\n",
       "0  70006589  DETECCAO, TRISSOMIAS FETAIS 21, 18, 13 E MICRO...       CA   \n",
       "\n",
       "     Family        Speciality  Testing Cost  \n",
       "0  GENETICS  SPECIAL GENETICS       1762.46  "
      ]
     },
     "execution_count": 41,
     "metadata": {},
     "output_type": "execute_result"
    }
   ],
   "source": [
    "test_data.sort_values('Testing Cost', ascending = False).reset_index(drop = True).head(1)"
   ]
  },
  {
   "attachments": {},
   "cell_type": "markdown",
   "metadata": {},
   "source": [
    "## distribuição das variáveis dos laboratórios"
   ]
  },
  {
   "attachments": {},
   "cell_type": "markdown",
   "metadata": {},
   "source": [
    "### há zipcodes com mais de 1 laboratório?"
   ]
  },
  {
   "cell_type": "code",
   "execution_count": 42,
   "metadata": {},
   "outputs": [
    {
     "data": {
      "text/html": [
       "<div>\n",
       "<style scoped>\n",
       "    .dataframe tbody tr th:only-of-type {\n",
       "        vertical-align: middle;\n",
       "    }\n",
       "\n",
       "    .dataframe tbody tr th {\n",
       "        vertical-align: top;\n",
       "    }\n",
       "\n",
       "    .dataframe thead th {\n",
       "        text-align: right;\n",
       "    }\n",
       "</style>\n",
       "<table border=\"1\" class=\"dataframe\">\n",
       "  <thead>\n",
       "    <tr style=\"text-align: right;\">\n",
       "      <th></th>\n",
       "      <th>index</th>\n",
       "      <th>Zipcode</th>\n",
       "    </tr>\n",
       "  </thead>\n",
       "  <tbody>\n",
       "    <tr>\n",
       "      <th>0</th>\n",
       "      <td>98034.0</td>\n",
       "      <td>3</td>\n",
       "    </tr>\n",
       "    <tr>\n",
       "      <th>1</th>\n",
       "      <td>94520.0</td>\n",
       "      <td>3</td>\n",
       "    </tr>\n",
       "    <tr>\n",
       "      <th>2</th>\n",
       "      <td>19148.0</td>\n",
       "      <td>2</td>\n",
       "    </tr>\n",
       "    <tr>\n",
       "      <th>3</th>\n",
       "      <td>30342.0</td>\n",
       "      <td>2</td>\n",
       "    </tr>\n",
       "    <tr>\n",
       "      <th>4</th>\n",
       "      <td>98148.0</td>\n",
       "      <td>2</td>\n",
       "    </tr>\n",
       "    <tr>\n",
       "      <th>5</th>\n",
       "      <td>94566.0</td>\n",
       "      <td>2</td>\n",
       "    </tr>\n",
       "    <tr>\n",
       "      <th>6</th>\n",
       "      <td>13413.0</td>\n",
       "      <td>2</td>\n",
       "    </tr>\n",
       "    <tr>\n",
       "      <th>7</th>\n",
       "      <td>3087.0</td>\n",
       "      <td>2</td>\n",
       "    </tr>\n",
       "    <tr>\n",
       "      <th>8</th>\n",
       "      <td>98104.0</td>\n",
       "      <td>2</td>\n",
       "    </tr>\n",
       "    <tr>\n",
       "      <th>9</th>\n",
       "      <td>98004.0</td>\n",
       "      <td>2</td>\n",
       "    </tr>\n",
       "    <tr>\n",
       "      <th>10</th>\n",
       "      <td>94583.0</td>\n",
       "      <td>2</td>\n",
       "    </tr>\n",
       "  </tbody>\n",
       "</table>\n",
       "</div>"
      ],
      "text/plain": [
       "      index  Zipcode\n",
       "0   98034.0        3\n",
       "1   94520.0        3\n",
       "2   19148.0        2\n",
       "3   30342.0        2\n",
       "4   98148.0        2\n",
       "5   94566.0        2\n",
       "6   13413.0        2\n",
       "7    3087.0        2\n",
       "8   98104.0        2\n",
       "9   98004.0        2\n",
       "10  94583.0        2"
      ]
     },
     "execution_count": 42,
     "metadata": {},
     "output_type": "execute_result"
    }
   ],
   "source": [
    "n_lab_zipcode = df_geocode['Zipcode'].value_counts().to_frame()\n",
    "n_lab_zipcode = n_lab_zipcode[n_lab_zipcode['Zipcode'] > 1].reset_index()\n",
    "n_lab_zipcode"
   ]
  },
  {
   "attachments": {},
   "cell_type": "markdown",
   "metadata": {},
   "source": [
    "Sim. Quais são estes laboratórios? Eles ficam na mesma rua ou o sistema de zipcodes não leva isso em consideração, apenas a proximidade?"
   ]
  },
  {
   "cell_type": "code",
   "execution_count": 43,
   "metadata": {},
   "outputs": [
    {
     "data": {
      "text/html": [
       "<div>\n",
       "<style scoped>\n",
       "    .dataframe tbody tr th:only-of-type {\n",
       "        vertical-align: middle;\n",
       "    }\n",
       "\n",
       "    .dataframe tbody tr th {\n",
       "        vertical-align: top;\n",
       "    }\n",
       "\n",
       "    .dataframe thead th {\n",
       "        text-align: right;\n",
       "    }\n",
       "</style>\n",
       "<table border=\"1\" class=\"dataframe\">\n",
       "  <thead>\n",
       "    <tr style=\"text-align: right;\">\n",
       "      <th></th>\n",
       "      <th>Lab Id</th>\n",
       "      <th>Address</th>\n",
       "      <th>Location</th>\n",
       "      <th>Zipcode</th>\n",
       "      <th>latitude</th>\n",
       "      <th>longitude</th>\n",
       "      <th>Sigla</th>\n",
       "    </tr>\n",
       "  </thead>\n",
       "  <tbody>\n",
       "    <tr>\n",
       "      <th>34</th>\n",
       "      <td>L541</td>\n",
       "      <td>2540 EAST STREET, CONCORD, CA 94520</td>\n",
       "      <td>37.9838036,-122.0360361</td>\n",
       "      <td>94520.0</td>\n",
       "      <td>37.983804</td>\n",
       "      <td>-122.036036</td>\n",
       "      <td>CA</td>\n",
       "    </tr>\n",
       "    <tr>\n",
       "      <th>79</th>\n",
       "      <td>L149</td>\n",
       "      <td>1990 MONUMENT BLVD, CONCORD, CA 94520</td>\n",
       "      <td>37.9553785,-122.0411404</td>\n",
       "      <td>94520.0</td>\n",
       "      <td>37.955379</td>\n",
       "      <td>-122.041140</td>\n",
       "      <td>CA</td>\n",
       "    </tr>\n",
       "    <tr>\n",
       "      <th>117</th>\n",
       "      <td>L967</td>\n",
       "      <td>2700 GRANT ST. SUITE 107, CONCORD, CA 94520</td>\n",
       "      <td>37.984716,-122.0383645</td>\n",
       "      <td>94520.0</td>\n",
       "      <td>37.984716</td>\n",
       "      <td>-122.038365</td>\n",
       "      <td>CA</td>\n",
       "    </tr>\n",
       "    <tr>\n",
       "      <th>7</th>\n",
       "      <td>L518</td>\n",
       "      <td>1763 SANTA RITA ROAD, PLEASANTON, CA 94566</td>\n",
       "      <td>37.6759064,-121.8772172</td>\n",
       "      <td>94566.0</td>\n",
       "      <td>37.675906</td>\n",
       "      <td>-121.877217</td>\n",
       "      <td>CA</td>\n",
       "    </tr>\n",
       "    <tr>\n",
       "      <th>31</th>\n",
       "      <td>L148</td>\n",
       "      <td>4125 MOHR AVE. SUITE AM, PLEASANTON, CA 94566</td>\n",
       "      <td>37.6822922,-121.8756054</td>\n",
       "      <td>94566.0</td>\n",
       "      <td>37.682292</td>\n",
       "      <td>-121.875605</td>\n",
       "      <td>CA</td>\n",
       "    </tr>\n",
       "    <tr>\n",
       "      <th>67</th>\n",
       "      <td>L704</td>\n",
       "      <td>2305 CAMINO RAMON STE 110, SAN RAMON, CA 94583</td>\n",
       "      <td>37.7754429,-121.9669886</td>\n",
       "      <td>94583.0</td>\n",
       "      <td>37.775443</td>\n",
       "      <td>-121.966989</td>\n",
       "      <td>CA</td>\n",
       "    </tr>\n",
       "    <tr>\n",
       "      <th>97</th>\n",
       "      <td>L703</td>\n",
       "      <td>2301 CAMINO RAMON STE 108, SAN RAMON, CA 94583</td>\n",
       "      <td>37.7762785,-121.9679406</td>\n",
       "      <td>94583.0</td>\n",
       "      <td>37.776278</td>\n",
       "      <td>-121.967941</td>\n",
       "      <td>CA</td>\n",
       "    </tr>\n",
       "    <tr>\n",
       "      <th>3</th>\n",
       "      <td>L524</td>\n",
       "      <td>5667 PEACHTREE DUNWOODY RD 250, ATLANTA, GA 30342</td>\n",
       "      <td>33.9093875,-84.3529096</td>\n",
       "      <td>30342.0</td>\n",
       "      <td>33.909388</td>\n",
       "      <td>-84.352910</td>\n",
       "      <td>GA</td>\n",
       "    </tr>\n",
       "    <tr>\n",
       "      <th>110</th>\n",
       "      <td>L668</td>\n",
       "      <td>975 JOHNSON FERRY RD NE 320, ATLANTA, GA 30342</td>\n",
       "      <td>33.9073497,-84.3581189</td>\n",
       "      <td>30342.0</td>\n",
       "      <td>33.907350</td>\n",
       "      <td>-84.358119</td>\n",
       "      <td>GA</td>\n",
       "    </tr>\n",
       "    <tr>\n",
       "      <th>75</th>\n",
       "      <td>L660</td>\n",
       "      <td>49 RANGE RD STE 101, WINDHAM, NH 03087</td>\n",
       "      <td>42.8075256,-71.2622671</td>\n",
       "      <td>3087.0</td>\n",
       "      <td>42.807526</td>\n",
       "      <td>-71.262267</td>\n",
       "      <td>NH</td>\n",
       "    </tr>\n",
       "    <tr>\n",
       "      <th>86</th>\n",
       "      <td>L082</td>\n",
       "      <td>125 INDIAN ROCK ROAD, WINDHAM, NH 03087</td>\n",
       "      <td>42.8073225,-71.2650041</td>\n",
       "      <td>3087.0</td>\n",
       "      <td>42.807322</td>\n",
       "      <td>-71.265004</td>\n",
       "      <td>NH</td>\n",
       "    </tr>\n",
       "    <tr>\n",
       "      <th>64</th>\n",
       "      <td>L658</td>\n",
       "      <td>4855 COMMERCIAL DRIVE, NEW HARTFORD, NY 13413</td>\n",
       "      <td>43.0978638,-75.3055966</td>\n",
       "      <td>13413.0</td>\n",
       "      <td>43.097864</td>\n",
       "      <td>-75.305597</td>\n",
       "      <td>NY</td>\n",
       "    </tr>\n",
       "    <tr>\n",
       "      <th>80</th>\n",
       "      <td>L695</td>\n",
       "      <td>95 GENESEE ST, NEW HARTFORD, NY 13413</td>\n",
       "      <td>43.0731473,-75.2957098</td>\n",
       "      <td>13413.0</td>\n",
       "      <td>43.073147</td>\n",
       "      <td>-75.295710</td>\n",
       "      <td>NY</td>\n",
       "    </tr>\n",
       "    <tr>\n",
       "      <th>96</th>\n",
       "      <td>L058</td>\n",
       "      <td>2715 S FRONT ST UNIT 2, PHILADELPHIA, PA 19148</td>\n",
       "      <td>39.9130589,-75.1518927</td>\n",
       "      <td>19148.0</td>\n",
       "      <td>39.913059</td>\n",
       "      <td>-75.151893</td>\n",
       "      <td>PA</td>\n",
       "    </tr>\n",
       "    <tr>\n",
       "      <th>102</th>\n",
       "      <td>L159</td>\n",
       "      <td>1703 SOUTH BROAD STREET 200, PHILADELPHIA, PA ...</td>\n",
       "      <td>39.9290428,-75.170544</td>\n",
       "      <td>19148.0</td>\n",
       "      <td>39.929043</td>\n",
       "      <td>-75.170544</td>\n",
       "      <td>PA</td>\n",
       "    </tr>\n",
       "    <tr>\n",
       "      <th>12</th>\n",
       "      <td>L061</td>\n",
       "      <td>1135 116TH AVE NE STE 110, BELLEVUE, WA 98004</td>\n",
       "      <td>47.6208696,-122.1889933</td>\n",
       "      <td>98004.0</td>\n",
       "      <td>47.620870</td>\n",
       "      <td>-122.188993</td>\n",
       "      <td>WA</td>\n",
       "    </tr>\n",
       "    <tr>\n",
       "      <th>51</th>\n",
       "      <td>L060</td>\n",
       "      <td>1310 116TH AVE NE SUITE R, BELLEVUE, WA 98004</td>\n",
       "      <td>47.6219477,-122.1870553</td>\n",
       "      <td>98004.0</td>\n",
       "      <td>47.621948</td>\n",
       "      <td>-122.187055</td>\n",
       "      <td>WA</td>\n",
       "    </tr>\n",
       "    <tr>\n",
       "      <th>2</th>\n",
       "      <td>L141</td>\n",
       "      <td>12911 120TH AVE NE STE D60, KIRKLAND, WA 98034</td>\n",
       "      <td>47.7162786,-122.1838152</td>\n",
       "      <td>98034.0</td>\n",
       "      <td>47.716279</td>\n",
       "      <td>-122.183815</td>\n",
       "      <td>WA</td>\n",
       "    </tr>\n",
       "    <tr>\n",
       "      <th>23</th>\n",
       "      <td>L720</td>\n",
       "      <td>12303 NE 130TH LN 520, KIRKLAND, WA 98034</td>\n",
       "      <td>47.7158288,-122.180939</td>\n",
       "      <td>98034.0</td>\n",
       "      <td>47.715829</td>\n",
       "      <td>-122.180939</td>\n",
       "      <td>WA</td>\n",
       "    </tr>\n",
       "    <tr>\n",
       "      <th>111</th>\n",
       "      <td>L140</td>\n",
       "      <td>11800 NE 128TH ST 130, KIRKLAND, WA 98034</td>\n",
       "      <td>47.7148568,-122.1866063</td>\n",
       "      <td>98034.0</td>\n",
       "      <td>47.714857</td>\n",
       "      <td>-122.186606</td>\n",
       "      <td>WA</td>\n",
       "    </tr>\n",
       "    <tr>\n",
       "      <th>50</th>\n",
       "      <td>L137</td>\n",
       "      <td>1101 MADISON ST STE 306, SEATTLE, WA 98104</td>\n",
       "      <td>47.6091997,-122.3262981</td>\n",
       "      <td>98104.0</td>\n",
       "      <td>47.609200</td>\n",
       "      <td>-122.326298</td>\n",
       "      <td>WA</td>\n",
       "    </tr>\n",
       "    <tr>\n",
       "      <th>99</th>\n",
       "      <td>L698</td>\n",
       "      <td>1229 MADISON ST STE 610, SEATTLE, WA 98104</td>\n",
       "      <td>47.6100869,-122.3243021</td>\n",
       "      <td>98104.0</td>\n",
       "      <td>47.610087</td>\n",
       "      <td>-122.324302</td>\n",
       "      <td>WA</td>\n",
       "    </tr>\n",
       "    <tr>\n",
       "      <th>63</th>\n",
       "      <td>L442</td>\n",
       "      <td>16259 SYLVESTER RD SW 402, BURIEN, WA 98148</td>\n",
       "      <td>47.4568023,-122.3457174</td>\n",
       "      <td>98148.0</td>\n",
       "      <td>47.456802</td>\n",
       "      <td>-122.345717</td>\n",
       "      <td>WA</td>\n",
       "    </tr>\n",
       "    <tr>\n",
       "      <th>91</th>\n",
       "      <td>L165</td>\n",
       "      <td>16045 1ST AVE SOUTH, BURIEN, WA 98148</td>\n",
       "      <td>47.4585122,-122.3370864</td>\n",
       "      <td>98148.0</td>\n",
       "      <td>47.458512</td>\n",
       "      <td>-122.337086</td>\n",
       "      <td>WA</td>\n",
       "    </tr>\n",
       "  </tbody>\n",
       "</table>\n",
       "</div>"
      ],
      "text/plain": [
       "    Lab Id                                            Address  \\\n",
       "34    L541                2540 EAST STREET, CONCORD, CA 94520   \n",
       "79    L149              1990 MONUMENT BLVD, CONCORD, CA 94520   \n",
       "117   L967        2700 GRANT ST. SUITE 107, CONCORD, CA 94520   \n",
       "7     L518         1763 SANTA RITA ROAD, PLEASANTON, CA 94566   \n",
       "31    L148      4125 MOHR AVE. SUITE AM, PLEASANTON, CA 94566   \n",
       "67    L704     2305 CAMINO RAMON STE 110, SAN RAMON, CA 94583   \n",
       "97    L703     2301 CAMINO RAMON STE 108, SAN RAMON, CA 94583   \n",
       "3     L524  5667 PEACHTREE DUNWOODY RD 250, ATLANTA, GA 30342   \n",
       "110   L668     975 JOHNSON FERRY RD NE 320, ATLANTA, GA 30342   \n",
       "75    L660             49 RANGE RD STE 101, WINDHAM, NH 03087   \n",
       "86    L082            125 INDIAN ROCK ROAD, WINDHAM, NH 03087   \n",
       "64    L658      4855 COMMERCIAL DRIVE, NEW HARTFORD, NY 13413   \n",
       "80    L695              95 GENESEE ST, NEW HARTFORD, NY 13413   \n",
       "96    L058     2715 S FRONT ST UNIT 2, PHILADELPHIA, PA 19148   \n",
       "102   L159  1703 SOUTH BROAD STREET 200, PHILADELPHIA, PA ...   \n",
       "12    L061      1135 116TH AVE NE STE 110, BELLEVUE, WA 98004   \n",
       "51    L060      1310 116TH AVE NE SUITE R, BELLEVUE, WA 98004   \n",
       "2     L141     12911 120TH AVE NE STE D60, KIRKLAND, WA 98034   \n",
       "23    L720          12303 NE 130TH LN 520, KIRKLAND, WA 98034   \n",
       "111   L140          11800 NE 128TH ST 130, KIRKLAND, WA 98034   \n",
       "50    L137         1101 MADISON ST STE 306, SEATTLE, WA 98104   \n",
       "99    L698         1229 MADISON ST STE 610, SEATTLE, WA 98104   \n",
       "63    L442        16259 SYLVESTER RD SW 402, BURIEN, WA 98148   \n",
       "91    L165              16045 1ST AVE SOUTH, BURIEN, WA 98148   \n",
       "\n",
       "                    Location  Zipcode   latitude   longitude Sigla  \n",
       "34   37.9838036,-122.0360361  94520.0  37.983804 -122.036036    CA  \n",
       "79   37.9553785,-122.0411404  94520.0  37.955379 -122.041140    CA  \n",
       "117   37.984716,-122.0383645  94520.0  37.984716 -122.038365    CA  \n",
       "7    37.6759064,-121.8772172  94566.0  37.675906 -121.877217    CA  \n",
       "31   37.6822922,-121.8756054  94566.0  37.682292 -121.875605    CA  \n",
       "67   37.7754429,-121.9669886  94583.0  37.775443 -121.966989    CA  \n",
       "97   37.7762785,-121.9679406  94583.0  37.776278 -121.967941    CA  \n",
       "3     33.9093875,-84.3529096  30342.0  33.909388  -84.352910    GA  \n",
       "110   33.9073497,-84.3581189  30342.0  33.907350  -84.358119    GA  \n",
       "75    42.8075256,-71.2622671   3087.0  42.807526  -71.262267    NH  \n",
       "86    42.8073225,-71.2650041   3087.0  42.807322  -71.265004    NH  \n",
       "64    43.0978638,-75.3055966  13413.0  43.097864  -75.305597    NY  \n",
       "80    43.0731473,-75.2957098  13413.0  43.073147  -75.295710    NY  \n",
       "96    39.9130589,-75.1518927  19148.0  39.913059  -75.151893    PA  \n",
       "102    39.9290428,-75.170544  19148.0  39.929043  -75.170544    PA  \n",
       "12   47.6208696,-122.1889933  98004.0  47.620870 -122.188993    WA  \n",
       "51   47.6219477,-122.1870553  98004.0  47.621948 -122.187055    WA  \n",
       "2    47.7162786,-122.1838152  98034.0  47.716279 -122.183815    WA  \n",
       "23    47.7158288,-122.180939  98034.0  47.715829 -122.180939    WA  \n",
       "111  47.7148568,-122.1866063  98034.0  47.714857 -122.186606    WA  \n",
       "50   47.6091997,-122.3262981  98104.0  47.609200 -122.326298    WA  \n",
       "99   47.6100869,-122.3243021  98104.0  47.610087 -122.324302    WA  \n",
       "63   47.4568023,-122.3457174  98148.0  47.456802 -122.345717    WA  \n",
       "91   47.4585122,-122.3370864  98148.0  47.458512 -122.337086    WA  "
      ]
     },
     "execution_count": 43,
     "metadata": {},
     "output_type": "execute_result"
    }
   ],
   "source": [
    "df_geocode[df_geocode['Zipcode'].isin(n_lab_zipcode['index'])].sort_values(['Sigla', 'Zipcode'])\n",
    "#[['Zipcode', 'Sigla']].drop_duplicates().merge(zipcodes_states[['Sigla', 'Estado']], how = 'left').sort_values('Estado')"
   ]
  },
  {
   "attachments": {},
   "cell_type": "markdown",
   "metadata": {},
   "source": [
    "alguns ficam na mesma rua e outros não, isto não é uma regra."
   ]
  },
  {
   "attachments": {},
   "cell_type": "markdown",
   "metadata": {},
   "source": [
    "### Quais foram os últimos laboratórios a serem abertos?"
   ]
  },
  {
   "cell_type": "code",
   "execution_count": 44,
   "metadata": {},
   "outputs": [
    {
     "data": {
      "text/html": [
       "<div>\n",
       "<style scoped>\n",
       "    .dataframe tbody tr th:only-of-type {\n",
       "        vertical-align: middle;\n",
       "    }\n",
       "\n",
       "    .dataframe tbody tr th {\n",
       "        vertical-align: top;\n",
       "    }\n",
       "\n",
       "    .dataframe thead th {\n",
       "        text-align: right;\n",
       "    }\n",
       "</style>\n",
       "<table border=\"1\" class=\"dataframe\">\n",
       "  <thead>\n",
       "    <tr style=\"text-align: right;\">\n",
       "      <th></th>\n",
       "      <th>Patient Id</th>\n",
       "      <th>Gender</th>\n",
       "      <th>Date of birth</th>\n",
       "      <th>Date of service</th>\n",
       "      <th>Service Id</th>\n",
       "      <th>Lab Id</th>\n",
       "      <th>CodItem</th>\n",
       "      <th>Valor Pago</th>\n",
       "      <th>Idade</th>\n",
       "      <th>final_id</th>\n",
       "      <th>mes</th>\n",
       "      <th>ano</th>\n",
       "      <th>mes_ano</th>\n",
       "      <th>Sigla</th>\n",
       "    </tr>\n",
       "  </thead>\n",
       "  <tbody>\n",
       "    <tr>\n",
       "      <th>0</th>\n",
       "      <td>7659545716-1</td>\n",
       "      <td>F</td>\n",
       "      <td>1981-05-27 00:00:00</td>\n",
       "      <td>2020-01-10</td>\n",
       "      <td>7659545716-1-1</td>\n",
       "      <td>L967</td>\n",
       "      <td>70001903</td>\n",
       "      <td>44.0</td>\n",
       "      <td>38.0</td>\n",
       "      <td>1</td>\n",
       "      <td>Jan</td>\n",
       "      <td>20</td>\n",
       "      <td>Jan/20</td>\n",
       "      <td>CA</td>\n",
       "    </tr>\n",
       "    <tr>\n",
       "      <th>1</th>\n",
       "      <td>7659259856-1</td>\n",
       "      <td>M</td>\n",
       "      <td>1992-09-15 00:00:00</td>\n",
       "      <td>2019-12-04</td>\n",
       "      <td>7659259856-1-1</td>\n",
       "      <td>L720</td>\n",
       "      <td>70000638</td>\n",
       "      <td>13.0</td>\n",
       "      <td>27.0</td>\n",
       "      <td>1</td>\n",
       "      <td>Dec</td>\n",
       "      <td>19</td>\n",
       "      <td>Dec/19</td>\n",
       "      <td>WA</td>\n",
       "    </tr>\n",
       "    <tr>\n",
       "      <th>2</th>\n",
       "      <td>7658168179-1</td>\n",
       "      <td>F</td>\n",
       "      <td>1992-05-24 00:00:00</td>\n",
       "      <td>2019-06-27</td>\n",
       "      <td>7658168179-1-1</td>\n",
       "      <td>L903</td>\n",
       "      <td>70003846</td>\n",
       "      <td>36.0</td>\n",
       "      <td>27.0</td>\n",
       "      <td>1</td>\n",
       "      <td>Jun</td>\n",
       "      <td>19</td>\n",
       "      <td>Jun/19</td>\n",
       "      <td>NY</td>\n",
       "    </tr>\n",
       "    <tr>\n",
       "      <th>3</th>\n",
       "      <td>7658117784-1</td>\n",
       "      <td>F</td>\n",
       "      <td>1974-04-29 00:00:00</td>\n",
       "      <td>2019-06-14</td>\n",
       "      <td>7658117784-1-1</td>\n",
       "      <td>L697</td>\n",
       "      <td>70004134</td>\n",
       "      <td>10.0</td>\n",
       "      <td>45.0</td>\n",
       "      <td>1</td>\n",
       "      <td>Jun</td>\n",
       "      <td>19</td>\n",
       "      <td>Jun/19</td>\n",
       "      <td>MA</td>\n",
       "    </tr>\n",
       "    <tr>\n",
       "      <th>4</th>\n",
       "      <td>10240390490-BIO010</td>\n",
       "      <td>F</td>\n",
       "      <td>1978-11-29 00:00:00</td>\n",
       "      <td>2019-02-02</td>\n",
       "      <td>617400000049-195</td>\n",
       "      <td>L922</td>\n",
       "      <td>70004185</td>\n",
       "      <td>13.0</td>\n",
       "      <td>40.0</td>\n",
       "      <td>BIO010</td>\n",
       "      <td>Feb</td>\n",
       "      <td>19</td>\n",
       "      <td>Feb/19</td>\n",
       "      <td>MA</td>\n",
       "    </tr>\n",
       "    <tr>\n",
       "      <th>5</th>\n",
       "      <td>10240382020-BIO010</td>\n",
       "      <td>M</td>\n",
       "      <td>1961-01-14</td>\n",
       "      <td>2019-01-17</td>\n",
       "      <td>537300215155-142</td>\n",
       "      <td>L665</td>\n",
       "      <td>70000972</td>\n",
       "      <td>38.0</td>\n",
       "      <td>58.0</td>\n",
       "      <td>BIO010</td>\n",
       "      <td>Jan</td>\n",
       "      <td>19</td>\n",
       "      <td>Jan/19</td>\n",
       "      <td>NaN</td>\n",
       "    </tr>\n",
       "    <tr>\n",
       "      <th>6</th>\n",
       "      <td>10240377416-BIO010</td>\n",
       "      <td>M</td>\n",
       "      <td>1974-09-03</td>\n",
       "      <td>2019-01-09</td>\n",
       "      <td>595200019532-159</td>\n",
       "      <td>L669</td>\n",
       "      <td>70005506</td>\n",
       "      <td>55.0</td>\n",
       "      <td>44.0</td>\n",
       "      <td>BIO010</td>\n",
       "      <td>Jan</td>\n",
       "      <td>19</td>\n",
       "      <td>Jan/19</td>\n",
       "      <td>WA</td>\n",
       "    </tr>\n",
       "    <tr>\n",
       "      <th>7</th>\n",
       "      <td>10210004177-BIO003</td>\n",
       "      <td>M</td>\n",
       "      <td>1976-01-12</td>\n",
       "      <td>2019-01-09</td>\n",
       "      <td>570300306485-22</td>\n",
       "      <td>L127</td>\n",
       "      <td>70000227</td>\n",
       "      <td>23.0</td>\n",
       "      <td>43.0</td>\n",
       "      <td>BIO003</td>\n",
       "      <td>Jan</td>\n",
       "      <td>19</td>\n",
       "      <td>Jan/19</td>\n",
       "      <td>LA</td>\n",
       "    </tr>\n",
       "    <tr>\n",
       "      <th>8</th>\n",
       "      <td>10240376643-BIO010</td>\n",
       "      <td>M</td>\n",
       "      <td>1985-09-19 00:00:00</td>\n",
       "      <td>2019-01-08</td>\n",
       "      <td>595000084266-158</td>\n",
       "      <td>L530</td>\n",
       "      <td>70000638</td>\n",
       "      <td>13.0</td>\n",
       "      <td>33.0</td>\n",
       "      <td>BIO010</td>\n",
       "      <td>Jan</td>\n",
       "      <td>19</td>\n",
       "      <td>Jan/19</td>\n",
       "      <td>PA</td>\n",
       "    </tr>\n",
       "    <tr>\n",
       "      <th>9</th>\n",
       "      <td>10240107941-BIO010</td>\n",
       "      <td>F</td>\n",
       "      <td>1963-03-05 00:00:00</td>\n",
       "      <td>2019-01-08</td>\n",
       "      <td>531700091326-137</td>\n",
       "      <td>L661</td>\n",
       "      <td>70004461</td>\n",
       "      <td>94.0</td>\n",
       "      <td>55.0</td>\n",
       "      <td>BIO010</td>\n",
       "      <td>Jan</td>\n",
       "      <td>19</td>\n",
       "      <td>Jan/19</td>\n",
       "      <td>IL</td>\n",
       "    </tr>\n",
       "  </tbody>\n",
       "</table>\n",
       "</div>"
      ],
      "text/plain": [
       "           Patient Id Gender        Date of birth Date of service  \\\n",
       "0        7659545716-1      F  1981-05-27 00:00:00      2020-01-10   \n",
       "1        7659259856-1      M  1992-09-15 00:00:00      2019-12-04   \n",
       "2        7658168179-1      F  1992-05-24 00:00:00      2019-06-27   \n",
       "3        7658117784-1      F  1974-04-29 00:00:00      2019-06-14   \n",
       "4  10240390490-BIO010      F  1978-11-29 00:00:00      2019-02-02   \n",
       "5  10240382020-BIO010      M           1961-01-14      2019-01-17   \n",
       "6  10240377416-BIO010      M           1974-09-03      2019-01-09   \n",
       "7  10210004177-BIO003      M           1976-01-12      2019-01-09   \n",
       "8  10240376643-BIO010      M  1985-09-19 00:00:00      2019-01-08   \n",
       "9  10240107941-BIO010      F  1963-03-05 00:00:00      2019-01-08   \n",
       "\n",
       "         Service Id Lab Id   CodItem  Valor Pago  Idade final_id  mes ano  \\\n",
       "0    7659545716-1-1   L967  70001903        44.0   38.0        1  Jan  20   \n",
       "1    7659259856-1-1   L720  70000638        13.0   27.0        1  Dec  19   \n",
       "2    7658168179-1-1   L903  70003846        36.0   27.0        1  Jun  19   \n",
       "3    7658117784-1-1   L697  70004134        10.0   45.0        1  Jun  19   \n",
       "4  617400000049-195   L922  70004185        13.0   40.0   BIO010  Feb  19   \n",
       "5  537300215155-142   L665  70000972        38.0   58.0   BIO010  Jan  19   \n",
       "6  595200019532-159   L669  70005506        55.0   44.0   BIO010  Jan  19   \n",
       "7   570300306485-22   L127  70000227        23.0   43.0   BIO003  Jan  19   \n",
       "8  595000084266-158   L530  70000638        13.0   33.0   BIO010  Jan  19   \n",
       "9  531700091326-137   L661  70004461        94.0   55.0   BIO010  Jan  19   \n",
       "\n",
       "  mes_ano Sigla  \n",
       "0  Jan/20    CA  \n",
       "1  Dec/19    WA  \n",
       "2  Jun/19    NY  \n",
       "3  Jun/19    MA  \n",
       "4  Feb/19    MA  \n",
       "5  Jan/19   NaN  \n",
       "6  Jan/19    WA  \n",
       "7  Jan/19    LA  \n",
       "8  Jan/19    PA  \n",
       "9  Jan/19    IL  "
      ]
     },
     "execution_count": 44,
     "metadata": {},
     "output_type": "execute_result"
    }
   ],
   "source": [
    "ultimos_labs = transactional_data.sort_values('Date of service').drop_duplicates('Lab Id').sort_values('Date of service', ascending = False).head(10)\n",
    "ultimos_labs.merge(df_geocode[['Lab Id', 'Sigla']], how = 'left')"
   ]
  },
  {
   "attachments": {},
   "cell_type": "markdown",
   "metadata": {},
   "source": [
    "### Quais laboratórios fizeram mais exames ao longo de todo o período? Quais fizeram menos?"
   ]
  },
  {
   "cell_type": "code",
   "execution_count": 45,
   "metadata": {},
   "outputs": [
    {
     "data": {
      "text/html": [
       "<div>\n",
       "<style scoped>\n",
       "    .dataframe tbody tr th:only-of-type {\n",
       "        vertical-align: middle;\n",
       "    }\n",
       "\n",
       "    .dataframe tbody tr th {\n",
       "        vertical-align: top;\n",
       "    }\n",
       "\n",
       "    .dataframe thead th {\n",
       "        text-align: right;\n",
       "    }\n",
       "</style>\n",
       "<table border=\"1\" class=\"dataframe\">\n",
       "  <thead>\n",
       "    <tr style=\"text-align: right;\">\n",
       "      <th></th>\n",
       "      <th>index</th>\n",
       "      <th>Lab Id</th>\n",
       "      <th>0</th>\n",
       "      <th>Sigla</th>\n",
       "    </tr>\n",
       "  </thead>\n",
       "  <tbody>\n",
       "    <tr>\n",
       "      <th>0</th>\n",
       "      <td>0</td>\n",
       "      <td>L133</td>\n",
       "      <td>121886</td>\n",
       "      <td>CA</td>\n",
       "    </tr>\n",
       "    <tr>\n",
       "      <th>1</th>\n",
       "      <td>1</td>\n",
       "      <td>L152</td>\n",
       "      <td>95256</td>\n",
       "      <td>GA</td>\n",
       "    </tr>\n",
       "    <tr>\n",
       "      <th>2</th>\n",
       "      <td>2</td>\n",
       "      <td>L139</td>\n",
       "      <td>93495</td>\n",
       "      <td>CA</td>\n",
       "    </tr>\n",
       "    <tr>\n",
       "      <th>3</th>\n",
       "      <td>3</td>\n",
       "      <td>L121</td>\n",
       "      <td>88430</td>\n",
       "      <td>WA</td>\n",
       "    </tr>\n",
       "    <tr>\n",
       "      <th>4</th>\n",
       "      <td>4</td>\n",
       "      <td>L166</td>\n",
       "      <td>76159</td>\n",
       "      <td>PA</td>\n",
       "    </tr>\n",
       "    <tr>\n",
       "      <th>5</th>\n",
       "      <td>5</td>\n",
       "      <td>L662</td>\n",
       "      <td>73354</td>\n",
       "      <td>GA</td>\n",
       "    </tr>\n",
       "    <tr>\n",
       "      <th>6</th>\n",
       "      <td>6</td>\n",
       "      <td>L156</td>\n",
       "      <td>69625</td>\n",
       "      <td>WA</td>\n",
       "    </tr>\n",
       "    <tr>\n",
       "      <th>7</th>\n",
       "      <td>7</td>\n",
       "      <td>L123</td>\n",
       "      <td>68469</td>\n",
       "      <td>PA</td>\n",
       "    </tr>\n",
       "    <tr>\n",
       "      <th>8</th>\n",
       "      <td>8</td>\n",
       "      <td>L155</td>\n",
       "      <td>58878</td>\n",
       "      <td>CA</td>\n",
       "    </tr>\n",
       "    <tr>\n",
       "      <th>9</th>\n",
       "      <td>9</td>\n",
       "      <td>L141</td>\n",
       "      <td>50631</td>\n",
       "      <td>WA</td>\n",
       "    </tr>\n",
       "    <tr>\n",
       "      <th>111</th>\n",
       "      <td>111</td>\n",
       "      <td>L666</td>\n",
       "      <td>1288</td>\n",
       "      <td>GA</td>\n",
       "    </tr>\n",
       "    <tr>\n",
       "      <th>112</th>\n",
       "      <td>112</td>\n",
       "      <td>L442</td>\n",
       "      <td>1174</td>\n",
       "      <td>WA</td>\n",
       "    </tr>\n",
       "    <tr>\n",
       "      <th>113</th>\n",
       "      <td>113</td>\n",
       "      <td>L660</td>\n",
       "      <td>645</td>\n",
       "      <td>NH</td>\n",
       "    </tr>\n",
       "    <tr>\n",
       "      <th>114</th>\n",
       "      <td>114</td>\n",
       "      <td>L127</td>\n",
       "      <td>235</td>\n",
       "      <td>LA</td>\n",
       "    </tr>\n",
       "    <tr>\n",
       "      <th>115</th>\n",
       "      <td>115</td>\n",
       "      <td>L967</td>\n",
       "      <td>90</td>\n",
       "      <td>CA</td>\n",
       "    </tr>\n",
       "    <tr>\n",
       "      <th>116</th>\n",
       "      <td>116</td>\n",
       "      <td>L149</td>\n",
       "      <td>68</td>\n",
       "      <td>CA</td>\n",
       "    </tr>\n",
       "    <tr>\n",
       "      <th>117</th>\n",
       "      <td>117</td>\n",
       "      <td>L665</td>\n",
       "      <td>24</td>\n",
       "      <td>NaN</td>\n",
       "    </tr>\n",
       "  </tbody>\n",
       "</table>\n",
       "</div>"
      ],
      "text/plain": [
       "     index Lab Id       0 Sigla\n",
       "0        0   L133  121886    CA\n",
       "1        1   L152   95256    GA\n",
       "2        2   L139   93495    CA\n",
       "3        3   L121   88430    WA\n",
       "4        4   L166   76159    PA\n",
       "5        5   L662   73354    GA\n",
       "6        6   L156   69625    WA\n",
       "7        7   L123   68469    PA\n",
       "8        8   L155   58878    CA\n",
       "9        9   L141   50631    WA\n",
       "111    111   L666    1288    GA\n",
       "112    112   L442    1174    WA\n",
       "113    113   L660     645    NH\n",
       "114    114   L127     235    LA\n",
       "115    115   L967      90    CA\n",
       "116    116   L149      68    CA\n",
       "117    117   L665      24   NaN"
      ]
     },
     "execution_count": 45,
     "metadata": {},
     "output_type": "execute_result"
    }
   ],
   "source": [
    "n_exames = transactional_data[['Lab Id']].value_counts().to_frame().reset_index().merge(df_geocode[['Lab Id', 'Sigla']], how = 'left').reset_index()\n",
    "n_exames = n_exames[(n_exames['index'] < 10) | (n_exames['index'] > 110)]\n",
    "\n",
    "n_exames"
   ]
  },
  {
   "attachments": {},
   "cell_type": "markdown",
   "metadata": {},
   "source": [
    "quais as datas dos primeiros exames registrados para estes laboratórios?"
   ]
  },
  {
   "cell_type": "code",
   "execution_count": 46,
   "metadata": {},
   "outputs": [
    {
     "data": {
      "text/html": [
       "<div>\n",
       "<style scoped>\n",
       "    .dataframe tbody tr th:only-of-type {\n",
       "        vertical-align: middle;\n",
       "    }\n",
       "\n",
       "    .dataframe tbody tr th {\n",
       "        vertical-align: top;\n",
       "    }\n",
       "\n",
       "    .dataframe thead th {\n",
       "        text-align: right;\n",
       "    }\n",
       "</style>\n",
       "<table border=\"1\" class=\"dataframe\">\n",
       "  <thead>\n",
       "    <tr style=\"text-align: right;\">\n",
       "      <th></th>\n",
       "      <th>Patient Id</th>\n",
       "      <th>Gender</th>\n",
       "      <th>Date of birth</th>\n",
       "      <th>Date of service</th>\n",
       "      <th>Service Id</th>\n",
       "      <th>Lab Id</th>\n",
       "      <th>CodItem</th>\n",
       "      <th>Valor Pago</th>\n",
       "      <th>Idade</th>\n",
       "      <th>final_id</th>\n",
       "      <th>mes</th>\n",
       "      <th>ano</th>\n",
       "      <th>mes_ano</th>\n",
       "    </tr>\n",
       "  </thead>\n",
       "  <tbody>\n",
       "    <tr>\n",
       "      <th>25334</th>\n",
       "      <td>10210818694-BIO003</td>\n",
       "      <td>F</td>\n",
       "      <td>1976-02-29 00:00:00</td>\n",
       "      <td>2019-01-02</td>\n",
       "      <td>569403177252-11</td>\n",
       "      <td>L121</td>\n",
       "      <td>70000180</td>\n",
       "      <td>12.0</td>\n",
       "      <td>42.0</td>\n",
       "      <td>BIO003</td>\n",
       "      <td>Jan</td>\n",
       "      <td>19</td>\n",
       "      <td>Jan/19</td>\n",
       "    </tr>\n",
       "    <tr>\n",
       "      <th>1926</th>\n",
       "      <td>10225659642-BIO002</td>\n",
       "      <td>F</td>\n",
       "      <td>1968-09-24 00:00:00</td>\n",
       "      <td>2019-01-02</td>\n",
       "      <td>569802607602-16</td>\n",
       "      <td>L123</td>\n",
       "      <td>70002922</td>\n",
       "      <td>189.0</td>\n",
       "      <td>50.0</td>\n",
       "      <td>BIO002</td>\n",
       "      <td>Jan</td>\n",
       "      <td>19</td>\n",
       "      <td>Jan/19</td>\n",
       "    </tr>\n",
       "    <tr>\n",
       "      <th>69720</th>\n",
       "      <td>10210004177-BIO003</td>\n",
       "      <td>M</td>\n",
       "      <td>1976-01-12</td>\n",
       "      <td>2019-01-09</td>\n",
       "      <td>570300306485-22</td>\n",
       "      <td>L127</td>\n",
       "      <td>70000227</td>\n",
       "      <td>23.0</td>\n",
       "      <td>43.0</td>\n",
       "      <td>BIO003</td>\n",
       "      <td>Jan</td>\n",
       "      <td>19</td>\n",
       "      <td>Jan/19</td>\n",
       "    </tr>\n",
       "    <tr>\n",
       "      <th>36651</th>\n",
       "      <td>10210827021-BIO003</td>\n",
       "      <td>M</td>\n",
       "      <td>1960-06-04 00:00:00</td>\n",
       "      <td>2019-01-02</td>\n",
       "      <td>571904518496-38</td>\n",
       "      <td>L133</td>\n",
       "      <td>70002724</td>\n",
       "      <td>8.0</td>\n",
       "      <td>58.0</td>\n",
       "      <td>BIO003</td>\n",
       "      <td>Jan</td>\n",
       "      <td>19</td>\n",
       "      <td>Jan/19</td>\n",
       "    </tr>\n",
       "    <tr>\n",
       "      <th>166396</th>\n",
       "      <td>573100015437-BIO002</td>\n",
       "      <td>F</td>\n",
       "      <td>1983-06-16 00:00:00</td>\n",
       "      <td>2019-01-02</td>\n",
       "      <td>573103835541-51</td>\n",
       "      <td>L139</td>\n",
       "      <td>70003846</td>\n",
       "      <td>36.0</td>\n",
       "      <td>35.0</td>\n",
       "      <td>BIO002</td>\n",
       "      <td>Jan</td>\n",
       "      <td>19</td>\n",
       "      <td>Jan/19</td>\n",
       "    </tr>\n",
       "    <tr>\n",
       "      <th>143105</th>\n",
       "      <td>10210827160-BIO003</td>\n",
       "      <td>F</td>\n",
       "      <td>1990-12-11 00:00:00</td>\n",
       "      <td>2019-01-02</td>\n",
       "      <td>573302762754-53</td>\n",
       "      <td>L141</td>\n",
       "      <td>70002787</td>\n",
       "      <td>38.0</td>\n",
       "      <td>28.0</td>\n",
       "      <td>BIO003</td>\n",
       "      <td>Jan</td>\n",
       "      <td>19</td>\n",
       "      <td>Jan/19</td>\n",
       "    </tr>\n",
       "    <tr>\n",
       "      <th>79264</th>\n",
       "      <td>10225279929-BIO002</td>\n",
       "      <td>M</td>\n",
       "      <td>1974-03-14</td>\n",
       "      <td>2019-01-05</td>\n",
       "      <td>574300512280-63</td>\n",
       "      <td>L149</td>\n",
       "      <td>70002841</td>\n",
       "      <td>163.0</td>\n",
       "      <td>44.0</td>\n",
       "      <td>BIO002</td>\n",
       "      <td>Jan</td>\n",
       "      <td>19</td>\n",
       "      <td>Jan/19</td>\n",
       "    </tr>\n",
       "    <tr>\n",
       "      <th>169658</th>\n",
       "      <td>10225659751-BIO002</td>\n",
       "      <td>F</td>\n",
       "      <td>1993-06-28 00:00:00</td>\n",
       "      <td>2019-01-02</td>\n",
       "      <td>574603755407-67</td>\n",
       "      <td>L152</td>\n",
       "      <td>70004875</td>\n",
       "      <td>76.0</td>\n",
       "      <td>25.0</td>\n",
       "      <td>BIO002</td>\n",
       "      <td>Jan</td>\n",
       "      <td>19</td>\n",
       "      <td>Jan/19</td>\n",
       "    </tr>\n",
       "    <tr>\n",
       "      <th>20878</th>\n",
       "      <td>547295272-BIO003</td>\n",
       "      <td>F</td>\n",
       "      <td>1956-08-16 00:00:00</td>\n",
       "      <td>2019-01-02</td>\n",
       "      <td>575007069367-72</td>\n",
       "      <td>L155</td>\n",
       "      <td>70004706</td>\n",
       "      <td>21.0</td>\n",
       "      <td>62.0</td>\n",
       "      <td>BIO003</td>\n",
       "      <td>Jan</td>\n",
       "      <td>19</td>\n",
       "      <td>Jan/19</td>\n",
       "    </tr>\n",
       "    <tr>\n",
       "      <th>1917</th>\n",
       "      <td>10210826833-BIO003</td>\n",
       "      <td>F</td>\n",
       "      <td>1969-10-03 00:00:00</td>\n",
       "      <td>2019-01-02</td>\n",
       "      <td>575202330668-74</td>\n",
       "      <td>L156</td>\n",
       "      <td>70002604</td>\n",
       "      <td>960.0</td>\n",
       "      <td>49.0</td>\n",
       "      <td>BIO003</td>\n",
       "      <td>Jan</td>\n",
       "      <td>19</td>\n",
       "      <td>Jan/19</td>\n",
       "    </tr>\n",
       "    <tr>\n",
       "      <th>20879</th>\n",
       "      <td>10210810355-BIO003</td>\n",
       "      <td>F</td>\n",
       "      <td>1985-11-06 00:00:00</td>\n",
       "      <td>2019-01-02</td>\n",
       "      <td>576401729499-89</td>\n",
       "      <td>L166</td>\n",
       "      <td>70003846</td>\n",
       "      <td>36.0</td>\n",
       "      <td>33.0</td>\n",
       "      <td>BIO003</td>\n",
       "      <td>Jan</td>\n",
       "      <td>19</td>\n",
       "      <td>Jan/19</td>\n",
       "    </tr>\n",
       "    <tr>\n",
       "      <th>190746</th>\n",
       "      <td>10264003133-UND2113</td>\n",
       "      <td>F</td>\n",
       "      <td>1983-02-02 00:00:00</td>\n",
       "      <td>2019-01-04</td>\n",
       "      <td>551804996099-113</td>\n",
       "      <td>L442</td>\n",
       "      <td>70003846</td>\n",
       "      <td>36.0</td>\n",
       "      <td>35.0</td>\n",
       "      <td>UND2113</td>\n",
       "      <td>Jan</td>\n",
       "      <td>19</td>\n",
       "      <td>Jan/19</td>\n",
       "    </tr>\n",
       "    <tr>\n",
       "      <th>61854</th>\n",
       "      <td>10240374534-BIO010</td>\n",
       "      <td>F</td>\n",
       "      <td>1959-07-31</td>\n",
       "      <td>2019-01-03</td>\n",
       "      <td>529500104230-124</td>\n",
       "      <td>L660</td>\n",
       "      <td>70006146</td>\n",
       "      <td>31.0</td>\n",
       "      <td>59.0</td>\n",
       "      <td>BIO010</td>\n",
       "      <td>Jan</td>\n",
       "      <td>19</td>\n",
       "      <td>Jan/19</td>\n",
       "    </tr>\n",
       "    <tr>\n",
       "      <th>1916</th>\n",
       "      <td>10210823965-BIO003</td>\n",
       "      <td>F</td>\n",
       "      <td>1979-11-27 00:00:00</td>\n",
       "      <td>2019-01-02</td>\n",
       "      <td>437706952534-179</td>\n",
       "      <td>L662</td>\n",
       "      <td>70004933</td>\n",
       "      <td>26.0</td>\n",
       "      <td>39.0</td>\n",
       "      <td>BIO003</td>\n",
       "      <td>Jan</td>\n",
       "      <td>19</td>\n",
       "      <td>Jan/19</td>\n",
       "    </tr>\n",
       "    <tr>\n",
       "      <th>15790</th>\n",
       "      <td>10240382020-BIO010</td>\n",
       "      <td>M</td>\n",
       "      <td>1961-01-14</td>\n",
       "      <td>2019-01-17</td>\n",
       "      <td>537300215155-142</td>\n",
       "      <td>L665</td>\n",
       "      <td>70000972</td>\n",
       "      <td>38.0</td>\n",
       "      <td>58.0</td>\n",
       "      <td>BIO010</td>\n",
       "      <td>Jan</td>\n",
       "      <td>19</td>\n",
       "      <td>Jan/19</td>\n",
       "    </tr>\n",
       "    <tr>\n",
       "      <th>204525</th>\n",
       "      <td>10240302550-BIO010</td>\n",
       "      <td>M</td>\n",
       "      <td>1988-01-31 00:00:00</td>\n",
       "      <td>2019-01-04</td>\n",
       "      <td>531600032375-136</td>\n",
       "      <td>L666</td>\n",
       "      <td>70003200</td>\n",
       "      <td>9.0</td>\n",
       "      <td>30.0</td>\n",
       "      <td>BIO010</td>\n",
       "      <td>Jan</td>\n",
       "      <td>19</td>\n",
       "      <td>Jan/19</td>\n",
       "    </tr>\n",
       "    <tr>\n",
       "      <th>1156043</th>\n",
       "      <td>7659545716-1</td>\n",
       "      <td>F</td>\n",
       "      <td>1981-05-27 00:00:00</td>\n",
       "      <td>2020-01-10</td>\n",
       "      <td>7659545716-1-1</td>\n",
       "      <td>L967</td>\n",
       "      <td>70001903</td>\n",
       "      <td>44.0</td>\n",
       "      <td>38.0</td>\n",
       "      <td>1</td>\n",
       "      <td>Jan</td>\n",
       "      <td>20</td>\n",
       "      <td>Jan/20</td>\n",
       "    </tr>\n",
       "  </tbody>\n",
       "</table>\n",
       "</div>"
      ],
      "text/plain": [
       "                  Patient Id Gender        Date of birth Date of service  \\\n",
       "25334     10210818694-BIO003      F  1976-02-29 00:00:00      2019-01-02   \n",
       "1926      10225659642-BIO002      F  1968-09-24 00:00:00      2019-01-02   \n",
       "69720     10210004177-BIO003      M           1976-01-12      2019-01-09   \n",
       "36651     10210827021-BIO003      M  1960-06-04 00:00:00      2019-01-02   \n",
       "166396   573100015437-BIO002      F  1983-06-16 00:00:00      2019-01-02   \n",
       "143105    10210827160-BIO003      F  1990-12-11 00:00:00      2019-01-02   \n",
       "79264     10225279929-BIO002      M           1974-03-14      2019-01-05   \n",
       "169658    10225659751-BIO002      F  1993-06-28 00:00:00      2019-01-02   \n",
       "20878       547295272-BIO003      F  1956-08-16 00:00:00      2019-01-02   \n",
       "1917      10210826833-BIO003      F  1969-10-03 00:00:00      2019-01-02   \n",
       "20879     10210810355-BIO003      F  1985-11-06 00:00:00      2019-01-02   \n",
       "190746   10264003133-UND2113      F  1983-02-02 00:00:00      2019-01-04   \n",
       "61854     10240374534-BIO010      F           1959-07-31      2019-01-03   \n",
       "1916      10210823965-BIO003      F  1979-11-27 00:00:00      2019-01-02   \n",
       "15790     10240382020-BIO010      M           1961-01-14      2019-01-17   \n",
       "204525    10240302550-BIO010      M  1988-01-31 00:00:00      2019-01-04   \n",
       "1156043         7659545716-1      F  1981-05-27 00:00:00      2020-01-10   \n",
       "\n",
       "               Service Id Lab Id   CodItem  Valor Pago  Idade final_id  mes  \\\n",
       "25334     569403177252-11   L121  70000180        12.0   42.0   BIO003  Jan   \n",
       "1926      569802607602-16   L123  70002922       189.0   50.0   BIO002  Jan   \n",
       "69720     570300306485-22   L127  70000227        23.0   43.0   BIO003  Jan   \n",
       "36651     571904518496-38   L133  70002724         8.0   58.0   BIO003  Jan   \n",
       "166396    573103835541-51   L139  70003846        36.0   35.0   BIO002  Jan   \n",
       "143105    573302762754-53   L141  70002787        38.0   28.0   BIO003  Jan   \n",
       "79264     574300512280-63   L149  70002841       163.0   44.0   BIO002  Jan   \n",
       "169658    574603755407-67   L152  70004875        76.0   25.0   BIO002  Jan   \n",
       "20878     575007069367-72   L155  70004706        21.0   62.0   BIO003  Jan   \n",
       "1917      575202330668-74   L156  70002604       960.0   49.0   BIO003  Jan   \n",
       "20879     576401729499-89   L166  70003846        36.0   33.0   BIO003  Jan   \n",
       "190746   551804996099-113   L442  70003846        36.0   35.0  UND2113  Jan   \n",
       "61854    529500104230-124   L660  70006146        31.0   59.0   BIO010  Jan   \n",
       "1916     437706952534-179   L662  70004933        26.0   39.0   BIO003  Jan   \n",
       "15790    537300215155-142   L665  70000972        38.0   58.0   BIO010  Jan   \n",
       "204525   531600032375-136   L666  70003200         9.0   30.0   BIO010  Jan   \n",
       "1156043    7659545716-1-1   L967  70001903        44.0   38.0        1  Jan   \n",
       "\n",
       "        ano mes_ano  \n",
       "25334    19  Jan/19  \n",
       "1926     19  Jan/19  \n",
       "69720    19  Jan/19  \n",
       "36651    19  Jan/19  \n",
       "166396   19  Jan/19  \n",
       "143105   19  Jan/19  \n",
       "79264    19  Jan/19  \n",
       "169658   19  Jan/19  \n",
       "20878    19  Jan/19  \n",
       "1917     19  Jan/19  \n",
       "20879    19  Jan/19  \n",
       "190746   19  Jan/19  \n",
       "61854    19  Jan/19  \n",
       "1916     19  Jan/19  \n",
       "15790    19  Jan/19  \n",
       "204525   19  Jan/19  \n",
       "1156043  20  Jan/20  "
      ]
     },
     "execution_count": 46,
     "metadata": {},
     "output_type": "execute_result"
    }
   ],
   "source": [
    "prim_exames = transactional_data.sort_values('Date of service').drop_duplicates('Lab Id')\n",
    "prim_exames[prim_exames['Lab Id'].isin(n_exames['Lab Id'])].sort_values('Lab Id')"
   ]
  },
  {
   "attachments": {},
   "cell_type": "markdown",
   "metadata": {},
   "source": [
    "quais as datas dos últimos exames?"
   ]
  },
  {
   "cell_type": "code",
   "execution_count": 47,
   "metadata": {},
   "outputs": [
    {
     "data": {
      "text/html": [
       "<div>\n",
       "<style scoped>\n",
       "    .dataframe tbody tr th:only-of-type {\n",
       "        vertical-align: middle;\n",
       "    }\n",
       "\n",
       "    .dataframe tbody tr th {\n",
       "        vertical-align: top;\n",
       "    }\n",
       "\n",
       "    .dataframe thead th {\n",
       "        text-align: right;\n",
       "    }\n",
       "</style>\n",
       "<table border=\"1\" class=\"dataframe\">\n",
       "  <thead>\n",
       "    <tr style=\"text-align: right;\">\n",
       "      <th></th>\n",
       "      <th>Patient Id</th>\n",
       "      <th>Gender</th>\n",
       "      <th>Date of birth</th>\n",
       "      <th>Date of service</th>\n",
       "      <th>Service Id</th>\n",
       "      <th>Lab Id</th>\n",
       "      <th>CodItem</th>\n",
       "      <th>Valor Pago</th>\n",
       "      <th>Idade</th>\n",
       "      <th>final_id</th>\n",
       "      <th>mes</th>\n",
       "      <th>ano</th>\n",
       "      <th>mes_ano</th>\n",
       "    </tr>\n",
       "  </thead>\n",
       "  <tbody>\n",
       "    <tr>\n",
       "      <th>2288273</th>\n",
       "      <td>7664092215-1</td>\n",
       "      <td>M</td>\n",
       "      <td>1990-05-27 00:00:00</td>\n",
       "      <td>2021-02-12</td>\n",
       "      <td>7664092215-2-1</td>\n",
       "      <td>L121</td>\n",
       "      <td>70000180</td>\n",
       "      <td>12.0</td>\n",
       "      <td>30.0</td>\n",
       "      <td>1</td>\n",
       "      <td>Feb</td>\n",
       "      <td>21</td>\n",
       "      <td>Feb/21</td>\n",
       "    </tr>\n",
       "    <tr>\n",
       "      <th>2287490</th>\n",
       "      <td>7663436225-1</td>\n",
       "      <td>M</td>\n",
       "      <td>2019-08-28 00:00:00</td>\n",
       "      <td>2021-02-12</td>\n",
       "      <td>7663436225-2-1</td>\n",
       "      <td>L123</td>\n",
       "      <td>70004886</td>\n",
       "      <td>298.0</td>\n",
       "      <td>1.0</td>\n",
       "      <td>1</td>\n",
       "      <td>Feb</td>\n",
       "      <td>21</td>\n",
       "      <td>Feb/21</td>\n",
       "    </tr>\n",
       "    <tr>\n",
       "      <th>2245016</th>\n",
       "      <td>1217836654-1</td>\n",
       "      <td>M</td>\n",
       "      <td>1977-02-02</td>\n",
       "      <td>2021-02-10</td>\n",
       "      <td>1217836654-17-1</td>\n",
       "      <td>L127</td>\n",
       "      <td>70000990</td>\n",
       "      <td>35.0</td>\n",
       "      <td>44.0</td>\n",
       "      <td>1</td>\n",
       "      <td>Feb</td>\n",
       "      <td>21</td>\n",
       "      <td>Feb/21</td>\n",
       "    </tr>\n",
       "    <tr>\n",
       "      <th>2280027</th>\n",
       "      <td>7664156752-1</td>\n",
       "      <td>M</td>\n",
       "      <td>1997-09-20 00:00:00</td>\n",
       "      <td>2021-02-12</td>\n",
       "      <td>7664156752-1-1</td>\n",
       "      <td>L133</td>\n",
       "      <td>70005822</td>\n",
       "      <td>54.0</td>\n",
       "      <td>23.0</td>\n",
       "      <td>1</td>\n",
       "      <td>Feb</td>\n",
       "      <td>21</td>\n",
       "      <td>Feb/21</td>\n",
       "    </tr>\n",
       "    <tr>\n",
       "      <th>2287492</th>\n",
       "      <td>6169905741-1</td>\n",
       "      <td>M</td>\n",
       "      <td>1987-12-07 00:00:00</td>\n",
       "      <td>2021-02-12</td>\n",
       "      <td>6169905741-5-1</td>\n",
       "      <td>L139</td>\n",
       "      <td>70000552</td>\n",
       "      <td>12.0</td>\n",
       "      <td>33.0</td>\n",
       "      <td>1</td>\n",
       "      <td>Feb</td>\n",
       "      <td>21</td>\n",
       "      <td>Feb/21</td>\n",
       "    </tr>\n",
       "    <tr>\n",
       "      <th>2287874</th>\n",
       "      <td>7664160165-1</td>\n",
       "      <td>M</td>\n",
       "      <td>1990-04-13 00:00:00</td>\n",
       "      <td>2021-02-12</td>\n",
       "      <td>7664160165-1-1</td>\n",
       "      <td>L141</td>\n",
       "      <td>70004872</td>\n",
       "      <td>82.0</td>\n",
       "      <td>30.0</td>\n",
       "      <td>1</td>\n",
       "      <td>Feb</td>\n",
       "      <td>21</td>\n",
       "      <td>Feb/21</td>\n",
       "    </tr>\n",
       "    <tr>\n",
       "      <th>1971982</th>\n",
       "      <td>7660953887-1</td>\n",
       "      <td>F</td>\n",
       "      <td>1979-05-22 00:00:00</td>\n",
       "      <td>2020-10-24</td>\n",
       "      <td>7660953887-4-1</td>\n",
       "      <td>L149</td>\n",
       "      <td>70002890</td>\n",
       "      <td>14.0</td>\n",
       "      <td>41.0</td>\n",
       "      <td>1</td>\n",
       "      <td>Oct</td>\n",
       "      <td>20</td>\n",
       "      <td>Oct/20</td>\n",
       "    </tr>\n",
       "    <tr>\n",
       "      <th>2288493</th>\n",
       "      <td>7664155903-1</td>\n",
       "      <td>M</td>\n",
       "      <td>1994-01-18 00:00:00</td>\n",
       "      <td>2021-02-12</td>\n",
       "      <td>7664155903-1-1</td>\n",
       "      <td>L152</td>\n",
       "      <td>70000638</td>\n",
       "      <td>13.0</td>\n",
       "      <td>27.0</td>\n",
       "      <td>1</td>\n",
       "      <td>Feb</td>\n",
       "      <td>21</td>\n",
       "      <td>Feb/21</td>\n",
       "    </tr>\n",
       "    <tr>\n",
       "      <th>2212524</th>\n",
       "      <td>7661383655-1</td>\n",
       "      <td>M</td>\n",
       "      <td>1954-06-15 00:00:00</td>\n",
       "      <td>2021-02-12</td>\n",
       "      <td>7661383655-3-1</td>\n",
       "      <td>L155</td>\n",
       "      <td>70003430</td>\n",
       "      <td>664.0</td>\n",
       "      <td>66.0</td>\n",
       "      <td>1</td>\n",
       "      <td>Feb</td>\n",
       "      <td>21</td>\n",
       "      <td>Feb/21</td>\n",
       "    </tr>\n",
       "    <tr>\n",
       "      <th>2281576</th>\n",
       "      <td>7664165601-1</td>\n",
       "      <td>M</td>\n",
       "      <td>1991-09-19 00:00:00</td>\n",
       "      <td>2021-02-12</td>\n",
       "      <td>7664165601-1-1</td>\n",
       "      <td>L156</td>\n",
       "      <td>70000985</td>\n",
       "      <td>82.0</td>\n",
       "      <td>29.0</td>\n",
       "      <td>1</td>\n",
       "      <td>Feb</td>\n",
       "      <td>21</td>\n",
       "      <td>Feb/21</td>\n",
       "    </tr>\n",
       "    <tr>\n",
       "      <th>2287032</th>\n",
       "      <td>7664163951-1</td>\n",
       "      <td>M</td>\n",
       "      <td>2019-09-09 00:00:00</td>\n",
       "      <td>2021-02-12</td>\n",
       "      <td>7664163951-1-1</td>\n",
       "      <td>L166</td>\n",
       "      <td>70005588</td>\n",
       "      <td>567.0</td>\n",
       "      <td>1.0</td>\n",
       "      <td>1</td>\n",
       "      <td>Feb</td>\n",
       "      <td>21</td>\n",
       "      <td>Feb/21</td>\n",
       "    </tr>\n",
       "    <tr>\n",
       "      <th>2321714</th>\n",
       "      <td>6174181883-1</td>\n",
       "      <td>F</td>\n",
       "      <td>1966-03-11 00:00:00</td>\n",
       "      <td>2021-02-11</td>\n",
       "      <td>6174181883-1-1</td>\n",
       "      <td>L442</td>\n",
       "      <td>70004461</td>\n",
       "      <td>94.0</td>\n",
       "      <td>54.0</td>\n",
       "      <td>1</td>\n",
       "      <td>Feb</td>\n",
       "      <td>21</td>\n",
       "      <td>Feb/21</td>\n",
       "    </tr>\n",
       "    <tr>\n",
       "      <th>1121982</th>\n",
       "      <td>7659323515-1</td>\n",
       "      <td>M</td>\n",
       "      <td>1965-07-20 00:00:00</td>\n",
       "      <td>2019-12-11</td>\n",
       "      <td>7659323515-2-1</td>\n",
       "      <td>L660</td>\n",
       "      <td>70005523</td>\n",
       "      <td>30.0</td>\n",
       "      <td>54.0</td>\n",
       "      <td>1</td>\n",
       "      <td>Dec</td>\n",
       "      <td>19</td>\n",
       "      <td>Dec/19</td>\n",
       "    </tr>\n",
       "    <tr>\n",
       "      <th>2287876</th>\n",
       "      <td>7664164075-1</td>\n",
       "      <td>M</td>\n",
       "      <td>2001-09-05 00:00:00</td>\n",
       "      <td>2021-02-12</td>\n",
       "      <td>7664164075-1-1</td>\n",
       "      <td>L662</td>\n",
       "      <td>70000552</td>\n",
       "      <td>12.0</td>\n",
       "      <td>19.0</td>\n",
       "      <td>1</td>\n",
       "      <td>Feb</td>\n",
       "      <td>21</td>\n",
       "      <td>Feb/21</td>\n",
       "    </tr>\n",
       "    <tr>\n",
       "      <th>1563245</th>\n",
       "      <td>7660183661-1</td>\n",
       "      <td>F</td>\n",
       "      <td>1960-07-20 00:00:00</td>\n",
       "      <td>2020-05-14</td>\n",
       "      <td>7660183661-3-1</td>\n",
       "      <td>L665</td>\n",
       "      <td>70004020</td>\n",
       "      <td>41.0</td>\n",
       "      <td>59.0</td>\n",
       "      <td>1</td>\n",
       "      <td>May</td>\n",
       "      <td>20</td>\n",
       "      <td>May/20</td>\n",
       "    </tr>\n",
       "    <tr>\n",
       "      <th>2328558</th>\n",
       "      <td>7664149331-1</td>\n",
       "      <td>M</td>\n",
       "      <td>1984-03-24 00:00:00</td>\n",
       "      <td>2021-02-12</td>\n",
       "      <td>7664149331-1-1</td>\n",
       "      <td>L666</td>\n",
       "      <td>70003318</td>\n",
       "      <td>10.0</td>\n",
       "      <td>36.0</td>\n",
       "      <td>1</td>\n",
       "      <td>Feb</td>\n",
       "      <td>21</td>\n",
       "      <td>Feb/21</td>\n",
       "    </tr>\n",
       "    <tr>\n",
       "      <th>2297818</th>\n",
       "      <td>7664048060-1</td>\n",
       "      <td>F</td>\n",
       "      <td>1998-08-21</td>\n",
       "      <td>2021-02-04</td>\n",
       "      <td>7664048060-2-1</td>\n",
       "      <td>L967</td>\n",
       "      <td>70001903</td>\n",
       "      <td>44.0</td>\n",
       "      <td>22.0</td>\n",
       "      <td>1</td>\n",
       "      <td>Feb</td>\n",
       "      <td>21</td>\n",
       "      <td>Feb/21</td>\n",
       "    </tr>\n",
       "  </tbody>\n",
       "</table>\n",
       "</div>"
      ],
      "text/plain": [
       "           Patient Id Gender        Date of birth Date of service  \\\n",
       "2288273  7664092215-1      M  1990-05-27 00:00:00      2021-02-12   \n",
       "2287490  7663436225-1      M  2019-08-28 00:00:00      2021-02-12   \n",
       "2245016  1217836654-1      M           1977-02-02      2021-02-10   \n",
       "2280027  7664156752-1      M  1997-09-20 00:00:00      2021-02-12   \n",
       "2287492  6169905741-1      M  1987-12-07 00:00:00      2021-02-12   \n",
       "2287874  7664160165-1      M  1990-04-13 00:00:00      2021-02-12   \n",
       "1971982  7660953887-1      F  1979-05-22 00:00:00      2020-10-24   \n",
       "2288493  7664155903-1      M  1994-01-18 00:00:00      2021-02-12   \n",
       "2212524  7661383655-1      M  1954-06-15 00:00:00      2021-02-12   \n",
       "2281576  7664165601-1      M  1991-09-19 00:00:00      2021-02-12   \n",
       "2287032  7664163951-1      M  2019-09-09 00:00:00      2021-02-12   \n",
       "2321714  6174181883-1      F  1966-03-11 00:00:00      2021-02-11   \n",
       "1121982  7659323515-1      M  1965-07-20 00:00:00      2019-12-11   \n",
       "2287876  7664164075-1      M  2001-09-05 00:00:00      2021-02-12   \n",
       "1563245  7660183661-1      F  1960-07-20 00:00:00      2020-05-14   \n",
       "2328558  7664149331-1      M  1984-03-24 00:00:00      2021-02-12   \n",
       "2297818  7664048060-1      F           1998-08-21      2021-02-04   \n",
       "\n",
       "              Service Id Lab Id   CodItem  Valor Pago  Idade final_id  mes  \\\n",
       "2288273   7664092215-2-1   L121  70000180        12.0   30.0        1  Feb   \n",
       "2287490   7663436225-2-1   L123  70004886       298.0    1.0        1  Feb   \n",
       "2245016  1217836654-17-1   L127  70000990        35.0   44.0        1  Feb   \n",
       "2280027   7664156752-1-1   L133  70005822        54.0   23.0        1  Feb   \n",
       "2287492   6169905741-5-1   L139  70000552        12.0   33.0        1  Feb   \n",
       "2287874   7664160165-1-1   L141  70004872        82.0   30.0        1  Feb   \n",
       "1971982   7660953887-4-1   L149  70002890        14.0   41.0        1  Oct   \n",
       "2288493   7664155903-1-1   L152  70000638        13.0   27.0        1  Feb   \n",
       "2212524   7661383655-3-1   L155  70003430       664.0   66.0        1  Feb   \n",
       "2281576   7664165601-1-1   L156  70000985        82.0   29.0        1  Feb   \n",
       "2287032   7664163951-1-1   L166  70005588       567.0    1.0        1  Feb   \n",
       "2321714   6174181883-1-1   L442  70004461        94.0   54.0        1  Feb   \n",
       "1121982   7659323515-2-1   L660  70005523        30.0   54.0        1  Dec   \n",
       "2287876   7664164075-1-1   L662  70000552        12.0   19.0        1  Feb   \n",
       "1563245   7660183661-3-1   L665  70004020        41.0   59.0        1  May   \n",
       "2328558   7664149331-1-1   L666  70003318        10.0   36.0        1  Feb   \n",
       "2297818   7664048060-2-1   L967  70001903        44.0   22.0        1  Feb   \n",
       "\n",
       "        ano mes_ano  \n",
       "2288273  21  Feb/21  \n",
       "2287490  21  Feb/21  \n",
       "2245016  21  Feb/21  \n",
       "2280027  21  Feb/21  \n",
       "2287492  21  Feb/21  \n",
       "2287874  21  Feb/21  \n",
       "1971982  20  Oct/20  \n",
       "2288493  21  Feb/21  \n",
       "2212524  21  Feb/21  \n",
       "2281576  21  Feb/21  \n",
       "2287032  21  Feb/21  \n",
       "2321714  21  Feb/21  \n",
       "1121982  19  Dec/19  \n",
       "2287876  21  Feb/21  \n",
       "1563245  20  May/20  \n",
       "2328558  21  Feb/21  \n",
       "2297818  21  Feb/21  "
      ]
     },
     "execution_count": 47,
     "metadata": {},
     "output_type": "execute_result"
    }
   ],
   "source": [
    "ult_exames = transactional_data.sort_values('Date of service', ascending = False).drop_duplicates('Lab Id')\n",
    "ult_exames[ult_exames['Lab Id'].isin(n_exames['Lab Id'])].sort_values('Lab Id')"
   ]
  },
  {
   "attachments": {},
   "cell_type": "markdown",
   "metadata": {},
   "source": [
    "### quais laboratórios possuem mais receita líquida?"
   ]
  },
  {
   "cell_type": "code",
   "execution_count": 66,
   "metadata": {},
   "outputs": [
    {
     "name": "stderr",
     "output_type": "stream",
     "text": [
      "C:\\Users\\Leticia\\AppData\\Local\\Temp\\ipykernel_6828\\1310364866.py:1: FutureWarning:\n",
      "\n",
      "The default value of numeric_only in DataFrameGroupBy.sum is deprecated. In a future version, numeric_only will default to False. Either specify numeric_only or select only columns which should be valid for the function.\n",
      "\n"
     ]
    },
    {
     "data": {
      "text/html": [
       "<div>\n",
       "<style scoped>\n",
       "    .dataframe tbody tr th:only-of-type {\n",
       "        vertical-align: middle;\n",
       "    }\n",
       "\n",
       "    .dataframe tbody tr th {\n",
       "        vertical-align: top;\n",
       "    }\n",
       "\n",
       "    .dataframe thead th {\n",
       "        text-align: right;\n",
       "    }\n",
       "</style>\n",
       "<table border=\"1\" class=\"dataframe\">\n",
       "  <thead>\n",
       "    <tr style=\"text-align: right;\">\n",
       "      <th></th>\n",
       "      <th>Lab Id</th>\n",
       "      <th>Valor Pago</th>\n",
       "    </tr>\n",
       "  </thead>\n",
       "  <tbody>\n",
       "    <tr>\n",
       "      <th>0</th>\n",
       "      <td>L133</td>\n",
       "      <td>9711866.14</td>\n",
       "    </tr>\n",
       "    <tr>\n",
       "      <th>1</th>\n",
       "      <td>L139</td>\n",
       "      <td>8778103.04</td>\n",
       "    </tr>\n",
       "    <tr>\n",
       "      <th>2</th>\n",
       "      <td>L121</td>\n",
       "      <td>6521202.54</td>\n",
       "    </tr>\n",
       "    <tr>\n",
       "      <th>3</th>\n",
       "      <td>L123</td>\n",
       "      <td>6372571.60</td>\n",
       "    </tr>\n",
       "    <tr>\n",
       "      <th>4</th>\n",
       "      <td>L152</td>\n",
       "      <td>6216352.62</td>\n",
       "    </tr>\n",
       "    <tr>\n",
       "      <th>...</th>\n",
       "      <td>...</td>\n",
       "      <td>...</td>\n",
       "    </tr>\n",
       "    <tr>\n",
       "      <th>113</th>\n",
       "      <td>L660</td>\n",
       "      <td>27704.00</td>\n",
       "    </tr>\n",
       "    <tr>\n",
       "      <th>114</th>\n",
       "      <td>L127</td>\n",
       "      <td>15162.00</td>\n",
       "    </tr>\n",
       "    <tr>\n",
       "      <th>115</th>\n",
       "      <td>L967</td>\n",
       "      <td>11110.14</td>\n",
       "    </tr>\n",
       "    <tr>\n",
       "      <th>116</th>\n",
       "      <td>L149</td>\n",
       "      <td>2096.00</td>\n",
       "    </tr>\n",
       "    <tr>\n",
       "      <th>117</th>\n",
       "      <td>L665</td>\n",
       "      <td>1291.00</td>\n",
       "    </tr>\n",
       "  </tbody>\n",
       "</table>\n",
       "<p>118 rows × 2 columns</p>\n",
       "</div>"
      ],
      "text/plain": [
       "    Lab Id  Valor Pago\n",
       "0     L133  9711866.14\n",
       "1     L139  8778103.04\n",
       "2     L121  6521202.54\n",
       "3     L123  6372571.60\n",
       "4     L152  6216352.62\n",
       "..     ...         ...\n",
       "113   L660    27704.00\n",
       "114   L127    15162.00\n",
       "115   L967    11110.14\n",
       "116   L149     2096.00\n",
       "117   L665     1291.00\n",
       "\n",
       "[118 rows x 2 columns]"
      ]
     },
     "execution_count": 66,
     "metadata": {},
     "output_type": "execute_result"
    }
   ],
   "source": [
    "receita = transactional_data.groupby('Lab Id').sum()[['Valor Pago']].sort_values('Valor Pago', ascending = False).reset_index()\n",
    "\n",
    "receita"
   ]
  },
  {
   "attachments": {},
   "cell_type": "markdown",
   "metadata": {},
   "source": [
    "quais os estados dos laboratórios que aparecem no ranking de receitas mas não aparecem no de exames?"
   ]
  },
  {
   "cell_type": "code",
   "execution_count": 49,
   "metadata": {},
   "outputs": [
    {
     "data": {
      "text/html": [
       "<div>\n",
       "<style scoped>\n",
       "    .dataframe tbody tr th:only-of-type {\n",
       "        vertical-align: middle;\n",
       "    }\n",
       "\n",
       "    .dataframe tbody tr th {\n",
       "        vertical-align: top;\n",
       "    }\n",
       "\n",
       "    .dataframe thead th {\n",
       "        text-align: right;\n",
       "    }\n",
       "</style>\n",
       "<table border=\"1\" class=\"dataframe\">\n",
       "  <thead>\n",
       "    <tr style=\"text-align: right;\">\n",
       "      <th></th>\n",
       "      <th>Lab Id</th>\n",
       "      <th>Address</th>\n",
       "      <th>Location</th>\n",
       "      <th>Zipcode</th>\n",
       "      <th>latitude</th>\n",
       "      <th>longitude</th>\n",
       "      <th>Sigla</th>\n",
       "    </tr>\n",
       "  </thead>\n",
       "  <tbody>\n",
       "    <tr>\n",
       "      <th>46</th>\n",
       "      <td>L155</td>\n",
       "      <td>2400 Balfour Rd #100, Brentwood, CA 94513</td>\n",
       "      <td>37.9242863,-121.7371186</td>\n",
       "      <td>94513.0</td>\n",
       "      <td>37.924286</td>\n",
       "      <td>-121.737119</td>\n",
       "      <td>CA</td>\n",
       "    </tr>\n",
       "    <tr>\n",
       "      <th>84</th>\n",
       "      <td>L123</td>\n",
       "      <td>543 SOUTH 52ND STREET, PHILADELPHIA, PA 19143</td>\n",
       "      <td>39.9507025,-75.2286725</td>\n",
       "      <td>19143.0</td>\n",
       "      <td>39.950702</td>\n",
       "      <td>-75.228673</td>\n",
       "      <td>PA</td>\n",
       "    </tr>\n",
       "  </tbody>\n",
       "</table>\n",
       "</div>"
      ],
      "text/plain": [
       "   Lab Id                                        Address  \\\n",
       "46   L155      2400 Balfour Rd #100, Brentwood, CA 94513   \n",
       "84   L123  543 SOUTH 52ND STREET, PHILADELPHIA, PA 19143   \n",
       "\n",
       "                   Location  Zipcode   latitude   longitude Sigla  \n",
       "46  37.9242863,-121.7371186  94513.0  37.924286 -121.737119    CA  \n",
       "84   39.9507025,-75.2286725  19143.0  39.950702  -75.228673    PA  "
      ]
     },
     "execution_count": 49,
     "metadata": {},
     "output_type": "execute_result"
    }
   ],
   "source": [
    "df_geocode[(df_geocode['Lab Id'] == 'L123') | (df_geocode['Lab Id'] == 'L155')]"
   ]
  },
  {
   "attachments": {},
   "cell_type": "markdown",
   "metadata": {},
   "source": [
    "### em quais laboratórios os clientes são mais fidelizados?"
   ]
  },
  {
   "cell_type": "code",
   "execution_count": 50,
   "metadata": {},
   "outputs": [
    {
     "data": {
      "text/html": [
       "<div>\n",
       "<style scoped>\n",
       "    .dataframe tbody tr th:only-of-type {\n",
       "        vertical-align: middle;\n",
       "    }\n",
       "\n",
       "    .dataframe tbody tr th {\n",
       "        vertical-align: top;\n",
       "    }\n",
       "\n",
       "    .dataframe thead th {\n",
       "        text-align: right;\n",
       "    }\n",
       "</style>\n",
       "<table border=\"1\" class=\"dataframe\">\n",
       "  <thead>\n",
       "    <tr style=\"text-align: right;\">\n",
       "      <th></th>\n",
       "      <th>Lab Id</th>\n",
       "      <th>Média de idas ao lab</th>\n",
       "      <th>Sigla</th>\n",
       "    </tr>\n",
       "  </thead>\n",
       "  <tbody>\n",
       "    <tr>\n",
       "      <th>0</th>\n",
       "      <td>L525</td>\n",
       "      <td>6.362271</td>\n",
       "      <td>PA</td>\n",
       "    </tr>\n",
       "    <tr>\n",
       "      <th>1</th>\n",
       "      <td>L144</td>\n",
       "      <td>5.730931</td>\n",
       "      <td>NH</td>\n",
       "    </tr>\n",
       "    <tr>\n",
       "      <th>2</th>\n",
       "      <td>L122</td>\n",
       "      <td>5.581476</td>\n",
       "      <td>WA</td>\n",
       "    </tr>\n",
       "    <tr>\n",
       "      <th>3</th>\n",
       "      <td>L545</td>\n",
       "      <td>5.572115</td>\n",
       "      <td>IL</td>\n",
       "    </tr>\n",
       "    <tr>\n",
       "      <th>4</th>\n",
       "      <td>L537</td>\n",
       "      <td>5.534304</td>\n",
       "      <td>NJ</td>\n",
       "    </tr>\n",
       "    <tr>\n",
       "      <th>5</th>\n",
       "      <td>L768</td>\n",
       "      <td>5.439044</td>\n",
       "      <td>PA</td>\n",
       "    </tr>\n",
       "    <tr>\n",
       "      <th>6</th>\n",
       "      <td>L134</td>\n",
       "      <td>5.365709</td>\n",
       "      <td>GA</td>\n",
       "    </tr>\n",
       "    <tr>\n",
       "      <th>7</th>\n",
       "      <td>L072</td>\n",
       "      <td>5.288708</td>\n",
       "      <td>GA</td>\n",
       "    </tr>\n",
       "    <tr>\n",
       "      <th>8</th>\n",
       "      <td>-2</td>\n",
       "      <td>5.261589</td>\n",
       "      <td>NaN</td>\n",
       "    </tr>\n",
       "    <tr>\n",
       "      <th>9</th>\n",
       "      <td>L531</td>\n",
       "      <td>5.246493</td>\n",
       "      <td>CA</td>\n",
       "    </tr>\n",
       "    <tr>\n",
       "      <th>10</th>\n",
       "      <td>L131</td>\n",
       "      <td>5.221505</td>\n",
       "      <td>MI</td>\n",
       "    </tr>\n",
       "  </tbody>\n",
       "</table>\n",
       "</div>"
      ],
      "text/plain": [
       "   Lab Id  Média de idas ao lab Sigla\n",
       "0    L525              6.362271    PA\n",
       "1    L144              5.730931    NH\n",
       "2    L122              5.581476    WA\n",
       "3    L545              5.572115    IL\n",
       "4    L537              5.534304    NJ\n",
       "5    L768              5.439044    PA\n",
       "6    L134              5.365709    GA\n",
       "7    L072              5.288708    GA\n",
       "8      -2              5.261589   NaN\n",
       "9    L531              5.246493    CA\n",
       "10   L131              5.221505    MI"
      ]
     },
     "execution_count": 50,
     "metadata": {},
     "output_type": "execute_result"
    }
   ],
   "source": [
    "fidelizacao = transactional_data[transactional_data['Patient Id'] != '-2']\n",
    "\n",
    "fidelizacao = fidelizacao.groupby(['Patient Id', 'Lab Id']).count().reset_index().drop_duplicates('Patient Id')[['Patient Id', 'Lab Id', 'Gender']]\n",
    "\n",
    "fidelizacao = fidelizacao.rename({'Gender': 'Média de idas ao lab'}, axis = 1)\n",
    "\n",
    "fidelizacao.groupby('Lab Id').mean('Média de idas ao lab').reset_index().sort_values('Média de idas ao lab', ascending = False).head(11).merge(df_geocode[['Lab Id', 'Sigla']], how = 'left')"
   ]
  },
  {
   "attachments": {},
   "cell_type": "markdown",
   "metadata": {},
   "source": [
    "## análise de perfil dos zipcodes dos EUA"
   ]
  },
  {
   "attachments": {},
   "cell_type": "markdown",
   "metadata": {},
   "source": [
    "### dataframe com a população e o intervalo de zipcodes de cada estado dos EUA\n",
    "\n",
    "este dataframe foi construído com informações pesquisadas. as fontes estão na chamada do dataframe, no início do script\n",
    "\n",
    "como os estados escolhidos para a análise foram a Califórnia, a Pensilvânia e Illinois, vamos filtrar as bases de informações demográficas e econômicas apenas destes estados\n",
    "\n",
    "para isso, precisamos saber quais são os zip codes deles\n",
    "\n",
    "analisando a base, pode ser que os intervalos de zipcodes não estejam bem definidos para cada estado (podem haver sobreposições)\n",
    "\n",
    "neste caso, vamos assumir que não há sobreposição, e depois da análise podemos confirmar se o zipcode pertence ou não ao estado"
   ]
  },
  {
   "cell_type": "code",
   "execution_count": 51,
   "metadata": {},
   "outputs": [
    {
     "data": {
      "text/html": [
       "<div>\n",
       "<style scoped>\n",
       "    .dataframe tbody tr th:only-of-type {\n",
       "        vertical-align: middle;\n",
       "    }\n",
       "\n",
       "    .dataframe tbody tr th {\n",
       "        vertical-align: top;\n",
       "    }\n",
       "\n",
       "    .dataframe thead th {\n",
       "        text-align: right;\n",
       "    }\n",
       "</style>\n",
       "<table border=\"1\" class=\"dataframe\">\n",
       "  <thead>\n",
       "    <tr style=\"text-align: right;\">\n",
       "      <th></th>\n",
       "      <th>Sigla</th>\n",
       "      <th>Estado</th>\n",
       "      <th>Capital</th>\n",
       "      <th>Intervalo de CEPs</th>\n",
       "      <th>Qtd de CEPs</th>\n",
       "      <th>Data de Fundação</th>\n",
       "      <th>População 2020</th>\n",
       "      <th>primeiro_zipcode</th>\n",
       "      <th>ultimo_zipcode</th>\n",
       "    </tr>\n",
       "  </thead>\n",
       "  <tbody>\n",
       "    <tr>\n",
       "      <th>5</th>\n",
       "      <td>CA</td>\n",
       "      <td>California</td>\n",
       "      <td>Sacramento</td>\n",
       "      <td>90001 to 96162</td>\n",
       "      <td>2653</td>\n",
       "      <td>September 9, 1850</td>\n",
       "      <td>39538223</td>\n",
       "      <td>90001.0</td>\n",
       "      <td>96162.0</td>\n",
       "    </tr>\n",
       "    <tr>\n",
       "      <th>13</th>\n",
       "      <td>IL</td>\n",
       "      <td>Illinois</td>\n",
       "      <td>Springfield</td>\n",
       "      <td>60001 to 62999</td>\n",
       "      <td>1588</td>\n",
       "      <td>December 3, 1818</td>\n",
       "      <td>12812508</td>\n",
       "      <td>60001.0</td>\n",
       "      <td>62999.0</td>\n",
       "    </tr>\n",
       "    <tr>\n",
       "      <th>38</th>\n",
       "      <td>PA</td>\n",
       "      <td>Pennsylvania</td>\n",
       "      <td>Harrisburg</td>\n",
       "      <td>15001 to 19640</td>\n",
       "      <td>2213</td>\n",
       "      <td>December 12, 1787</td>\n",
       "      <td>13002700</td>\n",
       "      <td>15001.0</td>\n",
       "      <td>19640.0</td>\n",
       "    </tr>\n",
       "  </tbody>\n",
       "</table>\n",
       "</div>"
      ],
      "text/plain": [
       "   Sigla        Estado      Capital Intervalo de CEPs  Qtd de CEPs  \\\n",
       "5     CA    California   Sacramento    90001 to 96162         2653   \n",
       "13    IL      Illinois  Springfield    60001 to 62999         1588   \n",
       "38    PA  Pennsylvania   Harrisburg    15001 to 19640         2213   \n",
       "\n",
       "     Data de Fundação  População 2020  primeiro_zipcode  ultimo_zipcode  \n",
       "5   September 9, 1850        39538223           90001.0         96162.0  \n",
       "13   December 3, 1818        12812508           60001.0         62999.0  \n",
       "38  December 12, 1787        13002700           15001.0         19640.0  "
      ]
     },
     "execution_count": 51,
     "metadata": {},
     "output_type": "execute_result"
    }
   ],
   "source": [
    "zipcodes_states[(zipcodes_states['Sigla'] == \"CA\") | (zipcodes_states['Sigla'] == \"PA\") | (zipcodes_states['Sigla'] == \"IL\")]"
   ]
  },
  {
   "attachments": {},
   "cell_type": "markdown",
   "metadata": {},
   "source": [
    "filtrando as bases para o intervalo de zipcodes"
   ]
  },
  {
   "cell_type": "code",
   "execution_count": 52,
   "metadata": {},
   "outputs": [],
   "source": [
    "# califórnia\n",
    "economic_ca = economic_data[(economic_data['Zipcode'] >= 90001)  & (economic_data['Zipcode'] <= 96162)]\n",
    "demographic_ca = demographic_data[(demographic_data['Zipcode'] >= 90001)  & (demographic_data['Zipcode'] <= 96162)]\n",
    "\n",
    "# illinois\n",
    "economic_il = economic_data[(economic_data['Zipcode'] >= 60001)  & (economic_data['Zipcode'] <= 62999)]\n",
    "demographic_il = demographic_data[(demographic_data['Zipcode'] >= 60001)  & (demographic_data['Zipcode'] <= 62999)]\n",
    "\n",
    "# pensilvânia\n",
    "economic_pa = economic_data[(economic_data['Zipcode'] >= 15001)  & (economic_data['Zipcode'] <= 19640)]\n",
    "demographic_pa = demographic_data[(demographic_data['Zipcode'] >= 15001)  & (demographic_data['Zipcode'] <= 19640)]\n"
   ]
  },
  {
   "attachments": {},
   "cell_type": "markdown",
   "metadata": {},
   "source": [
    "removendo das bases os zipcodes que já possuem laboratórios (para evitar a abertura em zipcodes que já possuem laboratórios)"
   ]
  },
  {
   "cell_type": "code",
   "execution_count": 53,
   "metadata": {},
   "outputs": [],
   "source": [
    "economic_ca1 = economic_ca[~economic_ca['Zipcode'].isin(coordenadas[coordenadas['Sigla'] == 'CA']['Zipcode'])]\n",
    "demographic_ca1 = demographic_ca[~demographic_ca['Zipcode'].isin(coordenadas[coordenadas['Sigla'] == 'CA']['Zipcode'])]\n",
    "\n",
    "economic_il1 = economic_il[~economic_il['Zipcode'].isin(coordenadas[coordenadas['Sigla'] == 'IL']['Zipcode'])]\n",
    "demographic_il1 = demographic_il[~demographic_il['Zipcode'].isin(coordenadas[coordenadas['Sigla'] == 'IL']['Zipcode'])]\n",
    "\n",
    "economic_pa1 = economic_pa[~economic_pa['Zipcode'].isin(coordenadas[coordenadas['Sigla'] == 'PA']['Zipcode'])]\n",
    "demographic_pa1 = demographic_pa[~demographic_pa['Zipcode'].isin(coordenadas[coordenadas['Sigla'] == 'PA']['Zipcode'])]"
   ]
  },
  {
   "attachments": {},
   "cell_type": "markdown",
   "metadata": {},
   "source": [
    "### califórnia"
   ]
  },
  {
   "attachments": {},
   "cell_type": "markdown",
   "metadata": {},
   "source": [
    "zipcodes com maior mediana de idade"
   ]
  },
  {
   "cell_type": "code",
   "execution_count": 54,
   "metadata": {},
   "outputs": [],
   "source": [
    "# filtrando a base com os zipcodes cuja população é maior que a média e ordenando pelos que possuem menor SexRatio (mais mulheres)\n",
    "\n",
    "demographic_ca2 = demographic_ca1[demographic_ca1['TotalPopulation'] > demographic_ca1['TotalPopulation'].mean()].sort_values('SexRatio(males per 100 females)')\n",
    "demographic_ca2 = demographic_ca2[demographic_ca2['SexRatio(males per 100 females)'] <= 90].sort_values('MedianAgeInYears', ascending = False)\n",
    "\n",
    "demographic_ca2 = demographic_ca2.head(30)[['Zipcode']]\n",
    "\n",
    "ca_idade = demographic_ca2[['Zipcode']]\n",
    "ca_idade['idade'] = 'x'"
   ]
  },
  {
   "attachments": {},
   "cell_type": "markdown",
   "metadata": {},
   "source": [
    "zipcodes com maior proporção de familias com renda entre $50.000 e $74.999"
   ]
  },
  {
   "cell_type": "code",
   "execution_count": 55,
   "metadata": {},
   "outputs": [
    {
     "name": "stderr",
     "output_type": "stream",
     "text": [
      "C:\\Users\\Leticia\\AppData\\Local\\Temp\\ipykernel_6828\\3429871550.py:4: SettingWithCopyWarning:\n",
      "\n",
      "\n",
      "A value is trying to be set on a copy of a slice from a DataFrame.\n",
      "Try using .loc[row_indexer,col_indexer] = value instead\n",
      "\n",
      "See the caveats in the documentation: https://pandas.pydata.org/pandas-docs/stable/user_guide/indexing.html#returning-a-view-versus-a-copy\n",
      "\n"
     ]
    }
   ],
   "source": [
    "economic_ca2 = economic_ca1.sort_values('TotalHouseholds_$50.000to$74.999', ascending = False).head(30)\n",
    "\n",
    "ca_renda = economic_ca2[['Zipcode']]\n",
    "ca_renda['renda'] = 'x'"
   ]
  },
  {
   "attachments": {},
   "cell_type": "markdown",
   "metadata": {},
   "source": [
    "zipcodes em comum"
   ]
  },
  {
   "cell_type": "code",
   "execution_count": 56,
   "metadata": {},
   "outputs": [
    {
     "data": {
      "text/html": [
       "<div>\n",
       "<style scoped>\n",
       "    .dataframe tbody tr th:only-of-type {\n",
       "        vertical-align: middle;\n",
       "    }\n",
       "\n",
       "    .dataframe tbody tr th {\n",
       "        vertical-align: top;\n",
       "    }\n",
       "\n",
       "    .dataframe thead th {\n",
       "        text-align: right;\n",
       "    }\n",
       "</style>\n",
       "<table border=\"1\" class=\"dataframe\">\n",
       "  <thead>\n",
       "    <tr style=\"text-align: right;\">\n",
       "      <th></th>\n",
       "      <th>Zipcode</th>\n",
       "      <th>idade</th>\n",
       "      <th>renda</th>\n",
       "      <th>comum</th>\n",
       "    </tr>\n",
       "  </thead>\n",
       "  <tbody>\n",
       "    <tr>\n",
       "      <th>22</th>\n",
       "      <td>95608.0</td>\n",
       "      <td>x</td>\n",
       "      <td>x</td>\n",
       "      <td>2</td>\n",
       "    </tr>\n",
       "  </tbody>\n",
       "</table>\n",
       "</div>"
      ],
      "text/plain": [
       "    Zipcode idade renda  comum\n",
       "22  95608.0     x     x      2"
      ]
     },
     "execution_count": 56,
     "metadata": {},
     "output_type": "execute_result"
    }
   ],
   "source": [
    "selecao_ca = ca_idade.merge(ca_renda, how = 'outer')\n",
    "selecao_ca['comum'] = selecao_ca.count(axis = 1) - 1\n",
    "\n",
    "selecao_ca[selecao_ca['comum'] == 2]"
   ]
  },
  {
   "attachments": {},
   "cell_type": "markdown",
   "metadata": {},
   "source": [
    "### pensilvânia"
   ]
  },
  {
   "attachments": {},
   "cell_type": "markdown",
   "metadata": {},
   "source": [
    "zipcodes com maior mediana de idade"
   ]
  },
  {
   "cell_type": "code",
   "execution_count": 57,
   "metadata": {},
   "outputs": [],
   "source": [
    "demographic_pa2 = demographic_pa1[demographic_pa1['TotalPopulation'] > demographic_pa1['TotalPopulation'].mean()].sort_values('SexRatio(males per 100 females)')\n",
    "demographic_pa2 = demographic_pa2[demographic_pa2['SexRatio(males per 100 females)'] <= 90].sort_values('MedianAgeInYears', ascending = False)\n",
    "\n",
    "demographic_pa2 = demographic_pa2.head(40)[['Zipcode']]\n",
    "\n",
    "pa_idade = demographic_pa2[['Zipcode']]\n",
    "pa_idade['idade'] = 'x'"
   ]
  },
  {
   "attachments": {},
   "cell_type": "markdown",
   "metadata": {},
   "source": [
    "zipcodes com maior proporção de familias com renda entre $50.000 e $74.999"
   ]
  },
  {
   "cell_type": "code",
   "execution_count": 58,
   "metadata": {},
   "outputs": [
    {
     "name": "stderr",
     "output_type": "stream",
     "text": [
      "C:\\Users\\Leticia\\AppData\\Local\\Temp\\ipykernel_6828\\2383703898.py:4: SettingWithCopyWarning:\n",
      "\n",
      "\n",
      "A value is trying to be set on a copy of a slice from a DataFrame.\n",
      "Try using .loc[row_indexer,col_indexer] = value instead\n",
      "\n",
      "See the caveats in the documentation: https://pandas.pydata.org/pandas-docs/stable/user_guide/indexing.html#returning-a-view-versus-a-copy\n",
      "\n"
     ]
    }
   ],
   "source": [
    "economic_pa2 = economic_pa1.sort_values('TotalHouseholds_$50.000to$74.999', ascending = False).head(40)\n",
    "\n",
    "pa_renda = economic_pa2[['Zipcode']]\n",
    "pa_renda['renda'] = 'x'"
   ]
  },
  {
   "attachments": {},
   "cell_type": "markdown",
   "metadata": {},
   "source": [
    "zipcodes em comum"
   ]
  },
  {
   "cell_type": "code",
   "execution_count": 59,
   "metadata": {},
   "outputs": [
    {
     "data": {
      "text/html": [
       "<div>\n",
       "<style scoped>\n",
       "    .dataframe tbody tr th:only-of-type {\n",
       "        vertical-align: middle;\n",
       "    }\n",
       "\n",
       "    .dataframe tbody tr th {\n",
       "        vertical-align: top;\n",
       "    }\n",
       "\n",
       "    .dataframe thead th {\n",
       "        text-align: right;\n",
       "    }\n",
       "</style>\n",
       "<table border=\"1\" class=\"dataframe\">\n",
       "  <thead>\n",
       "    <tr style=\"text-align: right;\">\n",
       "      <th></th>\n",
       "      <th>Zipcode</th>\n",
       "      <th>idade</th>\n",
       "      <th>renda</th>\n",
       "      <th>comum</th>\n",
       "    </tr>\n",
       "  </thead>\n",
       "  <tbody>\n",
       "    <tr>\n",
       "      <th>30</th>\n",
       "      <td>15235.0</td>\n",
       "      <td>x</td>\n",
       "      <td>x</td>\n",
       "      <td>2</td>\n",
       "    </tr>\n",
       "  </tbody>\n",
       "</table>\n",
       "</div>"
      ],
      "text/plain": [
       "    Zipcode idade renda  comum\n",
       "30  15235.0     x     x      2"
      ]
     },
     "execution_count": 59,
     "metadata": {},
     "output_type": "execute_result"
    }
   ],
   "source": [
    "selecao_pa = pa_idade.merge(pa_renda, how = 'outer')\n",
    "selecao_pa['comum'] = selecao_pa.count(axis = 1) - 1\n",
    "\n",
    "selecao_pa[selecao_pa['comum'] == 2]"
   ]
  },
  {
   "attachments": {},
   "cell_type": "markdown",
   "metadata": {},
   "source": [
    "### illinois"
   ]
  },
  {
   "attachments": {},
   "cell_type": "markdown",
   "metadata": {},
   "source": [
    "zipcodes com maior mediana de idade"
   ]
  },
  {
   "cell_type": "code",
   "execution_count": 60,
   "metadata": {},
   "outputs": [
    {
     "name": "stderr",
     "output_type": "stream",
     "text": [
      "C:\\Users\\Leticia\\AppData\\Local\\Temp\\ipykernel_6828\\4080954303.py:14: SettingWithCopyWarning:\n",
      "\n",
      "\n",
      "A value is trying to be set on a copy of a slice from a DataFrame.\n",
      "Try using .loc[row_indexer,col_indexer] = value instead\n",
      "\n",
      "See the caveats in the documentation: https://pandas.pydata.org/pandas-docs/stable/user_guide/indexing.html#returning-a-view-versus-a-copy\n",
      "\n"
     ]
    },
    {
     "data": {
      "text/html": [
       "<div>\n",
       "<style scoped>\n",
       "    .dataframe tbody tr th:only-of-type {\n",
       "        vertical-align: middle;\n",
       "    }\n",
       "\n",
       "    .dataframe tbody tr th {\n",
       "        vertical-align: top;\n",
       "    }\n",
       "\n",
       "    .dataframe thead th {\n",
       "        text-align: right;\n",
       "    }\n",
       "</style>\n",
       "<table border=\"1\" class=\"dataframe\">\n",
       "  <thead>\n",
       "    <tr style=\"text-align: right;\">\n",
       "      <th></th>\n",
       "      <th>Zipcode</th>\n",
       "      <th>idade</th>\n",
       "      <th>renda</th>\n",
       "      <th>comum</th>\n",
       "    </tr>\n",
       "  </thead>\n",
       "  <tbody>\n",
       "    <tr>\n",
       "      <th>30</th>\n",
       "      <td>60619.0</td>\n",
       "      <td>x</td>\n",
       "      <td>x</td>\n",
       "      <td>2</td>\n",
       "    </tr>\n",
       "    <tr>\n",
       "      <th>35</th>\n",
       "      <td>60620.0</td>\n",
       "      <td>x</td>\n",
       "      <td>x</td>\n",
       "      <td>2</td>\n",
       "    </tr>\n",
       "  </tbody>\n",
       "</table>\n",
       "</div>"
      ],
      "text/plain": [
       "    Zipcode idade renda  comum\n",
       "30  60619.0     x     x      2\n",
       "35  60620.0     x     x      2"
      ]
     },
     "execution_count": 60,
     "metadata": {},
     "output_type": "execute_result"
    }
   ],
   "source": [
    "# demographic\n",
    "demographic_il2 = demographic_il1[demographic_il1['TotalPopulation'] > demographic_il1['TotalPopulation'].mean()].sort_values('SexRatio(males per 100 females)')\n",
    "demographic_il2 = demographic_il2[demographic_il2['SexRatio(males per 100 females)'] <= 90].sort_values('MedianAgeInYears', ascending = False)\n",
    "\n",
    "demographic_il2 = demographic_il2.head(40)[['Zipcode']]\n",
    "\n",
    "il_idade = demographic_il2[['Zipcode']]\n",
    "il_idade['idade'] = 'x'\n",
    "\n",
    "# economic\n",
    "economic_il2 = economic_il1.sort_values('TotalHouseholds_$50.000to$74.999', ascending = False).head(40)\n",
    "\n",
    "il_renda = economic_il2[['Zipcode']]\n",
    "il_renda['renda'] = 'x'\n",
    "\n",
    "# seleção\n",
    "selecao_il = il_idade.merge(il_renda, how = 'outer')\n",
    "selecao_il['comum'] = selecao_il.count(axis = 1) - 1\n",
    "\n",
    "selecao_il[selecao_il['comum'] == 2]"
   ]
  },
  {
   "attachments": {},
   "cell_type": "markdown",
   "metadata": {},
   "source": [
    "como estes zipcodes são muito próximos, será selecionado apenas 1"
   ]
  },
  {
   "attachments": {},
   "cell_type": "markdown",
   "metadata": {},
   "source": [
    "### verificando no mapa as localizações"
   ]
  },
  {
   "attachments": {},
   "cell_type": "markdown",
   "metadata": {},
   "source": [
    "montando a base de dados"
   ]
  },
  {
   "cell_type": "code",
   "execution_count": 61,
   "metadata": {},
   "outputs": [
    {
     "name": "stderr",
     "output_type": "stream",
     "text": [
      "C:\\Users\\Leticia\\AppData\\Local\\Temp\\ipykernel_6828\\1576938960.py:3: SettingWithCopyWarning:\n",
      "\n",
      "\n",
      "A value is trying to be set on a copy of a slice from a DataFrame.\n",
      "Try using .loc[row_indexer,col_indexer] = value instead\n",
      "\n",
      "See the caveats in the documentation: https://pandas.pydata.org/pandas-docs/stable/user_guide/indexing.html#returning-a-view-versus-a-copy\n",
      "\n"
     ]
    }
   ],
   "source": [
    "labs_existentes = coordenadas[['Lab Id', 'Sigla', 'latitude', 'longitude']]\n",
    "\n",
    "labs_existentes['cor'] = '#5288db'"
   ]
  },
  {
   "cell_type": "code",
   "execution_count": 62,
   "metadata": {},
   "outputs": [],
   "source": [
    "locais_sugeridos = pd.DataFrame({\n",
    "    'Lab Id':['novo_ca', 'novo_pa', 'novo_il'],\n",
    "    'Sigla': ['CA', 'PA', 'IL'],\n",
    "    'latitude': [38.621282, 40.457642, 41.743241],\n",
    "    'longitude': [-121.328340, -79.816084, -87.605053]\n",
    "})\n",
    "\n",
    "locais_sugeridos['cor'] = '#ac3a4e'"
   ]
  },
  {
   "cell_type": "code",
   "execution_count": 63,
   "metadata": {},
   "outputs": [
    {
     "data": {
      "text/html": [
       "<div>\n",
       "<style scoped>\n",
       "    .dataframe tbody tr th:only-of-type {\n",
       "        vertical-align: middle;\n",
       "    }\n",
       "\n",
       "    .dataframe tbody tr th {\n",
       "        vertical-align: top;\n",
       "    }\n",
       "\n",
       "    .dataframe thead th {\n",
       "        text-align: right;\n",
       "    }\n",
       "</style>\n",
       "<table border=\"1\" class=\"dataframe\">\n",
       "  <thead>\n",
       "    <tr style=\"text-align: right;\">\n",
       "      <th></th>\n",
       "      <th>Lab Id</th>\n",
       "      <th>Sigla</th>\n",
       "      <th>latitude</th>\n",
       "      <th>longitude</th>\n",
       "      <th>cor</th>\n",
       "    </tr>\n",
       "  </thead>\n",
       "  <tbody>\n",
       "    <tr>\n",
       "      <th>0</th>\n",
       "      <td>L152</td>\n",
       "      <td>GA</td>\n",
       "      <td>34.000319</td>\n",
       "      <td>-84.162972</td>\n",
       "      <td>#5288db</td>\n",
       "    </tr>\n",
       "    <tr>\n",
       "      <th>1</th>\n",
       "      <td>L520</td>\n",
       "      <td>NY</td>\n",
       "      <td>43.231133</td>\n",
       "      <td>-75.444536</td>\n",
       "      <td>#5288db</td>\n",
       "    </tr>\n",
       "    <tr>\n",
       "      <th>2</th>\n",
       "      <td>L141</td>\n",
       "      <td>WA</td>\n",
       "      <td>47.716279</td>\n",
       "      <td>-122.183815</td>\n",
       "      <td>#5288db</td>\n",
       "    </tr>\n",
       "    <tr>\n",
       "      <th>3</th>\n",
       "      <td>L524</td>\n",
       "      <td>GA</td>\n",
       "      <td>33.909388</td>\n",
       "      <td>-84.352910</td>\n",
       "      <td>#5288db</td>\n",
       "    </tr>\n",
       "    <tr>\n",
       "      <th>4</th>\n",
       "      <td>L545</td>\n",
       "      <td>IL</td>\n",
       "      <td>40.930993</td>\n",
       "      <td>-90.943760</td>\n",
       "      <td>#5288db</td>\n",
       "    </tr>\n",
       "    <tr>\n",
       "      <th>...</th>\n",
       "      <td>...</td>\n",
       "      <td>...</td>\n",
       "      <td>...</td>\n",
       "      <td>...</td>\n",
       "      <td>...</td>\n",
       "    </tr>\n",
       "    <tr>\n",
       "      <th>116</th>\n",
       "      <td>L163</td>\n",
       "      <td>IA</td>\n",
       "      <td>41.561118</td>\n",
       "      <td>-90.591518</td>\n",
       "      <td>#5288db</td>\n",
       "    </tr>\n",
       "    <tr>\n",
       "      <th>117</th>\n",
       "      <td>L967</td>\n",
       "      <td>CA</td>\n",
       "      <td>37.984716</td>\n",
       "      <td>-122.038365</td>\n",
       "      <td>#5288db</td>\n",
       "    </tr>\n",
       "    <tr>\n",
       "      <th>118</th>\n",
       "      <td>novo_ca</td>\n",
       "      <td>CA</td>\n",
       "      <td>38.621282</td>\n",
       "      <td>-121.328340</td>\n",
       "      <td>#ac3a4e</td>\n",
       "    </tr>\n",
       "    <tr>\n",
       "      <th>119</th>\n",
       "      <td>novo_pa</td>\n",
       "      <td>PA</td>\n",
       "      <td>40.457642</td>\n",
       "      <td>-79.816084</td>\n",
       "      <td>#ac3a4e</td>\n",
       "    </tr>\n",
       "    <tr>\n",
       "      <th>120</th>\n",
       "      <td>novo_il</td>\n",
       "      <td>IL</td>\n",
       "      <td>41.743241</td>\n",
       "      <td>-87.605053</td>\n",
       "      <td>#ac3a4e</td>\n",
       "    </tr>\n",
       "  </tbody>\n",
       "</table>\n",
       "<p>121 rows × 5 columns</p>\n",
       "</div>"
      ],
      "text/plain": [
       "      Lab Id Sigla   latitude   longitude      cor\n",
       "0       L152    GA  34.000319  -84.162972  #5288db\n",
       "1       L520    NY  43.231133  -75.444536  #5288db\n",
       "2       L141    WA  47.716279 -122.183815  #5288db\n",
       "3       L524    GA  33.909388  -84.352910  #5288db\n",
       "4       L545    IL  40.930993  -90.943760  #5288db\n",
       "..       ...   ...        ...         ...      ...\n",
       "116     L163    IA  41.561118  -90.591518  #5288db\n",
       "117     L967    CA  37.984716 -122.038365  #5288db\n",
       "118  novo_ca    CA  38.621282 -121.328340  #ac3a4e\n",
       "119  novo_pa    PA  40.457642  -79.816084  #ac3a4e\n",
       "120  novo_il    IL  41.743241  -87.605053  #ac3a4e\n",
       "\n",
       "[121 rows x 5 columns]"
      ]
     },
     "execution_count": 63,
     "metadata": {},
     "output_type": "execute_result"
    }
   ],
   "source": [
    "# juntando os dataframes\n",
    "\n",
    "mapa2 = pd.concat([labs_existentes, locais_sugeridos], axis = 0).reset_index(drop = True)\n",
    "mapa2"
   ]
  },
  {
   "cell_type": "code",
   "execution_count": 64,
   "metadata": {},
   "outputs": [
    {
     "data": {
      "application/vnd.plotly.v1+json": {
       "config": {
        "linkText": "Export to plot.ly",
        "plotlyServerURL": "https://plot.ly",
        "showLink": false
       },
       "data": [
        {
         "lat": [
          34.000319,
          43.2311327,
          47.7162786,
          33.9093875,
          40.9309925,
          39.9924717,
          33.5113314,
          37.6759064,
          37.6993,
          42.7065088,
          37.9115042,
          39.934946,
          47.6208696,
          33.9484477,
          33.9710116,
          41.4877432,
          33.9735891,
          39.9076973,
          42.1077525,
          40.0374664,
          47.632801,
          41.8554575,
          33.7681453,
          47.7158288,
          41.497223,
          33.8254779,
          42.2653422,
          39.912442,
          33.451232,
          33.732926,
          41.5694897,
          37.6822922,
          40.0021676,
          47.750593,
          37.9838036,
          47.6076339,
          40.0303647,
          39.9560828,
          47.7084091,
          42.0281344,
          33.8786308,
          40.0066857,
          47.7510662,
          37.956103,
          47.8044871,
          41.5586991,
          37.9242863,
          37.9765001,
          37.7754429,
          40.0294758,
          47.6091997,
          47.6219477,
          41.5387268,
          33.4498013,
          42.7473541,
          43.1014617,
          37.7990818,
          39.9495713,
          42.8166911,
          42.1710988,
          39.957358,
          37.9694792,
          43.1201376,
          47.4568023,
          43.0978638,
          33.451232,
          33.7943032,
          37.7754429,
          42.276897,
          42.300344,
          40.7447179,
          47.760574,
          40.0173148,
          39.9213919,
          41.466876,
          42.8075256,
          43.2272241,
          42.8213859,
          42.2493985,
          37.9553785,
          43.0731473,
          38.4634804,
          34.0708467,
          42.775748,
          39.9507025,
          47.8026806,
          42.8073225,
          37.6762783,
          33.8473632,
          42.2607878,
          47.6821988,
          47.4585122,
          42.1146632,
          47.6674625,
          43.0150099,
          38.0070008,
          39.9130589,
          37.7762785,
          42.247582,
          47.6100869,
          43.1636949,
          33.5774091,
          39.9290428,
          41.4352418,
          34.1054485,
          33.677914,
          39.9457889,
          42.3020867,
          43.0879409,
          39.9218172,
          33.9073497,
          47.7148568,
          47.6516517,
          39.9184081,
          43.0773695,
          43.2530101,
          41.5611182,
          37.984716,
          38.621282,
          40.457642,
          41.743241
         ],
         "lon": [
          -84.1629724,
          -75.4445363,
          -122.1838152,
          -84.3529096,
          -90.9437598,
          -75.1035442,
          -84.2316312,
          -121.8772172,
          -121.9014055,
          -71.171084,
          -122.0444705,
          -75.0669325,
          -122.1889933,
          -84.3369582,
          -84.5511075,
          -90.4216658,
          -84.4822033,
          -75.289741,
          -70.7667516,
          -75.1206684,
          -122.1330652,
          -89.489907,
          -84.388286,
          -122.180939,
          -90.5296326,
          -84.2571003,
          -71.7927896,
          -75.0583428,
          -94.0683805,
          -84.6724126,
          -90.5271587,
          -121.8756054,
          -75.2825227,
          -122.154299,
          -122.0360361,
          -122.3123067,
          -75.1834481,
          -75.1987675,
          -122.335505,
          -71.31267,
          -84.0214922,
          -75.2190999,
          -122.6477891,
          -121.9694513,
          -122.2090808,
          -90.518775,
          -121.7371186,
          -121.8012144,
          -121.9669886,
          -75.0869837,
          -122.3262981,
          -122.1870553,
          -90.5511836,
          -84.508719,
          -71.1313972,
          -76.060889,
          -121.9166879,
          -75.1567543,
          -71.5409322,
          -70.9577834,
          -75.1642512,
          -121.2901678,
          -76.1627233,
          -122.3457174,
          -75.3055966,
          -94.0683805,
          -84.2778831,
          -121.9669886,
          -71.4160299,
          -71.8038673,
          -90.9114665,
          -122.2527338,
          -75.1509415,
          -75.2561934,
          -90.5478657,
          -71.2622671,
          -75.4323824,
          -70.9065276,
          -84.4259382,
          -122.0411404,
          -75.2957098,
          -121.416546,
          -84.3000492,
          -71.2495637,
          -75.2286725,
          -122.3389483,
          -71.2650041,
          -121.7853993,
          -84.5065753,
          -83.7391191,
          -122.1259728,
          -122.3370864,
          -71.463432,
          -122.3817193,
          -75.0398441,
          -121.868574,
          -75.1518927,
          -121.9679406,
          -70.9842195,
          -122.3243021,
          -76.2366636,
          -84.3944193,
          -75.170544,
          -91.0759938,
          -84.5409941,
          -84.00695,
          -75.1533585,
          -71.407008,
          -75.2624454,
          -75.1730023,
          -84.3581189,
          -122.1866063,
          -122.687053,
          -75.035649,
          -75.6536905,
          -75.1860015,
          -90.5915183,
          -122.0383645,
          -121.32834,
          -79.816084,
          -87.605053
         ],
         "marker": {
          "autocolorscale": false,
          "color": [
           "#5288db",
           "#5288db",
           "#5288db",
           "#5288db",
           "#5288db",
           "#5288db",
           "#5288db",
           "#5288db",
           "#5288db",
           "#5288db",
           "#5288db",
           "#5288db",
           "#5288db",
           "#5288db",
           "#5288db",
           "#5288db",
           "#5288db",
           "#5288db",
           "#5288db",
           "#5288db",
           "#5288db",
           "#5288db",
           "#5288db",
           "#5288db",
           "#5288db",
           "#5288db",
           "#5288db",
           "#5288db",
           "#5288db",
           "#5288db",
           "#5288db",
           "#5288db",
           "#5288db",
           "#5288db",
           "#5288db",
           "#5288db",
           "#5288db",
           "#5288db",
           "#5288db",
           "#5288db",
           "#5288db",
           "#5288db",
           "#5288db",
           "#5288db",
           "#5288db",
           "#5288db",
           "#5288db",
           "#5288db",
           "#5288db",
           "#5288db",
           "#5288db",
           "#5288db",
           "#5288db",
           "#5288db",
           "#5288db",
           "#5288db",
           "#5288db",
           "#5288db",
           "#5288db",
           "#5288db",
           "#5288db",
           "#5288db",
           "#5288db",
           "#5288db",
           "#5288db",
           "#5288db",
           "#5288db",
           "#5288db",
           "#5288db",
           "#5288db",
           "#5288db",
           "#5288db",
           "#5288db",
           "#5288db",
           "#5288db",
           "#5288db",
           "#5288db",
           "#5288db",
           "#5288db",
           "#5288db",
           "#5288db",
           "#5288db",
           "#5288db",
           "#5288db",
           "#5288db",
           "#5288db",
           "#5288db",
           "#5288db",
           "#5288db",
           "#5288db",
           "#5288db",
           "#5288db",
           "#5288db",
           "#5288db",
           "#5288db",
           "#5288db",
           "#5288db",
           "#5288db",
           "#5288db",
           "#5288db",
           "#5288db",
           "#5288db",
           "#5288db",
           "#5288db",
           "#5288db",
           "#5288db",
           "#5288db",
           "#5288db",
           "#5288db",
           "#5288db",
           "#5288db",
           "#5288db",
           "#5288db",
           "#5288db",
           "#5288db",
           "#5288db",
           "#5288db",
           "#5288db",
           "#ac3a4e",
           "#ac3a4e",
           "#ac3a4e"
          ],
          "colorscale": [
           [
            0,
            "rgb(0,0,255)"
           ],
           [
            1,
            "rgb(255,0,0)"
           ]
          ],
          "size": 7
         },
         "type": "scattergeo"
        }
       ],
       "layout": {
        "geo": {
         "countrycolor": "rgb(100,100,100)",
         "countrywidth": 0.5,
         "landcolor": "rgb(250,250,250)",
         "projection": {
          "type": "albers usa"
         },
         "scope": "usa",
         "showland": true,
         "subunitcolor": "rgb(100,100,100)",
         "subunitwidth": 0.5
        },
        "template": {
         "data": {
          "bar": [
           {
            "error_x": {
             "color": "#2a3f5f"
            },
            "error_y": {
             "color": "#2a3f5f"
            },
            "marker": {
             "line": {
              "color": "#E5ECF6",
              "width": 0.5
             },
             "pattern": {
              "fillmode": "overlay",
              "size": 10,
              "solidity": 0.2
             }
            },
            "type": "bar"
           }
          ],
          "barpolar": [
           {
            "marker": {
             "line": {
              "color": "#E5ECF6",
              "width": 0.5
             },
             "pattern": {
              "fillmode": "overlay",
              "size": 10,
              "solidity": 0.2
             }
            },
            "type": "barpolar"
           }
          ],
          "carpet": [
           {
            "aaxis": {
             "endlinecolor": "#2a3f5f",
             "gridcolor": "white",
             "linecolor": "white",
             "minorgridcolor": "white",
             "startlinecolor": "#2a3f5f"
            },
            "baxis": {
             "endlinecolor": "#2a3f5f",
             "gridcolor": "white",
             "linecolor": "white",
             "minorgridcolor": "white",
             "startlinecolor": "#2a3f5f"
            },
            "type": "carpet"
           }
          ],
          "choropleth": [
           {
            "colorbar": {
             "outlinewidth": 0,
             "ticks": ""
            },
            "type": "choropleth"
           }
          ],
          "contour": [
           {
            "colorbar": {
             "outlinewidth": 0,
             "ticks": ""
            },
            "colorscale": [
             [
              0,
              "#0d0887"
             ],
             [
              0.1111111111111111,
              "#46039f"
             ],
             [
              0.2222222222222222,
              "#7201a8"
             ],
             [
              0.3333333333333333,
              "#9c179e"
             ],
             [
              0.4444444444444444,
              "#bd3786"
             ],
             [
              0.5555555555555556,
              "#d8576b"
             ],
             [
              0.6666666666666666,
              "#ed7953"
             ],
             [
              0.7777777777777778,
              "#fb9f3a"
             ],
             [
              0.8888888888888888,
              "#fdca26"
             ],
             [
              1,
              "#f0f921"
             ]
            ],
            "type": "contour"
           }
          ],
          "contourcarpet": [
           {
            "colorbar": {
             "outlinewidth": 0,
             "ticks": ""
            },
            "type": "contourcarpet"
           }
          ],
          "heatmap": [
           {
            "colorbar": {
             "outlinewidth": 0,
             "ticks": ""
            },
            "colorscale": [
             [
              0,
              "#0d0887"
             ],
             [
              0.1111111111111111,
              "#46039f"
             ],
             [
              0.2222222222222222,
              "#7201a8"
             ],
             [
              0.3333333333333333,
              "#9c179e"
             ],
             [
              0.4444444444444444,
              "#bd3786"
             ],
             [
              0.5555555555555556,
              "#d8576b"
             ],
             [
              0.6666666666666666,
              "#ed7953"
             ],
             [
              0.7777777777777778,
              "#fb9f3a"
             ],
             [
              0.8888888888888888,
              "#fdca26"
             ],
             [
              1,
              "#f0f921"
             ]
            ],
            "type": "heatmap"
           }
          ],
          "heatmapgl": [
           {
            "colorbar": {
             "outlinewidth": 0,
             "ticks": ""
            },
            "colorscale": [
             [
              0,
              "#0d0887"
             ],
             [
              0.1111111111111111,
              "#46039f"
             ],
             [
              0.2222222222222222,
              "#7201a8"
             ],
             [
              0.3333333333333333,
              "#9c179e"
             ],
             [
              0.4444444444444444,
              "#bd3786"
             ],
             [
              0.5555555555555556,
              "#d8576b"
             ],
             [
              0.6666666666666666,
              "#ed7953"
             ],
             [
              0.7777777777777778,
              "#fb9f3a"
             ],
             [
              0.8888888888888888,
              "#fdca26"
             ],
             [
              1,
              "#f0f921"
             ]
            ],
            "type": "heatmapgl"
           }
          ],
          "histogram": [
           {
            "marker": {
             "pattern": {
              "fillmode": "overlay",
              "size": 10,
              "solidity": 0.2
             }
            },
            "type": "histogram"
           }
          ],
          "histogram2d": [
           {
            "colorbar": {
             "outlinewidth": 0,
             "ticks": ""
            },
            "colorscale": [
             [
              0,
              "#0d0887"
             ],
             [
              0.1111111111111111,
              "#46039f"
             ],
             [
              0.2222222222222222,
              "#7201a8"
             ],
             [
              0.3333333333333333,
              "#9c179e"
             ],
             [
              0.4444444444444444,
              "#bd3786"
             ],
             [
              0.5555555555555556,
              "#d8576b"
             ],
             [
              0.6666666666666666,
              "#ed7953"
             ],
             [
              0.7777777777777778,
              "#fb9f3a"
             ],
             [
              0.8888888888888888,
              "#fdca26"
             ],
             [
              1,
              "#f0f921"
             ]
            ],
            "type": "histogram2d"
           }
          ],
          "histogram2dcontour": [
           {
            "colorbar": {
             "outlinewidth": 0,
             "ticks": ""
            },
            "colorscale": [
             [
              0,
              "#0d0887"
             ],
             [
              0.1111111111111111,
              "#46039f"
             ],
             [
              0.2222222222222222,
              "#7201a8"
             ],
             [
              0.3333333333333333,
              "#9c179e"
             ],
             [
              0.4444444444444444,
              "#bd3786"
             ],
             [
              0.5555555555555556,
              "#d8576b"
             ],
             [
              0.6666666666666666,
              "#ed7953"
             ],
             [
              0.7777777777777778,
              "#fb9f3a"
             ],
             [
              0.8888888888888888,
              "#fdca26"
             ],
             [
              1,
              "#f0f921"
             ]
            ],
            "type": "histogram2dcontour"
           }
          ],
          "mesh3d": [
           {
            "colorbar": {
             "outlinewidth": 0,
             "ticks": ""
            },
            "type": "mesh3d"
           }
          ],
          "parcoords": [
           {
            "line": {
             "colorbar": {
              "outlinewidth": 0,
              "ticks": ""
             }
            },
            "type": "parcoords"
           }
          ],
          "pie": [
           {
            "automargin": true,
            "type": "pie"
           }
          ],
          "scatter": [
           {
            "fillpattern": {
             "fillmode": "overlay",
             "size": 10,
             "solidity": 0.2
            },
            "type": "scatter"
           }
          ],
          "scatter3d": [
           {
            "line": {
             "colorbar": {
              "outlinewidth": 0,
              "ticks": ""
             }
            },
            "marker": {
             "colorbar": {
              "outlinewidth": 0,
              "ticks": ""
             }
            },
            "type": "scatter3d"
           }
          ],
          "scattercarpet": [
           {
            "marker": {
             "colorbar": {
              "outlinewidth": 0,
              "ticks": ""
             }
            },
            "type": "scattercarpet"
           }
          ],
          "scattergeo": [
           {
            "marker": {
             "colorbar": {
              "outlinewidth": 0,
              "ticks": ""
             }
            },
            "type": "scattergeo"
           }
          ],
          "scattergl": [
           {
            "marker": {
             "colorbar": {
              "outlinewidth": 0,
              "ticks": ""
             }
            },
            "type": "scattergl"
           }
          ],
          "scattermapbox": [
           {
            "marker": {
             "colorbar": {
              "outlinewidth": 0,
              "ticks": ""
             }
            },
            "type": "scattermapbox"
           }
          ],
          "scatterpolar": [
           {
            "marker": {
             "colorbar": {
              "outlinewidth": 0,
              "ticks": ""
             }
            },
            "type": "scatterpolar"
           }
          ],
          "scatterpolargl": [
           {
            "marker": {
             "colorbar": {
              "outlinewidth": 0,
              "ticks": ""
             }
            },
            "type": "scatterpolargl"
           }
          ],
          "scatterternary": [
           {
            "marker": {
             "colorbar": {
              "outlinewidth": 0,
              "ticks": ""
             }
            },
            "type": "scatterternary"
           }
          ],
          "surface": [
           {
            "colorbar": {
             "outlinewidth": 0,
             "ticks": ""
            },
            "colorscale": [
             [
              0,
              "#0d0887"
             ],
             [
              0.1111111111111111,
              "#46039f"
             ],
             [
              0.2222222222222222,
              "#7201a8"
             ],
             [
              0.3333333333333333,
              "#9c179e"
             ],
             [
              0.4444444444444444,
              "#bd3786"
             ],
             [
              0.5555555555555556,
              "#d8576b"
             ],
             [
              0.6666666666666666,
              "#ed7953"
             ],
             [
              0.7777777777777778,
              "#fb9f3a"
             ],
             [
              0.8888888888888888,
              "#fdca26"
             ],
             [
              1,
              "#f0f921"
             ]
            ],
            "type": "surface"
           }
          ],
          "table": [
           {
            "cells": {
             "fill": {
              "color": "#EBF0F8"
             },
             "line": {
              "color": "white"
             }
            },
            "header": {
             "fill": {
              "color": "#C8D4E3"
             },
             "line": {
              "color": "white"
             }
            },
            "type": "table"
           }
          ]
         },
         "layout": {
          "annotationdefaults": {
           "arrowcolor": "#2a3f5f",
           "arrowhead": 0,
           "arrowwidth": 1
          },
          "autotypenumbers": "strict",
          "coloraxis": {
           "colorbar": {
            "outlinewidth": 0,
            "ticks": ""
           }
          },
          "colorscale": {
           "diverging": [
            [
             0,
             "#8e0152"
            ],
            [
             0.1,
             "#c51b7d"
            ],
            [
             0.2,
             "#de77ae"
            ],
            [
             0.3,
             "#f1b6da"
            ],
            [
             0.4,
             "#fde0ef"
            ],
            [
             0.5,
             "#f7f7f7"
            ],
            [
             0.6,
             "#e6f5d0"
            ],
            [
             0.7,
             "#b8e186"
            ],
            [
             0.8,
             "#7fbc41"
            ],
            [
             0.9,
             "#4d9221"
            ],
            [
             1,
             "#276419"
            ]
           ],
           "sequential": [
            [
             0,
             "#0d0887"
            ],
            [
             0.1111111111111111,
             "#46039f"
            ],
            [
             0.2222222222222222,
             "#7201a8"
            ],
            [
             0.3333333333333333,
             "#9c179e"
            ],
            [
             0.4444444444444444,
             "#bd3786"
            ],
            [
             0.5555555555555556,
             "#d8576b"
            ],
            [
             0.6666666666666666,
             "#ed7953"
            ],
            [
             0.7777777777777778,
             "#fb9f3a"
            ],
            [
             0.8888888888888888,
             "#fdca26"
            ],
            [
             1,
             "#f0f921"
            ]
           ],
           "sequentialminus": [
            [
             0,
             "#0d0887"
            ],
            [
             0.1111111111111111,
             "#46039f"
            ],
            [
             0.2222222222222222,
             "#7201a8"
            ],
            [
             0.3333333333333333,
             "#9c179e"
            ],
            [
             0.4444444444444444,
             "#bd3786"
            ],
            [
             0.5555555555555556,
             "#d8576b"
            ],
            [
             0.6666666666666666,
             "#ed7953"
            ],
            [
             0.7777777777777778,
             "#fb9f3a"
            ],
            [
             0.8888888888888888,
             "#fdca26"
            ],
            [
             1,
             "#f0f921"
            ]
           ]
          },
          "colorway": [
           "#636efa",
           "#EF553B",
           "#00cc96",
           "#ab63fa",
           "#FFA15A",
           "#19d3f3",
           "#FF6692",
           "#B6E880",
           "#FF97FF",
           "#FECB52"
          ],
          "font": {
           "color": "#2a3f5f"
          },
          "geo": {
           "bgcolor": "white",
           "lakecolor": "white",
           "landcolor": "#E5ECF6",
           "showlakes": true,
           "showland": true,
           "subunitcolor": "white"
          },
          "hoverlabel": {
           "align": "left"
          },
          "hovermode": "closest",
          "mapbox": {
           "style": "light"
          },
          "paper_bgcolor": "white",
          "plot_bgcolor": "#E5ECF6",
          "polar": {
           "angularaxis": {
            "gridcolor": "white",
            "linecolor": "white",
            "ticks": ""
           },
           "bgcolor": "#E5ECF6",
           "radialaxis": {
            "gridcolor": "white",
            "linecolor": "white",
            "ticks": ""
           }
          },
          "scene": {
           "xaxis": {
            "backgroundcolor": "#E5ECF6",
            "gridcolor": "white",
            "gridwidth": 2,
            "linecolor": "white",
            "showbackground": true,
            "ticks": "",
            "zerolinecolor": "white"
           },
           "yaxis": {
            "backgroundcolor": "#E5ECF6",
            "gridcolor": "white",
            "gridwidth": 2,
            "linecolor": "white",
            "showbackground": true,
            "ticks": "",
            "zerolinecolor": "white"
           },
           "zaxis": {
            "backgroundcolor": "#E5ECF6",
            "gridcolor": "white",
            "gridwidth": 2,
            "linecolor": "white",
            "showbackground": true,
            "ticks": "",
            "zerolinecolor": "white"
           }
          },
          "shapedefaults": {
           "line": {
            "color": "#2a3f5f"
           }
          },
          "ternary": {
           "aaxis": {
            "gridcolor": "white",
            "linecolor": "white",
            "ticks": ""
           },
           "baxis": {
            "gridcolor": "white",
            "linecolor": "white",
            "ticks": ""
           },
           "bgcolor": "#E5ECF6",
           "caxis": {
            "gridcolor": "white",
            "linecolor": "white",
            "ticks": ""
           }
          },
          "title": {
           "x": 0.05
          },
          "xaxis": {
           "automargin": true,
           "gridcolor": "white",
           "linecolor": "white",
           "ticks": "",
           "title": {
            "standoff": 15
           },
           "zerolinecolor": "white",
           "zerolinewidth": 2
          },
          "yaxis": {
           "automargin": true,
           "gridcolor": "white",
           "linecolor": "white",
           "ticks": "",
           "title": {
            "standoff": 15
           },
           "zerolinecolor": "white",
           "zerolinewidth": 2
          }
         }
        },
        "title": {
         "text": "Localizações dos laboratórios"
        },
        "width": 700
       }
      },
      "text/html": [
       "<div>                            <div id=\"6b3168cf-6437-4e0a-bee0-fd3be0e5fd82\" class=\"plotly-graph-div\" style=\"height:525px; width:700px;\"></div>            <script type=\"text/javascript\">                require([\"plotly\"], function(Plotly) {                    window.PLOTLYENV=window.PLOTLYENV || {};                                    if (document.getElementById(\"6b3168cf-6437-4e0a-bee0-fd3be0e5fd82\")) {                    Plotly.newPlot(                        \"6b3168cf-6437-4e0a-bee0-fd3be0e5fd82\",                        [{\"lat\":[34.000319,43.2311327,47.7162786,33.9093875,40.9309925,39.9924717,33.5113314,37.6759064,37.6993,42.7065088,37.9115042,39.934946,47.6208696,33.9484477,33.9710116,41.4877432,33.9735891,39.9076973,42.1077525,40.0374664,47.632801,41.8554575,33.7681453,47.7158288,41.497223,33.8254779,42.2653422,39.912442,33.451232,33.732926,41.5694897,37.6822922,40.0021676,47.750593,37.9838036,47.6076339,40.0303647,39.9560828,47.7084091,42.0281344,33.8786308,40.0066857,47.7510662,37.956103,47.8044871,41.5586991,37.9242863,37.9765001,37.7754429,40.0294758,47.6091997,47.6219477,41.5387268,33.4498013,42.7473541,43.1014617,37.7990818,39.9495713,42.8166911,42.1710988,39.957358,37.9694792,43.1201376,47.4568023,43.0978638,33.451232,33.7943032,37.7754429,42.276897,42.300344,40.7447179,47.760574,40.0173148,39.9213919,41.466876,42.8075256,43.2272241,42.8213859,42.2493985,37.9553785,43.0731473,38.4634804,34.0708467,42.775748,39.9507025,47.8026806,42.8073225,37.6762783,33.8473632,42.2607878,47.6821988,47.4585122,42.1146632,47.6674625,43.0150099,38.0070008,39.9130589,37.7762785,42.247582,47.6100869,43.1636949,33.5774091,39.9290428,41.4352418,34.1054485,33.677914,39.9457889,42.3020867,43.0879409,39.9218172,33.9073497,47.7148568,47.6516517,39.9184081,43.0773695,43.2530101,41.5611182,37.984716,38.621282,40.457642,41.743241],\"lon\":[-84.1629724,-75.4445363,-122.1838152,-84.3529096,-90.9437598,-75.1035442,-84.2316312,-121.8772172,-121.9014055,-71.171084,-122.0444705,-75.0669325,-122.1889933,-84.3369582,-84.5511075,-90.4216658,-84.4822033,-75.289741,-70.7667516,-75.1206684,-122.1330652,-89.489907,-84.388286,-122.180939,-90.5296326,-84.2571003,-71.7927896,-75.0583428,-94.0683805,-84.6724126,-90.5271587,-121.8756054,-75.2825227,-122.154299,-122.0360361,-122.3123067,-75.1834481,-75.1987675,-122.335505,-71.31267,-84.0214922,-75.2190999,-122.6477891,-121.9694513,-122.2090808,-90.518775,-121.7371186,-121.8012144,-121.9669886,-75.0869837,-122.3262981,-122.1870553,-90.5511836,-84.508719,-71.1313972,-76.060889,-121.9166879,-75.1567543,-71.5409322,-70.9577834,-75.1642512,-121.2901678,-76.1627233,-122.3457174,-75.3055966,-94.0683805,-84.2778831,-121.9669886,-71.4160299,-71.8038673,-90.9114665,-122.2527338,-75.1509415,-75.2561934,-90.5478657,-71.2622671,-75.4323824,-70.9065276,-84.4259382,-122.0411404,-75.2957098,-121.416546,-84.3000492,-71.2495637,-75.2286725,-122.3389483,-71.2650041,-121.7853993,-84.5065753,-83.7391191,-122.1259728,-122.3370864,-71.463432,-122.3817193,-75.0398441,-121.868574,-75.1518927,-121.9679406,-70.9842195,-122.3243021,-76.2366636,-84.3944193,-75.170544,-91.0759938,-84.5409941,-84.00695,-75.1533585,-71.407008,-75.2624454,-75.1730023,-84.3581189,-122.1866063,-122.687053,-75.035649,-75.6536905,-75.1860015,-90.5915183,-122.0383645,-121.32834,-79.816084,-87.605053],\"marker\":{\"autocolorscale\":false,\"color\":[\"#5288db\",\"#5288db\",\"#5288db\",\"#5288db\",\"#5288db\",\"#5288db\",\"#5288db\",\"#5288db\",\"#5288db\",\"#5288db\",\"#5288db\",\"#5288db\",\"#5288db\",\"#5288db\",\"#5288db\",\"#5288db\",\"#5288db\",\"#5288db\",\"#5288db\",\"#5288db\",\"#5288db\",\"#5288db\",\"#5288db\",\"#5288db\",\"#5288db\",\"#5288db\",\"#5288db\",\"#5288db\",\"#5288db\",\"#5288db\",\"#5288db\",\"#5288db\",\"#5288db\",\"#5288db\",\"#5288db\",\"#5288db\",\"#5288db\",\"#5288db\",\"#5288db\",\"#5288db\",\"#5288db\",\"#5288db\",\"#5288db\",\"#5288db\",\"#5288db\",\"#5288db\",\"#5288db\",\"#5288db\",\"#5288db\",\"#5288db\",\"#5288db\",\"#5288db\",\"#5288db\",\"#5288db\",\"#5288db\",\"#5288db\",\"#5288db\",\"#5288db\",\"#5288db\",\"#5288db\",\"#5288db\",\"#5288db\",\"#5288db\",\"#5288db\",\"#5288db\",\"#5288db\",\"#5288db\",\"#5288db\",\"#5288db\",\"#5288db\",\"#5288db\",\"#5288db\",\"#5288db\",\"#5288db\",\"#5288db\",\"#5288db\",\"#5288db\",\"#5288db\",\"#5288db\",\"#5288db\",\"#5288db\",\"#5288db\",\"#5288db\",\"#5288db\",\"#5288db\",\"#5288db\",\"#5288db\",\"#5288db\",\"#5288db\",\"#5288db\",\"#5288db\",\"#5288db\",\"#5288db\",\"#5288db\",\"#5288db\",\"#5288db\",\"#5288db\",\"#5288db\",\"#5288db\",\"#5288db\",\"#5288db\",\"#5288db\",\"#5288db\",\"#5288db\",\"#5288db\",\"#5288db\",\"#5288db\",\"#5288db\",\"#5288db\",\"#5288db\",\"#5288db\",\"#5288db\",\"#5288db\",\"#5288db\",\"#5288db\",\"#5288db\",\"#5288db\",\"#5288db\",\"#ac3a4e\",\"#ac3a4e\",\"#ac3a4e\"],\"colorscale\":[[0.0,\"rgb(0,0,255)\"],[1.0,\"rgb(255,0,0)\"]],\"size\":7},\"type\":\"scattergeo\"}],                        {\"geo\":{\"countrycolor\":\"rgb(100,100,100)\",\"countrywidth\":0.5,\"landcolor\":\"rgb(250,250,250)\",\"projection\":{\"type\":\"albers usa\"},\"scope\":\"usa\",\"showland\":true,\"subunitcolor\":\"rgb(100,100,100)\",\"subunitwidth\":0.5},\"title\":{\"text\":\"Localiza\\u00e7\\u00f5es dos laborat\\u00f3rios\"},\"template\":{\"data\":{\"histogram2dcontour\":[{\"type\":\"histogram2dcontour\",\"colorbar\":{\"outlinewidth\":0,\"ticks\":\"\"},\"colorscale\":[[0.0,\"#0d0887\"],[0.1111111111111111,\"#46039f\"],[0.2222222222222222,\"#7201a8\"],[0.3333333333333333,\"#9c179e\"],[0.4444444444444444,\"#bd3786\"],[0.5555555555555556,\"#d8576b\"],[0.6666666666666666,\"#ed7953\"],[0.7777777777777778,\"#fb9f3a\"],[0.8888888888888888,\"#fdca26\"],[1.0,\"#f0f921\"]]}],\"choropleth\":[{\"type\":\"choropleth\",\"colorbar\":{\"outlinewidth\":0,\"ticks\":\"\"}}],\"histogram2d\":[{\"type\":\"histogram2d\",\"colorbar\":{\"outlinewidth\":0,\"ticks\":\"\"},\"colorscale\":[[0.0,\"#0d0887\"],[0.1111111111111111,\"#46039f\"],[0.2222222222222222,\"#7201a8\"],[0.3333333333333333,\"#9c179e\"],[0.4444444444444444,\"#bd3786\"],[0.5555555555555556,\"#d8576b\"],[0.6666666666666666,\"#ed7953\"],[0.7777777777777778,\"#fb9f3a\"],[0.8888888888888888,\"#fdca26\"],[1.0,\"#f0f921\"]]}],\"heatmap\":[{\"type\":\"heatmap\",\"colorbar\":{\"outlinewidth\":0,\"ticks\":\"\"},\"colorscale\":[[0.0,\"#0d0887\"],[0.1111111111111111,\"#46039f\"],[0.2222222222222222,\"#7201a8\"],[0.3333333333333333,\"#9c179e\"],[0.4444444444444444,\"#bd3786\"],[0.5555555555555556,\"#d8576b\"],[0.6666666666666666,\"#ed7953\"],[0.7777777777777778,\"#fb9f3a\"],[0.8888888888888888,\"#fdca26\"],[1.0,\"#f0f921\"]]}],\"heatmapgl\":[{\"type\":\"heatmapgl\",\"colorbar\":{\"outlinewidth\":0,\"ticks\":\"\"},\"colorscale\":[[0.0,\"#0d0887\"],[0.1111111111111111,\"#46039f\"],[0.2222222222222222,\"#7201a8\"],[0.3333333333333333,\"#9c179e\"],[0.4444444444444444,\"#bd3786\"],[0.5555555555555556,\"#d8576b\"],[0.6666666666666666,\"#ed7953\"],[0.7777777777777778,\"#fb9f3a\"],[0.8888888888888888,\"#fdca26\"],[1.0,\"#f0f921\"]]}],\"contourcarpet\":[{\"type\":\"contourcarpet\",\"colorbar\":{\"outlinewidth\":0,\"ticks\":\"\"}}],\"contour\":[{\"type\":\"contour\",\"colorbar\":{\"outlinewidth\":0,\"ticks\":\"\"},\"colorscale\":[[0.0,\"#0d0887\"],[0.1111111111111111,\"#46039f\"],[0.2222222222222222,\"#7201a8\"],[0.3333333333333333,\"#9c179e\"],[0.4444444444444444,\"#bd3786\"],[0.5555555555555556,\"#d8576b\"],[0.6666666666666666,\"#ed7953\"],[0.7777777777777778,\"#fb9f3a\"],[0.8888888888888888,\"#fdca26\"],[1.0,\"#f0f921\"]]}],\"surface\":[{\"type\":\"surface\",\"colorbar\":{\"outlinewidth\":0,\"ticks\":\"\"},\"colorscale\":[[0.0,\"#0d0887\"],[0.1111111111111111,\"#46039f\"],[0.2222222222222222,\"#7201a8\"],[0.3333333333333333,\"#9c179e\"],[0.4444444444444444,\"#bd3786\"],[0.5555555555555556,\"#d8576b\"],[0.6666666666666666,\"#ed7953\"],[0.7777777777777778,\"#fb9f3a\"],[0.8888888888888888,\"#fdca26\"],[1.0,\"#f0f921\"]]}],\"mesh3d\":[{\"type\":\"mesh3d\",\"colorbar\":{\"outlinewidth\":0,\"ticks\":\"\"}}],\"scatter\":[{\"fillpattern\":{\"fillmode\":\"overlay\",\"size\":10,\"solidity\":0.2},\"type\":\"scatter\"}],\"parcoords\":[{\"type\":\"parcoords\",\"line\":{\"colorbar\":{\"outlinewidth\":0,\"ticks\":\"\"}}}],\"scatterpolargl\":[{\"type\":\"scatterpolargl\",\"marker\":{\"colorbar\":{\"outlinewidth\":0,\"ticks\":\"\"}}}],\"bar\":[{\"error_x\":{\"color\":\"#2a3f5f\"},\"error_y\":{\"color\":\"#2a3f5f\"},\"marker\":{\"line\":{\"color\":\"#E5ECF6\",\"width\":0.5},\"pattern\":{\"fillmode\":\"overlay\",\"size\":10,\"solidity\":0.2}},\"type\":\"bar\"}],\"scattergeo\":[{\"type\":\"scattergeo\",\"marker\":{\"colorbar\":{\"outlinewidth\":0,\"ticks\":\"\"}}}],\"scatterpolar\":[{\"type\":\"scatterpolar\",\"marker\":{\"colorbar\":{\"outlinewidth\":0,\"ticks\":\"\"}}}],\"histogram\":[{\"marker\":{\"pattern\":{\"fillmode\":\"overlay\",\"size\":10,\"solidity\":0.2}},\"type\":\"histogram\"}],\"scattergl\":[{\"type\":\"scattergl\",\"marker\":{\"colorbar\":{\"outlinewidth\":0,\"ticks\":\"\"}}}],\"scatter3d\":[{\"type\":\"scatter3d\",\"line\":{\"colorbar\":{\"outlinewidth\":0,\"ticks\":\"\"}},\"marker\":{\"colorbar\":{\"outlinewidth\":0,\"ticks\":\"\"}}}],\"scattermapbox\":[{\"type\":\"scattermapbox\",\"marker\":{\"colorbar\":{\"outlinewidth\":0,\"ticks\":\"\"}}}],\"scatterternary\":[{\"type\":\"scatterternary\",\"marker\":{\"colorbar\":{\"outlinewidth\":0,\"ticks\":\"\"}}}],\"scattercarpet\":[{\"type\":\"scattercarpet\",\"marker\":{\"colorbar\":{\"outlinewidth\":0,\"ticks\":\"\"}}}],\"carpet\":[{\"aaxis\":{\"endlinecolor\":\"#2a3f5f\",\"gridcolor\":\"white\",\"linecolor\":\"white\",\"minorgridcolor\":\"white\",\"startlinecolor\":\"#2a3f5f\"},\"baxis\":{\"endlinecolor\":\"#2a3f5f\",\"gridcolor\":\"white\",\"linecolor\":\"white\",\"minorgridcolor\":\"white\",\"startlinecolor\":\"#2a3f5f\"},\"type\":\"carpet\"}],\"table\":[{\"cells\":{\"fill\":{\"color\":\"#EBF0F8\"},\"line\":{\"color\":\"white\"}},\"header\":{\"fill\":{\"color\":\"#C8D4E3\"},\"line\":{\"color\":\"white\"}},\"type\":\"table\"}],\"barpolar\":[{\"marker\":{\"line\":{\"color\":\"#E5ECF6\",\"width\":0.5},\"pattern\":{\"fillmode\":\"overlay\",\"size\":10,\"solidity\":0.2}},\"type\":\"barpolar\"}],\"pie\":[{\"automargin\":true,\"type\":\"pie\"}]},\"layout\":{\"autotypenumbers\":\"strict\",\"colorway\":[\"#636efa\",\"#EF553B\",\"#00cc96\",\"#ab63fa\",\"#FFA15A\",\"#19d3f3\",\"#FF6692\",\"#B6E880\",\"#FF97FF\",\"#FECB52\"],\"font\":{\"color\":\"#2a3f5f\"},\"hovermode\":\"closest\",\"hoverlabel\":{\"align\":\"left\"},\"paper_bgcolor\":\"white\",\"plot_bgcolor\":\"#E5ECF6\",\"polar\":{\"bgcolor\":\"#E5ECF6\",\"angularaxis\":{\"gridcolor\":\"white\",\"linecolor\":\"white\",\"ticks\":\"\"},\"radialaxis\":{\"gridcolor\":\"white\",\"linecolor\":\"white\",\"ticks\":\"\"}},\"ternary\":{\"bgcolor\":\"#E5ECF6\",\"aaxis\":{\"gridcolor\":\"white\",\"linecolor\":\"white\",\"ticks\":\"\"},\"baxis\":{\"gridcolor\":\"white\",\"linecolor\":\"white\",\"ticks\":\"\"},\"caxis\":{\"gridcolor\":\"white\",\"linecolor\":\"white\",\"ticks\":\"\"}},\"coloraxis\":{\"colorbar\":{\"outlinewidth\":0,\"ticks\":\"\"}},\"colorscale\":{\"sequential\":[[0.0,\"#0d0887\"],[0.1111111111111111,\"#46039f\"],[0.2222222222222222,\"#7201a8\"],[0.3333333333333333,\"#9c179e\"],[0.4444444444444444,\"#bd3786\"],[0.5555555555555556,\"#d8576b\"],[0.6666666666666666,\"#ed7953\"],[0.7777777777777778,\"#fb9f3a\"],[0.8888888888888888,\"#fdca26\"],[1.0,\"#f0f921\"]],\"sequentialminus\":[[0.0,\"#0d0887\"],[0.1111111111111111,\"#46039f\"],[0.2222222222222222,\"#7201a8\"],[0.3333333333333333,\"#9c179e\"],[0.4444444444444444,\"#bd3786\"],[0.5555555555555556,\"#d8576b\"],[0.6666666666666666,\"#ed7953\"],[0.7777777777777778,\"#fb9f3a\"],[0.8888888888888888,\"#fdca26\"],[1.0,\"#f0f921\"]],\"diverging\":[[0,\"#8e0152\"],[0.1,\"#c51b7d\"],[0.2,\"#de77ae\"],[0.3,\"#f1b6da\"],[0.4,\"#fde0ef\"],[0.5,\"#f7f7f7\"],[0.6,\"#e6f5d0\"],[0.7,\"#b8e186\"],[0.8,\"#7fbc41\"],[0.9,\"#4d9221\"],[1,\"#276419\"]]},\"xaxis\":{\"gridcolor\":\"white\",\"linecolor\":\"white\",\"ticks\":\"\",\"title\":{\"standoff\":15},\"zerolinecolor\":\"white\",\"automargin\":true,\"zerolinewidth\":2},\"yaxis\":{\"gridcolor\":\"white\",\"linecolor\":\"white\",\"ticks\":\"\",\"title\":{\"standoff\":15},\"zerolinecolor\":\"white\",\"automargin\":true,\"zerolinewidth\":2},\"scene\":{\"xaxis\":{\"backgroundcolor\":\"#E5ECF6\",\"gridcolor\":\"white\",\"linecolor\":\"white\",\"showbackground\":true,\"ticks\":\"\",\"zerolinecolor\":\"white\",\"gridwidth\":2},\"yaxis\":{\"backgroundcolor\":\"#E5ECF6\",\"gridcolor\":\"white\",\"linecolor\":\"white\",\"showbackground\":true,\"ticks\":\"\",\"zerolinecolor\":\"white\",\"gridwidth\":2},\"zaxis\":{\"backgroundcolor\":\"#E5ECF6\",\"gridcolor\":\"white\",\"linecolor\":\"white\",\"showbackground\":true,\"ticks\":\"\",\"zerolinecolor\":\"white\",\"gridwidth\":2}},\"shapedefaults\":{\"line\":{\"color\":\"#2a3f5f\"}},\"annotationdefaults\":{\"arrowcolor\":\"#2a3f5f\",\"arrowhead\":0,\"arrowwidth\":1},\"geo\":{\"bgcolor\":\"white\",\"landcolor\":\"#E5ECF6\",\"subunitcolor\":\"white\",\"showland\":true,\"showlakes\":true,\"lakecolor\":\"white\"},\"title\":{\"x\":0.05},\"mapbox\":{\"style\":\"light\"}}},\"width\":700},                        {\"responsive\": true}                    ).then(function(){\n",
       "                            \n",
       "var gd = document.getElementById('6b3168cf-6437-4e0a-bee0-fd3be0e5fd82');\n",
       "var x = new MutationObserver(function (mutations, observer) {{\n",
       "        var display = window.getComputedStyle(gd).display;\n",
       "        if (!display || display === 'none') {{\n",
       "            console.log([gd, 'removed!']);\n",
       "            Plotly.purge(gd);\n",
       "            observer.disconnect();\n",
       "        }}\n",
       "}});\n",
       "\n",
       "// Listen for the removal of the full notebook cells\n",
       "var notebookContainer = gd.closest('#notebook-container');\n",
       "if (notebookContainer) {{\n",
       "    x.observe(notebookContainer, {childList: true});\n",
       "}}\n",
       "\n",
       "// Listen for the clearing of the current output cell\n",
       "var outputEl = gd.closest('.output');\n",
       "if (outputEl) {{\n",
       "    x.observe(outputEl, {childList: true});\n",
       "}}\n",
       "\n",
       "                        })                };                });            </script>        </div>"
      ]
     },
     "metadata": {},
     "output_type": "display_data"
    }
   ],
   "source": [
    "data = dict(\n",
    "    type = 'scattergeo',\n",
    "    lat = mapa2['latitude'],\n",
    "    lon = mapa2['longitude'],\n",
    "    marker = dict(size = 7, autocolorscale = False, colorscale = 'Bluered', color = mapa2['cor']),\n",
    ")\n",
    "\n",
    "layout = dict(\n",
    "    title = 'Localizações dos laboratórios',\n",
    "    geo = dict(scope = 'usa',\n",
    "               projection = dict(type ='albers usa'),showland = True,\n",
    "               landcolor=\"rgb(250,250,250)\",subunitcolor = \"rgb(100,100,100)\",\n",
    "               countrycolor = \"rgb(100,100,100)\",countrywidth =0.5, subunitwidth=0.5)\n",
    ")\n",
    "\n",
    "choromap = go.Figure(data = [data], layout = layout)\n",
    "\n",
    "\n",
    "choromap.update_layout(width=700)\n",
    "iplot(choromap, validate = False)"
   ]
  },
  {
   "cell_type": "code",
   "execution_count": null,
   "metadata": {},
   "outputs": [],
   "source": []
  }
 ],
 "metadata": {
  "kernelspec": {
   "display_name": "Python 3",
   "language": "python",
   "name": "python3"
  },
  "language_info": {
   "codemirror_mode": {
    "name": "ipython",
    "version": 3
   },
   "file_extension": ".py",
   "mimetype": "text/x-python",
   "name": "python",
   "nbconvert_exporter": "python",
   "pygments_lexer": "ipython3",
   "version": "3.10.10"
  },
  "orig_nbformat": 4
 },
 "nbformat": 4,
 "nbformat_minor": 2
}
