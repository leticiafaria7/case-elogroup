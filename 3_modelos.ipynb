{
 "cells": [
  {
   "attachments": {},
   "cell_type": "markdown",
   "metadata": {},
   "source": [
    "# 3. Modelos\n",
    "\n",
    "Como aprofundamento das análises, este script gera alguns modelos estatísticos de regressão e clusterização com o objetivo de realizar analises preditivas e de identificação dos nichos que devem ser focados, corroborando as decisões de negócio tomadas a partir da análise exploratória"
   ]
  },
  {
   "cell_type": "code",
   "execution_count": null,
   "metadata": {},
   "outputs": [],
   "source": []
  }
 ],
 "metadata": {
  "language_info": {
   "name": "python"
  },
  "orig_nbformat": 4
 },
 "nbformat": 4,
 "nbformat_minor": 2
}
