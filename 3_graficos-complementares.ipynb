{
 "cells": [
  {
   "attachments": {},
   "cell_type": "markdown",
   "metadata": {},
   "source": [
    "# 3. Gráficos complementares\n",
    "\n",
    "Gráficos para complementarem a apresentação do case"
   ]
  },
  {
   "attachments": {},
   "cell_type": "markdown",
   "metadata": {},
   "source": [
    "### importando as bibliotecas necessárias"
   ]
  },
  {
   "cell_type": "code",
   "execution_count": 1,
   "metadata": {},
   "outputs": [
    {
     "data": {
      "text/html": [
       "        <script type=\"text/javascript\">\n",
       "        window.PlotlyConfig = {MathJaxConfig: 'local'};\n",
       "        if (window.MathJax) {MathJax.Hub.Config({SVG: {font: \"STIX-Web\"}});}\n",
       "        if (typeof require !== 'undefined') {\n",
       "        require.undef(\"plotly\");\n",
       "        requirejs.config({\n",
       "            paths: {\n",
       "                'plotly': ['https://cdn.plot.ly/plotly-2.9.0.min']\n",
       "            }\n",
       "        });\n",
       "        require(['plotly'], function(Plotly) {\n",
       "            window._Plotly = Plotly;\n",
       "        });\n",
       "        }\n",
       "        </script>\n",
       "        "
      ]
     },
     "metadata": {},
     "output_type": "display_data"
    }
   ],
   "source": [
    "import pandas as pd\n",
    "import numpy as np\n",
    "import seaborn as sns\n",
    "import matplotlib.pyplot as plt\n",
    "import datetime\n",
    "\n",
    "from scipy.stats import f_oneway\n",
    "\n",
    "import plotly.express as px\n",
    "import plotly.graph_objects as go\n",
    "from plotly.offline import init_notebook_mode, iplot\n",
    "init_notebook_mode(connected=True) \n",
    "\n",
    "%matplotlib inline"
   ]
  },
  {
   "attachments": {},
   "cell_type": "markdown",
   "metadata": {},
   "source": [
    "### lendo as bases tratadas"
   ]
  },
  {
   "cell_type": "code",
   "execution_count": 2,
   "metadata": {},
   "outputs": [
    {
     "name": "stderr",
     "output_type": "stream",
     "text": [
      "c:\\Users\\Leticia\\AppData\\Local\\Programs\\Python\\Python310\\lib\\site-packages\\IPython\\core\\interactiveshell.py:3524: DtypeWarning:\n",
      "\n",
      "Columns (9) have mixed types.Specify dtype option on import or set low_memory=False.\n",
      "\n"
     ]
    }
   ],
   "source": [
    "demographic_data = pd.read_csv('dados_tratados/demographic_data_trat.csv')\n",
    "df_geocode = pd.read_csv('dados_tratados/df_geocode_trat.csv')\n",
    "economic_data = pd.read_csv('dados_tratados/economic_data_trat.csv')\n",
    "test_data = pd.read_csv('dados_tratados/test_data_trat.csv')\n",
    "transactional_data = pd.read_csv('dados_tratados/transactional_data_trat.csv')\n",
    "\n",
    "zipcodes_states = pd.read_excel('dados_brutos/zipcodes-states.xlsx', index_col = 0) # fontes: https://codigo-postal.co/pt-br/eua/, https://pt.wikipedia.org/wiki/Lista_de_estados_dos_Estados_Unidos_por_popula%C3%A7%C3%A3o"
   ]
  },
  {
   "attachments": {},
   "cell_type": "markdown",
   "metadata": {},
   "source": [
    "### gráfico do número de exames por mês - versão em linhas"
   ]
  },
  {
   "cell_type": "code",
   "execution_count": 3,
   "metadata": {},
   "outputs": [
    {
     "data": {
      "text/html": [
       "<div>\n",
       "<style scoped>\n",
       "    .dataframe tbody tr th:only-of-type {\n",
       "        vertical-align: middle;\n",
       "    }\n",
       "\n",
       "    .dataframe tbody tr th {\n",
       "        vertical-align: top;\n",
       "    }\n",
       "\n",
       "    .dataframe thead th {\n",
       "        text-align: right;\n",
       "    }\n",
       "</style>\n",
       "<table border=\"1\" class=\"dataframe\">\n",
       "  <thead>\n",
       "    <tr style=\"text-align: right;\">\n",
       "      <th></th>\n",
       "      <th>mes_ano</th>\n",
       "      <th>Número de exames</th>\n",
       "      <th>mes_ordem</th>\n",
       "    </tr>\n",
       "  </thead>\n",
       "  <tbody>\n",
       "    <tr>\n",
       "      <th>0</th>\n",
       "      <td>Jan/19</td>\n",
       "      <td>93203</td>\n",
       "      <td>1</td>\n",
       "    </tr>\n",
       "    <tr>\n",
       "      <th>1</th>\n",
       "      <td>Feb/19</td>\n",
       "      <td>84560</td>\n",
       "      <td>2</td>\n",
       "    </tr>\n",
       "    <tr>\n",
       "      <th>2</th>\n",
       "      <td>Mar/19</td>\n",
       "      <td>102251</td>\n",
       "      <td>3</td>\n",
       "    </tr>\n",
       "    <tr>\n",
       "      <th>3</th>\n",
       "      <td>Apr/19</td>\n",
       "      <td>93955</td>\n",
       "      <td>4</td>\n",
       "    </tr>\n",
       "    <tr>\n",
       "      <th>4</th>\n",
       "      <td>May/19</td>\n",
       "      <td>91182</td>\n",
       "      <td>5</td>\n",
       "    </tr>\n",
       "  </tbody>\n",
       "</table>\n",
       "</div>"
      ],
      "text/plain": [
       "  mes_ano  Número de exames  mes_ordem\n",
       "0  Jan/19             93203          1\n",
       "1  Feb/19             84560          2\n",
       "2  Mar/19            102251          3\n",
       "3  Apr/19             93955          4\n",
       "4  May/19             91182          5"
      ]
     },
     "execution_count": 3,
     "metadata": {},
     "output_type": "execute_result"
    }
   ],
   "source": [
    "exames_mes = transactional_data\n",
    "\n",
    "exames_mes['Date of service'] = pd.to_datetime(exames_mes['Date of service'])\n",
    "\n",
    "exames_mes['mes'] = exames_mes['Date of service'].dt.strftime('%b')\n",
    "exames_mes['ano'] = exames_mes['Date of service'].dt.strftime('%y')\n",
    "\n",
    "ordem = exames_mes.sort_values('Date of service')[['mes', 'ano']].drop_duplicates()\n",
    "ordem['mes_ano'] = ordem['mes'] + '/' + ordem['ano']\n",
    "\n",
    "ordem = ordem.reset_index().reset_index()\n",
    "ordem = ordem.drop(['index'], axis = 1)\n",
    "ordem = ordem.rename({'level_0':'mes_ordem'}, axis = 1)\n",
    "ordem['mes_ordem'] = ordem['mes_ordem'] + 1\n",
    "\n",
    "exames_mes2 = exames_mes\n",
    "exames_mes2['mes_ano'] = exames_mes2['mes'] + '/' + exames_mes2['ano']\n",
    "exames_mes2 = exames_mes2.groupby('mes_ano').count()['CodItem'].reset_index().merge(ordem[['mes_ano', 'mes_ordem']], how = 'left').sort_values('mes_ordem').reset_index()\n",
    "exames_mes2 = exames_mes2.drop('index', axis = 1)\n",
    "exames_mes2 = exames_mes2.rename({'CodItem':'Número de exames'}, axis = 1)\n",
    "exames_mes2.head()"
   ]
  },
  {
   "cell_type": "code",
   "execution_count": 4,
   "metadata": {},
   "outputs": [
    {
     "data": {
      "text/plain": [
       "92254.2"
      ]
     },
     "execution_count": 4,
     "metadata": {},
     "output_type": "execute_result"
    }
   ],
   "source": [
    "# número médio de exames, excluindo fev 2021\n",
    "exames_mes2[exames_mes2['mes_ano'] != 'Feb/21']['Número de exames'].mean()"
   ]
  },
  {
   "cell_type": "code",
   "execution_count": 5,
   "metadata": {},
   "outputs": [
    {
     "data": {
      "text/plain": [
       "<matplotlib.lines.Line2D at 0x2c082f76260>"
      ]
     },
     "execution_count": 5,
     "metadata": {},
     "output_type": "execute_result"
    },
    {
     "data": {
      "image/png": "[encoded data removed]",
      "text/plain": [
       "<Figure size 1152x576 with 1 Axes>"
      ]
     },
     "metadata": {
      "needs_background": "light"
     },
     "output_type": "display_data"
    }
   ],
   "source": [
    "# gráfico\n",
    "\n",
    "plt.figure(figsize = (16, 8))\n",
    "sns.set_style('white')\n",
    "fig = sns.lineplot(data = exames_mes2, x = 'mes_ano', y = 'Número de exames', color = '#a6a6a6')\n",
    "\n",
    "# remover o título do eixo x\n",
    "fig.set_xlabel('')\n",
    "\n",
    "fig.set_ylim(0,)\n",
    "# remover as bordas do gráfico\n",
    "sns.despine(left = True)\n",
    "\n",
    "\n",
    "# adicionar linha vertical em y = média de exames por mês\n",
    "plt.axhline(y = 92254.2, linestyle='--', color='#ac3a4e')"
   ]
  },
  {
   "attachments": {},
   "cell_type": "markdown",
   "metadata": {},
   "source": [
    "### gráfico de mapa com bolhas com o valor médio dos exames por laboratório"
   ]
  },
  {
   "cell_type": "code",
   "execution_count": 7,
   "metadata": {},
   "outputs": [
    {
     "data": {
      "text/html": [
       "<div>\n",
       "<style scoped>\n",
       "    .dataframe tbody tr th:only-of-type {\n",
       "        vertical-align: middle;\n",
       "    }\n",
       "\n",
       "    .dataframe tbody tr th {\n",
       "        vertical-align: top;\n",
       "    }\n",
       "\n",
       "    .dataframe thead th {\n",
       "        text-align: right;\n",
       "    }\n",
       "</style>\n",
       "<table border=\"1\" class=\"dataframe\">\n",
       "  <thead>\n",
       "    <tr style=\"text-align: right;\">\n",
       "      <th></th>\n",
       "      <th>Patient Id</th>\n",
       "      <th>Gender</th>\n",
       "      <th>Date of birth</th>\n",
       "      <th>Date of service</th>\n",
       "      <th>Service Id</th>\n",
       "      <th>Lab Id</th>\n",
       "      <th>CodItem</th>\n",
       "      <th>Valor Pago</th>\n",
       "      <th>Idade</th>\n",
       "      <th>final_id</th>\n",
       "      <th>mes</th>\n",
       "      <th>ano</th>\n",
       "      <th>mes_ano</th>\n",
       "    </tr>\n",
       "  </thead>\n",
       "  <tbody>\n",
       "    <tr>\n",
       "      <th>0</th>\n",
       "      <td>10210830256-BIO003</td>\n",
       "      <td>F</td>\n",
       "      <td>1976-08-01 00:00:00</td>\n",
       "      <td>2019-01-07</td>\n",
       "      <td>571904533475-38</td>\n",
       "      <td>L133</td>\n",
       "      <td>70003237</td>\n",
       "      <td>9.0</td>\n",
       "      <td>42.0</td>\n",
       "      <td>BIO003</td>\n",
       "      <td>Jan</td>\n",
       "      <td>19</td>\n",
       "      <td>Jan/19</td>\n",
       "    </tr>\n",
       "    <tr>\n",
       "      <th>1</th>\n",
       "      <td>10210830256-BIO003</td>\n",
       "      <td>F</td>\n",
       "      <td>1976-08-01 00:00:00</td>\n",
       "      <td>2019-01-07</td>\n",
       "      <td>571904533475-38</td>\n",
       "      <td>L133</td>\n",
       "      <td>70000638</td>\n",
       "      <td>13.0</td>\n",
       "      <td>42.0</td>\n",
       "      <td>BIO003</td>\n",
       "      <td>Jan</td>\n",
       "      <td>19</td>\n",
       "      <td>Jan/19</td>\n",
       "    </tr>\n",
       "    <tr>\n",
       "      <th>2</th>\n",
       "      <td>10210830256-BIO003</td>\n",
       "      <td>F</td>\n",
       "      <td>1976-08-01 00:00:00</td>\n",
       "      <td>2019-01-07</td>\n",
       "      <td>571904533475-38</td>\n",
       "      <td>L133</td>\n",
       "      <td>70001597</td>\n",
       "      <td>49.0</td>\n",
       "      <td>42.0</td>\n",
       "      <td>BIO003</td>\n",
       "      <td>Jan</td>\n",
       "      <td>19</td>\n",
       "      <td>Jan/19</td>\n",
       "    </tr>\n",
       "    <tr>\n",
       "      <th>3</th>\n",
       "      <td>10210830256-BIO003</td>\n",
       "      <td>F</td>\n",
       "      <td>1976-08-01 00:00:00</td>\n",
       "      <td>2019-01-07</td>\n",
       "      <td>571904533475-38</td>\n",
       "      <td>L133</td>\n",
       "      <td>70000103</td>\n",
       "      <td>11.0</td>\n",
       "      <td>42.0</td>\n",
       "      <td>BIO003</td>\n",
       "      <td>Jan</td>\n",
       "      <td>19</td>\n",
       "      <td>Jan/19</td>\n",
       "    </tr>\n",
       "    <tr>\n",
       "      <th>4</th>\n",
       "      <td>10210830256-BIO003</td>\n",
       "      <td>F</td>\n",
       "      <td>1976-08-01 00:00:00</td>\n",
       "      <td>2019-01-07</td>\n",
       "      <td>571904533475-38</td>\n",
       "      <td>L133</td>\n",
       "      <td>70000224</td>\n",
       "      <td>10.0</td>\n",
       "      <td>42.0</td>\n",
       "      <td>BIO003</td>\n",
       "      <td>Jan</td>\n",
       "      <td>19</td>\n",
       "      <td>Jan/19</td>\n",
       "    </tr>\n",
       "    <tr>\n",
       "      <th>...</th>\n",
       "      <td>...</td>\n",
       "      <td>...</td>\n",
       "      <td>...</td>\n",
       "      <td>...</td>\n",
       "      <td>...</td>\n",
       "      <td>...</td>\n",
       "      <td>...</td>\n",
       "      <td>...</td>\n",
       "      <td>...</td>\n",
       "      <td>...</td>\n",
       "      <td>...</td>\n",
       "      <td>...</td>\n",
       "      <td>...</td>\n",
       "    </tr>\n",
       "    <tr>\n",
       "      <th>2340717</th>\n",
       "      <td>7664157546-1</td>\n",
       "      <td>M</td>\n",
       "      <td>1971-03-06</td>\n",
       "      <td>2021-02-12</td>\n",
       "      <td>7664157546-1-1</td>\n",
       "      <td>L697</td>\n",
       "      <td>70004038</td>\n",
       "      <td>10.0</td>\n",
       "      <td>49.0</td>\n",
       "      <td>1</td>\n",
       "      <td>Feb</td>\n",
       "      <td>21</td>\n",
       "      <td>Feb/21</td>\n",
       "    </tr>\n",
       "    <tr>\n",
       "      <th>2340718</th>\n",
       "      <td>7664157546-1</td>\n",
       "      <td>M</td>\n",
       "      <td>1971-03-06</td>\n",
       "      <td>2021-02-12</td>\n",
       "      <td>7664157546-1-1</td>\n",
       "      <td>L697</td>\n",
       "      <td>70004134</td>\n",
       "      <td>10.0</td>\n",
       "      <td>49.0</td>\n",
       "      <td>1</td>\n",
       "      <td>Feb</td>\n",
       "      <td>21</td>\n",
       "      <td>Feb/21</td>\n",
       "    </tr>\n",
       "    <tr>\n",
       "      <th>2340719</th>\n",
       "      <td>7664157546-1</td>\n",
       "      <td>M</td>\n",
       "      <td>1971-03-06</td>\n",
       "      <td>2021-02-12</td>\n",
       "      <td>7664157546-1-1</td>\n",
       "      <td>L697</td>\n",
       "      <td>70003056</td>\n",
       "      <td>9.0</td>\n",
       "      <td>49.0</td>\n",
       "      <td>1</td>\n",
       "      <td>Feb</td>\n",
       "      <td>21</td>\n",
       "      <td>Feb/21</td>\n",
       "    </tr>\n",
       "    <tr>\n",
       "      <th>2340720</th>\n",
       "      <td>7664157546-1</td>\n",
       "      <td>M</td>\n",
       "      <td>1971-03-06</td>\n",
       "      <td>2021-02-12</td>\n",
       "      <td>7664157546-1-1</td>\n",
       "      <td>L697</td>\n",
       "      <td>70004185</td>\n",
       "      <td>13.0</td>\n",
       "      <td>49.0</td>\n",
       "      <td>1</td>\n",
       "      <td>Feb</td>\n",
       "      <td>21</td>\n",
       "      <td>Feb/21</td>\n",
       "    </tr>\n",
       "    <tr>\n",
       "      <th>2340721</th>\n",
       "      <td>7664157546-1</td>\n",
       "      <td>M</td>\n",
       "      <td>1971-03-06</td>\n",
       "      <td>2021-02-12</td>\n",
       "      <td>7664157546-1-1</td>\n",
       "      <td>L697</td>\n",
       "      <td>70000392</td>\n",
       "      <td>8.0</td>\n",
       "      <td>49.0</td>\n",
       "      <td>1</td>\n",
       "      <td>Feb</td>\n",
       "      <td>21</td>\n",
       "      <td>Feb/21</td>\n",
       "    </tr>\n",
       "  </tbody>\n",
       "</table>\n",
       "<p>2340722 rows × 13 columns</p>\n",
       "</div>"
      ],
      "text/plain": [
       "                 Patient Id Gender        Date of birth Date of service  \\\n",
       "0        10210830256-BIO003      F  1976-08-01 00:00:00      2019-01-07   \n",
       "1        10210830256-BIO003      F  1976-08-01 00:00:00      2019-01-07   \n",
       "2        10210830256-BIO003      F  1976-08-01 00:00:00      2019-01-07   \n",
       "3        10210830256-BIO003      F  1976-08-01 00:00:00      2019-01-07   \n",
       "4        10210830256-BIO003      F  1976-08-01 00:00:00      2019-01-07   \n",
       "...                     ...    ...                  ...             ...   \n",
       "2340717        7664157546-1      M           1971-03-06      2021-02-12   \n",
       "2340718        7664157546-1      M           1971-03-06      2021-02-12   \n",
       "2340719        7664157546-1      M           1971-03-06      2021-02-12   \n",
       "2340720        7664157546-1      M           1971-03-06      2021-02-12   \n",
       "2340721        7664157546-1      M           1971-03-06      2021-02-12   \n",
       "\n",
       "              Service Id Lab Id   CodItem  Valor Pago  Idade final_id  mes  \\\n",
       "0        571904533475-38   L133  70003237         9.0   42.0   BIO003  Jan   \n",
       "1        571904533475-38   L133  70000638        13.0   42.0   BIO003  Jan   \n",
       "2        571904533475-38   L133  70001597        49.0   42.0   BIO003  Jan   \n",
       "3        571904533475-38   L133  70000103        11.0   42.0   BIO003  Jan   \n",
       "4        571904533475-38   L133  70000224        10.0   42.0   BIO003  Jan   \n",
       "...                  ...    ...       ...         ...    ...      ...  ...   \n",
       "2340717   7664157546-1-1   L697  70004038        10.0   49.0        1  Feb   \n",
       "2340718   7664157546-1-1   L697  70004134        10.0   49.0        1  Feb   \n",
       "2340719   7664157546-1-1   L697  70003056         9.0   49.0        1  Feb   \n",
       "2340720   7664157546-1-1   L697  70004185        13.0   49.0        1  Feb   \n",
       "2340721   7664157546-1-1   L697  70000392         8.0   49.0        1  Feb   \n",
       "\n",
       "        ano mes_ano  \n",
       "0        19  Jan/19  \n",
       "1        19  Jan/19  \n",
       "2        19  Jan/19  \n",
       "3        19  Jan/19  \n",
       "4        19  Jan/19  \n",
       "...      ..     ...  \n",
       "2340717  21  Feb/21  \n",
       "2340718  21  Feb/21  \n",
       "2340719  21  Feb/21  \n",
       "2340720  21  Feb/21  \n",
       "2340721  21  Feb/21  \n",
       "\n",
       "[2340722 rows x 13 columns]"
      ]
     },
     "execution_count": 7,
     "metadata": {},
     "output_type": "execute_result"
    }
   ],
   "source": [
    "transactional_data"
   ]
  },
  {
   "cell_type": "code",
   "execution_count": 10,
   "metadata": {},
   "outputs": [
    {
     "data": {
      "text/html": [
       "<div>\n",
       "<style scoped>\n",
       "    .dataframe tbody tr th:only-of-type {\n",
       "        vertical-align: middle;\n",
       "    }\n",
       "\n",
       "    .dataframe tbody tr th {\n",
       "        vertical-align: top;\n",
       "    }\n",
       "\n",
       "    .dataframe thead th {\n",
       "        text-align: right;\n",
       "    }\n",
       "</style>\n",
       "<table border=\"1\" class=\"dataframe\">\n",
       "  <thead>\n",
       "    <tr style=\"text-align: right;\">\n",
       "      <th></th>\n",
       "      <th>Lab Id</th>\n",
       "      <th>Address</th>\n",
       "      <th>Location</th>\n",
       "      <th>Zipcode</th>\n",
       "      <th>latitude</th>\n",
       "      <th>longitude</th>\n",
       "      <th>Sigla</th>\n",
       "      <th>Média Valor Pago</th>\n",
       "    </tr>\n",
       "  </thead>\n",
       "  <tbody>\n",
       "    <tr>\n",
       "      <th>0</th>\n",
       "      <td>L152</td>\n",
       "      <td>3800 PLEASANT HILL RD STE 1, DULUTH, GA 30096</td>\n",
       "      <td>34.000319,-84.1629724</td>\n",
       "      <td>30096.0</td>\n",
       "      <td>34.000319</td>\n",
       "      <td>-84.162972</td>\n",
       "      <td>GA</td>\n",
       "      <td>65.259434</td>\n",
       "    </tr>\n",
       "    <tr>\n",
       "      <th>1</th>\n",
       "      <td>L520</td>\n",
       "      <td>1614 N JAMES ST, ROME, NY 13440</td>\n",
       "      <td>43.2311327,-75.4445363</td>\n",
       "      <td>13440.0</td>\n",
       "      <td>43.231133</td>\n",
       "      <td>-75.444536</td>\n",
       "      <td>NY</td>\n",
       "      <td>28.328888</td>\n",
       "    </tr>\n",
       "    <tr>\n",
       "      <th>2</th>\n",
       "      <td>L141</td>\n",
       "      <td>12911 120TH AVE NE STE D60, KIRKLAND, WA 98034</td>\n",
       "      <td>47.7162786,-122.1838152</td>\n",
       "      <td>98034.0</td>\n",
       "      <td>47.716279</td>\n",
       "      <td>-122.183815</td>\n",
       "      <td>WA</td>\n",
       "      <td>54.728232</td>\n",
       "    </tr>\n",
       "    <tr>\n",
       "      <th>3</th>\n",
       "      <td>L524</td>\n",
       "      <td>5667 PEACHTREE DUNWOODY RD 250, ATLANTA, GA 30342</td>\n",
       "      <td>33.9093875,-84.3529096</td>\n",
       "      <td>30342.0</td>\n",
       "      <td>33.909388</td>\n",
       "      <td>-84.352910</td>\n",
       "      <td>GA</td>\n",
       "      <td>27.701021</td>\n",
       "    </tr>\n",
       "    <tr>\n",
       "      <th>4</th>\n",
       "      <td>L545</td>\n",
       "      <td>1204 IL HWY 164, OQUAWKA, IL 61469</td>\n",
       "      <td>40.9309925,-90.9437598</td>\n",
       "      <td>61469.0</td>\n",
       "      <td>40.930993</td>\n",
       "      <td>-90.943760</td>\n",
       "      <td>IL</td>\n",
       "      <td>31.383244</td>\n",
       "    </tr>\n",
       "    <tr>\n",
       "      <th>...</th>\n",
       "      <td>...</td>\n",
       "      <td>...</td>\n",
       "      <td>...</td>\n",
       "      <td>...</td>\n",
       "      <td>...</td>\n",
       "      <td>...</td>\n",
       "      <td>...</td>\n",
       "      <td>...</td>\n",
       "    </tr>\n",
       "    <tr>\n",
       "      <th>113</th>\n",
       "      <td>L886</td>\n",
       "      <td>1819 MARLTON PIKE W., CHERRY HILL, NJ 08002</td>\n",
       "      <td>39.9184081,-75.035649</td>\n",
       "      <td>8002.0</td>\n",
       "      <td>39.918408</td>\n",
       "      <td>-75.035649</td>\n",
       "      <td>NJ</td>\n",
       "      <td>45.046184</td>\n",
       "    </tr>\n",
       "    <tr>\n",
       "      <th>114</th>\n",
       "      <td>L535</td>\n",
       "      <td>603 SENECA ST 4, ONEIDA, NY 13421</td>\n",
       "      <td>43.0773695,-75.6536905</td>\n",
       "      <td>13421.0</td>\n",
       "      <td>43.077370</td>\n",
       "      <td>-75.653690</td>\n",
       "      <td>NY</td>\n",
       "      <td>34.661707</td>\n",
       "    </tr>\n",
       "    <tr>\n",
       "      <th>115</th>\n",
       "      <td>L723</td>\n",
       "      <td>8052 STATE ROUTE 12, BARNEVELD, NY 13304</td>\n",
       "      <td>43.2530101,-75.1860015</td>\n",
       "      <td>13304.0</td>\n",
       "      <td>43.253010</td>\n",
       "      <td>-75.186002</td>\n",
       "      <td>NY</td>\n",
       "      <td>26.296361</td>\n",
       "    </tr>\n",
       "    <tr>\n",
       "      <th>116</th>\n",
       "      <td>L163</td>\n",
       "      <td>3906 LILLIE AVE STE 3, DAVENPORT, IA 52806</td>\n",
       "      <td>41.5611182,-90.5915183</td>\n",
       "      <td>52806.0</td>\n",
       "      <td>41.561118</td>\n",
       "      <td>-90.591518</td>\n",
       "      <td>IA</td>\n",
       "      <td>41.150734</td>\n",
       "    </tr>\n",
       "    <tr>\n",
       "      <th>117</th>\n",
       "      <td>L967</td>\n",
       "      <td>2700 GRANT ST. SUITE 107, CONCORD, CA 94520</td>\n",
       "      <td>37.984716,-122.0383645</td>\n",
       "      <td>94520.0</td>\n",
       "      <td>37.984716</td>\n",
       "      <td>-122.038365</td>\n",
       "      <td>CA</td>\n",
       "      <td>123.446000</td>\n",
       "    </tr>\n",
       "  </tbody>\n",
       "</table>\n",
       "<p>118 rows × 8 columns</p>\n",
       "</div>"
      ],
      "text/plain": [
       "    Lab Id                                            Address  \\\n",
       "0     L152      3800 PLEASANT HILL RD STE 1, DULUTH, GA 30096   \n",
       "1     L520                    1614 N JAMES ST, ROME, NY 13440   \n",
       "2     L141     12911 120TH AVE NE STE D60, KIRKLAND, WA 98034   \n",
       "3     L524  5667 PEACHTREE DUNWOODY RD 250, ATLANTA, GA 30342   \n",
       "4     L545                 1204 IL HWY 164, OQUAWKA, IL 61469   \n",
       "..     ...                                                ...   \n",
       "113   L886        1819 MARLTON PIKE W., CHERRY HILL, NJ 08002   \n",
       "114   L535                  603 SENECA ST 4, ONEIDA, NY 13421   \n",
       "115   L723           8052 STATE ROUTE 12, BARNEVELD, NY 13304   \n",
       "116   L163         3906 LILLIE AVE STE 3, DAVENPORT, IA 52806   \n",
       "117   L967        2700 GRANT ST. SUITE 107, CONCORD, CA 94520   \n",
       "\n",
       "                    Location  Zipcode   latitude   longitude Sigla  \\\n",
       "0      34.000319,-84.1629724  30096.0  34.000319  -84.162972    GA   \n",
       "1     43.2311327,-75.4445363  13440.0  43.231133  -75.444536    NY   \n",
       "2    47.7162786,-122.1838152  98034.0  47.716279 -122.183815    WA   \n",
       "3     33.9093875,-84.3529096  30342.0  33.909388  -84.352910    GA   \n",
       "4     40.9309925,-90.9437598  61469.0  40.930993  -90.943760    IL   \n",
       "..                       ...      ...        ...         ...   ...   \n",
       "113    39.9184081,-75.035649   8002.0  39.918408  -75.035649    NJ   \n",
       "114   43.0773695,-75.6536905  13421.0  43.077370  -75.653690    NY   \n",
       "115   43.2530101,-75.1860015  13304.0  43.253010  -75.186002    NY   \n",
       "116   41.5611182,-90.5915183  52806.0  41.561118  -90.591518    IA   \n",
       "117   37.984716,-122.0383645  94520.0  37.984716 -122.038365    CA   \n",
       "\n",
       "     Média Valor Pago  \n",
       "0           65.259434  \n",
       "1           28.328888  \n",
       "2           54.728232  \n",
       "3           27.701021  \n",
       "4           31.383244  \n",
       "..                ...  \n",
       "113         45.046184  \n",
       "114         34.661707  \n",
       "115         26.296361  \n",
       "116         41.150734  \n",
       "117        123.446000  \n",
       "\n",
       "[118 rows x 8 columns]"
      ]
     },
     "execution_count": 10,
     "metadata": {},
     "output_type": "execute_result"
    }
   ],
   "source": [
    "coordenadas = df_geocode\n",
    "\n",
    "# separando a latitude e a longitude\n",
    "coordenadas['latitude'] = coordenadas['Location'].str.split(',').str[0].astype('float')\n",
    "coordenadas['longitude'] = coordenadas['Location'].str.split(',').str[1].astype('float')\n",
    "\n",
    "# separando o estado a partir da coluna de endereço\n",
    "coordenadas['Sigla'] = coordenadas['Address'].str.split(', ').str[2].str.split(' ').str[0]\n",
    "\n",
    "# calculando o preço médio dos exames\n",
    "media_preco_exames = transactional_data.groupby('Lab Id').mean()[['Valor Pago']].reset_index()\n",
    "media_preco_exames\n",
    "\n",
    "coordenadas = coordenadas.merge(media_preco_exames, how = 'left')\n",
    "coordenadas = coordenadas.rename({'Valor Pago':'Média Valor Pago'}, axis = 1)\n",
    "coordenadas['Média Valor Pago'] = coordenadas['Média Valor Pago'].fillna(0)\n",
    "coordenadas"
   ]
  },
  {
   "cell_type": "code",
   "execution_count": 11,
   "metadata": {},
   "outputs": [
    {
     "data": {
      "application/vnd.plotly.v1+json": {
       "config": {
        "linkText": "Export to plot.ly",
        "plotlyServerURL": "https://plot.ly",
        "showLink": false
       },
       "data": [
        {
         "lat": [
          34.000319,
          43.2311327,
          47.7162786,
          33.9093875,
          40.9309925,
          39.9924717,
          33.5113314,
          37.6759064,
          37.6993,
          42.7065088,
          37.9115042,
          39.934946,
          47.6208696,
          33.9484477,
          33.9710116,
          41.4877432,
          33.9735891,
          39.9076973,
          42.1077525,
          40.0374664,
          47.632801,
          41.8554575,
          33.7681453,
          47.7158288,
          41.497223,
          33.8254779,
          42.2653422,
          39.912442,
          33.451232,
          33.732926,
          41.5694897,
          37.6822922,
          40.0021676,
          47.750593,
          37.9838036,
          47.6076339,
          40.0303647,
          39.9560828,
          47.7084091,
          42.0281344,
          33.8786308,
          40.0066857,
          47.7510662,
          37.956103,
          47.8044871,
          41.5586991,
          37.9242863,
          37.9765001,
          37.7754429,
          40.0294758,
          47.6091997,
          47.6219477,
          41.5387268,
          33.4498013,
          42.7473541,
          43.1014617,
          37.7990818,
          39.9495713,
          42.8166911,
          42.1710988,
          39.957358,
          37.9694792,
          43.1201376,
          47.4568023,
          43.0978638,
          33.451232,
          33.7943032,
          37.7754429,
          42.276897,
          42.300344,
          40.7447179,
          47.760574,
          40.0173148,
          39.9213919,
          41.466876,
          42.8075256,
          43.2272241,
          42.8213859,
          42.2493985,
          37.9553785,
          43.0731473,
          38.4634804,
          34.0708467,
          42.775748,
          39.9507025,
          47.8026806,
          42.8073225,
          37.6762783,
          33.8473632,
          42.2607878,
          47.6821988,
          47.4585122,
          42.1146632,
          47.6674625,
          43.0150099,
          38.0070008,
          39.9130589,
          37.7762785,
          42.247582,
          47.6100869,
          43.1636949,
          33.5774091,
          39.9290428,
          41.4352418,
          34.1054485,
          33.677914,
          39.9457889,
          42.3020867,
          43.0879409,
          39.9218172,
          33.9073497,
          47.7148568,
          47.6516517,
          39.9184081,
          43.0773695,
          43.2530101,
          41.5611182,
          37.984716
         ],
         "lon": [
          -84.1629724,
          -75.4445363,
          -122.1838152,
          -84.3529096,
          -90.9437598,
          -75.1035442,
          -84.2316312,
          -121.8772172,
          -121.9014055,
          -71.171084,
          -122.0444705,
          -75.0669325,
          -122.1889933,
          -84.3369582,
          -84.5511075,
          -90.4216658,
          -84.4822033,
          -75.289741,
          -70.7667516,
          -75.1206684,
          -122.1330652,
          -89.489907,
          -84.388286,
          -122.180939,
          -90.5296326,
          -84.2571003,
          -71.7927896,
          -75.0583428,
          -94.0683805,
          -84.6724126,
          -90.5271587,
          -121.8756054,
          -75.2825227,
          -122.154299,
          -122.0360361,
          -122.3123067,
          -75.1834481,
          -75.1987675,
          -122.335505,
          -71.31267,
          -84.0214922,
          -75.2190999,
          -122.6477891,
          -121.9694513,
          -122.2090808,
          -90.518775,
          -121.7371186,
          -121.8012144,
          -121.9669886,
          -75.0869837,
          -122.3262981,
          -122.1870553,
          -90.5511836,
          -84.508719,
          -71.1313972,
          -76.060889,
          -121.9166879,
          -75.1567543,
          -71.5409322,
          -70.9577834,
          -75.1642512,
          -121.2901678,
          -76.1627233,
          -122.3457174,
          -75.3055966,
          -94.0683805,
          -84.2778831,
          -121.9669886,
          -71.4160299,
          -71.8038673,
          -90.9114665,
          -122.2527338,
          -75.1509415,
          -75.2561934,
          -90.5478657,
          -71.2622671,
          -75.4323824,
          -70.9065276,
          -84.4259382,
          -122.0411404,
          -75.2957098,
          -121.416546,
          -84.3000492,
          -71.2495637,
          -75.2286725,
          -122.3389483,
          -71.2650041,
          -121.7853993,
          -84.5065753,
          -83.7391191,
          -122.1259728,
          -122.3370864,
          -71.463432,
          -122.3817193,
          -75.0398441,
          -121.868574,
          -75.1518927,
          -121.9679406,
          -70.9842195,
          -122.3243021,
          -76.2366636,
          -84.3944193,
          -75.170544,
          -91.0759938,
          -84.5409941,
          -84.00695,
          -75.1533585,
          -71.407008,
          -75.2624454,
          -75.1730023,
          -84.3581189,
          -122.1866063,
          -122.687053,
          -75.035649,
          -75.6536905,
          -75.1860015,
          -90.5915183,
          -122.0383645
         ],
         "marker": {
          "autocolorscale": false,
          "color": [
           65.25943373645755,
           28.328888237879006,
           54.72823171574727,
           27.70102070220672,
           31.383244206773618,
           40.021877839691385,
           43.49966533392566,
           29.32828810020877,
           29.678250974191,
           37.22619541516884,
           44.802027132387344,
           27.593448873483535,
           73.44097821601547,
           32.18636601633111,
           35.82354233870968,
           31.27212389380531,
           31.341987035005484,
           42.83971575207264,
           28.712916494133882,
           61.98945679433816,
           73.74423317878548,
           24.70874464772285,
           25.629538529476704,
           30.00965667574932,
           40.03104149395698,
           27.37844274105239,
           25.592855111392005,
           30.198944751381212,
           24.841919062442777,
           54.724936063473024,
           25.017872340425534,
           43.09575309818875,
           31.045158095238094,
           28.985462816455698,
           30.208034663528405,
           29.117386575067982,
           42.44445745813571,
           43.18809468772741,
           64.62319149489225,
           26.149652669777087,
           34.769897595213436,
           31.10798947368421,
           26.733272019808982,
           44.34153447717708,
           72.98655698384202,
           23.444325880008858,
           89.65274635687354,
           42.23618140510311,
           0,
           38.4200695404636,
           32.049243944868195,
           26.684594682582745,
           27.81604074114205,
           30.130500256353912,
           26.12576806441493,
           29.287065736320233,
           37.67387898999524,
           25.715266142308394,
           33.23513822336896,
           25.688526912181302,
           31.722362170721176,
           33.22404511663676,
           25.386194799834914,
           41.33049403747871,
           30.86534321932552,
           64.51914893617021,
           39.9946914131049,
           0,
           25.14059405940594,
           37.29179017485429,
           28.470506108202443,
           27.69977169848455,
           28.89925067416375,
           36.30864664353236,
           32.23603945371776,
           42.951937984496126,
           37.35119685602001,
           26.918429073856974,
           29.712571215325287,
           30.823529411764707,
           38.29806598407281,
           93.88847574736616,
           30.232919254658384,
           30.24369271837461,
           93.07236267507923,
           48.13409381770545,
           27.956824002927185,
           70.70631846701713,
           58.073259265137686,
           41.837607036821225,
           34.96620333693434,
           26.709494725152695,
           25.080297176820206,
           30.554480980012894,
           29.20067372473532,
           79.67991516663112,
           28.191891063122057,
           29.318797354179193,
           55.27422948108332,
           26.839423571796193,
           26.688154526413776,
           32.71349654296599,
           44.648784171835516,
           25.384191512513603,
           37.07159414354459,
           32.52500730554362,
           95.74997354101143,
           51.70872895014728,
           52.86233591947997,
           39.41305456399796,
           34.082550667325755,
           29.830960128129476,
           25.268740382501647,
           45.04618437530103,
           34.66170688640377,
           26.296361245067953,
           41.150733944954126,
           123.446
          ],
          "colorscale": [
           [
            0,
            "#ac3a4e"
           ],
           [
            1,
            "#5288db"
           ]
          ],
          "size": [
           21.753144578819185,
           9.442962745959669,
           18.24274390524909,
           9.23367356740224,
           10.461081402257873,
           13.340625946563796,
           14.499888444641888,
           9.776096033402924,
           9.892750324730333,
           12.408731805056279,
           14.934009044129114,
           9.197816291161178,
           24.480326072005155,
           10.728788672110369,
           11.941180779569892,
           10.424041297935103,
           10.447329011668495,
           14.27990525069088,
           9.570972164711295,
           20.663152264779388,
           24.58141105959516,
           8.236248215907617,
           8.543179509825569,
           10.00321889191644,
           13.343680497985659,
           9.126147580350796,
           8.530951703797335,
           10.066314917127071,
           8.280639687480926,
           18.24164535449101,
           8.339290780141845,
           14.365251032729583,
           10.348386031746031,
           9.661820938818567,
           10.069344887842801,
           9.70579552502266,
           14.148152486045236,
           14.396031562575802,
           21.54106383163075,
           8.716550889925696,
           11.589965865071145,
           10.369329824561403,
           8.91109067326966,
           14.780511492392359,
           24.32885232794734,
           7.814775293336286,
           29.88424878562451,
           14.07872713503437,
           0,
           12.8066898468212,
           10.683081314956064,
           8.894864894194248,
           9.272013580380683,
           10.043500085451305,
           8.708589354804976,
           9.762355245440078,
           12.557959663331745,
           8.571755380769465,
           11.078379407789654,
           8.562842304060434,
           10.574120723573726,
           11.074681705545586,
           8.462064933278304,
           13.776831345826237,
           10.288447739775174,
           21.506382978723405,
           13.331563804368301,
           0,
           8.38019801980198,
           12.43059672495143,
           9.490168702734147,
           9.233257232828183,
           9.633083558054583,
           12.102882214510787,
           10.745346484572586,
           14.31731266149871,
           12.45039895200667,
           8.972809691285658,
           9.904190405108428,
           10.27450980392157,
           12.766021994690936,
           31.296158582455387,
           10.077639751552795,
           10.08123090612487,
           31.024120891693077,
           16.04469793923515,
           9.318941334309061,
           23.568772822339042,
           19.35775308837923,
           13.945869012273741,
           11.655401112311447,
           8.903164908384232,
           8.360099058940069,
           10.184826993337632,
           9.733557908245107,
           26.559971722210374,
           9.397297021040686,
           9.772932451393064,
           18.424743160361107,
           8.946474523932064,
           8.896051508804591,
           10.904498847655331,
           14.882928057278505,
           8.461397170837868,
           12.357198047848195,
           10.841669101847872,
           31.91665784700381,
           17.23624298338243,
           17.620778639826657,
           13.137684854665986,
           11.360850222441918,
           9.943653376043159,
           8.422913460833882,
           15.01539479176701,
           11.553902295467923,
           8.765453748355984,
           13.716911314984708,
           41.148666666666664
          ]
         },
         "type": "scattergeo"
        }
       ],
       "layout": {
        "geo": {
         "countrycolor": "rgb(100,100,100)",
         "countrywidth": 0.5,
         "landcolor": "rgb(250,250,250)",
         "projection": {
          "type": "albers usa"
         },
         "scope": "usa",
         "showland": true,
         "subunitcolor": "rgb(100,100,100)",
         "subunitwidth": 0.5
        },
        "template": {
         "data": {
          "bar": [
           {
            "error_x": {
             "color": "#2a3f5f"
            },
            "error_y": {
             "color": "#2a3f5f"
            },
            "marker": {
             "line": {
              "color": "#E5ECF6",
              "width": 0.5
             },
             "pattern": {
              "fillmode": "overlay",
              "size": 10,
              "solidity": 0.2
             }
            },
            "type": "bar"
           }
          ],
          "barpolar": [
           {
            "marker": {
             "line": {
              "color": "#E5ECF6",
              "width": 0.5
             },
             "pattern": {
              "fillmode": "overlay",
              "size": 10,
              "solidity": 0.2
             }
            },
            "type": "barpolar"
           }
          ],
          "carpet": [
           {
            "aaxis": {
             "endlinecolor": "#2a3f5f",
             "gridcolor": "white",
             "linecolor": "white",
             "minorgridcolor": "white",
             "startlinecolor": "#2a3f5f"
            },
            "baxis": {
             "endlinecolor": "#2a3f5f",
             "gridcolor": "white",
             "linecolor": "white",
             "minorgridcolor": "white",
             "startlinecolor": "#2a3f5f"
            },
            "type": "carpet"
           }
          ],
          "choropleth": [
           {
            "colorbar": {
             "outlinewidth": 0,
             "ticks": ""
            },
            "type": "choropleth"
           }
          ],
          "contour": [
           {
            "colorbar": {
             "outlinewidth": 0,
             "ticks": ""
            },
            "colorscale": [
             [
              0,
              "#0d0887"
             ],
             [
              0.1111111111111111,
              "#46039f"
             ],
             [
              0.2222222222222222,
              "#7201a8"
             ],
             [
              0.3333333333333333,
              "#9c179e"
             ],
             [
              0.4444444444444444,
              "#bd3786"
             ],
             [
              0.5555555555555556,
              "#d8576b"
             ],
             [
              0.6666666666666666,
              "#ed7953"
             ],
             [
              0.7777777777777778,
              "#fb9f3a"
             ],
             [
              0.8888888888888888,
              "#fdca26"
             ],
             [
              1,
              "#f0f921"
             ]
            ],
            "type": "contour"
           }
          ],
          "contourcarpet": [
           {
            "colorbar": {
             "outlinewidth": 0,
             "ticks": ""
            },
            "type": "contourcarpet"
           }
          ],
          "heatmap": [
           {
            "colorbar": {
             "outlinewidth": 0,
             "ticks": ""
            },
            "colorscale": [
             [
              0,
              "#0d0887"
             ],
             [
              0.1111111111111111,
              "#46039f"
             ],
             [
              0.2222222222222222,
              "#7201a8"
             ],
             [
              0.3333333333333333,
              "#9c179e"
             ],
             [
              0.4444444444444444,
              "#bd3786"
             ],
             [
              0.5555555555555556,
              "#d8576b"
             ],
             [
              0.6666666666666666,
              "#ed7953"
             ],
             [
              0.7777777777777778,
              "#fb9f3a"
             ],
             [
              0.8888888888888888,
              "#fdca26"
             ],
             [
              1,
              "#f0f921"
             ]
            ],
            "type": "heatmap"
           }
          ],
          "heatmapgl": [
           {
            "colorbar": {
             "outlinewidth": 0,
             "ticks": ""
            },
            "colorscale": [
             [
              0,
              "#0d0887"
             ],
             [
              0.1111111111111111,
              "#46039f"
             ],
             [
              0.2222222222222222,
              "#7201a8"
             ],
             [
              0.3333333333333333,
              "#9c179e"
             ],
             [
              0.4444444444444444,
              "#bd3786"
             ],
             [
              0.5555555555555556,
              "#d8576b"
             ],
             [
              0.6666666666666666,
              "#ed7953"
             ],
             [
              0.7777777777777778,
              "#fb9f3a"
             ],
             [
              0.8888888888888888,
              "#fdca26"
             ],
             [
              1,
              "#f0f921"
             ]
            ],
            "type": "heatmapgl"
           }
          ],
          "histogram": [
           {
            "marker": {
             "pattern": {
              "fillmode": "overlay",
              "size": 10,
              "solidity": 0.2
             }
            },
            "type": "histogram"
           }
          ],
          "histogram2d": [
           {
            "colorbar": {
             "outlinewidth": 0,
             "ticks": ""
            },
            "colorscale": [
             [
              0,
              "#0d0887"
             ],
             [
              0.1111111111111111,
              "#46039f"
             ],
             [
              0.2222222222222222,
              "#7201a8"
             ],
             [
              0.3333333333333333,
              "#9c179e"
             ],
             [
              0.4444444444444444,
              "#bd3786"
             ],
             [
              0.5555555555555556,
              "#d8576b"
             ],
             [
              0.6666666666666666,
              "#ed7953"
             ],
             [
              0.7777777777777778,
              "#fb9f3a"
             ],
             [
              0.8888888888888888,
              "#fdca26"
             ],
             [
              1,
              "#f0f921"
             ]
            ],
            "type": "histogram2d"
           }
          ],
          "histogram2dcontour": [
           {
            "colorbar": {
             "outlinewidth": 0,
             "ticks": ""
            },
            "colorscale": [
             [
              0,
              "#0d0887"
             ],
             [
              0.1111111111111111,
              "#46039f"
             ],
             [
              0.2222222222222222,
              "#7201a8"
             ],
             [
              0.3333333333333333,
              "#9c179e"
             ],
             [
              0.4444444444444444,
              "#bd3786"
             ],
             [
              0.5555555555555556,
              "#d8576b"
             ],
             [
              0.6666666666666666,
              "#ed7953"
             ],
             [
              0.7777777777777778,
              "#fb9f3a"
             ],
             [
              0.8888888888888888,
              "#fdca26"
             ],
             [
              1,
              "#f0f921"
             ]
            ],
            "type": "histogram2dcontour"
           }
          ],
          "mesh3d": [
           {
            "colorbar": {
             "outlinewidth": 0,
             "ticks": ""
            },
            "type": "mesh3d"
           }
          ],
          "parcoords": [
           {
            "line": {
             "colorbar": {
              "outlinewidth": 0,
              "ticks": ""
             }
            },
            "type": "parcoords"
           }
          ],
          "pie": [
           {
            "automargin": true,
            "type": "pie"
           }
          ],
          "scatter": [
           {
            "marker": {
             "colorbar": {
              "outlinewidth": 0,
              "ticks": ""
             }
            },
            "type": "scatter"
           }
          ],
          "scatter3d": [
           {
            "line": {
             "colorbar": {
              "outlinewidth": 0,
              "ticks": ""
             }
            },
            "marker": {
             "colorbar": {
              "outlinewidth": 0,
              "ticks": ""
             }
            },
            "type": "scatter3d"
           }
          ],
          "scattercarpet": [
           {
            "marker": {
             "colorbar": {
              "outlinewidth": 0,
              "ticks": ""
             }
            },
            "type": "scattercarpet"
           }
          ],
          "scattergeo": [
           {
            "marker": {
             "colorbar": {
              "outlinewidth": 0,
              "ticks": ""
             }
            },
            "type": "scattergeo"
           }
          ],
          "scattergl": [
           {
            "marker": {
             "colorbar": {
              "outlinewidth": 0,
              "ticks": ""
             }
            },
            "type": "scattergl"
           }
          ],
          "scattermapbox": [
           {
            "marker": {
             "colorbar": {
              "outlinewidth": 0,
              "ticks": ""
             }
            },
            "type": "scattermapbox"
           }
          ],
          "scatterpolar": [
           {
            "marker": {
             "colorbar": {
              "outlinewidth": 0,
              "ticks": ""
             }
            },
            "type": "scatterpolar"
           }
          ],
          "scatterpolargl": [
           {
            "marker": {
             "colorbar": {
              "outlinewidth": 0,
              "ticks": ""
             }
            },
            "type": "scatterpolargl"
           }
          ],
          "scatterternary": [
           {
            "marker": {
             "colorbar": {
              "outlinewidth": 0,
              "ticks": ""
             }
            },
            "type": "scatterternary"
           }
          ],
          "surface": [
           {
            "colorbar": {
             "outlinewidth": 0,
             "ticks": ""
            },
            "colorscale": [
             [
              0,
              "#0d0887"
             ],
             [
              0.1111111111111111,
              "#46039f"
             ],
             [
              0.2222222222222222,
              "#7201a8"
             ],
             [
              0.3333333333333333,
              "#9c179e"
             ],
             [
              0.4444444444444444,
              "#bd3786"
             ],
             [
              0.5555555555555556,
              "#d8576b"
             ],
             [
              0.6666666666666666,
              "#ed7953"
             ],
             [
              0.7777777777777778,
              "#fb9f3a"
             ],
             [
              0.8888888888888888,
              "#fdca26"
             ],
             [
              1,
              "#f0f921"
             ]
            ],
            "type": "surface"
           }
          ],
          "table": [
           {
            "cells": {
             "fill": {
              "color": "#EBF0F8"
             },
             "line": {
              "color": "white"
             }
            },
            "header": {
             "fill": {
              "color": "#C8D4E3"
             },
             "line": {
              "color": "white"
             }
            },
            "type": "table"
           }
          ]
         },
         "layout": {
          "annotationdefaults": {
           "arrowcolor": "#2a3f5f",
           "arrowhead": 0,
           "arrowwidth": 1
          },
          "autotypenumbers": "strict",
          "coloraxis": {
           "colorbar": {
            "outlinewidth": 0,
            "ticks": ""
           }
          },
          "colorscale": {
           "diverging": [
            [
             0,
             "#8e0152"
            ],
            [
             0.1,
             "#c51b7d"
            ],
            [
             0.2,
             "#de77ae"
            ],
            [
             0.3,
             "#f1b6da"
            ],
            [
             0.4,
             "#fde0ef"
            ],
            [
             0.5,
             "#f7f7f7"
            ],
            [
             0.6,
             "#e6f5d0"
            ],
            [
             0.7,
             "#b8e186"
            ],
            [
             0.8,
             "#7fbc41"
            ],
            [
             0.9,
             "#4d9221"
            ],
            [
             1,
             "#276419"
            ]
           ],
           "sequential": [
            [
             0,
             "#0d0887"
            ],
            [
             0.1111111111111111,
             "#46039f"
            ],
            [
             0.2222222222222222,
             "#7201a8"
            ],
            [
             0.3333333333333333,
             "#9c179e"
            ],
            [
             0.4444444444444444,
             "#bd3786"
            ],
            [
             0.5555555555555556,
             "#d8576b"
            ],
            [
             0.6666666666666666,
             "#ed7953"
            ],
            [
             0.7777777777777778,
             "#fb9f3a"
            ],
            [
             0.8888888888888888,
             "#fdca26"
            ],
            [
             1,
             "#f0f921"
            ]
           ],
           "sequentialminus": [
            [
             0,
             "#0d0887"
            ],
            [
             0.1111111111111111,
             "#46039f"
            ],
            [
             0.2222222222222222,
             "#7201a8"
            ],
            [
             0.3333333333333333,
             "#9c179e"
            ],
            [
             0.4444444444444444,
             "#bd3786"
            ],
            [
             0.5555555555555556,
             "#d8576b"
            ],
            [
             0.6666666666666666,
             "#ed7953"
            ],
            [
             0.7777777777777778,
             "#fb9f3a"
            ],
            [
             0.8888888888888888,
             "#fdca26"
            ],
            [
             1,
             "#f0f921"
            ]
           ]
          },
          "colorway": [
           "#636efa",
           "#EF553B",
           "#00cc96",
           "#ab63fa",
           "#FFA15A",
           "#19d3f3",
           "#FF6692",
           "#B6E880",
           "#FF97FF",
           "#FECB52"
          ],
          "font": {
           "color": "#2a3f5f"
          },
          "geo": {
           "bgcolor": "white",
           "lakecolor": "white",
           "landcolor": "#E5ECF6",
           "showlakes": true,
           "showland": true,
           "subunitcolor": "white"
          },
          "hoverlabel": {
           "align": "left"
          },
          "hovermode": "closest",
          "mapbox": {
           "style": "light"
          },
          "paper_bgcolor": "white",
          "plot_bgcolor": "#E5ECF6",
          "polar": {
           "angularaxis": {
            "gridcolor": "white",
            "linecolor": "white",
            "ticks": ""
           },
           "bgcolor": "#E5ECF6",
           "radialaxis": {
            "gridcolor": "white",
            "linecolor": "white",
            "ticks": ""
           }
          },
          "scene": {
           "xaxis": {
            "backgroundcolor": "#E5ECF6",
            "gridcolor": "white",
            "gridwidth": 2,
            "linecolor": "white",
            "showbackground": true,
            "ticks": "",
            "zerolinecolor": "white"
           },
           "yaxis": {
            "backgroundcolor": "#E5ECF6",
            "gridcolor": "white",
            "gridwidth": 2,
            "linecolor": "white",
            "showbackground": true,
            "ticks": "",
            "zerolinecolor": "white"
           },
           "zaxis": {
            "backgroundcolor": "#E5ECF6",
            "gridcolor": "white",
            "gridwidth": 2,
            "linecolor": "white",
            "showbackground": true,
            "ticks": "",
            "zerolinecolor": "white"
           }
          },
          "shapedefaults": {
           "line": {
            "color": "#2a3f5f"
           }
          },
          "ternary": {
           "aaxis": {
            "gridcolor": "white",
            "linecolor": "white",
            "ticks": ""
           },
           "baxis": {
            "gridcolor": "white",
            "linecolor": "white",
            "ticks": ""
           },
           "bgcolor": "#E5ECF6",
           "caxis": {
            "gridcolor": "white",
            "linecolor": "white",
            "ticks": ""
           }
          },
          "title": {
           "x": 0.05
          },
          "xaxis": {
           "automargin": true,
           "gridcolor": "white",
           "linecolor": "white",
           "ticks": "",
           "title": {
            "standoff": 15
           },
           "zerolinecolor": "white",
           "zerolinewidth": 2
          },
          "yaxis": {
           "automargin": true,
           "gridcolor": "white",
           "linecolor": "white",
           "ticks": "",
           "title": {
            "standoff": 15
           },
           "zerolinecolor": "white",
           "zerolinewidth": 2
          }
         }
        },
        "width": 600
       }
      },
      "text/html": [
       "<div>                            <div id=\"e69854d7-918a-47ba-bba3-db31fb899aa9\" class=\"plotly-graph-div\" style=\"height:525px; width:600px;\"></div>            <script type=\"text/javascript\">                require([\"plotly\"], function(Plotly) {                    window.PLOTLYENV=window.PLOTLYENV || {};                                    if (document.getElementById(\"e69854d7-918a-47ba-bba3-db31fb899aa9\")) {                    Plotly.newPlot(                        \"e69854d7-918a-47ba-bba3-db31fb899aa9\",                        [{\"lat\":[34.000319,43.2311327,47.7162786,33.9093875,40.9309925,39.9924717,33.5113314,37.6759064,37.6993,42.7065088,37.9115042,39.934946,47.6208696,33.9484477,33.9710116,41.4877432,33.9735891,39.9076973,42.1077525,40.0374664,47.632801,41.8554575,33.7681453,47.7158288,41.497223,33.8254779,42.2653422,39.912442,33.451232,33.732926,41.5694897,37.6822922,40.0021676,47.750593,37.9838036,47.6076339,40.0303647,39.9560828,47.7084091,42.0281344,33.8786308,40.0066857,47.7510662,37.956103,47.8044871,41.5586991,37.9242863,37.9765001,37.7754429,40.0294758,47.6091997,47.6219477,41.5387268,33.4498013,42.7473541,43.1014617,37.7990818,39.9495713,42.8166911,42.1710988,39.957358,37.9694792,43.1201376,47.4568023,43.0978638,33.451232,33.7943032,37.7754429,42.276897,42.300344,40.7447179,47.760574,40.0173148,39.9213919,41.466876,42.8075256,43.2272241,42.8213859,42.2493985,37.9553785,43.0731473,38.4634804,34.0708467,42.775748,39.9507025,47.8026806,42.8073225,37.6762783,33.8473632,42.2607878,47.6821988,47.4585122,42.1146632,47.6674625,43.0150099,38.0070008,39.9130589,37.7762785,42.247582,47.6100869,43.1636949,33.5774091,39.9290428,41.4352418,34.1054485,33.677914,39.9457889,42.3020867,43.0879409,39.9218172,33.9073497,47.7148568,47.6516517,39.9184081,43.0773695,43.2530101,41.5611182,37.984716],\"lon\":[-84.1629724,-75.4445363,-122.1838152,-84.3529096,-90.9437598,-75.1035442,-84.2316312,-121.8772172,-121.9014055,-71.171084,-122.0444705,-75.0669325,-122.1889933,-84.3369582,-84.5511075,-90.4216658,-84.4822033,-75.289741,-70.7667516,-75.1206684,-122.1330652,-89.489907,-84.388286,-122.180939,-90.5296326,-84.2571003,-71.7927896,-75.0583428,-94.0683805,-84.6724126,-90.5271587,-121.8756054,-75.2825227,-122.154299,-122.0360361,-122.3123067,-75.1834481,-75.1987675,-122.335505,-71.31267,-84.0214922,-75.2190999,-122.6477891,-121.9694513,-122.2090808,-90.518775,-121.7371186,-121.8012144,-121.9669886,-75.0869837,-122.3262981,-122.1870553,-90.5511836,-84.508719,-71.1313972,-76.060889,-121.9166879,-75.1567543,-71.5409322,-70.9577834,-75.1642512,-121.2901678,-76.1627233,-122.3457174,-75.3055966,-94.0683805,-84.2778831,-121.9669886,-71.4160299,-71.8038673,-90.9114665,-122.2527338,-75.1509415,-75.2561934,-90.5478657,-71.2622671,-75.4323824,-70.9065276,-84.4259382,-122.0411404,-75.2957098,-121.416546,-84.3000492,-71.2495637,-75.2286725,-122.3389483,-71.2650041,-121.7853993,-84.5065753,-83.7391191,-122.1259728,-122.3370864,-71.463432,-122.3817193,-75.0398441,-121.868574,-75.1518927,-121.9679406,-70.9842195,-122.3243021,-76.2366636,-84.3944193,-75.170544,-91.0759938,-84.5409941,-84.00695,-75.1533585,-71.407008,-75.2624454,-75.1730023,-84.3581189,-122.1866063,-122.687053,-75.035649,-75.6536905,-75.1860015,-90.5915183,-122.0383645],\"marker\":{\"autocolorscale\":false,\"color\":[65.25943373645755,28.328888237879006,54.72823171574727,27.70102070220672,31.383244206773618,40.021877839691385,43.49966533392566,29.32828810020877,29.678250974191,37.22619541516884,44.802027132387344,27.593448873483535,73.44097821601547,32.18636601633111,35.82354233870968,31.27212389380531,31.341987035005484,42.83971575207264,28.712916494133882,61.98945679433816,73.74423317878548,24.70874464772285,25.629538529476704,30.00965667574932,40.03104149395698,27.37844274105239,25.592855111392005,30.198944751381212,24.841919062442777,54.724936063473024,25.017872340425534,43.09575309818875,31.045158095238094,28.985462816455698,30.208034663528405,29.117386575067982,42.44445745813571,43.18809468772741,64.62319149489225,26.149652669777087,34.769897595213436,31.10798947368421,26.733272019808982,44.34153447717708,72.98655698384202,23.444325880008858,89.65274635687354,42.23618140510311,0.0,38.4200695404636,32.049243944868195,26.684594682582745,27.81604074114205,30.130500256353912,26.12576806441493,29.287065736320233,37.67387898999524,25.715266142308394,33.23513822336896,25.688526912181302,31.722362170721176,33.22404511663676,25.386194799834914,41.33049403747871,30.86534321932552,64.51914893617021,39.9946914131049,0.0,25.14059405940594,37.29179017485429,28.470506108202443,27.69977169848455,28.89925067416375,36.30864664353236,32.23603945371776,42.951937984496126,37.35119685602001,26.918429073856974,29.712571215325287,30.823529411764707,38.29806598407281,93.88847574736616,30.232919254658384,30.24369271837461,93.07236267507923,48.13409381770545,27.956824002927185,70.70631846701713,58.073259265137686,41.837607036821225,34.96620333693434,26.709494725152695,25.080297176820206,30.554480980012894,29.20067372473532,79.67991516663112,28.191891063122057,29.318797354179193,55.27422948108332,26.839423571796193,26.688154526413776,32.71349654296599,44.648784171835516,25.384191512513603,37.07159414354459,32.52500730554362,95.74997354101143,51.70872895014728,52.86233591947997,39.41305456399796,34.082550667325755,29.830960128129476,25.268740382501647,45.04618437530103,34.66170688640377,26.296361245067953,41.150733944954126,123.446],\"colorscale\":[[0.0,\"#ac3a4e\"],[1.0,\"#5288db\"]],\"size\":[21.753144578819185,9.442962745959669,18.24274390524909,9.23367356740224,10.461081402257873,13.340625946563796,14.499888444641888,9.776096033402924,9.892750324730333,12.408731805056279,14.934009044129114,9.197816291161178,24.480326072005155,10.728788672110369,11.941180779569892,10.424041297935103,10.447329011668495,14.27990525069088,9.570972164711295,20.663152264779388,24.58141105959516,8.236248215907617,8.543179509825569,10.00321889191644,13.343680497985659,9.126147580350796,8.530951703797335,10.066314917127071,8.280639687480926,18.24164535449101,8.339290780141845,14.365251032729583,10.348386031746031,9.661820938818567,10.069344887842801,9.70579552502266,14.148152486045236,14.396031562575802,21.54106383163075,8.716550889925696,11.589965865071145,10.369329824561403,8.91109067326966,14.780511492392359,24.32885232794734,7.814775293336286,29.88424878562451,14.07872713503437,0.0,12.8066898468212,10.683081314956064,8.894864894194248,9.272013580380683,10.043500085451305,8.708589354804976,9.762355245440078,12.557959663331745,8.571755380769465,11.078379407789654,8.562842304060434,10.574120723573726,11.074681705545586,8.462064933278304,13.776831345826237,10.288447739775174,21.506382978723405,13.331563804368301,0.0,8.38019801980198,12.43059672495143,9.490168702734147,9.233257232828183,9.633083558054583,12.102882214510787,10.745346484572586,14.31731266149871,12.45039895200667,8.972809691285658,9.904190405108428,10.27450980392157,12.766021994690936,31.296158582455387,10.077639751552795,10.08123090612487,31.024120891693077,16.04469793923515,9.318941334309061,23.568772822339042,19.35775308837923,13.945869012273741,11.655401112311447,8.903164908384232,8.360099058940069,10.184826993337632,9.733557908245107,26.559971722210374,9.397297021040686,9.772932451393064,18.424743160361107,8.946474523932064,8.896051508804591,10.904498847655331,14.882928057278505,8.461397170837868,12.357198047848195,10.841669101847872,31.91665784700381,17.23624298338243,17.620778639826657,13.137684854665986,11.360850222441918,9.943653376043159,8.422913460833882,15.01539479176701,11.553902295467923,8.765453748355984,13.716911314984708,41.148666666666664]},\"type\":\"scattergeo\"}],                        {\"geo\":{\"countrycolor\":\"rgb(100,100,100)\",\"countrywidth\":0.5,\"landcolor\":\"rgb(250,250,250)\",\"projection\":{\"type\":\"albers usa\"},\"scope\":\"usa\",\"showland\":true,\"subunitcolor\":\"rgb(100,100,100)\",\"subunitwidth\":0.5},\"template\":{\"data\":{\"bar\":[{\"error_x\":{\"color\":\"#2a3f5f\"},\"error_y\":{\"color\":\"#2a3f5f\"},\"marker\":{\"line\":{\"color\":\"#E5ECF6\",\"width\":0.5},\"pattern\":{\"fillmode\":\"overlay\",\"size\":10,\"solidity\":0.2}},\"type\":\"bar\"}],\"barpolar\":[{\"marker\":{\"line\":{\"color\":\"#E5ECF6\",\"width\":0.5},\"pattern\":{\"fillmode\":\"overlay\",\"size\":10,\"solidity\":0.2}},\"type\":\"barpolar\"}],\"carpet\":[{\"aaxis\":{\"endlinecolor\":\"#2a3f5f\",\"gridcolor\":\"white\",\"linecolor\":\"white\",\"minorgridcolor\":\"white\",\"startlinecolor\":\"#2a3f5f\"},\"baxis\":{\"endlinecolor\":\"#2a3f5f\",\"gridcolor\":\"white\",\"linecolor\":\"white\",\"minorgridcolor\":\"white\",\"startlinecolor\":\"#2a3f5f\"},\"type\":\"carpet\"}],\"choropleth\":[{\"colorbar\":{\"outlinewidth\":0,\"ticks\":\"\"},\"type\":\"choropleth\"}],\"contour\":[{\"colorbar\":{\"outlinewidth\":0,\"ticks\":\"\"},\"colorscale\":[[0.0,\"#0d0887\"],[0.1111111111111111,\"#46039f\"],[0.2222222222222222,\"#7201a8\"],[0.3333333333333333,\"#9c179e\"],[0.4444444444444444,\"#bd3786\"],[0.5555555555555556,\"#d8576b\"],[0.6666666666666666,\"#ed7953\"],[0.7777777777777778,\"#fb9f3a\"],[0.8888888888888888,\"#fdca26\"],[1.0,\"#f0f921\"]],\"type\":\"contour\"}],\"contourcarpet\":[{\"colorbar\":{\"outlinewidth\":0,\"ticks\":\"\"},\"type\":\"contourcarpet\"}],\"heatmap\":[{\"colorbar\":{\"outlinewidth\":0,\"ticks\":\"\"},\"colorscale\":[[0.0,\"#0d0887\"],[0.1111111111111111,\"#46039f\"],[0.2222222222222222,\"#7201a8\"],[0.3333333333333333,\"#9c179e\"],[0.4444444444444444,\"#bd3786\"],[0.5555555555555556,\"#d8576b\"],[0.6666666666666666,\"#ed7953\"],[0.7777777777777778,\"#fb9f3a\"],[0.8888888888888888,\"#fdca26\"],[1.0,\"#f0f921\"]],\"type\":\"heatmap\"}],\"heatmapgl\":[{\"colorbar\":{\"outlinewidth\":0,\"ticks\":\"\"},\"colorscale\":[[0.0,\"#0d0887\"],[0.1111111111111111,\"#46039f\"],[0.2222222222222222,\"#7201a8\"],[0.3333333333333333,\"#9c179e\"],[0.4444444444444444,\"#bd3786\"],[0.5555555555555556,\"#d8576b\"],[0.6666666666666666,\"#ed7953\"],[0.7777777777777778,\"#fb9f3a\"],[0.8888888888888888,\"#fdca26\"],[1.0,\"#f0f921\"]],\"type\":\"heatmapgl\"}],\"histogram\":[{\"marker\":{\"pattern\":{\"fillmode\":\"overlay\",\"size\":10,\"solidity\":0.2}},\"type\":\"histogram\"}],\"histogram2d\":[{\"colorbar\":{\"outlinewidth\":0,\"ticks\":\"\"},\"colorscale\":[[0.0,\"#0d0887\"],[0.1111111111111111,\"#46039f\"],[0.2222222222222222,\"#7201a8\"],[0.3333333333333333,\"#9c179e\"],[0.4444444444444444,\"#bd3786\"],[0.5555555555555556,\"#d8576b\"],[0.6666666666666666,\"#ed7953\"],[0.7777777777777778,\"#fb9f3a\"],[0.8888888888888888,\"#fdca26\"],[1.0,\"#f0f921\"]],\"type\":\"histogram2d\"}],\"histogram2dcontour\":[{\"colorbar\":{\"outlinewidth\":0,\"ticks\":\"\"},\"colorscale\":[[0.0,\"#0d0887\"],[0.1111111111111111,\"#46039f\"],[0.2222222222222222,\"#7201a8\"],[0.3333333333333333,\"#9c179e\"],[0.4444444444444444,\"#bd3786\"],[0.5555555555555556,\"#d8576b\"],[0.6666666666666666,\"#ed7953\"],[0.7777777777777778,\"#fb9f3a\"],[0.8888888888888888,\"#fdca26\"],[1.0,\"#f0f921\"]],\"type\":\"histogram2dcontour\"}],\"mesh3d\":[{\"colorbar\":{\"outlinewidth\":0,\"ticks\":\"\"},\"type\":\"mesh3d\"}],\"parcoords\":[{\"line\":{\"colorbar\":{\"outlinewidth\":0,\"ticks\":\"\"}},\"type\":\"parcoords\"}],\"pie\":[{\"automargin\":true,\"type\":\"pie\"}],\"scatter\":[{\"marker\":{\"colorbar\":{\"outlinewidth\":0,\"ticks\":\"\"}},\"type\":\"scatter\"}],\"scatter3d\":[{\"line\":{\"colorbar\":{\"outlinewidth\":0,\"ticks\":\"\"}},\"marker\":{\"colorbar\":{\"outlinewidth\":0,\"ticks\":\"\"}},\"type\":\"scatter3d\"}],\"scattercarpet\":[{\"marker\":{\"colorbar\":{\"outlinewidth\":0,\"ticks\":\"\"}},\"type\":\"scattercarpet\"}],\"scattergeo\":[{\"marker\":{\"colorbar\":{\"outlinewidth\":0,\"ticks\":\"\"}},\"type\":\"scattergeo\"}],\"scattergl\":[{\"marker\":{\"colorbar\":{\"outlinewidth\":0,\"ticks\":\"\"}},\"type\":\"scattergl\"}],\"scattermapbox\":[{\"marker\":{\"colorbar\":{\"outlinewidth\":0,\"ticks\":\"\"}},\"type\":\"scattermapbox\"}],\"scatterpolar\":[{\"marker\":{\"colorbar\":{\"outlinewidth\":0,\"ticks\":\"\"}},\"type\":\"scatterpolar\"}],\"scatterpolargl\":[{\"marker\":{\"colorbar\":{\"outlinewidth\":0,\"ticks\":\"\"}},\"type\":\"scatterpolargl\"}],\"scatterternary\":[{\"marker\":{\"colorbar\":{\"outlinewidth\":0,\"ticks\":\"\"}},\"type\":\"scatterternary\"}],\"surface\":[{\"colorbar\":{\"outlinewidth\":0,\"ticks\":\"\"},\"colorscale\":[[0.0,\"#0d0887\"],[0.1111111111111111,\"#46039f\"],[0.2222222222222222,\"#7201a8\"],[0.3333333333333333,\"#9c179e\"],[0.4444444444444444,\"#bd3786\"],[0.5555555555555556,\"#d8576b\"],[0.6666666666666666,\"#ed7953\"],[0.7777777777777778,\"#fb9f3a\"],[0.8888888888888888,\"#fdca26\"],[1.0,\"#f0f921\"]],\"type\":\"surface\"}],\"table\":[{\"cells\":{\"fill\":{\"color\":\"#EBF0F8\"},\"line\":{\"color\":\"white\"}},\"header\":{\"fill\":{\"color\":\"#C8D4E3\"},\"line\":{\"color\":\"white\"}},\"type\":\"table\"}]},\"layout\":{\"annotationdefaults\":{\"arrowcolor\":\"#2a3f5f\",\"arrowhead\":0,\"arrowwidth\":1},\"autotypenumbers\":\"strict\",\"coloraxis\":{\"colorbar\":{\"outlinewidth\":0,\"ticks\":\"\"}},\"colorscale\":{\"diverging\":[[0,\"#8e0152\"],[0.1,\"#c51b7d\"],[0.2,\"#de77ae\"],[0.3,\"#f1b6da\"],[0.4,\"#fde0ef\"],[0.5,\"#f7f7f7\"],[0.6,\"#e6f5d0\"],[0.7,\"#b8e186\"],[0.8,\"#7fbc41\"],[0.9,\"#4d9221\"],[1,\"#276419\"]],\"sequential\":[[0.0,\"#0d0887\"],[0.1111111111111111,\"#46039f\"],[0.2222222222222222,\"#7201a8\"],[0.3333333333333333,\"#9c179e\"],[0.4444444444444444,\"#bd3786\"],[0.5555555555555556,\"#d8576b\"],[0.6666666666666666,\"#ed7953\"],[0.7777777777777778,\"#fb9f3a\"],[0.8888888888888888,\"#fdca26\"],[1.0,\"#f0f921\"]],\"sequentialminus\":[[0.0,\"#0d0887\"],[0.1111111111111111,\"#46039f\"],[0.2222222222222222,\"#7201a8\"],[0.3333333333333333,\"#9c179e\"],[0.4444444444444444,\"#bd3786\"],[0.5555555555555556,\"#d8576b\"],[0.6666666666666666,\"#ed7953\"],[0.7777777777777778,\"#fb9f3a\"],[0.8888888888888888,\"#fdca26\"],[1.0,\"#f0f921\"]]},\"colorway\":[\"#636efa\",\"#EF553B\",\"#00cc96\",\"#ab63fa\",\"#FFA15A\",\"#19d3f3\",\"#FF6692\",\"#B6E880\",\"#FF97FF\",\"#FECB52\"],\"font\":{\"color\":\"#2a3f5f\"},\"geo\":{\"bgcolor\":\"white\",\"lakecolor\":\"white\",\"landcolor\":\"#E5ECF6\",\"showlakes\":true,\"showland\":true,\"subunitcolor\":\"white\"},\"hoverlabel\":{\"align\":\"left\"},\"hovermode\":\"closest\",\"mapbox\":{\"style\":\"light\"},\"paper_bgcolor\":\"white\",\"plot_bgcolor\":\"#E5ECF6\",\"polar\":{\"angularaxis\":{\"gridcolor\":\"white\",\"linecolor\":\"white\",\"ticks\":\"\"},\"bgcolor\":\"#E5ECF6\",\"radialaxis\":{\"gridcolor\":\"white\",\"linecolor\":\"white\",\"ticks\":\"\"}},\"scene\":{\"xaxis\":{\"backgroundcolor\":\"#E5ECF6\",\"gridcolor\":\"white\",\"gridwidth\":2,\"linecolor\":\"white\",\"showbackground\":true,\"ticks\":\"\",\"zerolinecolor\":\"white\"},\"yaxis\":{\"backgroundcolor\":\"#E5ECF6\",\"gridcolor\":\"white\",\"gridwidth\":2,\"linecolor\":\"white\",\"showbackground\":true,\"ticks\":\"\",\"zerolinecolor\":\"white\"},\"zaxis\":{\"backgroundcolor\":\"#E5ECF6\",\"gridcolor\":\"white\",\"gridwidth\":2,\"linecolor\":\"white\",\"showbackground\":true,\"ticks\":\"\",\"zerolinecolor\":\"white\"}},\"shapedefaults\":{\"line\":{\"color\":\"#2a3f5f\"}},\"ternary\":{\"aaxis\":{\"gridcolor\":\"white\",\"linecolor\":\"white\",\"ticks\":\"\"},\"baxis\":{\"gridcolor\":\"white\",\"linecolor\":\"white\",\"ticks\":\"\"},\"bgcolor\":\"#E5ECF6\",\"caxis\":{\"gridcolor\":\"white\",\"linecolor\":\"white\",\"ticks\":\"\"}},\"title\":{\"x\":0.05},\"xaxis\":{\"automargin\":true,\"gridcolor\":\"white\",\"linecolor\":\"white\",\"ticks\":\"\",\"title\":{\"standoff\":15},\"zerolinecolor\":\"white\",\"zerolinewidth\":2},\"yaxis\":{\"automargin\":true,\"gridcolor\":\"white\",\"linecolor\":\"white\",\"ticks\":\"\",\"title\":{\"standoff\":15},\"zerolinecolor\":\"white\",\"zerolinewidth\":2}}},\"width\":600},                        {\"responsive\": true}                    ).then(function(){\n",
       "                            \n",
       "var gd = document.getElementById('e69854d7-918a-47ba-bba3-db31fb899aa9');\n",
       "var x = new MutationObserver(function (mutations, observer) {{\n",
       "        var display = window.getComputedStyle(gd).display;\n",
       "        if (!display || display === 'none') {{\n",
       "            console.log([gd, 'removed!']);\n",
       "            Plotly.purge(gd);\n",
       "            observer.disconnect();\n",
       "        }}\n",
       "}});\n",
       "\n",
       "// Listen for the removal of the full notebook cells\n",
       "var notebookContainer = gd.closest('#notebook-container');\n",
       "if (notebookContainer) {{\n",
       "    x.observe(notebookContainer, {childList: true});\n",
       "}}\n",
       "\n",
       "// Listen for the clearing of the current output cell\n",
       "var outputEl = gd.closest('.output');\n",
       "if (outputEl) {{\n",
       "    x.observe(outputEl, {childList: true});\n",
       "}}\n",
       "\n",
       "                        })                };                });            </script>        </div>"
      ]
     },
     "metadata": {},
     "output_type": "display_data"
    }
   ],
   "source": [
    "scl = [[0.0, '#ac3a4e'],[1.0, '#5288db']]\n",
    "\n",
    "data = dict(\n",
    "    type = 'scattergeo',\n",
    "    # colorscale = 'RdBu',\n",
    "    lat = coordenadas['latitude'],\n",
    "    lon = coordenadas['longitude'],\n",
    "    # locations = coordenadas['state'],\n",
    "    # locationmode = 'USA-states',\n",
    "    # z = coordenadas['Lab Id'],\n",
    "    # text = coordenadas['Address'],\n",
    "    marker = dict(size = coordenadas['Média Valor Pago']/3, autocolorscale = False, colorscale = scl, color = coordenadas['Média Valor Pago'], \n",
    "                  # colorbar = dict(title = 'Valor médio')\n",
    "                  ),\n",
    "    # colorbar = dict(title = 'Zipcode')\n",
    ")\n",
    "\n",
    "layout = dict(\n",
    "    # title = 'Média do valor pago nos exames em cada laboratório',\n",
    "    geo = dict(scope = 'usa', # showlakes = True, lakecolor = 'rgb(85, 173, 240)',\n",
    "               projection = dict(type ='albers usa'),showland = True,\n",
    "                    landcolor=\"rgb(250,250,250)\",subunitcolor = \"rgb(100,100,100)\",\n",
    "                     countrycolor = \"rgb(100,100,100)\",countrywidth =0.5, subunitwidth=0.5)\n",
    ")\n",
    "\n",
    "choromap = go.Figure(data = [data], layout = layout)\n",
    "\n",
    "\n",
    "choromap.update_layout(width = 600)\n",
    "iplot(choromap, validate = False)"
   ]
  },
  {
   "attachments": {},
   "cell_type": "markdown",
   "metadata": {},
   "source": [
    "### percentual de clientes entre 30 e 65 anos"
   ]
  },
  {
   "cell_type": "code",
   "execution_count": 12,
   "metadata": {},
   "outputs": [
    {
     "name": "stderr",
     "output_type": "stream",
     "text": [
      "C:\\Users\\Leticia\\AppData\\Local\\Temp\\ipykernel_23228\\2151088617.py:11: SettingWithCopyWarning:\n",
      "\n",
      "\n",
      "A value is trying to be set on a copy of a slice from a DataFrame.\n",
      "Try using .loc[row_indexer,col_indexer] = value instead\n",
      "\n",
      "See the caveats in the documentation: https://pandas.pydata.org/pandas-docs/stable/user_guide/indexing.html#returning-a-view-versus-a-copy\n",
      "\n"
     ]
    },
    {
     "data": {
      "text/html": [
       "<div>\n",
       "<style scoped>\n",
       "    .dataframe tbody tr th:only-of-type {\n",
       "        vertical-align: middle;\n",
       "    }\n",
       "\n",
       "    .dataframe tbody tr th {\n",
       "        vertical-align: top;\n",
       "    }\n",
       "\n",
       "    .dataframe thead th {\n",
       "        text-align: right;\n",
       "    }\n",
       "</style>\n",
       "<table border=\"1\" class=\"dataframe\">\n",
       "  <thead>\n",
       "    <tr style=\"text-align: right;\">\n",
       "      <th></th>\n",
       "      <th>faixa etaria</th>\n",
       "      <th>total</th>\n",
       "      <th>perc</th>\n",
       "    </tr>\n",
       "  </thead>\n",
       "  <tbody>\n",
       "    <tr>\n",
       "      <th>entre 30 e 65 anos</th>\n",
       "      <td>324530</td>\n",
       "      <td>501445</td>\n",
       "      <td>64.718962</td>\n",
       "    </tr>\n",
       "    <tr>\n",
       "      <th>menos de 30 anos</th>\n",
       "      <td>148007</td>\n",
       "      <td>501445</td>\n",
       "      <td>29.516098</td>\n",
       "    </tr>\n",
       "    <tr>\n",
       "      <th>mais de 65 anos</th>\n",
       "      <td>28908</td>\n",
       "      <td>501445</td>\n",
       "      <td>5.764939</td>\n",
       "    </tr>\n",
       "  </tbody>\n",
       "</table>\n",
       "</div>"
      ],
      "text/plain": [
       "                    faixa etaria   total       perc\n",
       "entre 30 e 65 anos        324530  501445  64.718962\n",
       "menos de 30 anos          148007  501445  29.516098\n",
       "mais de 65 anos            28908  501445   5.764939"
      ]
     },
     "execution_count": 12,
     "metadata": {},
     "output_type": "execute_result"
    }
   ],
   "source": [
    "def faixa_etaria(x):\n",
    "    if x < 30 :\n",
    "        return 'menos de 30 anos'\n",
    "    elif x <= 65:\n",
    "        return 'entre 30 e 65 anos'\n",
    "    elif x > 65:\n",
    "        return 'mais de 65 anos'\n",
    "\n",
    "\n",
    "pacientes_unicos = transactional_data.drop_duplicates(subset = 'Patient Id')\n",
    "pacientes_unicos['faixa etaria'] = pacientes_unicos['Idade'].apply(faixa_etaria)\n",
    "\n",
    "total_idade = pacientes_unicos['faixa etaria'].value_counts().to_frame()\n",
    "total_idade['total'] = total_idade['faixa etaria'].sum()\n",
    "total_idade['perc'] = total_idade['faixa etaria'] * 100 / total_idade['total']\n",
    "total_idade"
   ]
  },
  {
   "attachments": {},
   "cell_type": "markdown",
   "metadata": {},
   "source": [
    "### gráfico final id paciente"
   ]
  },
  {
   "cell_type": "code",
   "execution_count": 32,
   "metadata": {},
   "outputs": [
    {
     "data": {
      "text/html": [
       "<div>\n",
       "<style scoped>\n",
       "    .dataframe tbody tr th:only-of-type {\n",
       "        vertical-align: middle;\n",
       "    }\n",
       "\n",
       "    .dataframe tbody tr th {\n",
       "        vertical-align: top;\n",
       "    }\n",
       "\n",
       "    .dataframe thead th {\n",
       "        text-align: right;\n",
       "    }\n",
       "</style>\n",
       "<table border=\"1\" class=\"dataframe\">\n",
       "  <thead>\n",
       "    <tr style=\"text-align: right;\">\n",
       "      <th></th>\n",
       "      <th>index</th>\n",
       "      <th>final_cod</th>\n",
       "    </tr>\n",
       "  </thead>\n",
       "  <tbody>\n",
       "    <tr>\n",
       "      <th>0</th>\n",
       "      <td>1</td>\n",
       "      <td>304822</td>\n",
       "    </tr>\n",
       "    <tr>\n",
       "      <th>1</th>\n",
       "      <td>BIO003</td>\n",
       "      <td>91708</td>\n",
       "    </tr>\n",
       "    <tr>\n",
       "      <th>2</th>\n",
       "      <td>BIO002</td>\n",
       "      <td>66762</td>\n",
       "    </tr>\n",
       "    <tr>\n",
       "      <th>3</th>\n",
       "      <td>BIO010</td>\n",
       "      <td>36127</td>\n",
       "    </tr>\n",
       "    <tr>\n",
       "      <th>4</th>\n",
       "      <td>UND2243</td>\n",
       "      <td>1788</td>\n",
       "    </tr>\n",
       "    <tr>\n",
       "      <th>5</th>\n",
       "      <td>UND2113</td>\n",
       "      <td>238</td>\n",
       "    </tr>\n",
       "  </tbody>\n",
       "</table>\n",
       "</div>"
      ],
      "text/plain": [
       "     index  final_cod\n",
       "0        1     304822\n",
       "1   BIO003      91708\n",
       "2   BIO002      66762\n",
       "3   BIO010      36127\n",
       "4  UND2243       1788\n",
       "5  UND2113        238"
      ]
     },
     "execution_count": 32,
     "metadata": {},
     "output_type": "execute_result"
    }
   ],
   "source": [
    "padrao_id_paciente = transactional_data[['Patient Id']].drop_duplicates()\n",
    "padrao_id_paciente['final_cod'] = padrao_id_paciente['Patient Id'].str.split('-').str[-1]\n",
    "padrao_id_paciente = padrao_id_paciente['final_cod'].value_counts().to_frame().reset_index()\n",
    "\n",
    "padrao_id_paciente = padrao_id_paciente[padrao_id_paciente['index'] != \"2\"]\n",
    "\n",
    "padrao_id_paciente"
   ]
  },
  {
   "cell_type": "code",
   "execution_count": 33,
   "metadata": {},
   "outputs": [
    {
     "data": {
      "image/png": "[encoded data removed]",
      "text/plain": [
       "<Figure size 360x432 with 1 Axes>"
      ]
     },
     "metadata": {},
     "output_type": "display_data"
    }
   ],
   "source": [
    "plt.figure(figsize = (5,6))\n",
    "sns.set_style('white') # also 'ticks', 'darkgrid', 'whitegrid', white\n",
    "fig = sns.barplot(data = padrao_id_paciente, x = 'final_cod', y = 'index', color = '#7f7f7f', width = 0.6)\n",
    "\n",
    "# colocar os números no final da barra\n",
    "for i in fig.patches:\n",
    "    fig.annotate(int(i.get_width()),\n",
    "                  (i.get_width(), i.get_y() + i.get_height() / 2),\n",
    "                  ha = 'left', va = 'center', fontsize = 18,\n",
    "                  color = '#4d4d4d', xytext = (1, 0),\n",
    "                  textcoords = 'offset points')\n",
    "\n",
    "# remover os números do eixo x\n",
    "fig.set_xticklabels('')\n",
    "fig.set_yticklabels(fig.get_yticklabels(), fontsize=15)\n",
    "\n",
    "# remover os títulos dos eixos\n",
    "fig.set(xlabel='', ylabel='')\n",
    "\n",
    "# remover as bordas do gráfico\n",
    "sns.despine(bottom = True)"
   ]
  },
  {
   "attachments": {},
   "cell_type": "markdown",
   "metadata": {},
   "source": [
    "### treemap categorias dos exames"
   ]
  },
  {
   "cell_type": "code",
   "execution_count": 35,
   "metadata": {},
   "outputs": [
    {
     "data": {
      "text/html": [
       "<div>\n",
       "<style scoped>\n",
       "    .dataframe tbody tr th:only-of-type {\n",
       "        vertical-align: middle;\n",
       "    }\n",
       "\n",
       "    .dataframe tbody tr th {\n",
       "        vertical-align: top;\n",
       "    }\n",
       "\n",
       "    .dataframe thead th {\n",
       "        text-align: right;\n",
       "    }\n",
       "</style>\n",
       "<table border=\"1\" class=\"dataframe\">\n",
       "  <thead>\n",
       "    <tr style=\"text-align: right;\">\n",
       "      <th></th>\n",
       "      <th>Category</th>\n",
       "      <th>Family</th>\n",
       "      <th>Speciality</th>\n",
       "      <th>CodItem</th>\n",
       "    </tr>\n",
       "  </thead>\n",
       "  <tbody>\n",
       "    <tr>\n",
       "      <th>0</th>\n",
       "      <td>CA</td>\n",
       "      <td>COPRO</td>\n",
       "      <td>HIDDEN BLOOD</td>\n",
       "      <td>1</td>\n",
       "    </tr>\n",
       "    <tr>\n",
       "      <th>1</th>\n",
       "      <td>CA</td>\n",
       "      <td>COPRO</td>\n",
       "      <td>PARASITOLOGY</td>\n",
       "      <td>5</td>\n",
       "    </tr>\n",
       "    <tr>\n",
       "      <th>2</th>\n",
       "      <td>CA</td>\n",
       "      <td>COPRO</td>\n",
       "      <td>SPECIAL COPRO</td>\n",
       "      <td>18</td>\n",
       "    </tr>\n",
       "    <tr>\n",
       "      <th>3</th>\n",
       "      <td>CA</td>\n",
       "      <td>CORELAB</td>\n",
       "      <td>ALLERGY</td>\n",
       "      <td>182</td>\n",
       "    </tr>\n",
       "    <tr>\n",
       "      <th>4</th>\n",
       "      <td>CA</td>\n",
       "      <td>CORELAB</td>\n",
       "      <td>AUTOIMMUNITY</td>\n",
       "      <td>2</td>\n",
       "    </tr>\n",
       "    <tr>\n",
       "      <th>...</th>\n",
       "      <td>...</td>\n",
       "      <td>...</td>\n",
       "      <td>...</td>\n",
       "      <td>...</td>\n",
       "    </tr>\n",
       "    <tr>\n",
       "      <th>88</th>\n",
       "      <td>RID</td>\n",
       "      <td>ULTRASOUND</td>\n",
       "      <td>GENERAL</td>\n",
       "      <td>30</td>\n",
       "    </tr>\n",
       "    <tr>\n",
       "      <th>89</th>\n",
       "      <td>RID</td>\n",
       "      <td>ULTRASOUND</td>\n",
       "      <td>INVASIVE PROCEDURE</td>\n",
       "      <td>6</td>\n",
       "    </tr>\n",
       "    <tr>\n",
       "      <th>90</th>\n",
       "      <td>RID</td>\n",
       "      <td>ULTRASOUND</td>\n",
       "      <td>SKELETAL MUSCLE</td>\n",
       "      <td>28</td>\n",
       "    </tr>\n",
       "    <tr>\n",
       "      <th>91</th>\n",
       "      <td>RID</td>\n",
       "      <td>X-RAY</td>\n",
       "      <td>CONVENTIONAL</td>\n",
       "      <td>70</td>\n",
       "    </tr>\n",
       "    <tr>\n",
       "      <th>92</th>\n",
       "      <td>VX</td>\n",
       "      <td>VACCINE</td>\n",
       "      <td>VACCINE</td>\n",
       "      <td>27</td>\n",
       "    </tr>\n",
       "  </tbody>\n",
       "</table>\n",
       "<p>93 rows × 4 columns</p>\n",
       "</div>"
      ],
      "text/plain": [
       "   Category      Family          Speciality  CodItem\n",
       "0        CA       COPRO        HIDDEN BLOOD        1\n",
       "1        CA       COPRO        PARASITOLOGY        5\n",
       "2        CA       COPRO       SPECIAL COPRO       18\n",
       "3        CA     CORELAB             ALLERGY      182\n",
       "4        CA     CORELAB        AUTOIMMUNITY        2\n",
       "..      ...         ...                 ...      ...\n",
       "88      RID  ULTRASOUND             GENERAL       30\n",
       "89      RID  ULTRASOUND  INVASIVE PROCEDURE        6\n",
       "90      RID  ULTRASOUND     SKELETAL MUSCLE       28\n",
       "91      RID       X-RAY        CONVENTIONAL       70\n",
       "92       VX     VACCINE             VACCINE       27\n",
       "\n",
       "[93 rows x 4 columns]"
      ]
     },
     "execution_count": 35,
     "metadata": {},
     "output_type": "execute_result"
    }
   ],
   "source": [
    "categorias_testes = test_data.groupby(['Category', 'Family', 'Speciality']).count()[['CodItem']].reset_index()\n",
    "categorias_testes"
   ]
  },
  {
   "cell_type": "code",
   "execution_count": 36,
   "metadata": {},
   "outputs": [
    {
     "data": {
      "application/vnd.plotly.v1+json": {
       "config": {
        "plotlyServerURL": "https://plot.ly"
       },
       "data": [
        {
         "branchvalues": "total",
         "customdata": [
          [
           "RID"
          ],
          [
           "CA"
          ],
          [
           "CA"
          ],
          [
           "CA"
          ],
          [
           "RID"
          ],
          [
           "CA"
          ],
          [
           "RID"
          ],
          [
           "CA"
          ],
          [
           "RID"
          ],
          [
           "CA"
          ],
          [
           "RID"
          ],
          [
           "RID"
          ],
          [
           "FEE"
          ],
          [
           "RID"
          ],
          [
           "RID"
          ],
          [
           "RID"
          ],
          [
           "RID"
          ],
          [
           "RID"
          ],
          [
           "RID"
          ],
          [
           "CA"
          ],
          [
           "FEE"
          ],
          [
           "FEE"
          ],
          [
           "CA"
          ],
          [
           "PA"
          ],
          [
           "CA"
          ],
          [
           "CA"
          ],
          [
           "CA"
          ],
          [
           "CA"
          ],
          [
           "CA"
          ],
          [
           "CA"
          ],
          [
           "RID"
          ],
          [
           "RID"
          ],
          [
           "RID"
          ],
          [
           "RID"
          ],
          [
           "RID"
          ],
          [
           "CA"
          ],
          [
           "RID"
          ],
          [
           "RID"
          ],
          [
           "RID"
          ],
          [
           "RID"
          ],
          [
           "CA"
          ],
          [
           "CA"
          ],
          [
           "CA"
          ],
          [
           "PA"
          ],
          [
           "CA"
          ],
          [
           "CA"
          ],
          [
           "CA"
          ],
          [
           "FEE"
          ],
          [
           "CA"
          ],
          [
           "RID"
          ],
          [
           "CA"
          ],
          [
           "RID"
          ],
          [
           "RID"
          ],
          [
           "RID"
          ],
          [
           "CA"
          ],
          [
           "CA"
          ],
          [
           "CA"
          ],
          [
           "RID"
          ],
          [
           "RID"
          ],
          [
           "CA"
          ],
          [
           "RID"
          ],
          [
           "CA"
          ],
          [
           "CA"
          ],
          [
           "VX"
          ],
          [
           "RID"
          ],
          [
           "RID"
          ],
          [
           "CA                                      "
          ],
          [
           "RID"
          ],
          [
           "CA"
          ],
          [
           "CA"
          ],
          [
           "CA"
          ],
          [
           "CA"
          ],
          [
           "CA"
          ],
          [
           "RID"
          ],
          [
           "RID"
          ],
          [
           "RID"
          ],
          [
           "RID"
          ],
          [
           "RID"
          ],
          [
           "RID"
          ],
          [
           "PA"
          ],
          [
           "RID"
          ],
          [
           "RID"
          ],
          [
           "RID"
          ],
          [
           "RID"
          ],
          [
           "RID"
          ],
          [
           "CA"
          ],
          [
           "RID"
          ],
          [
           "RID"
          ],
          [
           "CA"
          ],
          [
           "PA"
          ],
          [
           "RID"
          ],
          [
           "CA"
          ],
          [
           "RID"
          ],
          [
           "PA"
          ],
          [
           "RID"
          ],
          [
           "CA"
          ],
          [
           "CA"
          ],
          [
           "RID"
          ],
          [
           "PA"
          ],
          [
           "RID"
          ],
          [
           "CA"
          ],
          [
           "FEE"
          ],
          [
           "RID"
          ],
          [
           "CA"
          ],
          [
           "CA                                      "
          ],
          [
           "RID"
          ],
          [
           "CA"
          ],
          [
           "RID"
          ],
          [
           "RID"
          ],
          [
           "CA"
          ],
          [
           "RID"
          ],
          [
           "CA"
          ],
          [
           "CA"
          ],
          [
           "RID"
          ],
          [
           "CA"
          ],
          [
           "VX"
          ],
          [
           "RID"
          ],
          [
           "CA"
          ],
          [
           "CA                                      "
          ],
          [
           "FEE"
          ],
          [
           "PA"
          ],
          [
           "RID"
          ],
          [
           "VX"
          ]
         ],
         "domain": {
          "x": [
           0,
           1
          ],
          "y": [
           0,
           1
          ]
         },
         "hovertemplate": "labels=%{label}<br>CodItem=%{value}<br>parent=%{parent}<br>id=%{id}<br>Category=%{customdata[0]}<extra></extra>",
         "ids": [
          "RID/CARDIO/ABPM",
          "CA/MICROBIO/CULTURE",
          "CA/GENETICS/CYTOGENETIC",
          "CA/HEMATO/CYTOMETRY",
          "RID/DENSITO/DENSITOMETRY",
          "CA/DIAG/DIAGNOSTIC MEDICINE",
          "RID/ULTRASOUND/DOPPLER",
          "CA/TOXICO/DRUG ABUSE",
          "RID/CARDIO/ECHOCARDIOGRAPHY",
          "CA/CORELAB/ELECTROPHORESIS",
          "RID/GASTROENT/ENDOSCOPY",
          "RID/CARDIO/ERGOMETRY",
          "FEE/FEE/FEE",
          "RID/ULTRASOUND/FETAL MEDICINE",
          "RID/MRI/GENERAL",
          "RID/ULTRASOUND/GENERAL",
          "RID/X-RAY/CONVENTIONAL",
          "RID/GENITOURIN/COLPOSCOPY",
          "RID/CT SCAN/FETAL MEDICINE",
          "CA/HEMATO/COAGULATION",
          "FEE/FEE/AC / AP / VACCINE RATE",
          "FEE/FEE/AC RATE",
          "CA/CORELAB/ALLERGY",
          "PA/ANATOMO/ANATOMOPATHOLOGICAL",
          "CA/MICROBIO/BACTEROSCOPY",
          "CA/CORELAB/BIOCHEMISTRY",
          "CA/GENETICS/BIOMOLECULAR",
          "CA/CORELAB/AUTOIMMUNITY",
          "CA/CORELAB/BLOOD GAS",
          "CA/CORELAB/CARDIAC MARKERS",
          "RID/INTERNAL/CARDIOTOCOGRAPHY",
          "RID/CT SCAN/CARDIOVASCULAR",
          "RID/MRI/CARDIOVASCULAR",
          "RID/CT SCAN/CHEST",
          "RID/MRI/CHEST",
          "CA/HEMATO/BLOOD COUNT",
          "RID/GASTROENT/COLONOSCOPY",
          "RID/CARDIO/GRAPHICAL METHODS",
          "RID/CT SCAN/HEAD AND NECK",
          "RID/MRI/HEAD AND NECK",
          "CA/HEMATO/HEMATOCYTOLOGY",
          "CA/COPRO/HIDDEN BLOOD",
          "CA/HEMATO/IMMUNOHEMATOLOGY",
          "PA/ANATOMO/IMMUNOHISTOCHEMISTRY",
          "CA/HEMATO/IMMUNOFETOTYPING",
          "CA/GENETICS/HLA",
          "CA/CORELAB/POCT",
          "FEE/FEE/RESEARCH FEE",
          "CA/URINE/ROUTINE",
          "RID/INTERNAL/SCINTILOGRAPHY",
          "CA/NEONATO/SCREENING",
          "RID/CT SCAN/SKELETAL MUSCLE",
          "RID/MRI/SKELETAL MUSCLE",
          "RID/ULTRASOUND/SKELETAL MUSCLE",
          "CA/URINE/SPECIAL",
          "CA/COPRO/SPECIAL COPRO",
          "CA/GENETICS/SPECIAL GENETICS",
          "RID/CT SCAN/SPINE",
          "RID/MRI/SPINE",
          "CA/TOXICO/THERAPEUTIC DRUG",
          "RID/GASTROENT/THERAPY",
          "CA/TOXICO/TOXICOLOGY",
          "CA/MICROBIO/UROCULTURE",
          "VX/VACCINE/VACCINE",
          "RID/CT SCAN/VASCULAR",
          "RID/MRI/VASCULAR",
          "CA                                      /GENETICS/SPECIAL GENETICS",
          "RID/GENITOURIN/PENISCOPY",
          "CA/CORELAB/IMMUNOHORMONE",
          "CA/COPRO/PARASITOLOGY",
          "CA/TOXICO/VITAMINS",
          "CA/NEONATO/INBORN ERRORS",
          "CA/CORELAB/INFECTIOUS",
          "RID/CT SCAN/INTERNAL MEDICINE",
          "RID/MRI/INTERNAL MEDICINE",
          "RID/GASTROENT/INVASIVE PROCEDURE",
          "RID/MAMMO/INVASIVE PROCEDURE",
          "RID/ULTRASOUND/INVASIVE PROCEDURE",
          "RID/GASTROENT/LARYNGOSCOPY",
          "PA/CYTO/LIQUID CYTOLOGY",
          "RID/MRI/MAMA",
          "RID/MAMMO/MAMMOGRAPHY",
          "RID/CT SCAN/MAT / MED",
          "RID/MAMMO/MAT / MED",
          "RID/MRI/MAT / MED",
          "CA/MICROBIO/MYCOLOGY",
          "RID/CT SCAN/NEURAL",
          "RID/MRI/NEURAL",
          "CA/TOXICO/OCCUPATIONAL",
          "PA/CYTO/ONCOTIC CYTOLOGY",
          "RID/CT SCAN/OTHERS",
          "CA/GENETICS/PATERNITY",
          "RID/GENITOURIN/VULVOSCOPY",
          "PA/ANATOMO",
          "RID/CARDIO",
          "CA/COPRO",
          "CA/CORELAB",
          "RID/CT SCAN",
          "PA/CYTO",
          "RID/DENSITO",
          "CA/DIAG",
          "FEE/FEE",
          "RID/GASTROENT",
          "CA/GENETICS",
          "CA                                      /GENETICS",
          "RID/GENITOURIN",
          "CA/HEMATO",
          "RID/INTERNAL",
          "RID/MAMMO",
          "CA/MICROBIO",
          "RID/MRI",
          "CA/NEONATO",
          "CA/TOXICO",
          "RID/ULTRASOUND",
          "CA/URINE",
          "VX/VACCINE",
          "RID/X-RAY",
          "CA",
          "CA                                      ",
          "FEE",
          "PA",
          "RID",
          "VX"
         ],
         "labels": [
          "ABPM",
          "CULTURE",
          "CYTOGENETIC",
          "CYTOMETRY",
          "DENSITOMETRY",
          "DIAGNOSTIC MEDICINE",
          "DOPPLER",
          "DRUG ABUSE",
          "ECHOCARDIOGRAPHY",
          "ELECTROPHORESIS",
          "ENDOSCOPY",
          "ERGOMETRY",
          "FEE",
          "FETAL MEDICINE",
          "GENERAL",
          "GENERAL",
          "CONVENTIONAL",
          "COLPOSCOPY",
          "FETAL MEDICINE",
          "COAGULATION",
          "AC / AP / VACCINE RATE",
          "AC RATE",
          "ALLERGY",
          "ANATOMOPATHOLOGICAL",
          "BACTEROSCOPY",
          "BIOCHEMISTRY",
          "BIOMOLECULAR",
          "AUTOIMMUNITY",
          "BLOOD GAS",
          "CARDIAC MARKERS",
          "CARDIOTOCOGRAPHY",
          "CARDIOVASCULAR",
          "CARDIOVASCULAR",
          "CHEST",
          "CHEST",
          "BLOOD COUNT",
          "COLONOSCOPY",
          "GRAPHICAL METHODS",
          "HEAD AND NECK",
          "HEAD AND NECK",
          "HEMATOCYTOLOGY",
          "HIDDEN BLOOD",
          "IMMUNOHEMATOLOGY",
          "IMMUNOHISTOCHEMISTRY",
          "IMMUNOFETOTYPING",
          "HLA",
          "POCT",
          "RESEARCH FEE",
          "ROUTINE",
          "SCINTILOGRAPHY",
          "SCREENING",
          "SKELETAL MUSCLE",
          "SKELETAL MUSCLE",
          "SKELETAL MUSCLE",
          "SPECIAL",
          "SPECIAL COPRO",
          "SPECIAL GENETICS",
          "SPINE",
          "SPINE",
          "THERAPEUTIC DRUG",
          "THERAPY",
          "TOXICOLOGY",
          "UROCULTURE",
          "VACCINE",
          "VASCULAR",
          "VASCULAR",
          "SPECIAL GENETICS",
          "PENISCOPY",
          "IMMUNOHORMONE",
          "PARASITOLOGY",
          "VITAMINS",
          "INBORN ERRORS",
          "INFECTIOUS",
          "INTERNAL MEDICINE",
          "INTERNAL MEDICINE",
          "INVASIVE PROCEDURE",
          "INVASIVE PROCEDURE",
          "INVASIVE PROCEDURE",
          "LARYNGOSCOPY",
          "LIQUID CYTOLOGY",
          "MAMA",
          "MAMMOGRAPHY",
          "MAT / MED",
          "MAT / MED",
          "MAT / MED",
          "MYCOLOGY",
          "NEURAL",
          "NEURAL",
          "OCCUPATIONAL",
          "ONCOTIC CYTOLOGY",
          "OTHERS",
          "PATERNITY",
          "VULVOSCOPY",
          "ANATOMO",
          "CARDIO",
          "COPRO",
          "CORELAB",
          "CT SCAN",
          "CYTO",
          "DENSITO",
          "DIAG",
          "FEE",
          "GASTROENT",
          "GENETICS",
          "GENETICS",
          "GENITOURIN",
          "HEMATO",
          "INTERNAL",
          "MAMMO",
          "MICROBIO",
          "MRI",
          "NEONATO",
          "TOXICO",
          "ULTRASOUND",
          "URINE",
          "VACCINE",
          "X-RAY",
          "CA",
          "CA                                      ",
          "FEE",
          "PA",
          "RID",
          "VX"
         ],
         "marker": {
          "colors": [
           "#D9D9D9",
           "#59220E",
           "#59220E",
           "#59220E",
           "#D9D9D9",
           "#59220E",
           "#D9D9D9",
           "#59220E",
           "#D9D9D9",
           "#59220E",
           "#D9D9D9",
           "#D9D9D9",
           "#BF9D7E",
           "#D9D9D9",
           "#D9D9D9",
           "#D9D9D9",
           "#D9D9D9",
           "#D9D9D9",
           "#D9D9D9",
           "#59220E",
           "#BF9D7E",
           "#BF9D7E",
           "#59220E",
           "#8C7D77",
           "#59220E",
           "#59220E",
           "#59220E",
           "#59220E",
           "#59220E",
           "#59220E",
           "#D9D9D9",
           "#D9D9D9",
           "#D9D9D9",
           "#D9D9D9",
           "#D9D9D9",
           "#59220E",
           "#D9D9D9",
           "#D9D9D9",
           "#D9D9D9",
           "#D9D9D9",
           "#59220E",
           "#59220E",
           "#59220E",
           "#8C7D77",
           "#59220E",
           "#59220E",
           "#59220E",
           "#BF9D7E",
           "#59220E",
           "#D9D9D9",
           "#59220E",
           "#D9D9D9",
           "#D9D9D9",
           "#D9D9D9",
           "#59220E",
           "#59220E",
           "#59220E",
           "#D9D9D9",
           "#D9D9D9",
           "#59220E",
           "#D9D9D9",
           "#59220E",
           "#59220E",
           "#733C30",
           "#D9D9D9",
           "#D9D9D9",
           "#ac3a4e",
           "#D9D9D9",
           "#59220E",
           "#59220E",
           "#59220E",
           "#59220E",
           "#59220E",
           "#D9D9D9",
           "#D9D9D9",
           "#D9D9D9",
           "#D9D9D9",
           "#D9D9D9",
           "#D9D9D9",
           "#8C7D77",
           "#D9D9D9",
           "#D9D9D9",
           "#D9D9D9",
           "#D9D9D9",
           "#D9D9D9",
           "#59220E",
           "#D9D9D9",
           "#D9D9D9",
           "#59220E",
           "#8C7D77",
           "#D9D9D9",
           "#59220E",
           "#D9D9D9",
           "#8C7D77",
           "#D9D9D9",
           "#59220E",
           "#59220E",
           "#D9D9D9",
           "#8C7D77",
           "#D9D9D9",
           "#59220E",
           "#BF9D7E",
           "#D9D9D9",
           "#59220E",
           "#ac3a4e",
           "#D9D9D9",
           "#59220E",
           "#D9D9D9",
           "#D9D9D9",
           "#59220E",
           "#D9D9D9",
           "#59220E",
           "#59220E",
           "#D9D9D9",
           "#59220E",
           "#733C30",
           "#D9D9D9",
           "#59220E",
           "#ac3a4e",
           "#BF9D7E",
           "#8C7D77",
           "#D9D9D9",
           "#733C30"
          ]
         },
         "name": "",
         "parents": [
          "RID/CARDIO",
          "CA/MICROBIO",
          "CA/GENETICS",
          "CA/HEMATO",
          "RID/DENSITO",
          "CA/DIAG",
          "RID/ULTRASOUND",
          "CA/TOXICO",
          "RID/CARDIO",
          "CA/CORELAB",
          "RID/GASTROENT",
          "RID/CARDIO",
          "FEE/FEE",
          "RID/ULTRASOUND",
          "RID/MRI",
          "RID/ULTRASOUND",
          "RID/X-RAY",
          "RID/GENITOURIN",
          "RID/CT SCAN",
          "CA/HEMATO",
          "FEE/FEE",
          "FEE/FEE",
          "CA/CORELAB",
          "PA/ANATOMO",
          "CA/MICROBIO",
          "CA/CORELAB",
          "CA/GENETICS",
          "CA/CORELAB",
          "CA/CORELAB",
          "CA/CORELAB",
          "RID/INTERNAL",
          "RID/CT SCAN",
          "RID/MRI",
          "RID/CT SCAN",
          "RID/MRI",
          "CA/HEMATO",
          "RID/GASTROENT",
          "RID/CARDIO",
          "RID/CT SCAN",
          "RID/MRI",
          "CA/HEMATO",
          "CA/COPRO",
          "CA/HEMATO",
          "PA/ANATOMO",
          "CA/HEMATO",
          "CA/GENETICS",
          "CA/CORELAB",
          "FEE/FEE",
          "CA/URINE",
          "RID/INTERNAL",
          "CA/NEONATO",
          "RID/CT SCAN",
          "RID/MRI",
          "RID/ULTRASOUND",
          "CA/URINE",
          "CA/COPRO",
          "CA/GENETICS",
          "RID/CT SCAN",
          "RID/MRI",
          "CA/TOXICO",
          "RID/GASTROENT",
          "CA/TOXICO",
          "CA/MICROBIO",
          "VX/VACCINE",
          "RID/CT SCAN",
          "RID/MRI",
          "CA                                      /GENETICS",
          "RID/GENITOURIN",
          "CA/CORELAB",
          "CA/COPRO",
          "CA/TOXICO",
          "CA/NEONATO",
          "CA/CORELAB",
          "RID/CT SCAN",
          "RID/MRI",
          "RID/GASTROENT",
          "RID/MAMMO",
          "RID/ULTRASOUND",
          "RID/GASTROENT",
          "PA/CYTO",
          "RID/MRI",
          "RID/MAMMO",
          "RID/CT SCAN",
          "RID/MAMMO",
          "RID/MRI",
          "CA/MICROBIO",
          "RID/CT SCAN",
          "RID/MRI",
          "CA/TOXICO",
          "PA/CYTO",
          "RID/CT SCAN",
          "CA/GENETICS",
          "RID/GENITOURIN",
          "PA",
          "RID",
          "CA",
          "CA",
          "RID",
          "PA",
          "RID",
          "CA",
          "FEE",
          "RID",
          "CA",
          "CA                                      ",
          "RID",
          "CA",
          "RID",
          "RID",
          "CA",
          "RID",
          "CA",
          "CA",
          "RID",
          "CA",
          "VX",
          "RID",
          "",
          "",
          "",
          "",
          "",
          ""
         ],
         "type": "treemap",
         "values": [
          1,
          17,
          7,
          16,
          4,
          1,
          35,
          4,
          6,
          7,
          2,
          1,
          4,
          17,
          1,
          30,
          70,
          5,
          1,
          37,
          2,
          1,
          182,
          6,
          24,
          248,
          57,
          2,
          1,
          8,
          1,
          2,
          1,
          2,
          1,
          16,
          3,
          2,
          10,
          5,
          20,
          1,
          10,
          1,
          4,
          7,
          1,
          1,
          19,
          11,
          12,
          24,
          36,
          28,
          4,
          18,
          181,
          3,
          7,
          28,
          1,
          4,
          3,
          27,
          12,
          6,
          1,
          2,
          472,
          5,
          11,
          10,
          69,
          4,
          10,
          1,
          1,
          6,
          1,
          1,
          1,
          3,
          1,
          1,
          1,
          8,
          1,
          9,
          59,
          6,
          1,
          5,
          2,
          7,
          10,
          24,
          990,
          61,
          7,
          4,
          1,
          8,
          8,
          257,
          1,
          9,
          103,
          12,
          5,
          52,
          78,
          22,
          106,
          116,
          23,
          27,
          70,
          1578,
          1,
          8,
          14,
          373,
          27
         ]
        }
       ],
       "layout": {
        "height": 700,
        "legend": {
         "tracegroupgap": 0
        },
        "template": {
         "data": {
          "bar": [
           {
            "error_x": {
             "color": "#2a3f5f"
            },
            "error_y": {
             "color": "#2a3f5f"
            },
            "marker": {
             "line": {
              "color": "#E5ECF6",
              "width": 0.5
             },
             "pattern": {
              "fillmode": "overlay",
              "size": 10,
              "solidity": 0.2
             }
            },
            "type": "bar"
           }
          ],
          "barpolar": [
           {
            "marker": {
             "line": {
              "color": "#E5ECF6",
              "width": 0.5
             },
             "pattern": {
              "fillmode": "overlay",
              "size": 10,
              "solidity": 0.2
             }
            },
            "type": "barpolar"
           }
          ],
          "carpet": [
           {
            "aaxis": {
             "endlinecolor": "#2a3f5f",
             "gridcolor": "white",
             "linecolor": "white",
             "minorgridcolor": "white",
             "startlinecolor": "#2a3f5f"
            },
            "baxis": {
             "endlinecolor": "#2a3f5f",
             "gridcolor": "white",
             "linecolor": "white",
             "minorgridcolor": "white",
             "startlinecolor": "#2a3f5f"
            },
            "type": "carpet"
           }
          ],
          "choropleth": [
           {
            "colorbar": {
             "outlinewidth": 0,
             "ticks": ""
            },
            "type": "choropleth"
           }
          ],
          "contour": [
           {
            "colorbar": {
             "outlinewidth": 0,
             "ticks": ""
            },
            "colorscale": [
             [
              0,
              "#0d0887"
             ],
             [
              0.1111111111111111,
              "#46039f"
             ],
             [
              0.2222222222222222,
              "#7201a8"
             ],
             [
              0.3333333333333333,
              "#9c179e"
             ],
             [
              0.4444444444444444,
              "#bd3786"
             ],
             [
              0.5555555555555556,
              "#d8576b"
             ],
             [
              0.6666666666666666,
              "#ed7953"
             ],
             [
              0.7777777777777778,
              "#fb9f3a"
             ],
             [
              0.8888888888888888,
              "#fdca26"
             ],
             [
              1,
              "#f0f921"
             ]
            ],
            "type": "contour"
           }
          ],
          "contourcarpet": [
           {
            "colorbar": {
             "outlinewidth": 0,
             "ticks": ""
            },
            "type": "contourcarpet"
           }
          ],
          "heatmap": [
           {
            "colorbar": {
             "outlinewidth": 0,
             "ticks": ""
            },
            "colorscale": [
             [
              0,
              "#0d0887"
             ],
             [
              0.1111111111111111,
              "#46039f"
             ],
             [
              0.2222222222222222,
              "#7201a8"
             ],
             [
              0.3333333333333333,
              "#9c179e"
             ],
             [
              0.4444444444444444,
              "#bd3786"
             ],
             [
              0.5555555555555556,
              "#d8576b"
             ],
             [
              0.6666666666666666,
              "#ed7953"
             ],
             [
              0.7777777777777778,
              "#fb9f3a"
             ],
             [
              0.8888888888888888,
              "#fdca26"
             ],
             [
              1,
              "#f0f921"
             ]
            ],
            "type": "heatmap"
           }
          ],
          "heatmapgl": [
           {
            "colorbar": {
             "outlinewidth": 0,
             "ticks": ""
            },
            "colorscale": [
             [
              0,
              "#0d0887"
             ],
             [
              0.1111111111111111,
              "#46039f"
             ],
             [
              0.2222222222222222,
              "#7201a8"
             ],
             [
              0.3333333333333333,
              "#9c179e"
             ],
             [
              0.4444444444444444,
              "#bd3786"
             ],
             [
              0.5555555555555556,
              "#d8576b"
             ],
             [
              0.6666666666666666,
              "#ed7953"
             ],
             [
              0.7777777777777778,
              "#fb9f3a"
             ],
             [
              0.8888888888888888,
              "#fdca26"
             ],
             [
              1,
              "#f0f921"
             ]
            ],
            "type": "heatmapgl"
           }
          ],
          "histogram": [
           {
            "marker": {
             "pattern": {
              "fillmode": "overlay",
              "size": 10,
              "solidity": 0.2
             }
            },
            "type": "histogram"
           }
          ],
          "histogram2d": [
           {
            "colorbar": {
             "outlinewidth": 0,
             "ticks": ""
            },
            "colorscale": [
             [
              0,
              "#0d0887"
             ],
             [
              0.1111111111111111,
              "#46039f"
             ],
             [
              0.2222222222222222,
              "#7201a8"
             ],
             [
              0.3333333333333333,
              "#9c179e"
             ],
             [
              0.4444444444444444,
              "#bd3786"
             ],
             [
              0.5555555555555556,
              "#d8576b"
             ],
             [
              0.6666666666666666,
              "#ed7953"
             ],
             [
              0.7777777777777778,
              "#fb9f3a"
             ],
             [
              0.8888888888888888,
              "#fdca26"
             ],
             [
              1,
              "#f0f921"
             ]
            ],
            "type": "histogram2d"
           }
          ],
          "histogram2dcontour": [
           {
            "colorbar": {
             "outlinewidth": 0,
             "ticks": ""
            },
            "colorscale": [
             [
              0,
              "#0d0887"
             ],
             [
              0.1111111111111111,
              "#46039f"
             ],
             [
              0.2222222222222222,
              "#7201a8"
             ],
             [
              0.3333333333333333,
              "#9c179e"
             ],
             [
              0.4444444444444444,
              "#bd3786"
             ],
             [
              0.5555555555555556,
              "#d8576b"
             ],
             [
              0.6666666666666666,
              "#ed7953"
             ],
             [
              0.7777777777777778,
              "#fb9f3a"
             ],
             [
              0.8888888888888888,
              "#fdca26"
             ],
             [
              1,
              "#f0f921"
             ]
            ],
            "type": "histogram2dcontour"
           }
          ],
          "mesh3d": [
           {
            "colorbar": {
             "outlinewidth": 0,
             "ticks": ""
            },
            "type": "mesh3d"
           }
          ],
          "parcoords": [
           {
            "line": {
             "colorbar": {
              "outlinewidth": 0,
              "ticks": ""
             }
            },
            "type": "parcoords"
           }
          ],
          "pie": [
           {
            "automargin": true,
            "type": "pie"
           }
          ],
          "scatter": [
           {
            "marker": {
             "colorbar": {
              "outlinewidth": 0,
              "ticks": ""
             }
            },
            "type": "scatter"
           }
          ],
          "scatter3d": [
           {
            "line": {
             "colorbar": {
              "outlinewidth": 0,
              "ticks": ""
             }
            },
            "marker": {
             "colorbar": {
              "outlinewidth": 0,
              "ticks": ""
             }
            },
            "type": "scatter3d"
           }
          ],
          "scattercarpet": [
           {
            "marker": {
             "colorbar": {
              "outlinewidth": 0,
              "ticks": ""
             }
            },
            "type": "scattercarpet"
           }
          ],
          "scattergeo": [
           {
            "marker": {
             "colorbar": {
              "outlinewidth": 0,
              "ticks": ""
             }
            },
            "type": "scattergeo"
           }
          ],
          "scattergl": [
           {
            "marker": {
             "colorbar": {
              "outlinewidth": 0,
              "ticks": ""
             }
            },
            "type": "scattergl"
           }
          ],
          "scattermapbox": [
           {
            "marker": {
             "colorbar": {
              "outlinewidth": 0,
              "ticks": ""
             }
            },
            "type": "scattermapbox"
           }
          ],
          "scatterpolar": [
           {
            "marker": {
             "colorbar": {
              "outlinewidth": 0,
              "ticks": ""
             }
            },
            "type": "scatterpolar"
           }
          ],
          "scatterpolargl": [
           {
            "marker": {
             "colorbar": {
              "outlinewidth": 0,
              "ticks": ""
             }
            },
            "type": "scatterpolargl"
           }
          ],
          "scatterternary": [
           {
            "marker": {
             "colorbar": {
              "outlinewidth": 0,
              "ticks": ""
             }
            },
            "type": "scatterternary"
           }
          ],
          "surface": [
           {
            "colorbar": {
             "outlinewidth": 0,
             "ticks": ""
            },
            "colorscale": [
             [
              0,
              "#0d0887"
             ],
             [
              0.1111111111111111,
              "#46039f"
             ],
             [
              0.2222222222222222,
              "#7201a8"
             ],
             [
              0.3333333333333333,
              "#9c179e"
             ],
             [
              0.4444444444444444,
              "#bd3786"
             ],
             [
              0.5555555555555556,
              "#d8576b"
             ],
             [
              0.6666666666666666,
              "#ed7953"
             ],
             [
              0.7777777777777778,
              "#fb9f3a"
             ],
             [
              0.8888888888888888,
              "#fdca26"
             ],
             [
              1,
              "#f0f921"
             ]
            ],
            "type": "surface"
           }
          ],
          "table": [
           {
            "cells": {
             "fill": {
              "color": "#EBF0F8"
             },
             "line": {
              "color": "white"
             }
            },
            "header": {
             "fill": {
              "color": "#C8D4E3"
             },
             "line": {
              "color": "white"
             }
            },
            "type": "table"
           }
          ]
         },
         "layout": {
          "annotationdefaults": {
           "arrowcolor": "#2a3f5f",
           "arrowhead": 0,
           "arrowwidth": 1
          },
          "autotypenumbers": "strict",
          "coloraxis": {
           "colorbar": {
            "outlinewidth": 0,
            "ticks": ""
           }
          },
          "colorscale": {
           "diverging": [
            [
             0,
             "#8e0152"
            ],
            [
             0.1,
             "#c51b7d"
            ],
            [
             0.2,
             "#de77ae"
            ],
            [
             0.3,
             "#f1b6da"
            ],
            [
             0.4,
             "#fde0ef"
            ],
            [
             0.5,
             "#f7f7f7"
            ],
            [
             0.6,
             "#e6f5d0"
            ],
            [
             0.7,
             "#b8e186"
            ],
            [
             0.8,
             "#7fbc41"
            ],
            [
             0.9,
             "#4d9221"
            ],
            [
             1,
             "#276419"
            ]
           ],
           "sequential": [
            [
             0,
             "#0d0887"
            ],
            [
             0.1111111111111111,
             "#46039f"
            ],
            [
             0.2222222222222222,
             "#7201a8"
            ],
            [
             0.3333333333333333,
             "#9c179e"
            ],
            [
             0.4444444444444444,
             "#bd3786"
            ],
            [
             0.5555555555555556,
             "#d8576b"
            ],
            [
             0.6666666666666666,
             "#ed7953"
            ],
            [
             0.7777777777777778,
             "#fb9f3a"
            ],
            [
             0.8888888888888888,
             "#fdca26"
            ],
            [
             1,
             "#f0f921"
            ]
           ],
           "sequentialminus": [
            [
             0,
             "#0d0887"
            ],
            [
             0.1111111111111111,
             "#46039f"
            ],
            [
             0.2222222222222222,
             "#7201a8"
            ],
            [
             0.3333333333333333,
             "#9c179e"
            ],
            [
             0.4444444444444444,
             "#bd3786"
            ],
            [
             0.5555555555555556,
             "#d8576b"
            ],
            [
             0.6666666666666666,
             "#ed7953"
            ],
            [
             0.7777777777777778,
             "#fb9f3a"
            ],
            [
             0.8888888888888888,
             "#fdca26"
            ],
            [
             1,
             "#f0f921"
            ]
           ]
          },
          "colorway": [
           "#636efa",
           "#EF553B",
           "#00cc96",
           "#ab63fa",
           "#FFA15A",
           "#19d3f3",
           "#FF6692",
           "#B6E880",
           "#FF97FF",
           "#FECB52"
          ],
          "font": {
           "color": "#2a3f5f"
          },
          "geo": {
           "bgcolor": "white",
           "lakecolor": "white",
           "landcolor": "#E5ECF6",
           "showlakes": true,
           "showland": true,
           "subunitcolor": "white"
          },
          "hoverlabel": {
           "align": "left"
          },
          "hovermode": "closest",
          "mapbox": {
           "style": "light"
          },
          "paper_bgcolor": "white",
          "plot_bgcolor": "#E5ECF6",
          "polar": {
           "angularaxis": {
            "gridcolor": "white",
            "linecolor": "white",
            "ticks": ""
           },
           "bgcolor": "#E5ECF6",
           "radialaxis": {
            "gridcolor": "white",
            "linecolor": "white",
            "ticks": ""
           }
          },
          "scene": {
           "xaxis": {
            "backgroundcolor": "#E5ECF6",
            "gridcolor": "white",
            "gridwidth": 2,
            "linecolor": "white",
            "showbackground": true,
            "ticks": "",
            "zerolinecolor": "white"
           },
           "yaxis": {
            "backgroundcolor": "#E5ECF6",
            "gridcolor": "white",
            "gridwidth": 2,
            "linecolor": "white",
            "showbackground": true,
            "ticks": "",
            "zerolinecolor": "white"
           },
           "zaxis": {
            "backgroundcolor": "#E5ECF6",
            "gridcolor": "white",
            "gridwidth": 2,
            "linecolor": "white",
            "showbackground": true,
            "ticks": "",
            "zerolinecolor": "white"
           }
          },
          "shapedefaults": {
           "line": {
            "color": "#2a3f5f"
           }
          },
          "ternary": {
           "aaxis": {
            "gridcolor": "white",
            "linecolor": "white",
            "ticks": ""
           },
           "baxis": {
            "gridcolor": "white",
            "linecolor": "white",
            "ticks": ""
           },
           "bgcolor": "#E5ECF6",
           "caxis": {
            "gridcolor": "white",
            "linecolor": "white",
            "ticks": ""
           }
          },
          "title": {
           "x": 0.05
          },
          "xaxis": {
           "automargin": true,
           "gridcolor": "white",
           "linecolor": "white",
           "ticks": "",
           "title": {
            "standoff": 15
           },
           "zerolinecolor": "white",
           "zerolinewidth": 2
          },
          "yaxis": {
           "automargin": true,
           "gridcolor": "white",
           "linecolor": "white",
           "ticks": "",
           "title": {
            "standoff": 15
           },
           "zerolinecolor": "white",
           "zerolinewidth": 2
          }
         }
        },
        "title": {
         "text": "Testes por Category, Family e Speciality"
        },
        "treemapcolorway": [
         "#D9D9D9",
         "#59220E",
         "#BF9D7E",
         "#8C7D77",
         "#733C30",
         "#ac3a4e"
        ],
        "width": 1000
       }
      },
      "text/html": [
       "<div>                            <div id=\"20e8c770-bc5a-414e-85c6-dcb5c9f6cda4\" class=\"plotly-graph-div\" style=\"height:700px; width:1000px;\"></div>            <script type=\"text/javascript\">                require([\"plotly\"], function(Plotly) {                    window.PLOTLYENV=window.PLOTLYENV || {};                                    if (document.getElementById(\"20e8c770-bc5a-414e-85c6-dcb5c9f6cda4\")) {                    Plotly.newPlot(                        \"20e8c770-bc5a-414e-85c6-dcb5c9f6cda4\",                        [{\"branchvalues\":\"total\",\"customdata\":[[\"RID\"],[\"CA\"],[\"CA\"],[\"CA\"],[\"RID\"],[\"CA\"],[\"RID\"],[\"CA\"],[\"RID\"],[\"CA\"],[\"RID\"],[\"RID\"],[\"FEE\"],[\"RID\"],[\"RID\"],[\"RID\"],[\"RID\"],[\"RID\"],[\"RID\"],[\"CA\"],[\"FEE\"],[\"FEE\"],[\"CA\"],[\"PA\"],[\"CA\"],[\"CA\"],[\"CA\"],[\"CA\"],[\"CA\"],[\"CA\"],[\"RID\"],[\"RID\"],[\"RID\"],[\"RID\"],[\"RID\"],[\"CA\"],[\"RID\"],[\"RID\"],[\"RID\"],[\"RID\"],[\"CA\"],[\"CA\"],[\"CA\"],[\"PA\"],[\"CA\"],[\"CA\"],[\"CA\"],[\"FEE\"],[\"CA\"],[\"RID\"],[\"CA\"],[\"RID\"],[\"RID\"],[\"RID\"],[\"CA\"],[\"CA\"],[\"CA\"],[\"RID\"],[\"RID\"],[\"CA\"],[\"RID\"],[\"CA\"],[\"CA\"],[\"VX\"],[\"RID\"],[\"RID\"],[\"CA                                      \"],[\"RID\"],[\"CA\"],[\"CA\"],[\"CA\"],[\"CA\"],[\"CA\"],[\"RID\"],[\"RID\"],[\"RID\"],[\"RID\"],[\"RID\"],[\"RID\"],[\"PA\"],[\"RID\"],[\"RID\"],[\"RID\"],[\"RID\"],[\"RID\"],[\"CA\"],[\"RID\"],[\"RID\"],[\"CA\"],[\"PA\"],[\"RID\"],[\"CA\"],[\"RID\"],[\"PA\"],[\"RID\"],[\"CA\"],[\"CA\"],[\"RID\"],[\"PA\"],[\"RID\"],[\"CA\"],[\"FEE\"],[\"RID\"],[\"CA\"],[\"CA                                      \"],[\"RID\"],[\"CA\"],[\"RID\"],[\"RID\"],[\"CA\"],[\"RID\"],[\"CA\"],[\"CA\"],[\"RID\"],[\"CA\"],[\"VX\"],[\"RID\"],[\"CA\"],[\"CA                                      \"],[\"FEE\"],[\"PA\"],[\"RID\"],[\"VX\"]],\"domain\":{\"x\":[0.0,1.0],\"y\":[0.0,1.0]},\"hovertemplate\":\"labels=%{label}<br>CodItem=%{value}<br>parent=%{parent}<br>id=%{id}<br>Category=%{customdata[0]}<extra></extra>\",\"ids\":[\"RID/CARDIO/ABPM\",\"CA/MICROBIO/CULTURE\",\"CA/GENETICS/CYTOGENETIC\",\"CA/HEMATO/CYTOMETRY\",\"RID/DENSITO/DENSITOMETRY\",\"CA/DIAG/DIAGNOSTIC MEDICINE\",\"RID/ULTRASOUND/DOPPLER\",\"CA/TOXICO/DRUG ABUSE\",\"RID/CARDIO/ECHOCARDIOGRAPHY\",\"CA/CORELAB/ELECTROPHORESIS\",\"RID/GASTROENT/ENDOSCOPY\",\"RID/CARDIO/ERGOMETRY\",\"FEE/FEE/FEE\",\"RID/ULTRASOUND/FETAL MEDICINE\",\"RID/MRI/GENERAL\",\"RID/ULTRASOUND/GENERAL\",\"RID/X-RAY/CONVENTIONAL\",\"RID/GENITOURIN/COLPOSCOPY\",\"RID/CT SCAN/FETAL MEDICINE\",\"CA/HEMATO/COAGULATION\",\"FEE/FEE/AC / AP / VACCINE RATE\",\"FEE/FEE/AC RATE\",\"CA/CORELAB/ALLERGY\",\"PA/ANATOMO/ANATOMOPATHOLOGICAL\",\"CA/MICROBIO/BACTEROSCOPY\",\"CA/CORELAB/BIOCHEMISTRY\",\"CA/GENETICS/BIOMOLECULAR\",\"CA/CORELAB/AUTOIMMUNITY\",\"CA/CORELAB/BLOOD GAS\",\"CA/CORELAB/CARDIAC MARKERS\",\"RID/INTERNAL/CARDIOTOCOGRAPHY\",\"RID/CT SCAN/CARDIOVASCULAR\",\"RID/MRI/CARDIOVASCULAR\",\"RID/CT SCAN/CHEST\",\"RID/MRI/CHEST\",\"CA/HEMATO/BLOOD COUNT\",\"RID/GASTROENT/COLONOSCOPY\",\"RID/CARDIO/GRAPHICAL METHODS\",\"RID/CT SCAN/HEAD AND NECK\",\"RID/MRI/HEAD AND NECK\",\"CA/HEMATO/HEMATOCYTOLOGY\",\"CA/COPRO/HIDDEN BLOOD\",\"CA/HEMATO/IMMUNOHEMATOLOGY\",\"PA/ANATOMO/IMMUNOHISTOCHEMISTRY\",\"CA/HEMATO/IMMUNOFETOTYPING\",\"CA/GENETICS/HLA\",\"CA/CORELAB/POCT\",\"FEE/FEE/RESEARCH FEE\",\"CA/URINE/ROUTINE\",\"RID/INTERNAL/SCINTILOGRAPHY\",\"CA/NEONATO/SCREENING\",\"RID/CT SCAN/SKELETAL MUSCLE\",\"RID/MRI/SKELETAL MUSCLE\",\"RID/ULTRASOUND/SKELETAL MUSCLE\",\"CA/URINE/SPECIAL\",\"CA/COPRO/SPECIAL COPRO\",\"CA/GENETICS/SPECIAL GENETICS\",\"RID/CT SCAN/SPINE\",\"RID/MRI/SPINE\",\"CA/TOXICO/THERAPEUTIC DRUG\",\"RID/GASTROENT/THERAPY\",\"CA/TOXICO/TOXICOLOGY\",\"CA/MICROBIO/UROCULTURE\",\"VX/VACCINE/VACCINE\",\"RID/CT SCAN/VASCULAR\",\"RID/MRI/VASCULAR\",\"CA                                      /GENETICS/SPECIAL GENETICS\",\"RID/GENITOURIN/PENISCOPY\",\"CA/CORELAB/IMMUNOHORMONE\",\"CA/COPRO/PARASITOLOGY\",\"CA/TOXICO/VITAMINS\",\"CA/NEONATO/INBORN ERRORS\",\"CA/CORELAB/INFECTIOUS\",\"RID/CT SCAN/INTERNAL MEDICINE\",\"RID/MRI/INTERNAL MEDICINE\",\"RID/GASTROENT/INVASIVE PROCEDURE\",\"RID/MAMMO/INVASIVE PROCEDURE\",\"RID/ULTRASOUND/INVASIVE PROCEDURE\",\"RID/GASTROENT/LARYNGOSCOPY\",\"PA/CYTO/LIQUID CYTOLOGY\",\"RID/MRI/MAMA\",\"RID/MAMMO/MAMMOGRAPHY\",\"RID/CT SCAN/MAT / MED\",\"RID/MAMMO/MAT / MED\",\"RID/MRI/MAT / MED\",\"CA/MICROBIO/MYCOLOGY\",\"RID/CT SCAN/NEURAL\",\"RID/MRI/NEURAL\",\"CA/TOXICO/OCCUPATIONAL\",\"PA/CYTO/ONCOTIC CYTOLOGY\",\"RID/CT SCAN/OTHERS\",\"CA/GENETICS/PATERNITY\",\"RID/GENITOURIN/VULVOSCOPY\",\"PA/ANATOMO\",\"RID/CARDIO\",\"CA/COPRO\",\"CA/CORELAB\",\"RID/CT SCAN\",\"PA/CYTO\",\"RID/DENSITO\",\"CA/DIAG\",\"FEE/FEE\",\"RID/GASTROENT\",\"CA/GENETICS\",\"CA                                      /GENETICS\",\"RID/GENITOURIN\",\"CA/HEMATO\",\"RID/INTERNAL\",\"RID/MAMMO\",\"CA/MICROBIO\",\"RID/MRI\",\"CA/NEONATO\",\"CA/TOXICO\",\"RID/ULTRASOUND\",\"CA/URINE\",\"VX/VACCINE\",\"RID/X-RAY\",\"CA\",\"CA                                      \",\"FEE\",\"PA\",\"RID\",\"VX\"],\"labels\":[\"ABPM\",\"CULTURE\",\"CYTOGENETIC\",\"CYTOMETRY\",\"DENSITOMETRY\",\"DIAGNOSTIC MEDICINE\",\"DOPPLER\",\"DRUG ABUSE\",\"ECHOCARDIOGRAPHY\",\"ELECTROPHORESIS\",\"ENDOSCOPY\",\"ERGOMETRY\",\"FEE\",\"FETAL MEDICINE\",\"GENERAL\",\"GENERAL\",\"CONVENTIONAL\",\"COLPOSCOPY\",\"FETAL MEDICINE\",\"COAGULATION\",\"AC / AP / VACCINE RATE\",\"AC RATE\",\"ALLERGY\",\"ANATOMOPATHOLOGICAL\",\"BACTEROSCOPY\",\"BIOCHEMISTRY\",\"BIOMOLECULAR\",\"AUTOIMMUNITY\",\"BLOOD GAS\",\"CARDIAC MARKERS\",\"CARDIOTOCOGRAPHY\",\"CARDIOVASCULAR\",\"CARDIOVASCULAR\",\"CHEST\",\"CHEST\",\"BLOOD COUNT\",\"COLONOSCOPY\",\"GRAPHICAL METHODS\",\"HEAD AND NECK\",\"HEAD AND NECK\",\"HEMATOCYTOLOGY\",\"HIDDEN BLOOD\",\"IMMUNOHEMATOLOGY\",\"IMMUNOHISTOCHEMISTRY\",\"IMMUNOFETOTYPING\",\"HLA\",\"POCT\",\"RESEARCH FEE\",\"ROUTINE\",\"SCINTILOGRAPHY\",\"SCREENING\",\"SKELETAL MUSCLE\",\"SKELETAL MUSCLE\",\"SKELETAL MUSCLE\",\"SPECIAL\",\"SPECIAL COPRO\",\"SPECIAL GENETICS\",\"SPINE\",\"SPINE\",\"THERAPEUTIC DRUG\",\"THERAPY\",\"TOXICOLOGY\",\"UROCULTURE\",\"VACCINE\",\"VASCULAR\",\"VASCULAR\",\"SPECIAL GENETICS\",\"PENISCOPY\",\"IMMUNOHORMONE\",\"PARASITOLOGY\",\"VITAMINS\",\"INBORN ERRORS\",\"INFECTIOUS\",\"INTERNAL MEDICINE\",\"INTERNAL MEDICINE\",\"INVASIVE PROCEDURE\",\"INVASIVE PROCEDURE\",\"INVASIVE PROCEDURE\",\"LARYNGOSCOPY\",\"LIQUID CYTOLOGY\",\"MAMA\",\"MAMMOGRAPHY\",\"MAT / MED\",\"MAT / MED\",\"MAT / MED\",\"MYCOLOGY\",\"NEURAL\",\"NEURAL\",\"OCCUPATIONAL\",\"ONCOTIC CYTOLOGY\",\"OTHERS\",\"PATERNITY\",\"VULVOSCOPY\",\"ANATOMO\",\"CARDIO\",\"COPRO\",\"CORELAB\",\"CT SCAN\",\"CYTO\",\"DENSITO\",\"DIAG\",\"FEE\",\"GASTROENT\",\"GENETICS\",\"GENETICS\",\"GENITOURIN\",\"HEMATO\",\"INTERNAL\",\"MAMMO\",\"MICROBIO\",\"MRI\",\"NEONATO\",\"TOXICO\",\"ULTRASOUND\",\"URINE\",\"VACCINE\",\"X-RAY\",\"CA\",\"CA                                      \",\"FEE\",\"PA\",\"RID\",\"VX\"],\"marker\":{\"colors\":[\"#D9D9D9\",\"#59220E\",\"#59220E\",\"#59220E\",\"#D9D9D9\",\"#59220E\",\"#D9D9D9\",\"#59220E\",\"#D9D9D9\",\"#59220E\",\"#D9D9D9\",\"#D9D9D9\",\"#BF9D7E\",\"#D9D9D9\",\"#D9D9D9\",\"#D9D9D9\",\"#D9D9D9\",\"#D9D9D9\",\"#D9D9D9\",\"#59220E\",\"#BF9D7E\",\"#BF9D7E\",\"#59220E\",\"#8C7D77\",\"#59220E\",\"#59220E\",\"#59220E\",\"#59220E\",\"#59220E\",\"#59220E\",\"#D9D9D9\",\"#D9D9D9\",\"#D9D9D9\",\"#D9D9D9\",\"#D9D9D9\",\"#59220E\",\"#D9D9D9\",\"#D9D9D9\",\"#D9D9D9\",\"#D9D9D9\",\"#59220E\",\"#59220E\",\"#59220E\",\"#8C7D77\",\"#59220E\",\"#59220E\",\"#59220E\",\"#BF9D7E\",\"#59220E\",\"#D9D9D9\",\"#59220E\",\"#D9D9D9\",\"#D9D9D9\",\"#D9D9D9\",\"#59220E\",\"#59220E\",\"#59220E\",\"#D9D9D9\",\"#D9D9D9\",\"#59220E\",\"#D9D9D9\",\"#59220E\",\"#59220E\",\"#733C30\",\"#D9D9D9\",\"#D9D9D9\",\"#ac3a4e\",\"#D9D9D9\",\"#59220E\",\"#59220E\",\"#59220E\",\"#59220E\",\"#59220E\",\"#D9D9D9\",\"#D9D9D9\",\"#D9D9D9\",\"#D9D9D9\",\"#D9D9D9\",\"#D9D9D9\",\"#8C7D77\",\"#D9D9D9\",\"#D9D9D9\",\"#D9D9D9\",\"#D9D9D9\",\"#D9D9D9\",\"#59220E\",\"#D9D9D9\",\"#D9D9D9\",\"#59220E\",\"#8C7D77\",\"#D9D9D9\",\"#59220E\",\"#D9D9D9\",\"#8C7D77\",\"#D9D9D9\",\"#59220E\",\"#59220E\",\"#D9D9D9\",\"#8C7D77\",\"#D9D9D9\",\"#59220E\",\"#BF9D7E\",\"#D9D9D9\",\"#59220E\",\"#ac3a4e\",\"#D9D9D9\",\"#59220E\",\"#D9D9D9\",\"#D9D9D9\",\"#59220E\",\"#D9D9D9\",\"#59220E\",\"#59220E\",\"#D9D9D9\",\"#59220E\",\"#733C30\",\"#D9D9D9\",\"#59220E\",\"#ac3a4e\",\"#BF9D7E\",\"#8C7D77\",\"#D9D9D9\",\"#733C30\"]},\"name\":\"\",\"parents\":[\"RID/CARDIO\",\"CA/MICROBIO\",\"CA/GENETICS\",\"CA/HEMATO\",\"RID/DENSITO\",\"CA/DIAG\",\"RID/ULTRASOUND\",\"CA/TOXICO\",\"RID/CARDIO\",\"CA/CORELAB\",\"RID/GASTROENT\",\"RID/CARDIO\",\"FEE/FEE\",\"RID/ULTRASOUND\",\"RID/MRI\",\"RID/ULTRASOUND\",\"RID/X-RAY\",\"RID/GENITOURIN\",\"RID/CT SCAN\",\"CA/HEMATO\",\"FEE/FEE\",\"FEE/FEE\",\"CA/CORELAB\",\"PA/ANATOMO\",\"CA/MICROBIO\",\"CA/CORELAB\",\"CA/GENETICS\",\"CA/CORELAB\",\"CA/CORELAB\",\"CA/CORELAB\",\"RID/INTERNAL\",\"RID/CT SCAN\",\"RID/MRI\",\"RID/CT SCAN\",\"RID/MRI\",\"CA/HEMATO\",\"RID/GASTROENT\",\"RID/CARDIO\",\"RID/CT SCAN\",\"RID/MRI\",\"CA/HEMATO\",\"CA/COPRO\",\"CA/HEMATO\",\"PA/ANATOMO\",\"CA/HEMATO\",\"CA/GENETICS\",\"CA/CORELAB\",\"FEE/FEE\",\"CA/URINE\",\"RID/INTERNAL\",\"CA/NEONATO\",\"RID/CT SCAN\",\"RID/MRI\",\"RID/ULTRASOUND\",\"CA/URINE\",\"CA/COPRO\",\"CA/GENETICS\",\"RID/CT SCAN\",\"RID/MRI\",\"CA/TOXICO\",\"RID/GASTROENT\",\"CA/TOXICO\",\"CA/MICROBIO\",\"VX/VACCINE\",\"RID/CT SCAN\",\"RID/MRI\",\"CA                                      /GENETICS\",\"RID/GENITOURIN\",\"CA/CORELAB\",\"CA/COPRO\",\"CA/TOXICO\",\"CA/NEONATO\",\"CA/CORELAB\",\"RID/CT SCAN\",\"RID/MRI\",\"RID/GASTROENT\",\"RID/MAMMO\",\"RID/ULTRASOUND\",\"RID/GASTROENT\",\"PA/CYTO\",\"RID/MRI\",\"RID/MAMMO\",\"RID/CT SCAN\",\"RID/MAMMO\",\"RID/MRI\",\"CA/MICROBIO\",\"RID/CT SCAN\",\"RID/MRI\",\"CA/TOXICO\",\"PA/CYTO\",\"RID/CT SCAN\",\"CA/GENETICS\",\"RID/GENITOURIN\",\"PA\",\"RID\",\"CA\",\"CA\",\"RID\",\"PA\",\"RID\",\"CA\",\"FEE\",\"RID\",\"CA\",\"CA                                      \",\"RID\",\"CA\",\"RID\",\"RID\",\"CA\",\"RID\",\"CA\",\"CA\",\"RID\",\"CA\",\"VX\",\"RID\",\"\",\"\",\"\",\"\",\"\",\"\"],\"values\":[1,17,7,16,4,1,35,4,6,7,2,1,4,17,1,30,70,5,1,37,2,1,182,6,24,248,57,2,1,8,1,2,1,2,1,16,3,2,10,5,20,1,10,1,4,7,1,1,19,11,12,24,36,28,4,18,181,3,7,28,1,4,3,27,12,6,1,2,472,5,11,10,69,4,10,1,1,6,1,1,1,3,1,1,1,8,1,9,59,6,1,5,2,7,10,24,990,61,7,4,1,8,8,257,1,9,103,12,5,52,78,22,106,116,23,27,70,1578,1,8,14,373,27],\"type\":\"treemap\"}],                        {\"template\":{\"data\":{\"bar\":[{\"error_x\":{\"color\":\"#2a3f5f\"},\"error_y\":{\"color\":\"#2a3f5f\"},\"marker\":{\"line\":{\"color\":\"#E5ECF6\",\"width\":0.5},\"pattern\":{\"fillmode\":\"overlay\",\"size\":10,\"solidity\":0.2}},\"type\":\"bar\"}],\"barpolar\":[{\"marker\":{\"line\":{\"color\":\"#E5ECF6\",\"width\":0.5},\"pattern\":{\"fillmode\":\"overlay\",\"size\":10,\"solidity\":0.2}},\"type\":\"barpolar\"}],\"carpet\":[{\"aaxis\":{\"endlinecolor\":\"#2a3f5f\",\"gridcolor\":\"white\",\"linecolor\":\"white\",\"minorgridcolor\":\"white\",\"startlinecolor\":\"#2a3f5f\"},\"baxis\":{\"endlinecolor\":\"#2a3f5f\",\"gridcolor\":\"white\",\"linecolor\":\"white\",\"minorgridcolor\":\"white\",\"startlinecolor\":\"#2a3f5f\"},\"type\":\"carpet\"}],\"choropleth\":[{\"colorbar\":{\"outlinewidth\":0,\"ticks\":\"\"},\"type\":\"choropleth\"}],\"contour\":[{\"colorbar\":{\"outlinewidth\":0,\"ticks\":\"\"},\"colorscale\":[[0.0,\"#0d0887\"],[0.1111111111111111,\"#46039f\"],[0.2222222222222222,\"#7201a8\"],[0.3333333333333333,\"#9c179e\"],[0.4444444444444444,\"#bd3786\"],[0.5555555555555556,\"#d8576b\"],[0.6666666666666666,\"#ed7953\"],[0.7777777777777778,\"#fb9f3a\"],[0.8888888888888888,\"#fdca26\"],[1.0,\"#f0f921\"]],\"type\":\"contour\"}],\"contourcarpet\":[{\"colorbar\":{\"outlinewidth\":0,\"ticks\":\"\"},\"type\":\"contourcarpet\"}],\"heatmap\":[{\"colorbar\":{\"outlinewidth\":0,\"ticks\":\"\"},\"colorscale\":[[0.0,\"#0d0887\"],[0.1111111111111111,\"#46039f\"],[0.2222222222222222,\"#7201a8\"],[0.3333333333333333,\"#9c179e\"],[0.4444444444444444,\"#bd3786\"],[0.5555555555555556,\"#d8576b\"],[0.6666666666666666,\"#ed7953\"],[0.7777777777777778,\"#fb9f3a\"],[0.8888888888888888,\"#fdca26\"],[1.0,\"#f0f921\"]],\"type\":\"heatmap\"}],\"heatmapgl\":[{\"colorbar\":{\"outlinewidth\":0,\"ticks\":\"\"},\"colorscale\":[[0.0,\"#0d0887\"],[0.1111111111111111,\"#46039f\"],[0.2222222222222222,\"#7201a8\"],[0.3333333333333333,\"#9c179e\"],[0.4444444444444444,\"#bd3786\"],[0.5555555555555556,\"#d8576b\"],[0.6666666666666666,\"#ed7953\"],[0.7777777777777778,\"#fb9f3a\"],[0.8888888888888888,\"#fdca26\"],[1.0,\"#f0f921\"]],\"type\":\"heatmapgl\"}],\"histogram\":[{\"marker\":{\"pattern\":{\"fillmode\":\"overlay\",\"size\":10,\"solidity\":0.2}},\"type\":\"histogram\"}],\"histogram2d\":[{\"colorbar\":{\"outlinewidth\":0,\"ticks\":\"\"},\"colorscale\":[[0.0,\"#0d0887\"],[0.1111111111111111,\"#46039f\"],[0.2222222222222222,\"#7201a8\"],[0.3333333333333333,\"#9c179e\"],[0.4444444444444444,\"#bd3786\"],[0.5555555555555556,\"#d8576b\"],[0.6666666666666666,\"#ed7953\"],[0.7777777777777778,\"#fb9f3a\"],[0.8888888888888888,\"#fdca26\"],[1.0,\"#f0f921\"]],\"type\":\"histogram2d\"}],\"histogram2dcontour\":[{\"colorbar\":{\"outlinewidth\":0,\"ticks\":\"\"},\"colorscale\":[[0.0,\"#0d0887\"],[0.1111111111111111,\"#46039f\"],[0.2222222222222222,\"#7201a8\"],[0.3333333333333333,\"#9c179e\"],[0.4444444444444444,\"#bd3786\"],[0.5555555555555556,\"#d8576b\"],[0.6666666666666666,\"#ed7953\"],[0.7777777777777778,\"#fb9f3a\"],[0.8888888888888888,\"#fdca26\"],[1.0,\"#f0f921\"]],\"type\":\"histogram2dcontour\"}],\"mesh3d\":[{\"colorbar\":{\"outlinewidth\":0,\"ticks\":\"\"},\"type\":\"mesh3d\"}],\"parcoords\":[{\"line\":{\"colorbar\":{\"outlinewidth\":0,\"ticks\":\"\"}},\"type\":\"parcoords\"}],\"pie\":[{\"automargin\":true,\"type\":\"pie\"}],\"scatter\":[{\"marker\":{\"colorbar\":{\"outlinewidth\":0,\"ticks\":\"\"}},\"type\":\"scatter\"}],\"scatter3d\":[{\"line\":{\"colorbar\":{\"outlinewidth\":0,\"ticks\":\"\"}},\"marker\":{\"colorbar\":{\"outlinewidth\":0,\"ticks\":\"\"}},\"type\":\"scatter3d\"}],\"scattercarpet\":[{\"marker\":{\"colorbar\":{\"outlinewidth\":0,\"ticks\":\"\"}},\"type\":\"scattercarpet\"}],\"scattergeo\":[{\"marker\":{\"colorbar\":{\"outlinewidth\":0,\"ticks\":\"\"}},\"type\":\"scattergeo\"}],\"scattergl\":[{\"marker\":{\"colorbar\":{\"outlinewidth\":0,\"ticks\":\"\"}},\"type\":\"scattergl\"}],\"scattermapbox\":[{\"marker\":{\"colorbar\":{\"outlinewidth\":0,\"ticks\":\"\"}},\"type\":\"scattermapbox\"}],\"scatterpolar\":[{\"marker\":{\"colorbar\":{\"outlinewidth\":0,\"ticks\":\"\"}},\"type\":\"scatterpolar\"}],\"scatterpolargl\":[{\"marker\":{\"colorbar\":{\"outlinewidth\":0,\"ticks\":\"\"}},\"type\":\"scatterpolargl\"}],\"scatterternary\":[{\"marker\":{\"colorbar\":{\"outlinewidth\":0,\"ticks\":\"\"}},\"type\":\"scatterternary\"}],\"surface\":[{\"colorbar\":{\"outlinewidth\":0,\"ticks\":\"\"},\"colorscale\":[[0.0,\"#0d0887\"],[0.1111111111111111,\"#46039f\"],[0.2222222222222222,\"#7201a8\"],[0.3333333333333333,\"#9c179e\"],[0.4444444444444444,\"#bd3786\"],[0.5555555555555556,\"#d8576b\"],[0.6666666666666666,\"#ed7953\"],[0.7777777777777778,\"#fb9f3a\"],[0.8888888888888888,\"#fdca26\"],[1.0,\"#f0f921\"]],\"type\":\"surface\"}],\"table\":[{\"cells\":{\"fill\":{\"color\":\"#EBF0F8\"},\"line\":{\"color\":\"white\"}},\"header\":{\"fill\":{\"color\":\"#C8D4E3\"},\"line\":{\"color\":\"white\"}},\"type\":\"table\"}]},\"layout\":{\"annotationdefaults\":{\"arrowcolor\":\"#2a3f5f\",\"arrowhead\":0,\"arrowwidth\":1},\"autotypenumbers\":\"strict\",\"coloraxis\":{\"colorbar\":{\"outlinewidth\":0,\"ticks\":\"\"}},\"colorscale\":{\"diverging\":[[0,\"#8e0152\"],[0.1,\"#c51b7d\"],[0.2,\"#de77ae\"],[0.3,\"#f1b6da\"],[0.4,\"#fde0ef\"],[0.5,\"#f7f7f7\"],[0.6,\"#e6f5d0\"],[0.7,\"#b8e186\"],[0.8,\"#7fbc41\"],[0.9,\"#4d9221\"],[1,\"#276419\"]],\"sequential\":[[0.0,\"#0d0887\"],[0.1111111111111111,\"#46039f\"],[0.2222222222222222,\"#7201a8\"],[0.3333333333333333,\"#9c179e\"],[0.4444444444444444,\"#bd3786\"],[0.5555555555555556,\"#d8576b\"],[0.6666666666666666,\"#ed7953\"],[0.7777777777777778,\"#fb9f3a\"],[0.8888888888888888,\"#fdca26\"],[1.0,\"#f0f921\"]],\"sequentialminus\":[[0.0,\"#0d0887\"],[0.1111111111111111,\"#46039f\"],[0.2222222222222222,\"#7201a8\"],[0.3333333333333333,\"#9c179e\"],[0.4444444444444444,\"#bd3786\"],[0.5555555555555556,\"#d8576b\"],[0.6666666666666666,\"#ed7953\"],[0.7777777777777778,\"#fb9f3a\"],[0.8888888888888888,\"#fdca26\"],[1.0,\"#f0f921\"]]},\"colorway\":[\"#636efa\",\"#EF553B\",\"#00cc96\",\"#ab63fa\",\"#FFA15A\",\"#19d3f3\",\"#FF6692\",\"#B6E880\",\"#FF97FF\",\"#FECB52\"],\"font\":{\"color\":\"#2a3f5f\"},\"geo\":{\"bgcolor\":\"white\",\"lakecolor\":\"white\",\"landcolor\":\"#E5ECF6\",\"showlakes\":true,\"showland\":true,\"subunitcolor\":\"white\"},\"hoverlabel\":{\"align\":\"left\"},\"hovermode\":\"closest\",\"mapbox\":{\"style\":\"light\"},\"paper_bgcolor\":\"white\",\"plot_bgcolor\":\"#E5ECF6\",\"polar\":{\"angularaxis\":{\"gridcolor\":\"white\",\"linecolor\":\"white\",\"ticks\":\"\"},\"bgcolor\":\"#E5ECF6\",\"radialaxis\":{\"gridcolor\":\"white\",\"linecolor\":\"white\",\"ticks\":\"\"}},\"scene\":{\"xaxis\":{\"backgroundcolor\":\"#E5ECF6\",\"gridcolor\":\"white\",\"gridwidth\":2,\"linecolor\":\"white\",\"showbackground\":true,\"ticks\":\"\",\"zerolinecolor\":\"white\"},\"yaxis\":{\"backgroundcolor\":\"#E5ECF6\",\"gridcolor\":\"white\",\"gridwidth\":2,\"linecolor\":\"white\",\"showbackground\":true,\"ticks\":\"\",\"zerolinecolor\":\"white\"},\"zaxis\":{\"backgroundcolor\":\"#E5ECF6\",\"gridcolor\":\"white\",\"gridwidth\":2,\"linecolor\":\"white\",\"showbackground\":true,\"ticks\":\"\",\"zerolinecolor\":\"white\"}},\"shapedefaults\":{\"line\":{\"color\":\"#2a3f5f\"}},\"ternary\":{\"aaxis\":{\"gridcolor\":\"white\",\"linecolor\":\"white\",\"ticks\":\"\"},\"baxis\":{\"gridcolor\":\"white\",\"linecolor\":\"white\",\"ticks\":\"\"},\"bgcolor\":\"#E5ECF6\",\"caxis\":{\"gridcolor\":\"white\",\"linecolor\":\"white\",\"ticks\":\"\"}},\"title\":{\"x\":0.05},\"xaxis\":{\"automargin\":true,\"gridcolor\":\"white\",\"linecolor\":\"white\",\"ticks\":\"\",\"title\":{\"standoff\":15},\"zerolinecolor\":\"white\",\"zerolinewidth\":2},\"yaxis\":{\"automargin\":true,\"gridcolor\":\"white\",\"linecolor\":\"white\",\"ticks\":\"\",\"title\":{\"standoff\":15},\"zerolinecolor\":\"white\",\"zerolinewidth\":2}}},\"legend\":{\"tracegroupgap\":0},\"title\":{\"text\":\"Testes por Category, Family e Speciality\"},\"treemapcolorway\":[\"#D9D9D9\",\"#59220E\",\"#BF9D7E\",\"#8C7D77\",\"#733C30\",\"#ac3a4e\"],\"height\":700,\"width\":1000},                        {\"responsive\": true}                    ).then(function(){\n",
       "                            \n",
       "var gd = document.getElementById('20e8c770-bc5a-414e-85c6-dcb5c9f6cda4');\n",
       "var x = new MutationObserver(function (mutations, observer) {{\n",
       "        var display = window.getComputedStyle(gd).display;\n",
       "        if (!display || display === 'none') {{\n",
       "            console.log([gd, 'removed!']);\n",
       "            Plotly.purge(gd);\n",
       "            observer.disconnect();\n",
       "        }}\n",
       "}});\n",
       "\n",
       "// Listen for the removal of the full notebook cells\n",
       "var notebookContainer = gd.closest('#notebook-container');\n",
       "if (notebookContainer) {{\n",
       "    x.observe(notebookContainer, {childList: true});\n",
       "}}\n",
       "\n",
       "// Listen for the clearing of the current output cell\n",
       "var outputEl = gd.closest('.output');\n",
       "if (outputEl) {{\n",
       "    x.observe(outputEl, {childList: true});\n",
       "}}\n",
       "\n",
       "                        })                };                });            </script>        </div>"
      ]
     },
     "metadata": {},
     "output_type": "display_data"
    }
   ],
   "source": [
    "colors = ['#D9D9D9', '#59220E', '#BF9D7E', '#8C7D77', '#733C30', '#ac3a4e']\n",
    "\n",
    "fig = px.treemap(categorias_testes,\n",
    "                 path=[\"Category\",\"Family\",\"Speciality\"],\n",
    "                 values='CodItem',\n",
    "                 color='Category',\n",
    "                 color_discrete_sequence = colors,\n",
    "                 width=1000, height=700,\n",
    "                 title=\"Testes por Category, Family e Speciality\",)\n",
    "\n",
    "fig.show()"
   ]
  },
  {
   "cell_type": "code",
   "execution_count": 8,
   "metadata": {},
   "outputs": [
    {
     "data": {
      "application/vnd.plotly.v1+json": {
       "config": {
        "plotlyServerURL": "https://plot.ly"
       },
       "data": [
        {
         "branchvalues": "total",
         "customdata": [
          [
           "RID"
          ],
          [
           "CA"
          ],
          [
           "CA"
          ],
          [
           "CA"
          ],
          [
           "RID"
          ],
          [
           "CA"
          ],
          [
           "RID"
          ],
          [
           "CA"
          ],
          [
           "RID"
          ],
          [
           "CA"
          ],
          [
           "RID"
          ],
          [
           "RID"
          ],
          [
           "FEE"
          ],
          [
           "RID"
          ],
          [
           "RID"
          ],
          [
           "RID"
          ],
          [
           "RID"
          ],
          [
           "RID"
          ],
          [
           "RID"
          ],
          [
           "CA"
          ],
          [
           "FEE"
          ],
          [
           "FEE"
          ],
          [
           "CA"
          ],
          [
           "PA"
          ],
          [
           "CA"
          ],
          [
           "CA"
          ],
          [
           "CA"
          ],
          [
           "CA"
          ],
          [
           "CA"
          ],
          [
           "CA"
          ],
          [
           "RID"
          ],
          [
           "RID"
          ],
          [
           "RID"
          ],
          [
           "RID"
          ],
          [
           "RID"
          ],
          [
           "CA"
          ],
          [
           "RID"
          ],
          [
           "RID"
          ],
          [
           "RID"
          ],
          [
           "RID"
          ],
          [
           "CA"
          ],
          [
           "CA"
          ],
          [
           "CA"
          ],
          [
           "PA"
          ],
          [
           "CA"
          ],
          [
           "CA"
          ],
          [
           "CA"
          ],
          [
           "FEE"
          ],
          [
           "CA"
          ],
          [
           "RID"
          ],
          [
           "CA"
          ],
          [
           "RID"
          ],
          [
           "RID"
          ],
          [
           "RID"
          ],
          [
           "CA"
          ],
          [
           "CA"
          ],
          [
           "CA"
          ],
          [
           "RID"
          ],
          [
           "RID"
          ],
          [
           "CA"
          ],
          [
           "RID"
          ],
          [
           "CA"
          ],
          [
           "CA"
          ],
          [
           "VX"
          ],
          [
           "RID"
          ],
          [
           "RID"
          ],
          [
           "CA                                      "
          ],
          [
           "RID"
          ],
          [
           "CA"
          ],
          [
           "CA"
          ],
          [
           "CA"
          ],
          [
           "CA"
          ],
          [
           "CA"
          ],
          [
           "RID"
          ],
          [
           "RID"
          ],
          [
           "RID"
          ],
          [
           "RID"
          ],
          [
           "RID"
          ],
          [
           "RID"
          ],
          [
           "PA"
          ],
          [
           "RID"
          ],
          [
           "RID"
          ],
          [
           "RID"
          ],
          [
           "RID"
          ],
          [
           "RID"
          ],
          [
           "CA"
          ],
          [
           "RID"
          ],
          [
           "RID"
          ],
          [
           "CA"
          ],
          [
           "PA"
          ],
          [
           "RID"
          ],
          [
           "CA"
          ],
          [
           "RID"
          ],
          [
           "PA"
          ],
          [
           "RID"
          ],
          [
           "CA"
          ],
          [
           "CA"
          ],
          [
           "RID"
          ],
          [
           "PA"
          ],
          [
           "RID"
          ],
          [
           "CA"
          ],
          [
           "FEE"
          ],
          [
           "RID"
          ],
          [
           "CA"
          ],
          [
           "CA                                      "
          ],
          [
           "RID"
          ],
          [
           "CA"
          ],
          [
           "RID"
          ],
          [
           "RID"
          ],
          [
           "CA"
          ],
          [
           "RID"
          ],
          [
           "CA"
          ],
          [
           "CA"
          ],
          [
           "RID"
          ],
          [
           "CA"
          ],
          [
           "VX"
          ],
          [
           "RID"
          ],
          [
           "CA"
          ],
          [
           "CA                                      "
          ],
          [
           "FEE"
          ],
          [
           "PA"
          ],
          [
           "RID"
          ],
          [
           "VX"
          ]
         ],
         "domain": {
          "x": [
           0,
           1
          ],
          "y": [
           0,
           1
          ]
         },
         "hovertemplate": "labels=%{label}<br>CodItem=%{value}<br>parent=%{parent}<br>id=%{id}<br>Category=%{customdata[0]}<extra></extra>",
         "ids": [
          "RID/CARDIO/ABPM",
          "CA/MICROBIO/CULTURE",
          "CA/GENETICS/CYTOGENETIC",
          "CA/HEMATO/CYTOMETRY",
          "RID/DENSITO/DENSITOMETRY",
          "CA/DIAG/DIAGNOSTIC MEDICINE",
          "RID/ULTRASOUND/DOPPLER",
          "CA/TOXICO/DRUG ABUSE",
          "RID/CARDIO/ECHOCARDIOGRAPHY",
          "CA/CORELAB/ELECTROPHORESIS",
          "RID/GASTROENT/ENDOSCOPY",
          "RID/CARDIO/ERGOMETRY",
          "FEE/FEE/FEE",
          "RID/ULTRASOUND/FETAL MEDICINE",
          "RID/MRI/GENERAL",
          "RID/ULTRASOUND/GENERAL",
          "RID/X-RAY/CONVENTIONAL",
          "RID/GENITOURIN/COLPOSCOPY",
          "RID/CT SCAN/FETAL MEDICINE",
          "CA/HEMATO/COAGULATION",
          "FEE/FEE/AC / AP / VACCINE RATE",
          "FEE/FEE/AC RATE",
          "CA/CORELAB/ALLERGY",
          "PA/ANATOMO/ANATOMOPATHOLOGICAL",
          "CA/MICROBIO/BACTEROSCOPY",
          "CA/CORELAB/BIOCHEMISTRY",
          "CA/GENETICS/BIOMOLECULAR",
          "CA/CORELAB/AUTOIMMUNITY",
          "CA/CORELAB/BLOOD GAS",
          "CA/CORELAB/CARDIAC MARKERS",
          "RID/INTERNAL/CARDIOTOCOGRAPHY",
          "RID/CT SCAN/CARDIOVASCULAR",
          "RID/MRI/CARDIOVASCULAR",
          "RID/CT SCAN/CHEST",
          "RID/MRI/CHEST",
          "CA/HEMATO/BLOOD COUNT",
          "RID/GASTROENT/COLONOSCOPY",
          "RID/CARDIO/GRAPHICAL METHODS",
          "RID/CT SCAN/HEAD AND NECK",
          "RID/MRI/HEAD AND NECK",
          "CA/HEMATO/HEMATOCYTOLOGY",
          "CA/COPRO/HIDDEN BLOOD",
          "CA/HEMATO/IMMUNOHEMATOLOGY",
          "PA/ANATOMO/IMMUNOHISTOCHEMISTRY",
          "CA/HEMATO/IMMUNOFETOTYPING",
          "CA/GENETICS/HLA",
          "CA/CORELAB/POCT",
          "FEE/FEE/RESEARCH FEE",
          "CA/URINE/ROUTINE",
          "RID/INTERNAL/SCINTILOGRAPHY",
          "CA/NEONATO/SCREENING",
          "RID/CT SCAN/SKELETAL MUSCLE",
          "RID/MRI/SKELETAL MUSCLE",
          "RID/ULTRASOUND/SKELETAL MUSCLE",
          "CA/URINE/SPECIAL",
          "CA/COPRO/SPECIAL COPRO",
          "CA/GENETICS/SPECIAL GENETICS",
          "RID/CT SCAN/SPINE",
          "RID/MRI/SPINE",
          "CA/TOXICO/THERAPEUTIC DRUG",
          "RID/GASTROENT/THERAPY",
          "CA/TOXICO/TOXICOLOGY",
          "CA/MICROBIO/UROCULTURE",
          "VX/VACCINE/VACCINE",
          "RID/CT SCAN/VASCULAR",
          "RID/MRI/VASCULAR",
          "CA                                      /GENETICS/SPECIAL GENETICS",
          "RID/GENITOURIN/PENISCOPY",
          "CA/CORELAB/IMMUNOHORMONE",
          "CA/COPRO/PARASITOLOGY",
          "CA/TOXICO/VITAMINS",
          "CA/NEONATO/INBORN ERRORS",
          "CA/CORELAB/INFECTIOUS",
          "RID/CT SCAN/INTERNAL MEDICINE",
          "RID/MRI/INTERNAL MEDICINE",
          "RID/GASTROENT/INVASIVE PROCEDURE",
          "RID/MAMMO/INVASIVE PROCEDURE",
          "RID/ULTRASOUND/INVASIVE PROCEDURE",
          "RID/GASTROENT/LARYNGOSCOPY",
          "PA/CYTO/LIQUID CYTOLOGY",
          "RID/MRI/MAMA",
          "RID/MAMMO/MAMMOGRAPHY",
          "RID/CT SCAN/MAT / MED",
          "RID/MAMMO/MAT / MED",
          "RID/MRI/MAT / MED",
          "CA/MICROBIO/MYCOLOGY",
          "RID/CT SCAN/NEURAL",
          "RID/MRI/NEURAL",
          "CA/TOXICO/OCCUPATIONAL",
          "PA/CYTO/ONCOTIC CYTOLOGY",
          "RID/CT SCAN/OTHERS",
          "CA/GENETICS/PATERNITY",
          "RID/GENITOURIN/VULVOSCOPY",
          "PA/ANATOMO",
          "RID/CARDIO",
          "CA/COPRO",
          "CA/CORELAB",
          "RID/CT SCAN",
          "PA/CYTO",
          "RID/DENSITO",
          "CA/DIAG",
          "FEE/FEE",
          "RID/GASTROENT",
          "CA/GENETICS",
          "CA                                      /GENETICS",
          "RID/GENITOURIN",
          "CA/HEMATO",
          "RID/INTERNAL",
          "RID/MAMMO",
          "CA/MICROBIO",
          "RID/MRI",
          "CA/NEONATO",
          "CA/TOXICO",
          "RID/ULTRASOUND",
          "CA/URINE",
          "VX/VACCINE",
          "RID/X-RAY",
          "CA",
          "CA                                      ",
          "FEE",
          "PA",
          "RID",
          "VX"
         ],
         "labels": [
          "ABPM",
          "CULTURE",
          "CYTOGENETIC",
          "CYTOMETRY",
          "DENSITOMETRY",
          "DIAGNOSTIC MEDICINE",
          "DOPPLER",
          "DRUG ABUSE",
          "ECHOCARDIOGRAPHY",
          "ELECTROPHORESIS",
          "ENDOSCOPY",
          "ERGOMETRY",
          "FEE",
          "FETAL MEDICINE",
          "GENERAL",
          "GENERAL",
          "CONVENTIONAL",
          "COLPOSCOPY",
          "FETAL MEDICINE",
          "COAGULATION",
          "AC / AP / VACCINE RATE",
          "AC RATE",
          "ALLERGY",
          "ANATOMOPATHOLOGICAL",
          "BACTEROSCOPY",
          "BIOCHEMISTRY",
          "BIOMOLECULAR",
          "AUTOIMMUNITY",
          "BLOOD GAS",
          "CARDIAC MARKERS",
          "CARDIOTOCOGRAPHY",
          "CARDIOVASCULAR",
          "CARDIOVASCULAR",
          "CHEST",
          "CHEST",
          "BLOOD COUNT",
          "COLONOSCOPY",
          "GRAPHICAL METHODS",
          "HEAD AND NECK",
          "HEAD AND NECK",
          "HEMATOCYTOLOGY",
          "HIDDEN BLOOD",
          "IMMUNOHEMATOLOGY",
          "IMMUNOHISTOCHEMISTRY",
          "IMMUNOFETOTYPING",
          "HLA",
          "POCT",
          "RESEARCH FEE",
          "ROUTINE",
          "SCINTILOGRAPHY",
          "SCREENING",
          "SKELETAL MUSCLE",
          "SKELETAL MUSCLE",
          "SKELETAL MUSCLE",
          "SPECIAL",
          "SPECIAL COPRO",
          "SPECIAL GENETICS",
          "SPINE",
          "SPINE",
          "THERAPEUTIC DRUG",
          "THERAPY",
          "TOXICOLOGY",
          "UROCULTURE",
          "VACCINE",
          "VASCULAR",
          "VASCULAR",
          "SPECIAL GENETICS",
          "PENISCOPY",
          "IMMUNOHORMONE",
          "PARASITOLOGY",
          "VITAMINS",
          "INBORN ERRORS",
          "INFECTIOUS",
          "INTERNAL MEDICINE",
          "INTERNAL MEDICINE",
          "INVASIVE PROCEDURE",
          "INVASIVE PROCEDURE",
          "INVASIVE PROCEDURE",
          "LARYNGOSCOPY",
          "LIQUID CYTOLOGY",
          "MAMA",
          "MAMMOGRAPHY",
          "MAT / MED",
          "MAT / MED",
          "MAT / MED",
          "MYCOLOGY",
          "NEURAL",
          "NEURAL",
          "OCCUPATIONAL",
          "ONCOTIC CYTOLOGY",
          "OTHERS",
          "PATERNITY",
          "VULVOSCOPY",
          "ANATOMO",
          "CARDIO",
          "COPRO",
          "CORELAB",
          "CT SCAN",
          "CYTO",
          "DENSITO",
          "DIAG",
          "FEE",
          "GASTROENT",
          "GENETICS",
          "GENETICS",
          "GENITOURIN",
          "HEMATO",
          "INTERNAL",
          "MAMMO",
          "MICROBIO",
          "MRI",
          "NEONATO",
          "TOXICO",
          "ULTRASOUND",
          "URINE",
          "VACCINE",
          "X-RAY",
          "CA",
          "CA                                      ",
          "FEE",
          "PA",
          "RID",
          "VX"
         ],
         "marker": {
          "colors": [
           "#DF8C37",
           "#C74458",
           "#C74458",
           "#C74458",
           "#DF8C37",
           "#C74458",
           "#DF8C37",
           "#C74458",
           "#DF8C37",
           "#C74458",
           "#DF8C37",
           "#DF8C37",
           "#618E8C",
           "#DF8C37",
           "#DF8C37",
           "#DF8C37",
           "#DF8C37",
           "#DF8C37",
           "#DF8C37",
           "#C74458",
           "#618E8C",
           "#618E8C",
           "#C74458",
           "#98B2E1",
           "#C74458",
           "#C74458",
           "#C74458",
           "#C74458",
           "#C74458",
           "#C74458",
           "#DF8C37",
           "#DF8C37",
           "#DF8C37",
           "#DF8C37",
           "#DF8C37",
           "#C74458",
           "#DF8C37",
           "#DF8C37",
           "#DF8C37",
           "#DF8C37",
           "#C74458",
           "#C74458",
           "#C74458",
           "#98B2E1",
           "#C74458",
           "#C74458",
           "#C74458",
           "#618E8C",
           "#C74458",
           "#DF8C37",
           "#C74458",
           "#DF8C37",
           "#DF8C37",
           "#DF8C37",
           "#C74458",
           "#C74458",
           "#C74458",
           "#DF8C37",
           "#DF8C37",
           "#C74458",
           "#DF8C37",
           "#C74458",
           "#C74458",
           "#8D8D8D",
           "#DF8C37",
           "#DF8C37",
           "#3860A5",
           "#DF8C37",
           "#C74458",
           "#C74458",
           "#C74458",
           "#C74458",
           "#C74458",
           "#DF8C37",
           "#DF8C37",
           "#DF8C37",
           "#DF8C37",
           "#DF8C37",
           "#DF8C37",
           "#98B2E1",
           "#DF8C37",
           "#DF8C37",
           "#DF8C37",
           "#DF8C37",
           "#DF8C37",
           "#C74458",
           "#DF8C37",
           "#DF8C37",
           "#C74458",
           "#98B2E1",
           "#DF8C37",
           "#C74458",
           "#DF8C37",
           "#98B2E1",
           "#DF8C37",
           "#C74458",
           "#C74458",
           "#DF8C37",
           "#98B2E1",
           "#DF8C37",
           "#C74458",
           "#618E8C",
           "#DF8C37",
           "#C74458",
           "#3860A5",
           "#DF8C37",
           "#C74458",
           "#DF8C37",
           "#DF8C37",
           "#C74458",
           "#DF8C37",
           "#C74458",
           "#C74458",
           "#DF8C37",
           "#C74458",
           "#8D8D8D",
           "#DF8C37",
           "#C74458",
           "#3860A5",
           "#618E8C",
           "#98B2E1",
           "#DF8C37",
           "#8D8D8D"
          ]
         },
         "name": "",
         "parents": [
          "RID/CARDIO",
          "CA/MICROBIO",
          "CA/GENETICS",
          "CA/HEMATO",
          "RID/DENSITO",
          "CA/DIAG",
          "RID/ULTRASOUND",
          "CA/TOXICO",
          "RID/CARDIO",
          "CA/CORELAB",
          "RID/GASTROENT",
          "RID/CARDIO",
          "FEE/FEE",
          "RID/ULTRASOUND",
          "RID/MRI",
          "RID/ULTRASOUND",
          "RID/X-RAY",
          "RID/GENITOURIN",
          "RID/CT SCAN",
          "CA/HEMATO",
          "FEE/FEE",
          "FEE/FEE",
          "CA/CORELAB",
          "PA/ANATOMO",
          "CA/MICROBIO",
          "CA/CORELAB",
          "CA/GENETICS",
          "CA/CORELAB",
          "CA/CORELAB",
          "CA/CORELAB",
          "RID/INTERNAL",
          "RID/CT SCAN",
          "RID/MRI",
          "RID/CT SCAN",
          "RID/MRI",
          "CA/HEMATO",
          "RID/GASTROENT",
          "RID/CARDIO",
          "RID/CT SCAN",
          "RID/MRI",
          "CA/HEMATO",
          "CA/COPRO",
          "CA/HEMATO",
          "PA/ANATOMO",
          "CA/HEMATO",
          "CA/GENETICS",
          "CA/CORELAB",
          "FEE/FEE",
          "CA/URINE",
          "RID/INTERNAL",
          "CA/NEONATO",
          "RID/CT SCAN",
          "RID/MRI",
          "RID/ULTRASOUND",
          "CA/URINE",
          "CA/COPRO",
          "CA/GENETICS",
          "RID/CT SCAN",
          "RID/MRI",
          "CA/TOXICO",
          "RID/GASTROENT",
          "CA/TOXICO",
          "CA/MICROBIO",
          "VX/VACCINE",
          "RID/CT SCAN",
          "RID/MRI",
          "CA                                      /GENETICS",
          "RID/GENITOURIN",
          "CA/CORELAB",
          "CA/COPRO",
          "CA/TOXICO",
          "CA/NEONATO",
          "CA/CORELAB",
          "RID/CT SCAN",
          "RID/MRI",
          "RID/GASTROENT",
          "RID/MAMMO",
          "RID/ULTRASOUND",
          "RID/GASTROENT",
          "PA/CYTO",
          "RID/MRI",
          "RID/MAMMO",
          "RID/CT SCAN",
          "RID/MAMMO",
          "RID/MRI",
          "CA/MICROBIO",
          "RID/CT SCAN",
          "RID/MRI",
          "CA/TOXICO",
          "PA/CYTO",
          "RID/CT SCAN",
          "CA/GENETICS",
          "RID/GENITOURIN",
          "PA",
          "RID",
          "CA",
          "CA",
          "RID",
          "PA",
          "RID",
          "CA",
          "FEE",
          "RID",
          "CA",
          "CA                                      ",
          "RID",
          "CA",
          "RID",
          "RID",
          "CA",
          "RID",
          "CA",
          "CA",
          "RID",
          "CA",
          "VX",
          "RID",
          "",
          "",
          "",
          "",
          "",
          ""
         ],
         "type": "treemap",
         "values": [
          1,
          17,
          7,
          16,
          4,
          1,
          35,
          4,
          6,
          7,
          2,
          1,
          4,
          17,
          1,
          30,
          70,
          5,
          1,
          37,
          2,
          1,
          182,
          6,
          24,
          248,
          57,
          2,
          1,
          8,
          1,
          2,
          1,
          2,
          1,
          16,
          3,
          2,
          10,
          5,
          20,
          1,
          10,
          1,
          4,
          7,
          1,
          1,
          19,
          11,
          12,
          24,
          36,
          28,
          4,
          18,
          181,
          3,
          7,
          28,
          1,
          4,
          3,
          27,
          12,
          6,
          1,
          2,
          472,
          5,
          11,
          10,
          69,
          4,
          10,
          1,
          1,
          6,
          1,
          1,
          1,
          3,
          1,
          1,
          1,
          8,
          1,
          9,
          59,
          6,
          1,
          5,
          2,
          7,
          10,
          24,
          990,
          61,
          7,
          4,
          1,
          8,
          8,
          257,
          1,
          9,
          103,
          12,
          5,
          52,
          78,
          22,
          106,
          116,
          23,
          27,
          70,
          1578,
          1,
          8,
          14,
          373,
          27
         ]
        }
       ],
       "layout": {
        "height": 700,
        "legend": {
         "tracegroupgap": 0
        },
        "template": {
         "data": {
          "bar": [
           {
            "error_x": {
             "color": "#2a3f5f"
            },
            "error_y": {
             "color": "#2a3f5f"
            },
            "marker": {
             "line": {
              "color": "#E5ECF6",
              "width": 0.5
             },
             "pattern": {
              "fillmode": "overlay",
              "size": 10,
              "solidity": 0.2
             }
            },
            "type": "bar"
           }
          ],
          "barpolar": [
           {
            "marker": {
             "line": {
              "color": "#E5ECF6",
              "width": 0.5
             },
             "pattern": {
              "fillmode": "overlay",
              "size": 10,
              "solidity": 0.2
             }
            },
            "type": "barpolar"
           }
          ],
          "carpet": [
           {
            "aaxis": {
             "endlinecolor": "#2a3f5f",
             "gridcolor": "white",
             "linecolor": "white",
             "minorgridcolor": "white",
             "startlinecolor": "#2a3f5f"
            },
            "baxis": {
             "endlinecolor": "#2a3f5f",
             "gridcolor": "white",
             "linecolor": "white",
             "minorgridcolor": "white",
             "startlinecolor": "#2a3f5f"
            },
            "type": "carpet"
           }
          ],
          "choropleth": [
           {
            "colorbar": {
             "outlinewidth": 0,
             "ticks": ""
            },
            "type": "choropleth"
           }
          ],
          "contour": [
           {
            "colorbar": {
             "outlinewidth": 0,
             "ticks": ""
            },
            "colorscale": [
             [
              0,
              "#0d0887"
             ],
             [
              0.1111111111111111,
              "#46039f"
             ],
             [
              0.2222222222222222,
              "#7201a8"
             ],
             [
              0.3333333333333333,
              "#9c179e"
             ],
             [
              0.4444444444444444,
              "#bd3786"
             ],
             [
              0.5555555555555556,
              "#d8576b"
             ],
             [
              0.6666666666666666,
              "#ed7953"
             ],
             [
              0.7777777777777778,
              "#fb9f3a"
             ],
             [
              0.8888888888888888,
              "#fdca26"
             ],
             [
              1,
              "#f0f921"
             ]
            ],
            "type": "contour"
           }
          ],
          "contourcarpet": [
           {
            "colorbar": {
             "outlinewidth": 0,
             "ticks": ""
            },
            "type": "contourcarpet"
           }
          ],
          "heatmap": [
           {
            "colorbar": {
             "outlinewidth": 0,
             "ticks": ""
            },
            "colorscale": [
             [
              0,
              "#0d0887"
             ],
             [
              0.1111111111111111,
              "#46039f"
             ],
             [
              0.2222222222222222,
              "#7201a8"
             ],
             [
              0.3333333333333333,
              "#9c179e"
             ],
             [
              0.4444444444444444,
              "#bd3786"
             ],
             [
              0.5555555555555556,
              "#d8576b"
             ],
             [
              0.6666666666666666,
              "#ed7953"
             ],
             [
              0.7777777777777778,
              "#fb9f3a"
             ],
             [
              0.8888888888888888,
              "#fdca26"
             ],
             [
              1,
              "#f0f921"
             ]
            ],
            "type": "heatmap"
           }
          ],
          "heatmapgl": [
           {
            "colorbar": {
             "outlinewidth": 0,
             "ticks": ""
            },
            "colorscale": [
             [
              0,
              "#0d0887"
             ],
             [
              0.1111111111111111,
              "#46039f"
             ],
             [
              0.2222222222222222,
              "#7201a8"
             ],
             [
              0.3333333333333333,
              "#9c179e"
             ],
             [
              0.4444444444444444,
              "#bd3786"
             ],
             [
              0.5555555555555556,
              "#d8576b"
             ],
             [
              0.6666666666666666,
              "#ed7953"
             ],
             [
              0.7777777777777778,
              "#fb9f3a"
             ],
             [
              0.8888888888888888,
              "#fdca26"
             ],
             [
              1,
              "#f0f921"
             ]
            ],
            "type": "heatmapgl"
           }
          ],
          "histogram": [
           {
            "marker": {
             "pattern": {
              "fillmode": "overlay",
              "size": 10,
              "solidity": 0.2
             }
            },
            "type": "histogram"
           }
          ],
          "histogram2d": [
           {
            "colorbar": {
             "outlinewidth": 0,
             "ticks": ""
            },
            "colorscale": [
             [
              0,
              "#0d0887"
             ],
             [
              0.1111111111111111,
              "#46039f"
             ],
             [
              0.2222222222222222,
              "#7201a8"
             ],
             [
              0.3333333333333333,
              "#9c179e"
             ],
             [
              0.4444444444444444,
              "#bd3786"
             ],
             [
              0.5555555555555556,
              "#d8576b"
             ],
             [
              0.6666666666666666,
              "#ed7953"
             ],
             [
              0.7777777777777778,
              "#fb9f3a"
             ],
             [
              0.8888888888888888,
              "#fdca26"
             ],
             [
              1,
              "#f0f921"
             ]
            ],
            "type": "histogram2d"
           }
          ],
          "histogram2dcontour": [
           {
            "colorbar": {
             "outlinewidth": 0,
             "ticks": ""
            },
            "colorscale": [
             [
              0,
              "#0d0887"
             ],
             [
              0.1111111111111111,
              "#46039f"
             ],
             [
              0.2222222222222222,
              "#7201a8"
             ],
             [
              0.3333333333333333,
              "#9c179e"
             ],
             [
              0.4444444444444444,
              "#bd3786"
             ],
             [
              0.5555555555555556,
              "#d8576b"
             ],
             [
              0.6666666666666666,
              "#ed7953"
             ],
             [
              0.7777777777777778,
              "#fb9f3a"
             ],
             [
              0.8888888888888888,
              "#fdca26"
             ],
             [
              1,
              "#f0f921"
             ]
            ],
            "type": "histogram2dcontour"
           }
          ],
          "mesh3d": [
           {
            "colorbar": {
             "outlinewidth": 0,
             "ticks": ""
            },
            "type": "mesh3d"
           }
          ],
          "parcoords": [
           {
            "line": {
             "colorbar": {
              "outlinewidth": 0,
              "ticks": ""
             }
            },
            "type": "parcoords"
           }
          ],
          "pie": [
           {
            "automargin": true,
            "type": "pie"
           }
          ],
          "scatter": [
           {
            "marker": {
             "colorbar": {
              "outlinewidth": 0,
              "ticks": ""
             }
            },
            "type": "scatter"
           }
          ],
          "scatter3d": [
           {
            "line": {
             "colorbar": {
              "outlinewidth": 0,
              "ticks": ""
             }
            },
            "marker": {
             "colorbar": {
              "outlinewidth": 0,
              "ticks": ""
             }
            },
            "type": "scatter3d"
           }
          ],
          "scattercarpet": [
           {
            "marker": {
             "colorbar": {
              "outlinewidth": 0,
              "ticks": ""
             }
            },
            "type": "scattercarpet"
           }
          ],
          "scattergeo": [
           {
            "marker": {
             "colorbar": {
              "outlinewidth": 0,
              "ticks": ""
             }
            },
            "type": "scattergeo"
           }
          ],
          "scattergl": [
           {
            "marker": {
             "colorbar": {
              "outlinewidth": 0,
              "ticks": ""
             }
            },
            "type": "scattergl"
           }
          ],
          "scattermapbox": [
           {
            "marker": {
             "colorbar": {
              "outlinewidth": 0,
              "ticks": ""
             }
            },
            "type": "scattermapbox"
           }
          ],
          "scatterpolar": [
           {
            "marker": {
             "colorbar": {
              "outlinewidth": 0,
              "ticks": ""
             }
            },
            "type": "scatterpolar"
           }
          ],
          "scatterpolargl": [
           {
            "marker": {
             "colorbar": {
              "outlinewidth": 0,
              "ticks": ""
             }
            },
            "type": "scatterpolargl"
           }
          ],
          "scatterternary": [
           {
            "marker": {
             "colorbar": {
              "outlinewidth": 0,
              "ticks": ""
             }
            },
            "type": "scatterternary"
           }
          ],
          "surface": [
           {
            "colorbar": {
             "outlinewidth": 0,
             "ticks": ""
            },
            "colorscale": [
             [
              0,
              "#0d0887"
             ],
             [
              0.1111111111111111,
              "#46039f"
             ],
             [
              0.2222222222222222,
              "#7201a8"
             ],
             [
              0.3333333333333333,
              "#9c179e"
             ],
             [
              0.4444444444444444,
              "#bd3786"
             ],
             [
              0.5555555555555556,
              "#d8576b"
             ],
             [
              0.6666666666666666,
              "#ed7953"
             ],
             [
              0.7777777777777778,
              "#fb9f3a"
             ],
             [
              0.8888888888888888,
              "#fdca26"
             ],
             [
              1,
              "#f0f921"
             ]
            ],
            "type": "surface"
           }
          ],
          "table": [
           {
            "cells": {
             "fill": {
              "color": "#EBF0F8"
             },
             "line": {
              "color": "white"
             }
            },
            "header": {
             "fill": {
              "color": "#C8D4E3"
             },
             "line": {
              "color": "white"
             }
            },
            "type": "table"
           }
          ]
         },
         "layout": {
          "annotationdefaults": {
           "arrowcolor": "#2a3f5f",
           "arrowhead": 0,
           "arrowwidth": 1
          },
          "autotypenumbers": "strict",
          "coloraxis": {
           "colorbar": {
            "outlinewidth": 0,
            "ticks": ""
           }
          },
          "colorscale": {
           "diverging": [
            [
             0,
             "#8e0152"
            ],
            [
             0.1,
             "#c51b7d"
            ],
            [
             0.2,
             "#de77ae"
            ],
            [
             0.3,
             "#f1b6da"
            ],
            [
             0.4,
             "#fde0ef"
            ],
            [
             0.5,
             "#f7f7f7"
            ],
            [
             0.6,
             "#e6f5d0"
            ],
            [
             0.7,
             "#b8e186"
            ],
            [
             0.8,
             "#7fbc41"
            ],
            [
             0.9,
             "#4d9221"
            ],
            [
             1,
             "#276419"
            ]
           ],
           "sequential": [
            [
             0,
             "#0d0887"
            ],
            [
             0.1111111111111111,
             "#46039f"
            ],
            [
             0.2222222222222222,
             "#7201a8"
            ],
            [
             0.3333333333333333,
             "#9c179e"
            ],
            [
             0.4444444444444444,
             "#bd3786"
            ],
            [
             0.5555555555555556,
             "#d8576b"
            ],
            [
             0.6666666666666666,
             "#ed7953"
            ],
            [
             0.7777777777777778,
             "#fb9f3a"
            ],
            [
             0.8888888888888888,
             "#fdca26"
            ],
            [
             1,
             "#f0f921"
            ]
           ],
           "sequentialminus": [
            [
             0,
             "#0d0887"
            ],
            [
             0.1111111111111111,
             "#46039f"
            ],
            [
             0.2222222222222222,
             "#7201a8"
            ],
            [
             0.3333333333333333,
             "#9c179e"
            ],
            [
             0.4444444444444444,
             "#bd3786"
            ],
            [
             0.5555555555555556,
             "#d8576b"
            ],
            [
             0.6666666666666666,
             "#ed7953"
            ],
            [
             0.7777777777777778,
             "#fb9f3a"
            ],
            [
             0.8888888888888888,
             "#fdca26"
            ],
            [
             1,
             "#f0f921"
            ]
           ]
          },
          "colorway": [
           "#636efa",
           "#EF553B",
           "#00cc96",
           "#ab63fa",
           "#FFA15A",
           "#19d3f3",
           "#FF6692",
           "#B6E880",
           "#FF97FF",
           "#FECB52"
          ],
          "font": {
           "color": "#2a3f5f"
          },
          "geo": {
           "bgcolor": "white",
           "lakecolor": "white",
           "landcolor": "#E5ECF6",
           "showlakes": true,
           "showland": true,
           "subunitcolor": "white"
          },
          "hoverlabel": {
           "align": "left"
          },
          "hovermode": "closest",
          "mapbox": {
           "style": "light"
          },
          "paper_bgcolor": "white",
          "plot_bgcolor": "#E5ECF6",
          "polar": {
           "angularaxis": {
            "gridcolor": "white",
            "linecolor": "white",
            "ticks": ""
           },
           "bgcolor": "#E5ECF6",
           "radialaxis": {
            "gridcolor": "white",
            "linecolor": "white",
            "ticks": ""
           }
          },
          "scene": {
           "xaxis": {
            "backgroundcolor": "#E5ECF6",
            "gridcolor": "white",
            "gridwidth": 2,
            "linecolor": "white",
            "showbackground": true,
            "ticks": "",
            "zerolinecolor": "white"
           },
           "yaxis": {
            "backgroundcolor": "#E5ECF6",
            "gridcolor": "white",
            "gridwidth": 2,
            "linecolor": "white",
            "showbackground": true,
            "ticks": "",
            "zerolinecolor": "white"
           },
           "zaxis": {
            "backgroundcolor": "#E5ECF6",
            "gridcolor": "white",
            "gridwidth": 2,
            "linecolor": "white",
            "showbackground": true,
            "ticks": "",
            "zerolinecolor": "white"
           }
          },
          "shapedefaults": {
           "line": {
            "color": "#2a3f5f"
           }
          },
          "ternary": {
           "aaxis": {
            "gridcolor": "white",
            "linecolor": "white",
            "ticks": ""
           },
           "baxis": {
            "gridcolor": "white",
            "linecolor": "white",
            "ticks": ""
           },
           "bgcolor": "#E5ECF6",
           "caxis": {
            "gridcolor": "white",
            "linecolor": "white",
            "ticks": ""
           }
          },
          "title": {
           "x": 0.05
          },
          "xaxis": {
           "automargin": true,
           "gridcolor": "white",
           "linecolor": "white",
           "ticks": "",
           "title": {
            "standoff": 15
           },
           "zerolinecolor": "white",
           "zerolinewidth": 2
          },
          "yaxis": {
           "automargin": true,
           "gridcolor": "white",
           "linecolor": "white",
           "ticks": "",
           "title": {
            "standoff": 15
           },
           "zerolinecolor": "white",
           "zerolinewidth": 2
          }
         }
        },
        "title": {
         "text": "Testes por Category, Family e Speciality"
        },
        "treemapcolorway": [
         "#DF8C37",
         "#C74458",
         "#618E8C",
         "#98B2E1",
         "#8D8D8D",
         "#3860A5"
        ],
        "width": 1000
       }
      },
      "text/html": [
       "<div>                            <div id=\"d11ad488-ac66-47f6-9239-218d4e9653cc\" class=\"plotly-graph-div\" style=\"height:700px; width:1000px;\"></div>            <script type=\"text/javascript\">                require([\"plotly\"], function(Plotly) {                    window.PLOTLYENV=window.PLOTLYENV || {};                                    if (document.getElementById(\"d11ad488-ac66-47f6-9239-218d4e9653cc\")) {                    Plotly.newPlot(                        \"d11ad488-ac66-47f6-9239-218d4e9653cc\",                        [{\"branchvalues\":\"total\",\"customdata\":[[\"RID\"],[\"CA\"],[\"CA\"],[\"CA\"],[\"RID\"],[\"CA\"],[\"RID\"],[\"CA\"],[\"RID\"],[\"CA\"],[\"RID\"],[\"RID\"],[\"FEE\"],[\"RID\"],[\"RID\"],[\"RID\"],[\"RID\"],[\"RID\"],[\"RID\"],[\"CA\"],[\"FEE\"],[\"FEE\"],[\"CA\"],[\"PA\"],[\"CA\"],[\"CA\"],[\"CA\"],[\"CA\"],[\"CA\"],[\"CA\"],[\"RID\"],[\"RID\"],[\"RID\"],[\"RID\"],[\"RID\"],[\"CA\"],[\"RID\"],[\"RID\"],[\"RID\"],[\"RID\"],[\"CA\"],[\"CA\"],[\"CA\"],[\"PA\"],[\"CA\"],[\"CA\"],[\"CA\"],[\"FEE\"],[\"CA\"],[\"RID\"],[\"CA\"],[\"RID\"],[\"RID\"],[\"RID\"],[\"CA\"],[\"CA\"],[\"CA\"],[\"RID\"],[\"RID\"],[\"CA\"],[\"RID\"],[\"CA\"],[\"CA\"],[\"VX\"],[\"RID\"],[\"RID\"],[\"CA                                      \"],[\"RID\"],[\"CA\"],[\"CA\"],[\"CA\"],[\"CA\"],[\"CA\"],[\"RID\"],[\"RID\"],[\"RID\"],[\"RID\"],[\"RID\"],[\"RID\"],[\"PA\"],[\"RID\"],[\"RID\"],[\"RID\"],[\"RID\"],[\"RID\"],[\"CA\"],[\"RID\"],[\"RID\"],[\"CA\"],[\"PA\"],[\"RID\"],[\"CA\"],[\"RID\"],[\"PA\"],[\"RID\"],[\"CA\"],[\"CA\"],[\"RID\"],[\"PA\"],[\"RID\"],[\"CA\"],[\"FEE\"],[\"RID\"],[\"CA\"],[\"CA                                      \"],[\"RID\"],[\"CA\"],[\"RID\"],[\"RID\"],[\"CA\"],[\"RID\"],[\"CA\"],[\"CA\"],[\"RID\"],[\"CA\"],[\"VX\"],[\"RID\"],[\"CA\"],[\"CA                                      \"],[\"FEE\"],[\"PA\"],[\"RID\"],[\"VX\"]],\"domain\":{\"x\":[0.0,1.0],\"y\":[0.0,1.0]},\"hovertemplate\":\"labels=%{label}<br>CodItem=%{value}<br>parent=%{parent}<br>id=%{id}<br>Category=%{customdata[0]}<extra></extra>\",\"ids\":[\"RID/CARDIO/ABPM\",\"CA/MICROBIO/CULTURE\",\"CA/GENETICS/CYTOGENETIC\",\"CA/HEMATO/CYTOMETRY\",\"RID/DENSITO/DENSITOMETRY\",\"CA/DIAG/DIAGNOSTIC MEDICINE\",\"RID/ULTRASOUND/DOPPLER\",\"CA/TOXICO/DRUG ABUSE\",\"RID/CARDIO/ECHOCARDIOGRAPHY\",\"CA/CORELAB/ELECTROPHORESIS\",\"RID/GASTROENT/ENDOSCOPY\",\"RID/CARDIO/ERGOMETRY\",\"FEE/FEE/FEE\",\"RID/ULTRASOUND/FETAL MEDICINE\",\"RID/MRI/GENERAL\",\"RID/ULTRASOUND/GENERAL\",\"RID/X-RAY/CONVENTIONAL\",\"RID/GENITOURIN/COLPOSCOPY\",\"RID/CT SCAN/FETAL MEDICINE\",\"CA/HEMATO/COAGULATION\",\"FEE/FEE/AC / AP / VACCINE RATE\",\"FEE/FEE/AC RATE\",\"CA/CORELAB/ALLERGY\",\"PA/ANATOMO/ANATOMOPATHOLOGICAL\",\"CA/MICROBIO/BACTEROSCOPY\",\"CA/CORELAB/BIOCHEMISTRY\",\"CA/GENETICS/BIOMOLECULAR\",\"CA/CORELAB/AUTOIMMUNITY\",\"CA/CORELAB/BLOOD GAS\",\"CA/CORELAB/CARDIAC MARKERS\",\"RID/INTERNAL/CARDIOTOCOGRAPHY\",\"RID/CT SCAN/CARDIOVASCULAR\",\"RID/MRI/CARDIOVASCULAR\",\"RID/CT SCAN/CHEST\",\"RID/MRI/CHEST\",\"CA/HEMATO/BLOOD COUNT\",\"RID/GASTROENT/COLONOSCOPY\",\"RID/CARDIO/GRAPHICAL METHODS\",\"RID/CT SCAN/HEAD AND NECK\",\"RID/MRI/HEAD AND NECK\",\"CA/HEMATO/HEMATOCYTOLOGY\",\"CA/COPRO/HIDDEN BLOOD\",\"CA/HEMATO/IMMUNOHEMATOLOGY\",\"PA/ANATOMO/IMMUNOHISTOCHEMISTRY\",\"CA/HEMATO/IMMUNOFETOTYPING\",\"CA/GENETICS/HLA\",\"CA/CORELAB/POCT\",\"FEE/FEE/RESEARCH FEE\",\"CA/URINE/ROUTINE\",\"RID/INTERNAL/SCINTILOGRAPHY\",\"CA/NEONATO/SCREENING\",\"RID/CT SCAN/SKELETAL MUSCLE\",\"RID/MRI/SKELETAL MUSCLE\",\"RID/ULTRASOUND/SKELETAL MUSCLE\",\"CA/URINE/SPECIAL\",\"CA/COPRO/SPECIAL COPRO\",\"CA/GENETICS/SPECIAL GENETICS\",\"RID/CT SCAN/SPINE\",\"RID/MRI/SPINE\",\"CA/TOXICO/THERAPEUTIC DRUG\",\"RID/GASTROENT/THERAPY\",\"CA/TOXICO/TOXICOLOGY\",\"CA/MICROBIO/UROCULTURE\",\"VX/VACCINE/VACCINE\",\"RID/CT SCAN/VASCULAR\",\"RID/MRI/VASCULAR\",\"CA                                      /GENETICS/SPECIAL GENETICS\",\"RID/GENITOURIN/PENISCOPY\",\"CA/CORELAB/IMMUNOHORMONE\",\"CA/COPRO/PARASITOLOGY\",\"CA/TOXICO/VITAMINS\",\"CA/NEONATO/INBORN ERRORS\",\"CA/CORELAB/INFECTIOUS\",\"RID/CT SCAN/INTERNAL MEDICINE\",\"RID/MRI/INTERNAL MEDICINE\",\"RID/GASTROENT/INVASIVE PROCEDURE\",\"RID/MAMMO/INVASIVE PROCEDURE\",\"RID/ULTRASOUND/INVASIVE PROCEDURE\",\"RID/GASTROENT/LARYNGOSCOPY\",\"PA/CYTO/LIQUID CYTOLOGY\",\"RID/MRI/MAMA\",\"RID/MAMMO/MAMMOGRAPHY\",\"RID/CT SCAN/MAT / MED\",\"RID/MAMMO/MAT / MED\",\"RID/MRI/MAT / MED\",\"CA/MICROBIO/MYCOLOGY\",\"RID/CT SCAN/NEURAL\",\"RID/MRI/NEURAL\",\"CA/TOXICO/OCCUPATIONAL\",\"PA/CYTO/ONCOTIC CYTOLOGY\",\"RID/CT SCAN/OTHERS\",\"CA/GENETICS/PATERNITY\",\"RID/GENITOURIN/VULVOSCOPY\",\"PA/ANATOMO\",\"RID/CARDIO\",\"CA/COPRO\",\"CA/CORELAB\",\"RID/CT SCAN\",\"PA/CYTO\",\"RID/DENSITO\",\"CA/DIAG\",\"FEE/FEE\",\"RID/GASTROENT\",\"CA/GENETICS\",\"CA                                      /GENETICS\",\"RID/GENITOURIN\",\"CA/HEMATO\",\"RID/INTERNAL\",\"RID/MAMMO\",\"CA/MICROBIO\",\"RID/MRI\",\"CA/NEONATO\",\"CA/TOXICO\",\"RID/ULTRASOUND\",\"CA/URINE\",\"VX/VACCINE\",\"RID/X-RAY\",\"CA\",\"CA                                      \",\"FEE\",\"PA\",\"RID\",\"VX\"],\"labels\":[\"ABPM\",\"CULTURE\",\"CYTOGENETIC\",\"CYTOMETRY\",\"DENSITOMETRY\",\"DIAGNOSTIC MEDICINE\",\"DOPPLER\",\"DRUG ABUSE\",\"ECHOCARDIOGRAPHY\",\"ELECTROPHORESIS\",\"ENDOSCOPY\",\"ERGOMETRY\",\"FEE\",\"FETAL MEDICINE\",\"GENERAL\",\"GENERAL\",\"CONVENTIONAL\",\"COLPOSCOPY\",\"FETAL MEDICINE\",\"COAGULATION\",\"AC / AP / VACCINE RATE\",\"AC RATE\",\"ALLERGY\",\"ANATOMOPATHOLOGICAL\",\"BACTEROSCOPY\",\"BIOCHEMISTRY\",\"BIOMOLECULAR\",\"AUTOIMMUNITY\",\"BLOOD GAS\",\"CARDIAC MARKERS\",\"CARDIOTOCOGRAPHY\",\"CARDIOVASCULAR\",\"CARDIOVASCULAR\",\"CHEST\",\"CHEST\",\"BLOOD COUNT\",\"COLONOSCOPY\",\"GRAPHICAL METHODS\",\"HEAD AND NECK\",\"HEAD AND NECK\",\"HEMATOCYTOLOGY\",\"HIDDEN BLOOD\",\"IMMUNOHEMATOLOGY\",\"IMMUNOHISTOCHEMISTRY\",\"IMMUNOFETOTYPING\",\"HLA\",\"POCT\",\"RESEARCH FEE\",\"ROUTINE\",\"SCINTILOGRAPHY\",\"SCREENING\",\"SKELETAL MUSCLE\",\"SKELETAL MUSCLE\",\"SKELETAL MUSCLE\",\"SPECIAL\",\"SPECIAL COPRO\",\"SPECIAL GENETICS\",\"SPINE\",\"SPINE\",\"THERAPEUTIC DRUG\",\"THERAPY\",\"TOXICOLOGY\",\"UROCULTURE\",\"VACCINE\",\"VASCULAR\",\"VASCULAR\",\"SPECIAL GENETICS\",\"PENISCOPY\",\"IMMUNOHORMONE\",\"PARASITOLOGY\",\"VITAMINS\",\"INBORN ERRORS\",\"INFECTIOUS\",\"INTERNAL MEDICINE\",\"INTERNAL MEDICINE\",\"INVASIVE PROCEDURE\",\"INVASIVE PROCEDURE\",\"INVASIVE PROCEDURE\",\"LARYNGOSCOPY\",\"LIQUID CYTOLOGY\",\"MAMA\",\"MAMMOGRAPHY\",\"MAT / MED\",\"MAT / MED\",\"MAT / MED\",\"MYCOLOGY\",\"NEURAL\",\"NEURAL\",\"OCCUPATIONAL\",\"ONCOTIC CYTOLOGY\",\"OTHERS\",\"PATERNITY\",\"VULVOSCOPY\",\"ANATOMO\",\"CARDIO\",\"COPRO\",\"CORELAB\",\"CT SCAN\",\"CYTO\",\"DENSITO\",\"DIAG\",\"FEE\",\"GASTROENT\",\"GENETICS\",\"GENETICS\",\"GENITOURIN\",\"HEMATO\",\"INTERNAL\",\"MAMMO\",\"MICROBIO\",\"MRI\",\"NEONATO\",\"TOXICO\",\"ULTRASOUND\",\"URINE\",\"VACCINE\",\"X-RAY\",\"CA\",\"CA                                      \",\"FEE\",\"PA\",\"RID\",\"VX\"],\"marker\":{\"colors\":[\"#DF8C37\",\"#C74458\",\"#C74458\",\"#C74458\",\"#DF8C37\",\"#C74458\",\"#DF8C37\",\"#C74458\",\"#DF8C37\",\"#C74458\",\"#DF8C37\",\"#DF8C37\",\"#618E8C\",\"#DF8C37\",\"#DF8C37\",\"#DF8C37\",\"#DF8C37\",\"#DF8C37\",\"#DF8C37\",\"#C74458\",\"#618E8C\",\"#618E8C\",\"#C74458\",\"#98B2E1\",\"#C74458\",\"#C74458\",\"#C74458\",\"#C74458\",\"#C74458\",\"#C74458\",\"#DF8C37\",\"#DF8C37\",\"#DF8C37\",\"#DF8C37\",\"#DF8C37\",\"#C74458\",\"#DF8C37\",\"#DF8C37\",\"#DF8C37\",\"#DF8C37\",\"#C74458\",\"#C74458\",\"#C74458\",\"#98B2E1\",\"#C74458\",\"#C74458\",\"#C74458\",\"#618E8C\",\"#C74458\",\"#DF8C37\",\"#C74458\",\"#DF8C37\",\"#DF8C37\",\"#DF8C37\",\"#C74458\",\"#C74458\",\"#C74458\",\"#DF8C37\",\"#DF8C37\",\"#C74458\",\"#DF8C37\",\"#C74458\",\"#C74458\",\"#8D8D8D\",\"#DF8C37\",\"#DF8C37\",\"#3860A5\",\"#DF8C37\",\"#C74458\",\"#C74458\",\"#C74458\",\"#C74458\",\"#C74458\",\"#DF8C37\",\"#DF8C37\",\"#DF8C37\",\"#DF8C37\",\"#DF8C37\",\"#DF8C37\",\"#98B2E1\",\"#DF8C37\",\"#DF8C37\",\"#DF8C37\",\"#DF8C37\",\"#DF8C37\",\"#C74458\",\"#DF8C37\",\"#DF8C37\",\"#C74458\",\"#98B2E1\",\"#DF8C37\",\"#C74458\",\"#DF8C37\",\"#98B2E1\",\"#DF8C37\",\"#C74458\",\"#C74458\",\"#DF8C37\",\"#98B2E1\",\"#DF8C37\",\"#C74458\",\"#618E8C\",\"#DF8C37\",\"#C74458\",\"#3860A5\",\"#DF8C37\",\"#C74458\",\"#DF8C37\",\"#DF8C37\",\"#C74458\",\"#DF8C37\",\"#C74458\",\"#C74458\",\"#DF8C37\",\"#C74458\",\"#8D8D8D\",\"#DF8C37\",\"#C74458\",\"#3860A5\",\"#618E8C\",\"#98B2E1\",\"#DF8C37\",\"#8D8D8D\"]},\"name\":\"\",\"parents\":[\"RID/CARDIO\",\"CA/MICROBIO\",\"CA/GENETICS\",\"CA/HEMATO\",\"RID/DENSITO\",\"CA/DIAG\",\"RID/ULTRASOUND\",\"CA/TOXICO\",\"RID/CARDIO\",\"CA/CORELAB\",\"RID/GASTROENT\",\"RID/CARDIO\",\"FEE/FEE\",\"RID/ULTRASOUND\",\"RID/MRI\",\"RID/ULTRASOUND\",\"RID/X-RAY\",\"RID/GENITOURIN\",\"RID/CT SCAN\",\"CA/HEMATO\",\"FEE/FEE\",\"FEE/FEE\",\"CA/CORELAB\",\"PA/ANATOMO\",\"CA/MICROBIO\",\"CA/CORELAB\",\"CA/GENETICS\",\"CA/CORELAB\",\"CA/CORELAB\",\"CA/CORELAB\",\"RID/INTERNAL\",\"RID/CT SCAN\",\"RID/MRI\",\"RID/CT SCAN\",\"RID/MRI\",\"CA/HEMATO\",\"RID/GASTROENT\",\"RID/CARDIO\",\"RID/CT SCAN\",\"RID/MRI\",\"CA/HEMATO\",\"CA/COPRO\",\"CA/HEMATO\",\"PA/ANATOMO\",\"CA/HEMATO\",\"CA/GENETICS\",\"CA/CORELAB\",\"FEE/FEE\",\"CA/URINE\",\"RID/INTERNAL\",\"CA/NEONATO\",\"RID/CT SCAN\",\"RID/MRI\",\"RID/ULTRASOUND\",\"CA/URINE\",\"CA/COPRO\",\"CA/GENETICS\",\"RID/CT SCAN\",\"RID/MRI\",\"CA/TOXICO\",\"RID/GASTROENT\",\"CA/TOXICO\",\"CA/MICROBIO\",\"VX/VACCINE\",\"RID/CT SCAN\",\"RID/MRI\",\"CA                                      /GENETICS\",\"RID/GENITOURIN\",\"CA/CORELAB\",\"CA/COPRO\",\"CA/TOXICO\",\"CA/NEONATO\",\"CA/CORELAB\",\"RID/CT SCAN\",\"RID/MRI\",\"RID/GASTROENT\",\"RID/MAMMO\",\"RID/ULTRASOUND\",\"RID/GASTROENT\",\"PA/CYTO\",\"RID/MRI\",\"RID/MAMMO\",\"RID/CT SCAN\",\"RID/MAMMO\",\"RID/MRI\",\"CA/MICROBIO\",\"RID/CT SCAN\",\"RID/MRI\",\"CA/TOXICO\",\"PA/CYTO\",\"RID/CT SCAN\",\"CA/GENETICS\",\"RID/GENITOURIN\",\"PA\",\"RID\",\"CA\",\"CA\",\"RID\",\"PA\",\"RID\",\"CA\",\"FEE\",\"RID\",\"CA\",\"CA                                      \",\"RID\",\"CA\",\"RID\",\"RID\",\"CA\",\"RID\",\"CA\",\"CA\",\"RID\",\"CA\",\"VX\",\"RID\",\"\",\"\",\"\",\"\",\"\",\"\"],\"values\":[1,17,7,16,4,1,35,4,6,7,2,1,4,17,1,30,70,5,1,37,2,1,182,6,24,248,57,2,1,8,1,2,1,2,1,16,3,2,10,5,20,1,10,1,4,7,1,1,19,11,12,24,36,28,4,18,181,3,7,28,1,4,3,27,12,6,1,2,472,5,11,10,69,4,10,1,1,6,1,1,1,3,1,1,1,8,1,9,59,6,1,5,2,7,10,24,990,61,7,4,1,8,8,257,1,9,103,12,5,52,78,22,106,116,23,27,70,1578,1,8,14,373,27],\"type\":\"treemap\"}],                        {\"template\":{\"data\":{\"bar\":[{\"error_x\":{\"color\":\"#2a3f5f\"},\"error_y\":{\"color\":\"#2a3f5f\"},\"marker\":{\"line\":{\"color\":\"#E5ECF6\",\"width\":0.5},\"pattern\":{\"fillmode\":\"overlay\",\"size\":10,\"solidity\":0.2}},\"type\":\"bar\"}],\"barpolar\":[{\"marker\":{\"line\":{\"color\":\"#E5ECF6\",\"width\":0.5},\"pattern\":{\"fillmode\":\"overlay\",\"size\":10,\"solidity\":0.2}},\"type\":\"barpolar\"}],\"carpet\":[{\"aaxis\":{\"endlinecolor\":\"#2a3f5f\",\"gridcolor\":\"white\",\"linecolor\":\"white\",\"minorgridcolor\":\"white\",\"startlinecolor\":\"#2a3f5f\"},\"baxis\":{\"endlinecolor\":\"#2a3f5f\",\"gridcolor\":\"white\",\"linecolor\":\"white\",\"minorgridcolor\":\"white\",\"startlinecolor\":\"#2a3f5f\"},\"type\":\"carpet\"}],\"choropleth\":[{\"colorbar\":{\"outlinewidth\":0,\"ticks\":\"\"},\"type\":\"choropleth\"}],\"contour\":[{\"colorbar\":{\"outlinewidth\":0,\"ticks\":\"\"},\"colorscale\":[[0.0,\"#0d0887\"],[0.1111111111111111,\"#46039f\"],[0.2222222222222222,\"#7201a8\"],[0.3333333333333333,\"#9c179e\"],[0.4444444444444444,\"#bd3786\"],[0.5555555555555556,\"#d8576b\"],[0.6666666666666666,\"#ed7953\"],[0.7777777777777778,\"#fb9f3a\"],[0.8888888888888888,\"#fdca26\"],[1.0,\"#f0f921\"]],\"type\":\"contour\"}],\"contourcarpet\":[{\"colorbar\":{\"outlinewidth\":0,\"ticks\":\"\"},\"type\":\"contourcarpet\"}],\"heatmap\":[{\"colorbar\":{\"outlinewidth\":0,\"ticks\":\"\"},\"colorscale\":[[0.0,\"#0d0887\"],[0.1111111111111111,\"#46039f\"],[0.2222222222222222,\"#7201a8\"],[0.3333333333333333,\"#9c179e\"],[0.4444444444444444,\"#bd3786\"],[0.5555555555555556,\"#d8576b\"],[0.6666666666666666,\"#ed7953\"],[0.7777777777777778,\"#fb9f3a\"],[0.8888888888888888,\"#fdca26\"],[1.0,\"#f0f921\"]],\"type\":\"heatmap\"}],\"heatmapgl\":[{\"colorbar\":{\"outlinewidth\":0,\"ticks\":\"\"},\"colorscale\":[[0.0,\"#0d0887\"],[0.1111111111111111,\"#46039f\"],[0.2222222222222222,\"#7201a8\"],[0.3333333333333333,\"#9c179e\"],[0.4444444444444444,\"#bd3786\"],[0.5555555555555556,\"#d8576b\"],[0.6666666666666666,\"#ed7953\"],[0.7777777777777778,\"#fb9f3a\"],[0.8888888888888888,\"#fdca26\"],[1.0,\"#f0f921\"]],\"type\":\"heatmapgl\"}],\"histogram\":[{\"marker\":{\"pattern\":{\"fillmode\":\"overlay\",\"size\":10,\"solidity\":0.2}},\"type\":\"histogram\"}],\"histogram2d\":[{\"colorbar\":{\"outlinewidth\":0,\"ticks\":\"\"},\"colorscale\":[[0.0,\"#0d0887\"],[0.1111111111111111,\"#46039f\"],[0.2222222222222222,\"#7201a8\"],[0.3333333333333333,\"#9c179e\"],[0.4444444444444444,\"#bd3786\"],[0.5555555555555556,\"#d8576b\"],[0.6666666666666666,\"#ed7953\"],[0.7777777777777778,\"#fb9f3a\"],[0.8888888888888888,\"#fdca26\"],[1.0,\"#f0f921\"]],\"type\":\"histogram2d\"}],\"histogram2dcontour\":[{\"colorbar\":{\"outlinewidth\":0,\"ticks\":\"\"},\"colorscale\":[[0.0,\"#0d0887\"],[0.1111111111111111,\"#46039f\"],[0.2222222222222222,\"#7201a8\"],[0.3333333333333333,\"#9c179e\"],[0.4444444444444444,\"#bd3786\"],[0.5555555555555556,\"#d8576b\"],[0.6666666666666666,\"#ed7953\"],[0.7777777777777778,\"#fb9f3a\"],[0.8888888888888888,\"#fdca26\"],[1.0,\"#f0f921\"]],\"type\":\"histogram2dcontour\"}],\"mesh3d\":[{\"colorbar\":{\"outlinewidth\":0,\"ticks\":\"\"},\"type\":\"mesh3d\"}],\"parcoords\":[{\"line\":{\"colorbar\":{\"outlinewidth\":0,\"ticks\":\"\"}},\"type\":\"parcoords\"}],\"pie\":[{\"automargin\":true,\"type\":\"pie\"}],\"scatter\":[{\"marker\":{\"colorbar\":{\"outlinewidth\":0,\"ticks\":\"\"}},\"type\":\"scatter\"}],\"scatter3d\":[{\"line\":{\"colorbar\":{\"outlinewidth\":0,\"ticks\":\"\"}},\"marker\":{\"colorbar\":{\"outlinewidth\":0,\"ticks\":\"\"}},\"type\":\"scatter3d\"}],\"scattercarpet\":[{\"marker\":{\"colorbar\":{\"outlinewidth\":0,\"ticks\":\"\"}},\"type\":\"scattercarpet\"}],\"scattergeo\":[{\"marker\":{\"colorbar\":{\"outlinewidth\":0,\"ticks\":\"\"}},\"type\":\"scattergeo\"}],\"scattergl\":[{\"marker\":{\"colorbar\":{\"outlinewidth\":0,\"ticks\":\"\"}},\"type\":\"scattergl\"}],\"scattermapbox\":[{\"marker\":{\"colorbar\":{\"outlinewidth\":0,\"ticks\":\"\"}},\"type\":\"scattermapbox\"}],\"scatterpolar\":[{\"marker\":{\"colorbar\":{\"outlinewidth\":0,\"ticks\":\"\"}},\"type\":\"scatterpolar\"}],\"scatterpolargl\":[{\"marker\":{\"colorbar\":{\"outlinewidth\":0,\"ticks\":\"\"}},\"type\":\"scatterpolargl\"}],\"scatterternary\":[{\"marker\":{\"colorbar\":{\"outlinewidth\":0,\"ticks\":\"\"}},\"type\":\"scatterternary\"}],\"surface\":[{\"colorbar\":{\"outlinewidth\":0,\"ticks\":\"\"},\"colorscale\":[[0.0,\"#0d0887\"],[0.1111111111111111,\"#46039f\"],[0.2222222222222222,\"#7201a8\"],[0.3333333333333333,\"#9c179e\"],[0.4444444444444444,\"#bd3786\"],[0.5555555555555556,\"#d8576b\"],[0.6666666666666666,\"#ed7953\"],[0.7777777777777778,\"#fb9f3a\"],[0.8888888888888888,\"#fdca26\"],[1.0,\"#f0f921\"]],\"type\":\"surface\"}],\"table\":[{\"cells\":{\"fill\":{\"color\":\"#EBF0F8\"},\"line\":{\"color\":\"white\"}},\"header\":{\"fill\":{\"color\":\"#C8D4E3\"},\"line\":{\"color\":\"white\"}},\"type\":\"table\"}]},\"layout\":{\"annotationdefaults\":{\"arrowcolor\":\"#2a3f5f\",\"arrowhead\":0,\"arrowwidth\":1},\"autotypenumbers\":\"strict\",\"coloraxis\":{\"colorbar\":{\"outlinewidth\":0,\"ticks\":\"\"}},\"colorscale\":{\"diverging\":[[0,\"#8e0152\"],[0.1,\"#c51b7d\"],[0.2,\"#de77ae\"],[0.3,\"#f1b6da\"],[0.4,\"#fde0ef\"],[0.5,\"#f7f7f7\"],[0.6,\"#e6f5d0\"],[0.7,\"#b8e186\"],[0.8,\"#7fbc41\"],[0.9,\"#4d9221\"],[1,\"#276419\"]],\"sequential\":[[0.0,\"#0d0887\"],[0.1111111111111111,\"#46039f\"],[0.2222222222222222,\"#7201a8\"],[0.3333333333333333,\"#9c179e\"],[0.4444444444444444,\"#bd3786\"],[0.5555555555555556,\"#d8576b\"],[0.6666666666666666,\"#ed7953\"],[0.7777777777777778,\"#fb9f3a\"],[0.8888888888888888,\"#fdca26\"],[1.0,\"#f0f921\"]],\"sequentialminus\":[[0.0,\"#0d0887\"],[0.1111111111111111,\"#46039f\"],[0.2222222222222222,\"#7201a8\"],[0.3333333333333333,\"#9c179e\"],[0.4444444444444444,\"#bd3786\"],[0.5555555555555556,\"#d8576b\"],[0.6666666666666666,\"#ed7953\"],[0.7777777777777778,\"#fb9f3a\"],[0.8888888888888888,\"#fdca26\"],[1.0,\"#f0f921\"]]},\"colorway\":[\"#636efa\",\"#EF553B\",\"#00cc96\",\"#ab63fa\",\"#FFA15A\",\"#19d3f3\",\"#FF6692\",\"#B6E880\",\"#FF97FF\",\"#FECB52\"],\"font\":{\"color\":\"#2a3f5f\"},\"geo\":{\"bgcolor\":\"white\",\"lakecolor\":\"white\",\"landcolor\":\"#E5ECF6\",\"showlakes\":true,\"showland\":true,\"subunitcolor\":\"white\"},\"hoverlabel\":{\"align\":\"left\"},\"hovermode\":\"closest\",\"mapbox\":{\"style\":\"light\"},\"paper_bgcolor\":\"white\",\"plot_bgcolor\":\"#E5ECF6\",\"polar\":{\"angularaxis\":{\"gridcolor\":\"white\",\"linecolor\":\"white\",\"ticks\":\"\"},\"bgcolor\":\"#E5ECF6\",\"radialaxis\":{\"gridcolor\":\"white\",\"linecolor\":\"white\",\"ticks\":\"\"}},\"scene\":{\"xaxis\":{\"backgroundcolor\":\"#E5ECF6\",\"gridcolor\":\"white\",\"gridwidth\":2,\"linecolor\":\"white\",\"showbackground\":true,\"ticks\":\"\",\"zerolinecolor\":\"white\"},\"yaxis\":{\"backgroundcolor\":\"#E5ECF6\",\"gridcolor\":\"white\",\"gridwidth\":2,\"linecolor\":\"white\",\"showbackground\":true,\"ticks\":\"\",\"zerolinecolor\":\"white\"},\"zaxis\":{\"backgroundcolor\":\"#E5ECF6\",\"gridcolor\":\"white\",\"gridwidth\":2,\"linecolor\":\"white\",\"showbackground\":true,\"ticks\":\"\",\"zerolinecolor\":\"white\"}},\"shapedefaults\":{\"line\":{\"color\":\"#2a3f5f\"}},\"ternary\":{\"aaxis\":{\"gridcolor\":\"white\",\"linecolor\":\"white\",\"ticks\":\"\"},\"baxis\":{\"gridcolor\":\"white\",\"linecolor\":\"white\",\"ticks\":\"\"},\"bgcolor\":\"#E5ECF6\",\"caxis\":{\"gridcolor\":\"white\",\"linecolor\":\"white\",\"ticks\":\"\"}},\"title\":{\"x\":0.05},\"xaxis\":{\"automargin\":true,\"gridcolor\":\"white\",\"linecolor\":\"white\",\"ticks\":\"\",\"title\":{\"standoff\":15},\"zerolinecolor\":\"white\",\"zerolinewidth\":2},\"yaxis\":{\"automargin\":true,\"gridcolor\":\"white\",\"linecolor\":\"white\",\"ticks\":\"\",\"title\":{\"standoff\":15},\"zerolinecolor\":\"white\",\"zerolinewidth\":2}}},\"legend\":{\"tracegroupgap\":0},\"title\":{\"text\":\"Testes por Category, Family e Speciality\"},\"treemapcolorway\":[\"#DF8C37\",\"#C74458\",\"#618E8C\",\"#98B2E1\",\"#8D8D8D\",\"#3860A5\"],\"height\":700,\"width\":1000},                        {\"responsive\": true}                    ).then(function(){\n",
       "                            \n",
       "var gd = document.getElementById('d11ad488-ac66-47f6-9239-218d4e9653cc');\n",
       "var x = new MutationObserver(function (mutations, observer) {{\n",
       "        var display = window.getComputedStyle(gd).display;\n",
       "        if (!display || display === 'none') {{\n",
       "            console.log([gd, 'removed!']);\n",
       "            Plotly.purge(gd);\n",
       "            observer.disconnect();\n",
       "        }}\n",
       "}});\n",
       "\n",
       "// Listen for the removal of the full notebook cells\n",
       "var notebookContainer = gd.closest('#notebook-container');\n",
       "if (notebookContainer) {{\n",
       "    x.observe(notebookContainer, {childList: true});\n",
       "}}\n",
       "\n",
       "// Listen for the clearing of the current output cell\n",
       "var outputEl = gd.closest('.output');\n",
       "if (outputEl) {{\n",
       "    x.observe(outputEl, {childList: true});\n",
       "}}\n",
       "\n",
       "                        })                };                });            </script>        </div>"
      ]
     },
     "metadata": {},
     "output_type": "display_data"
    }
   ],
   "source": [
    "colors = ['#DF8C37', '#C74458', '#618E8C', '#98B2E1', '#8D8D8D', '#3860A5']\n",
    "\n",
    "fig = px.treemap(categorias_testes,\n",
    "                 path=[\"Category\",\"Family\",\"Speciality\"],\n",
    "                 values='CodItem',\n",
    "                 color='Category',\n",
    "                 color_discrete_sequence = colors,\n",
    "                 width=1000, height=700,\n",
    "                 title=\"Testes por Category, Family e Speciality\",)\n",
    "\n",
    "fig.show()"
   ]
  },
  {
   "attachments": {},
   "cell_type": "markdown",
   "metadata": {},
   "source": [
    "### média geral do número de exames por bateria"
   ]
  },
  {
   "cell_type": "code",
   "execution_count": 21,
   "metadata": {},
   "outputs": [
    {
     "data": {
      "text/plain": [
       "3.5462314732470883"
      ]
     },
     "execution_count": 21,
     "metadata": {},
     "output_type": "execute_result"
    }
   ],
   "source": [
    "transactional_data.groupby(['Service Id']).count().reset_index()['Patient Id'].mean()"
   ]
  },
  {
   "attachments": {},
   "cell_type": "markdown",
   "metadata": {},
   "source": [
    "### gráfico do número de exames"
   ]
  },
  {
   "cell_type": "code",
   "execution_count": 71,
   "metadata": {},
   "outputs": [
    {
     "data": {
      "text/html": [
       "<div>\n",
       "<style scoped>\n",
       "    .dataframe tbody tr th:only-of-type {\n",
       "        vertical-align: middle;\n",
       "    }\n",
       "\n",
       "    .dataframe tbody tr th {\n",
       "        vertical-align: top;\n",
       "    }\n",
       "\n",
       "    .dataframe thead th {\n",
       "        text-align: right;\n",
       "    }\n",
       "</style>\n",
       "<table border=\"1\" class=\"dataframe\">\n",
       "  <thead>\n",
       "    <tr style=\"text-align: right;\">\n",
       "      <th></th>\n",
       "      <th>Lab Id</th>\n",
       "      <th>CodItem</th>\n",
       "      <th>Sigla</th>\n",
       "      <th>cor</th>\n",
       "    </tr>\n",
       "  </thead>\n",
       "  <tbody>\n",
       "    <tr>\n",
       "      <th>106</th>\n",
       "      <td>L698</td>\n",
       "      <td>1943</td>\n",
       "      <td>WA</td>\n",
       "      <td>None</td>\n",
       "    </tr>\n",
       "    <tr>\n",
       "      <th>67</th>\n",
       "      <td>L518</td>\n",
       "      <td>1916</td>\n",
       "      <td>CA</td>\n",
       "      <td>#5288db</td>\n",
       "    </tr>\n",
       "    <tr>\n",
       "      <th>108</th>\n",
       "      <td>L720</td>\n",
       "      <td>1835</td>\n",
       "      <td>WA</td>\n",
       "      <td>None</td>\n",
       "    </tr>\n",
       "    <tr>\n",
       "      <th>100</th>\n",
       "      <td>L666</td>\n",
       "      <td>1288</td>\n",
       "      <td>GA</td>\n",
       "      <td>#ac3a4e</td>\n",
       "    </tr>\n",
       "    <tr>\n",
       "      <th>63</th>\n",
       "      <td>L442</td>\n",
       "      <td>1174</td>\n",
       "      <td>WA</td>\n",
       "      <td>None</td>\n",
       "    </tr>\n",
       "    <tr>\n",
       "      <th>95</th>\n",
       "      <td>L660</td>\n",
       "      <td>645</td>\n",
       "      <td>NH</td>\n",
       "      <td>None</td>\n",
       "    </tr>\n",
       "    <tr>\n",
       "      <th>25</th>\n",
       "      <td>L127</td>\n",
       "      <td>235</td>\n",
       "      <td>LA</td>\n",
       "      <td>None</td>\n",
       "    </tr>\n",
       "    <tr>\n",
       "      <th>117</th>\n",
       "      <td>L967</td>\n",
       "      <td>90</td>\n",
       "      <td>CA</td>\n",
       "      <td>#5288db</td>\n",
       "    </tr>\n",
       "    <tr>\n",
       "      <th>39</th>\n",
       "      <td>L149</td>\n",
       "      <td>68</td>\n",
       "      <td>CA</td>\n",
       "      <td>#5288db</td>\n",
       "    </tr>\n",
       "    <tr>\n",
       "      <th>99</th>\n",
       "      <td>L665</td>\n",
       "      <td>24</td>\n",
       "      <td>NaN</td>\n",
       "      <td>None</td>\n",
       "    </tr>\n",
       "  </tbody>\n",
       "</table>\n",
       "</div>"
      ],
      "text/plain": [
       "    Lab Id  CodItem Sigla      cor\n",
       "106   L698     1943    WA     None\n",
       "67    L518     1916    CA  #5288db\n",
       "108   L720     1835    WA     None\n",
       "100   L666     1288    GA  #ac3a4e\n",
       "63    L442     1174    WA     None\n",
       "95    L660      645    NH     None\n",
       "25    L127      235    LA     None\n",
       "117   L967       90    CA  #5288db\n",
       "39    L149       68    CA  #5288db\n",
       "99    L665       24   NaN     None"
      ]
     },
     "execution_count": 71,
     "metadata": {},
     "output_type": "execute_result"
    }
   ],
   "source": [
    "n_exames_lab = transactional_data.groupby('Lab Id').count()[['CodItem']].reset_index().merge(df_geocode[['Lab Id', 'Sigla']], how = 'left')\n",
    "n_exames_lab = n_exames_lab[n_exames_lab['Lab Id'] != \"-2\"]\n",
    "\n",
    "def color_states(x):\n",
    "    if x == 'CA':\n",
    "        return '#5288db'\n",
    "    if x == 'GA':\n",
    "        return '#ac3a4e'\n",
    "    \n",
    "n_exames_lab['cor'] = n_exames_lab['Sigla'].apply(color_states)\n",
    "n_exames_lab_low = pd.concat([n_exames_lab.sort_values('CodItem', ascending = False).tail(10)])\n",
    "n_exames_lab_low"
   ]
  },
  {
   "cell_type": "code",
   "execution_count": 73,
   "metadata": {},
   "outputs": [
    {
     "data": {
      "image/png": "[encoded data removed]",
      "text/plain": [
       "<Figure size 432x576 with 1 Axes>"
      ]
     },
     "metadata": {},
     "output_type": "display_data"
    }
   ],
   "source": [
    "cores = ['#ac3a4e' if x == 'GA' else '#5288db' if x == 'CA' else '#a6a6a6' for x in n_exames_lab_low['Sigla']]\n",
    "\n",
    "plt.figure(figsize = (6,8))\n",
    "sns.set_style('white') # also 'ticks', 'darkgrid', 'whitegrid', white\n",
    "fig = sns.barplot(data = n_exames_lab_low, x = 'CodItem', y = 'Lab Id', palette = cores, width = 0.6)\n",
    "\n",
    "# colocar os números no final da barra\n",
    "for i in fig.patches:\n",
    "    fig.annotate(int(i.get_width()),\n",
    "                  (i.get_width(), i.get_y() + i.get_height() / 2),\n",
    "                  ha = 'left', va = 'center', fontsize = 16,\n",
    "                  color = '#4d4d4d', xytext = (1, 0),\n",
    "                  textcoords = 'offset points')\n",
    "\n",
    "# remover os números do eixo x\n",
    "fig.set_xticklabels('')\n",
    "fig.set_yticklabels(fig.get_yticklabels(), fontsize=15)\n",
    "\n",
    "# remover os títulos dos eixos\n",
    "fig.set(xlabel='', ylabel='')\n",
    "\n",
    "# remover as bordas do gráfico\n",
    "sns.despine(bottom = True)\n"
   ]
  },
  {
   "cell_type": "code",
   "execution_count": 79,
   "metadata": {},
   "outputs": [
    {
     "data": {
      "text/html": [
       "<div>\n",
       "<style scoped>\n",
       "    .dataframe tbody tr th:only-of-type {\n",
       "        vertical-align: middle;\n",
       "    }\n",
       "\n",
       "    .dataframe tbody tr th {\n",
       "        vertical-align: top;\n",
       "    }\n",
       "\n",
       "    .dataframe thead th {\n",
       "        text-align: right;\n",
       "    }\n",
       "</style>\n",
       "<table border=\"1\" class=\"dataframe\">\n",
       "  <thead>\n",
       "    <tr style=\"text-align: right;\">\n",
       "      <th></th>\n",
       "      <th>Patient Id</th>\n",
       "      <th>Gender</th>\n",
       "      <th>Date of birth</th>\n",
       "      <th>Date of service</th>\n",
       "      <th>Service Id</th>\n",
       "      <th>Lab Id</th>\n",
       "      <th>CodItem</th>\n",
       "      <th>Valor Pago</th>\n",
       "      <th>Idade</th>\n",
       "      <th>final_id</th>\n",
       "      <th>mes</th>\n",
       "      <th>ano</th>\n",
       "      <th>mes_ano</th>\n",
       "    </tr>\n",
       "  </thead>\n",
       "  <tbody>\n",
       "    <tr>\n",
       "      <th>15790</th>\n",
       "      <td>10240382020-BIO010</td>\n",
       "      <td>M</td>\n",
       "      <td>1961-01-14</td>\n",
       "      <td>2019-01-17</td>\n",
       "      <td>537300215155-142</td>\n",
       "      <td>L665</td>\n",
       "      <td>70000972</td>\n",
       "      <td>38.0</td>\n",
       "      <td>58.0</td>\n",
       "      <td>BIO010</td>\n",
       "      <td>Jan</td>\n",
       "      <td>19</td>\n",
       "      <td>Jan/19</td>\n",
       "    </tr>\n",
       "    <tr>\n",
       "      <th>21221</th>\n",
       "      <td>10240382026-BIO010</td>\n",
       "      <td>F</td>\n",
       "      <td>1990-12-31 00:00:00</td>\n",
       "      <td>2019-01-17</td>\n",
       "      <td>537300215193-142</td>\n",
       "      <td>L665</td>\n",
       "      <td>70000972</td>\n",
       "      <td>38.0</td>\n",
       "      <td>28.0</td>\n",
       "      <td>BIO010</td>\n",
       "      <td>Jan</td>\n",
       "      <td>19</td>\n",
       "      <td>Jan/19</td>\n",
       "    </tr>\n",
       "    <tr>\n",
       "      <th>157408</th>\n",
       "      <td>10240382027-BIO010</td>\n",
       "      <td>F</td>\n",
       "      <td>2017-11-20 00:00:00</td>\n",
       "      <td>2019-01-17</td>\n",
       "      <td>537300215209-142</td>\n",
       "      <td>L665</td>\n",
       "      <td>70000972</td>\n",
       "      <td>38.0</td>\n",
       "      <td>1.0</td>\n",
       "      <td>BIO010</td>\n",
       "      <td>Jan</td>\n",
       "      <td>19</td>\n",
       "      <td>Jan/19</td>\n",
       "    </tr>\n",
       "    <tr>\n",
       "      <th>180798</th>\n",
       "      <td>10240382022-BIO010</td>\n",
       "      <td>M</td>\n",
       "      <td>1954-08-20</td>\n",
       "      <td>2019-01-17</td>\n",
       "      <td>537300215162-142</td>\n",
       "      <td>L665</td>\n",
       "      <td>70000972</td>\n",
       "      <td>38.0</td>\n",
       "      <td>64.0</td>\n",
       "      <td>BIO010</td>\n",
       "      <td>Jan</td>\n",
       "      <td>19</td>\n",
       "      <td>Jan/19</td>\n",
       "    </tr>\n",
       "    <tr>\n",
       "      <th>199212</th>\n",
       "      <td>10240382025-BIO010</td>\n",
       "      <td>F</td>\n",
       "      <td>1981-11-20 00:00:00</td>\n",
       "      <td>2019-01-17</td>\n",
       "      <td>537300215186-142</td>\n",
       "      <td>L665</td>\n",
       "      <td>70000972</td>\n",
       "      <td>38.0</td>\n",
       "      <td>37.0</td>\n",
       "      <td>BIO010</td>\n",
       "      <td>Jan</td>\n",
       "      <td>19</td>\n",
       "      <td>Jan/19</td>\n",
       "    </tr>\n",
       "  </tbody>\n",
       "</table>\n",
       "</div>"
      ],
      "text/plain": [
       "                Patient Id Gender        Date of birth Date of service  \\\n",
       "15790   10240382020-BIO010      M           1961-01-14      2019-01-17   \n",
       "21221   10240382026-BIO010      F  1990-12-31 00:00:00      2019-01-17   \n",
       "157408  10240382027-BIO010      F  2017-11-20 00:00:00      2019-01-17   \n",
       "180798  10240382022-BIO010      M           1954-08-20      2019-01-17   \n",
       "199212  10240382025-BIO010      F  1981-11-20 00:00:00      2019-01-17   \n",
       "\n",
       "              Service Id Lab Id   CodItem  Valor Pago  Idade final_id  mes  \\\n",
       "15790   537300215155-142   L665  70000972        38.0   58.0   BIO010  Jan   \n",
       "21221   537300215193-142   L665  70000972        38.0   28.0   BIO010  Jan   \n",
       "157408  537300215209-142   L665  70000972        38.0    1.0   BIO010  Jan   \n",
       "180798  537300215162-142   L665  70000972        38.0   64.0   BIO010  Jan   \n",
       "199212  537300215186-142   L665  70000972        38.0   37.0   BIO010  Jan   \n",
       "\n",
       "       ano mes_ano  \n",
       "15790   19  Jan/19  \n",
       "21221   19  Jan/19  \n",
       "157408  19  Jan/19  \n",
       "180798  19  Jan/19  \n",
       "199212  19  Jan/19  "
      ]
     },
     "execution_count": 79,
     "metadata": {},
     "output_type": "execute_result"
    }
   ],
   "source": [
    "# primeiro exame de alguns laboratórios\n",
    "\n",
    "transactional_data[transactional_data['Lab Id'] == 'L665'].sort_values('Date of service').head()"
   ]
  },
  {
   "attachments": {},
   "cell_type": "markdown",
   "metadata": {},
   "source": [
    "### número de exames por estado"
   ]
  },
  {
   "cell_type": "code",
   "execution_count": 105,
   "metadata": {},
   "outputs": [
    {
     "data": {
      "text/html": [
       "<div>\n",
       "<style scoped>\n",
       "    .dataframe tbody tr th:only-of-type {\n",
       "        vertical-align: middle;\n",
       "    }\n",
       "\n",
       "    .dataframe tbody tr th {\n",
       "        vertical-align: top;\n",
       "    }\n",
       "\n",
       "    .dataframe thead th {\n",
       "        text-align: right;\n",
       "    }\n",
       "</style>\n",
       "<table border=\"1\" class=\"dataframe\">\n",
       "  <thead>\n",
       "    <tr style=\"text-align: right;\">\n",
       "      <th></th>\n",
       "      <th>Sigla</th>\n",
       "      <th>CodItem</th>\n",
       "      <th>Lab Id</th>\n",
       "      <th>media_exames_estado</th>\n",
       "      <th>Estado</th>\n",
       "    </tr>\n",
       "  </thead>\n",
       "  <tbody>\n",
       "    <tr>\n",
       "      <th>0</th>\n",
       "      <td>PA</td>\n",
       "      <td>466811</td>\n",
       "      <td>17</td>\n",
       "      <td>27459.5</td>\n",
       "      <td>Pennsylvania</td>\n",
       "    </tr>\n",
       "    <tr>\n",
       "      <th>1</th>\n",
       "      <td>CA</td>\n",
       "      <td>477651</td>\n",
       "      <td>18</td>\n",
       "      <td>26536.2</td>\n",
       "      <td>California</td>\n",
       "    </tr>\n",
       "    <tr>\n",
       "      <th>2</th>\n",
       "      <td>GA</td>\n",
       "      <td>442417</td>\n",
       "      <td>18</td>\n",
       "      <td>24578.7</td>\n",
       "      <td>Georgia</td>\n",
       "    </tr>\n",
       "    <tr>\n",
       "      <th>3</th>\n",
       "      <td>WA</td>\n",
       "      <td>459521</td>\n",
       "      <td>20</td>\n",
       "      <td>22976.0</td>\n",
       "      <td>Washington</td>\n",
       "    </tr>\n",
       "    <tr>\n",
       "      <th>4</th>\n",
       "      <td>MI</td>\n",
       "      <td>44078</td>\n",
       "      <td>2</td>\n",
       "      <td>22039.0</td>\n",
       "      <td>Michigan</td>\n",
       "    </tr>\n",
       "    <tr>\n",
       "      <th>5</th>\n",
       "      <td>MA</td>\n",
       "      <td>182072</td>\n",
       "      <td>12</td>\n",
       "      <td>15172.7</td>\n",
       "      <td>Massachusetts</td>\n",
       "    </tr>\n",
       "    <tr>\n",
       "      <th>6</th>\n",
       "      <td>IA</td>\n",
       "      <td>58729</td>\n",
       "      <td>5</td>\n",
       "      <td>11745.8</td>\n",
       "      <td>Iowa</td>\n",
       "    </tr>\n",
       "    <tr>\n",
       "      <th>7</th>\n",
       "      <td>TX</td>\n",
       "      <td>10922</td>\n",
       "      <td>1</td>\n",
       "      <td>10922.0</td>\n",
       "      <td>Texas</td>\n",
       "    </tr>\n",
       "    <tr>\n",
       "      <th>8</th>\n",
       "      <td>IL</td>\n",
       "      <td>60481</td>\n",
       "      <td>6</td>\n",
       "      <td>10080.2</td>\n",
       "      <td>Illinois</td>\n",
       "    </tr>\n",
       "    <tr>\n",
       "      <th>9</th>\n",
       "      <td>NJ</td>\n",
       "      <td>26853</td>\n",
       "      <td>3</td>\n",
       "      <td>8951.0</td>\n",
       "      <td>New Jersey</td>\n",
       "    </tr>\n",
       "    <tr>\n",
       "      <th>10</th>\n",
       "      <td>NH</td>\n",
       "      <td>30449</td>\n",
       "      <td>4</td>\n",
       "      <td>7612.2</td>\n",
       "      <td>New Hampshire</td>\n",
       "    </tr>\n",
       "    <tr>\n",
       "      <th>11</th>\n",
       "      <td>NY</td>\n",
       "      <td>78890</td>\n",
       "      <td>11</td>\n",
       "      <td>7171.8</td>\n",
       "      <td>New York</td>\n",
       "    </tr>\n",
       "    <tr>\n",
       "      <th>12</th>\n",
       "      <td>LA</td>\n",
       "      <td>235</td>\n",
       "      <td>1</td>\n",
       "      <td>235.0</td>\n",
       "      <td>Louisiana</td>\n",
       "    </tr>\n",
       "  </tbody>\n",
       "</table>\n",
       "</div>"
      ],
      "text/plain": [
       "   Sigla  CodItem  Lab Id  media_exames_estado         Estado\n",
       "0     PA   466811      17              27459.5   Pennsylvania\n",
       "1     CA   477651      18              26536.2     California\n",
       "2     GA   442417      18              24578.7        Georgia\n",
       "3     WA   459521      20              22976.0     Washington\n",
       "4     MI    44078       2              22039.0       Michigan\n",
       "5     MA   182072      12              15172.7  Massachusetts\n",
       "6     IA    58729       5              11745.8           Iowa\n",
       "7     TX    10922       1              10922.0          Texas\n",
       "8     IL    60481       6              10080.2       Illinois\n",
       "9     NJ    26853       3               8951.0     New Jersey\n",
       "10    NH    30449       4               7612.2  New Hampshire\n",
       "11    NY    78890      11               7171.8       New York\n",
       "12    LA      235       1                235.0      Louisiana"
      ]
     },
     "execution_count": 105,
     "metadata": {},
     "output_type": "execute_result"
    }
   ],
   "source": [
    "# número de laboratórios por estado\n",
    "n_lab_estados = df_geocode.groupby('Sigla').count()[['Lab Id']].reset_index()\n",
    "\n",
    "# média de exames por estado\n",
    "n_exames_estado = transactional_data.merge(df_geocode[['Lab Id', 'Sigla']], how = 'left').groupby('Sigla').count()[['CodItem']].reset_index()\n",
    "n_exames_estado = n_exames_estado.merge(n_lab_estados, how = 'left')\n",
    "n_exames_estado['media_exames_estado'] = round(n_exames_estado['CodItem'] / n_exames_estado['Lab Id'], 1)\n",
    "n_exames_estado = n_exames_estado.sort_values('media_exames_estado', ascending = False).merge(zipcodes_states[['Sigla', 'Estado']], how = 'left')\n",
    "n_exames_estado\n"
   ]
  },
  {
   "cell_type": "code",
   "execution_count": 166,
   "metadata": {},
   "outputs": [
    {
     "data": {
      "image/png": "[encoded data removed]",
      "text/plain": [
       "<Figure size 1152x720 with 1 Axes>"
      ]
     },
     "metadata": {},
     "output_type": "display_data"
    }
   ],
   "source": [
    "cores = ['#5288db' if x == 'Michigan' else '#a6a6a6' for x in n_exames_estado['Estado']]\n",
    "\n",
    "plt.figure(figsize = (16,10))\n",
    "sns.set_style('white') # also 'ticks', 'darkgrid', 'whitegrid', white\n",
    "fig = sns.barplot(data = n_exames_estado, x = 'media_exames_estado', y = 'Estado', palette = cores, width = 0.6)\n",
    "\n",
    "# colocar os números no final da barra\n",
    "for i in fig.patches:\n",
    "    fig.annotate(int(i.get_width()),\n",
    "                  (i.get_width(), i.get_y() + i.get_height() / 2),\n",
    "                  ha = 'left', va = 'center', fontsize = 14,\n",
    "                  color = '#4d4d4d', xytext = (1, 0),\n",
    "                  textcoords = 'offset points')\n",
    "\n",
    "# remover os números do eixo x\n",
    "fig.set_xticklabels('')\n",
    "fig.set_yticklabels(fig.get_yticklabels(), fontsize=14)\n",
    "\n",
    "# remover os títulos dos eixos\n",
    "fig.set(xlabel='', ylabel='')\n",
    "\n",
    "# remover as bordas do gráfico\n",
    "sns.despine(bottom = True)"
   ]
  },
  {
   "attachments": {},
   "cell_type": "markdown",
   "metadata": {},
   "source": [
    "### gráfico da receita dos laboratórios"
   ]
  },
  {
   "cell_type": "code",
   "execution_count": 136,
   "metadata": {},
   "outputs": [
    {
     "data": {
      "text/html": [
       "<div>\n",
       "<style scoped>\n",
       "    .dataframe tbody tr th:only-of-type {\n",
       "        vertical-align: middle;\n",
       "    }\n",
       "\n",
       "    .dataframe tbody tr th {\n",
       "        vertical-align: top;\n",
       "    }\n",
       "\n",
       "    .dataframe thead th {\n",
       "        text-align: right;\n",
       "    }\n",
       "</style>\n",
       "<table border=\"1\" class=\"dataframe\">\n",
       "  <thead>\n",
       "    <tr style=\"text-align: right;\">\n",
       "      <th></th>\n",
       "      <th>Lab Id</th>\n",
       "      <th>Valor Pago</th>\n",
       "      <th>label</th>\n",
       "      <th>Sigla</th>\n",
       "    </tr>\n",
       "  </thead>\n",
       "  <tbody>\n",
       "    <tr>\n",
       "      <th>0</th>\n",
       "      <td>L133</td>\n",
       "      <td>9711866.14</td>\n",
       "      <td>9.7 M</td>\n",
       "      <td>CA</td>\n",
       "    </tr>\n",
       "    <tr>\n",
       "      <th>1</th>\n",
       "      <td>L139</td>\n",
       "      <td>8778103.04</td>\n",
       "      <td>8.8 M</td>\n",
       "      <td>CA</td>\n",
       "    </tr>\n",
       "    <tr>\n",
       "      <th>2</th>\n",
       "      <td>L121</td>\n",
       "      <td>6521202.54</td>\n",
       "      <td>6.5 M</td>\n",
       "      <td>WA</td>\n",
       "    </tr>\n",
       "    <tr>\n",
       "      <th>3</th>\n",
       "      <td>L123</td>\n",
       "      <td>6372571.60</td>\n",
       "      <td>6.4 M</td>\n",
       "      <td>PA</td>\n",
       "    </tr>\n",
       "    <tr>\n",
       "      <th>4</th>\n",
       "      <td>L152</td>\n",
       "      <td>6216352.62</td>\n",
       "      <td>6.2 M</td>\n",
       "      <td>GA</td>\n",
       "    </tr>\n",
       "    <tr>\n",
       "      <th>5</th>\n",
       "      <td>L155</td>\n",
       "      <td>5278574.40</td>\n",
       "      <td>5.3 M</td>\n",
       "      <td>CA</td>\n",
       "    </tr>\n",
       "    <tr>\n",
       "      <th>6</th>\n",
       "      <td>L156</td>\n",
       "      <td>5081689.03</td>\n",
       "      <td>5.1 M</td>\n",
       "      <td>WA</td>\n",
       "    </tr>\n",
       "    <tr>\n",
       "      <th>7</th>\n",
       "      <td>L166</td>\n",
       "      <td>4721055.04</td>\n",
       "      <td>4.7 M</td>\n",
       "      <td>PA</td>\n",
       "    </tr>\n",
       "    <tr>\n",
       "      <th>8</th>\n",
       "      <td>L662</td>\n",
       "      <td>4014292.96</td>\n",
       "      <td>4.0 M</td>\n",
       "      <td>GA</td>\n",
       "    </tr>\n",
       "    <tr>\n",
       "      <th>9</th>\n",
       "      <td>L061</td>\n",
       "      <td>3381442.96</td>\n",
       "      <td>3.4 M</td>\n",
       "      <td>WA</td>\n",
       "    </tr>\n",
       "  </tbody>\n",
       "</table>\n",
       "</div>"
      ],
      "text/plain": [
       "  Lab Id  Valor Pago  label Sigla\n",
       "0   L133  9711866.14  9.7 M    CA\n",
       "1   L139  8778103.04  8.8 M    CA\n",
       "2   L121  6521202.54  6.5 M    WA\n",
       "3   L123  6372571.60  6.4 M    PA\n",
       "4   L152  6216352.62  6.2 M    GA\n",
       "5   L155  5278574.40  5.3 M    CA\n",
       "6   L156  5081689.03  5.1 M    WA\n",
       "7   L166  4721055.04  4.7 M    PA\n",
       "8   L662  4014292.96  4.0 M    GA\n",
       "9   L061  3381442.96  3.4 M    WA"
      ]
     },
     "execution_count": 136,
     "metadata": {},
     "output_type": "execute_result"
    }
   ],
   "source": [
    "receita = transactional_data.groupby(\"Lab Id\").sum()[['Valor Pago']].reset_index()\n",
    "receita = receita[receita['Lab Id'] != '-2'].sort_values('Valor Pago', ascending = False)\n",
    "receita['label'] = (round(receita['Valor Pago'] / 1000000, 1)).astype(str) + ' M'\n",
    "\n",
    "receita = receita.head(10).merge(df_geocode[['Lab Id', 'Sigla']], how = 'left')\n",
    "\n",
    "receita"
   ]
  },
  {
   "cell_type": "code",
   "execution_count": 138,
   "metadata": {},
   "outputs": [
    {
     "data": {
      "image/png": "[encoded data removed]",
      "text/plain": [
       "<Figure size 432x576 with 1 Axes>"
      ]
     },
     "metadata": {},
     "output_type": "display_data"
    }
   ],
   "source": [
    "cores = ['#ac3a4e' if x == 'GA' else '#5288db' if x == 'CA' else '#a6a6a6' for x in receita['Sigla']]\n",
    "\n",
    "plt.figure(figsize = (6,8))\n",
    "sns.set_style('white') # also 'ticks', 'darkgrid', 'whitegrid', white\n",
    "fig = sns.barplot(data = receita, x = 'Valor Pago', y = 'Lab Id', palette = cores, width = 0.6)\n",
    "\n",
    "# colocar os números no final da barra\n",
    "for i in fig.patches:\n",
    "    fig.annotate((round(i.get_width() / 1000000, 1)).astype(str) + 'M',\n",
    "                  (i.get_width(), i.get_y() + i.get_height() / 2),\n",
    "                  ha = 'left', va = 'center', fontsize = 14,\n",
    "                  color = '#4d4d4d', xytext = (1, 0),\n",
    "                  textcoords = 'offset points')\n",
    "\n",
    "# remover os números do eixo x\n",
    "fig.set_xticklabels('')\n",
    "fig.set_yticklabels(fig.get_yticklabels(), fontsize=15)\n",
    "\n",
    "# remover os títulos dos eixos\n",
    "fig.set(xlabel='', ylabel='')\n",
    "\n",
    "# remover as bordas do gráfico\n",
    "sns.despine(bottom = True)"
   ]
  },
  {
   "attachments": {},
   "cell_type": "markdown",
   "metadata": {},
   "source": [
    "### gráfico de fidelização por estado"
   ]
  },
  {
   "cell_type": "code",
   "execution_count": 152,
   "metadata": {},
   "outputs": [
    {
     "data": {
      "text/html": [
       "<div>\n",
       "<style scoped>\n",
       "    .dataframe tbody tr th:only-of-type {\n",
       "        vertical-align: middle;\n",
       "    }\n",
       "\n",
       "    .dataframe tbody tr th {\n",
       "        vertical-align: top;\n",
       "    }\n",
       "\n",
       "    .dataframe thead th {\n",
       "        text-align: right;\n",
       "    }\n",
       "</style>\n",
       "<table border=\"1\" class=\"dataframe\">\n",
       "  <thead>\n",
       "    <tr style=\"text-align: right;\">\n",
       "      <th></th>\n",
       "      <th>Estado</th>\n",
       "      <th>Média de idas ao lab</th>\n",
       "    </tr>\n",
       "  </thead>\n",
       "  <tbody>\n",
       "    <tr>\n",
       "      <th>6</th>\n",
       "      <td>Michigan</td>\n",
       "      <td>5.068380</td>\n",
       "    </tr>\n",
       "    <tr>\n",
       "      <th>7</th>\n",
       "      <td>New Hampshire</td>\n",
       "      <td>4.924237</td>\n",
       "    </tr>\n",
       "    <tr>\n",
       "      <th>2</th>\n",
       "      <td>Illinois</td>\n",
       "      <td>4.814456</td>\n",
       "    </tr>\n",
       "    <tr>\n",
       "      <th>8</th>\n",
       "      <td>New Jersey</td>\n",
       "      <td>4.716565</td>\n",
       "    </tr>\n",
       "    <tr>\n",
       "      <th>11</th>\n",
       "      <td>Texas</td>\n",
       "      <td>4.527517</td>\n",
       "    </tr>\n",
       "    <tr>\n",
       "      <th>1</th>\n",
       "      <td>Georgia</td>\n",
       "      <td>4.480087</td>\n",
       "    </tr>\n",
       "    <tr>\n",
       "      <th>3</th>\n",
       "      <td>Iowa</td>\n",
       "      <td>4.390296</td>\n",
       "    </tr>\n",
       "    <tr>\n",
       "      <th>5</th>\n",
       "      <td>Massachusetts</td>\n",
       "      <td>4.372163</td>\n",
       "    </tr>\n",
       "    <tr>\n",
       "      <th>9</th>\n",
       "      <td>New York</td>\n",
       "      <td>4.358783</td>\n",
       "    </tr>\n",
       "    <tr>\n",
       "      <th>10</th>\n",
       "      <td>Pennsylvania</td>\n",
       "      <td>4.358582</td>\n",
       "    </tr>\n",
       "    <tr>\n",
       "      <th>12</th>\n",
       "      <td>Washington</td>\n",
       "      <td>4.206146</td>\n",
       "    </tr>\n",
       "    <tr>\n",
       "      <th>0</th>\n",
       "      <td>California</td>\n",
       "      <td>4.130340</td>\n",
       "    </tr>\n",
       "    <tr>\n",
       "      <th>4</th>\n",
       "      <td>Louisiana</td>\n",
       "      <td>2.089286</td>\n",
       "    </tr>\n",
       "  </tbody>\n",
       "</table>\n",
       "</div>"
      ],
      "text/plain": [
       "           Estado  Média de idas ao lab\n",
       "6        Michigan              5.068380\n",
       "7   New Hampshire              4.924237\n",
       "2        Illinois              4.814456\n",
       "8      New Jersey              4.716565\n",
       "11          Texas              4.527517\n",
       "1         Georgia              4.480087\n",
       "3            Iowa              4.390296\n",
       "5   Massachusetts              4.372163\n",
       "9        New York              4.358783\n",
       "10   Pennsylvania              4.358582\n",
       "12     Washington              4.206146\n",
       "0      California              4.130340\n",
       "4       Louisiana              2.089286"
      ]
     },
     "execution_count": 152,
     "metadata": {},
     "output_type": "execute_result"
    }
   ],
   "source": [
    "fidelizacao = transactional_data[transactional_data['Patient Id'] != '-2']\n",
    "fidelizacao = fidelizacao[fidelizacao['Lab Id'] != '-2']\n",
    "\n",
    "fidelizacao = fidelizacao.merge(df_geocode[['Lab Id', 'Sigla']]).merge(zipcodes_states[['Sigla', 'Estado']], how = 'left')\n",
    "\n",
    "fidelizacao = fidelizacao.groupby(['Patient Id', 'Estado']).count().reset_index().drop_duplicates('Patient Id')[['Patient Id', 'Estado', 'Gender']]\n",
    "\n",
    "fidelizacao = fidelizacao.rename({'Gender': 'Média de idas ao lab'}, axis = 1)\n",
    "\n",
    "fidelizacao_estado = fidelizacao.groupby('Estado').mean('Média de idas ao lab').reset_index().sort_values('Média de idas ao lab', ascending = False)\n",
    "\n",
    "fidelizacao_estado"
   ]
  },
  {
   "cell_type": "code",
   "execution_count": 157,
   "metadata": {},
   "outputs": [
    {
     "data": {
      "image/png": "[encoded data removed]",
      "text/plain": [
       "<Figure size 1152x720 with 1 Axes>"
      ]
     },
     "metadata": {},
     "output_type": "display_data"
    }
   ],
   "source": [
    "cores = ['#ac3a4e' if x == 'California' else '#ac3a4e' if x == 'Washington' else '#ac3a4e' if x == 'Georgia' else '#ac3a4e' if x == 'Pennsylvania' else '#a6a6a6' for x in fidelizacao_estado['Estado']]\n",
    "\n",
    "plt.figure(figsize = (16,10))\n",
    "sns.set_style('white') # also 'ticks', 'darkgrid', 'whitegrid', white\n",
    "fig = sns.barplot(data = fidelizacao_estado, x = 'Média de idas ao lab', y = 'Estado', palette = cores, width = 0.6)\n",
    "\n",
    "# colocar os números no final da barra\n",
    "for i in fig.patches:\n",
    "    fig.annotate(float(round(i.get_width(), 2)),\n",
    "                  (i.get_width(), i.get_y() + i.get_height() / 2),\n",
    "                  ha = 'left', va = 'center', fontsize = 14,\n",
    "                  color = '#4d4d4d', xytext = (1, 0),\n",
    "                  textcoords = 'offset points')\n",
    "\n",
    "# remover os números do eixo x\n",
    "fig.set_xticklabels('')\n",
    "fig.set_yticklabels(fig.get_yticklabels(), fontsize=15)\n",
    "\n",
    "# remover os títulos dos eixos\n",
    "fig.set(xlabel='', ylabel='')\n",
    "\n",
    "# remover as bordas do gráfico\n",
    "sns.despine(bottom = True)"
   ]
  },
  {
   "attachments": {},
   "cell_type": "markdown",
   "metadata": {},
   "source": [
    "### gráfico de fidelização dos laboratórios"
   ]
  },
  {
   "cell_type": "code",
   "execution_count": 143,
   "metadata": {},
   "outputs": [
    {
     "data": {
      "text/html": [
       "<div>\n",
       "<style scoped>\n",
       "    .dataframe tbody tr th:only-of-type {\n",
       "        vertical-align: middle;\n",
       "    }\n",
       "\n",
       "    .dataframe tbody tr th {\n",
       "        vertical-align: top;\n",
       "    }\n",
       "\n",
       "    .dataframe thead th {\n",
       "        text-align: right;\n",
       "    }\n",
       "</style>\n",
       "<table border=\"1\" class=\"dataframe\">\n",
       "  <thead>\n",
       "    <tr style=\"text-align: right;\">\n",
       "      <th></th>\n",
       "      <th>Lab Id</th>\n",
       "      <th>Média de idas ao lab</th>\n",
       "      <th>Sigla</th>\n",
       "    </tr>\n",
       "  </thead>\n",
       "  <tbody>\n",
       "    <tr>\n",
       "      <th>0</th>\n",
       "      <td>L525</td>\n",
       "      <td>6.362271</td>\n",
       "      <td>PA</td>\n",
       "    </tr>\n",
       "    <tr>\n",
       "      <th>1</th>\n",
       "      <td>L144</td>\n",
       "      <td>5.730931</td>\n",
       "      <td>NH</td>\n",
       "    </tr>\n",
       "    <tr>\n",
       "      <th>2</th>\n",
       "      <td>L122</td>\n",
       "      <td>5.581476</td>\n",
       "      <td>WA</td>\n",
       "    </tr>\n",
       "    <tr>\n",
       "      <th>3</th>\n",
       "      <td>L545</td>\n",
       "      <td>5.572115</td>\n",
       "      <td>IL</td>\n",
       "    </tr>\n",
       "    <tr>\n",
       "      <th>4</th>\n",
       "      <td>L537</td>\n",
       "      <td>5.534304</td>\n",
       "      <td>NJ</td>\n",
       "    </tr>\n",
       "    <tr>\n",
       "      <th>5</th>\n",
       "      <td>L768</td>\n",
       "      <td>5.439044</td>\n",
       "      <td>PA</td>\n",
       "    </tr>\n",
       "    <tr>\n",
       "      <th>6</th>\n",
       "      <td>L134</td>\n",
       "      <td>5.365709</td>\n",
       "      <td>GA</td>\n",
       "    </tr>\n",
       "    <tr>\n",
       "      <th>7</th>\n",
       "      <td>L072</td>\n",
       "      <td>5.288708</td>\n",
       "      <td>GA</td>\n",
       "    </tr>\n",
       "    <tr>\n",
       "      <th>8</th>\n",
       "      <td>L531</td>\n",
       "      <td>5.246493</td>\n",
       "      <td>CA</td>\n",
       "    </tr>\n",
       "    <tr>\n",
       "      <th>9</th>\n",
       "      <td>L131</td>\n",
       "      <td>5.221505</td>\n",
       "      <td>MI</td>\n",
       "    </tr>\n",
       "  </tbody>\n",
       "</table>\n",
       "</div>"
      ],
      "text/plain": [
       "  Lab Id  Média de idas ao lab Sigla\n",
       "0   L525              6.362271    PA\n",
       "1   L144              5.730931    NH\n",
       "2   L122              5.581476    WA\n",
       "3   L545              5.572115    IL\n",
       "4   L537              5.534304    NJ\n",
       "5   L768              5.439044    PA\n",
       "6   L134              5.365709    GA\n",
       "7   L072              5.288708    GA\n",
       "8   L531              5.246493    CA\n",
       "9   L131              5.221505    MI"
      ]
     },
     "execution_count": 143,
     "metadata": {},
     "output_type": "execute_result"
    }
   ],
   "source": [
    "fidelizacao = transactional_data[transactional_data['Patient Id'] != '-2']\n",
    "\n",
    "fidelizacao = fidelizacao[fidelizacao['Lab Id'] != '-2']\n",
    "\n",
    "fidelizacao = fidelizacao.groupby(['Patient Id', 'Lab Id']).count().reset_index().drop_duplicates('Patient Id')[['Patient Id', 'Lab Id', 'Gender']]\n",
    "\n",
    "fidelizacao = fidelizacao.rename({'Gender': 'Média de idas ao lab'}, axis = 1)\n",
    "\n",
    "fidelizacao = fidelizacao.groupby('Lab Id').mean('Média de idas ao lab').reset_index().sort_values('Média de idas ao lab', ascending = False).head(10).merge(df_geocode[['Lab Id', 'Sigla']], how = 'left')\n",
    "\n",
    "fidelizacao"
   ]
  },
  {
   "cell_type": "code",
   "execution_count": 149,
   "metadata": {},
   "outputs": [
    {
     "data": {
      "image/png": "[encoded data removed]",
      "text/plain": [
       "<Figure size 720x576 with 1 Axes>"
      ]
     },
     "metadata": {},
     "output_type": "display_data"
    }
   ],
   "source": [
    "cores = ['#5288db' if x == 'NH' else '#5288db' if x == 'NJ' else '#5288db' if x == 'MI' else '#5288db' if x == 'IL' else '#a6a6a6' for x in fidelizacao['Sigla']]\n",
    "\n",
    "plt.figure(figsize = (10,8))\n",
    "sns.set_style('white') # also 'ticks', 'darkgrid', 'whitegrid', white\n",
    "fig = sns.barplot(data = fidelizacao, x = 'Média de idas ao lab', y = 'Lab Id', palette = cores, width = 0.6)\n",
    "\n",
    "# colocar os números no final da barra\n",
    "for i in fig.patches:\n",
    "    fig.annotate(float(round(i.get_width(), 2)),\n",
    "                  (i.get_width(), i.get_y() + i.get_height() / 2),\n",
    "                  ha = 'left', va = 'center', fontsize = 16,\n",
    "                  color = '#4d4d4d', xytext = (1, 0),\n",
    "                  textcoords = 'offset points')\n",
    "\n",
    "# remover os números do eixo x\n",
    "fig.set_xticklabels('')\n",
    "fig.set_yticklabels(fig.get_yticklabels(), fontsize=15)\n",
    "\n",
    "# remover os títulos dos eixos\n",
    "fig.set(xlabel='', ylabel='')\n",
    "\n",
    "# remover as bordas do gráfico\n",
    "sns.despine(bottom = True)"
   ]
  },
  {
   "attachments": {},
   "cell_type": "markdown",
   "metadata": {},
   "source": [
    "### gráfico média de exames por bateria"
   ]
  },
  {
   "cell_type": "code",
   "execution_count": 160,
   "metadata": {},
   "outputs": [
    {
     "data": {
      "text/html": [
       "<div>\n",
       "<style scoped>\n",
       "    .dataframe tbody tr th:only-of-type {\n",
       "        vertical-align: middle;\n",
       "    }\n",
       "\n",
       "    .dataframe tbody tr th {\n",
       "        vertical-align: top;\n",
       "    }\n",
       "\n",
       "    .dataframe thead th {\n",
       "        text-align: right;\n",
       "    }\n",
       "</style>\n",
       "<table border=\"1\" class=\"dataframe\">\n",
       "  <thead>\n",
       "    <tr style=\"text-align: right;\">\n",
       "      <th></th>\n",
       "      <th>index</th>\n",
       "      <th>Sigla</th>\n",
       "      <th>Média de exames por bateria</th>\n",
       "      <th>Estado</th>\n",
       "    </tr>\n",
       "  </thead>\n",
       "  <tbody>\n",
       "    <tr>\n",
       "      <th>0</th>\n",
       "      <td>6</td>\n",
       "      <td>MI</td>\n",
       "      <td>4.195907</td>\n",
       "      <td>Michigan</td>\n",
       "    </tr>\n",
       "    <tr>\n",
       "      <th>1</th>\n",
       "      <td>7</td>\n",
       "      <td>NH</td>\n",
       "      <td>4.134845</td>\n",
       "      <td>New Hampshire</td>\n",
       "    </tr>\n",
       "    <tr>\n",
       "      <th>2</th>\n",
       "      <td>3</td>\n",
       "      <td>IL</td>\n",
       "      <td>3.912349</td>\n",
       "      <td>Illinois</td>\n",
       "    </tr>\n",
       "    <tr>\n",
       "      <th>3</th>\n",
       "      <td>8</td>\n",
       "      <td>NJ</td>\n",
       "      <td>3.886670</td>\n",
       "      <td>New Jersey</td>\n",
       "    </tr>\n",
       "    <tr>\n",
       "      <th>4</th>\n",
       "      <td>1</td>\n",
       "      <td>GA</td>\n",
       "      <td>3.644472</td>\n",
       "      <td>Georgia</td>\n",
       "    </tr>\n",
       "    <tr>\n",
       "      <th>5</th>\n",
       "      <td>5</td>\n",
       "      <td>MA</td>\n",
       "      <td>3.615409</td>\n",
       "      <td>Massachusetts</td>\n",
       "    </tr>\n",
       "    <tr>\n",
       "      <th>6</th>\n",
       "      <td>10</td>\n",
       "      <td>PA</td>\n",
       "      <td>3.557441</td>\n",
       "      <td>Pennsylvania</td>\n",
       "    </tr>\n",
       "    <tr>\n",
       "      <th>7</th>\n",
       "      <td>2</td>\n",
       "      <td>IA</td>\n",
       "      <td>3.535974</td>\n",
       "      <td>Iowa</td>\n",
       "    </tr>\n",
       "    <tr>\n",
       "      <th>8</th>\n",
       "      <td>9</td>\n",
       "      <td>NY</td>\n",
       "      <td>3.512936</td>\n",
       "      <td>New York</td>\n",
       "    </tr>\n",
       "    <tr>\n",
       "      <th>9</th>\n",
       "      <td>12</td>\n",
       "      <td>WA</td>\n",
       "      <td>3.483885</td>\n",
       "      <td>Washington</td>\n",
       "    </tr>\n",
       "    <tr>\n",
       "      <th>10</th>\n",
       "      <td>0</td>\n",
       "      <td>CA</td>\n",
       "      <td>3.364948</td>\n",
       "      <td>California</td>\n",
       "    </tr>\n",
       "    <tr>\n",
       "      <th>11</th>\n",
       "      <td>11</td>\n",
       "      <td>TX</td>\n",
       "      <td>3.213298</td>\n",
       "      <td>Texas</td>\n",
       "    </tr>\n",
       "    <tr>\n",
       "      <th>12</th>\n",
       "      <td>4</td>\n",
       "      <td>LA</td>\n",
       "      <td>1.807692</td>\n",
       "      <td>Louisiana</td>\n",
       "    </tr>\n",
       "  </tbody>\n",
       "</table>\n",
       "</div>"
      ],
      "text/plain": [
       "    index Sigla  Média de exames por bateria         Estado\n",
       "0       6    MI                     4.195907       Michigan\n",
       "1       7    NH                     4.134845  New Hampshire\n",
       "2       3    IL                     3.912349       Illinois\n",
       "3       8    NJ                     3.886670     New Jersey\n",
       "4       1    GA                     3.644472        Georgia\n",
       "5       5    MA                     3.615409  Massachusetts\n",
       "6      10    PA                     3.557441   Pennsylvania\n",
       "7       2    IA                     3.535974           Iowa\n",
       "8       9    NY                     3.512936       New York\n",
       "9      12    WA                     3.483885     Washington\n",
       "10      0    CA                     3.364948     California\n",
       "11     11    TX                     3.213298          Texas\n",
       "12      4    LA                     1.807692      Louisiana"
      ]
     },
     "execution_count": 160,
     "metadata": {},
     "output_type": "execute_result"
    }
   ],
   "source": [
    "transactional_location = transactional_data.merge(df_geocode[['Lab Id', 'Sigla']], how = 'left')\n",
    "\n",
    "transactional_location.head()\n",
    "\n",
    "media_bateria_estado = transactional_location.groupby(['Sigla', 'Service Id']).count()['Patient Id'].reset_index()\n",
    "\n",
    "media_bateria_estado = media_bateria_estado.groupby('Sigla').mean('Patient Id').reset_index()\n",
    "\n",
    "media_bateria_estado = media_bateria_estado.sort_values('Patient Id', ascending = False).reset_index().rename({'Patient Id': 'Média de exames por bateria'}, axis = 1).merge(zipcodes_states[['Sigla', 'Estado']], how = 'left')\n",
    "\n",
    "media_bateria_estado"
   ]
  },
  {
   "cell_type": "code",
   "execution_count": 164,
   "metadata": {},
   "outputs": [
    {
     "data": {
      "image/png": "[encoded data removed]",
      "text/plain": [
       "<Figure size 432x720 with 1 Axes>"
      ]
     },
     "metadata": {
      "needs_background": "light"
     },
     "output_type": "display_data"
    }
   ],
   "source": [
    "plt.figure(figsize = (6,10))\n",
    "sns.set_style('white') # also 'ticks', 'darkgrid', 'whitegrid', white\n",
    "fig = sns.barplot(data = media_bateria_estado, x = 'Média de exames por bateria', y = 'Estado', color = '#a6a6a6', width = 0.6)\n",
    "\n",
    "# colocar os números no final da barra\n",
    "for i in fig.patches:\n",
    "    fig.annotate((round(i.get_width(), 2)),\n",
    "                  (i.get_width(), i.get_y() + i.get_height() / 2),\n",
    "                  ha = 'left', va = 'center', fontsize = 14,\n",
    "                  color = '#4d4d4d', xytext = (1, 0),\n",
    "                  textcoords = 'offset points')\n",
    "\n",
    "# remover os números do eixo x\n",
    "fig.set_xticklabels('')\n",
    "fig.set_yticklabels(fig.get_yticklabels(), fontsize=15)\n",
    "\n",
    "# remover os títulos dos eixos\n",
    "fig.set(xlabel='', ylabel='')\n",
    "\n",
    "# remover as bordas do gráfico\n",
    "sns.despine(bottom = True)\n",
    "\n",
    "# deixar o gráfico transparente\n",
    "plt.gcf().set_facecolor('none')\n",
    "plt.gca().patch.set_alpha(0)"
   ]
  },
  {
   "cell_type": "code",
   "execution_count": null,
   "metadata": {},
   "outputs": [],
   "source": []
  }
 ],
 "metadata": {
  "kernelspec": {
   "display_name": "Python 3",
   "language": "python",
   "name": "python3"
  },
  "language_info": {
   "codemirror_mode": {
    "name": "ipython",
    "version": 3
   },
   "file_extension": ".py",
   "mimetype": "text/x-python",
   "name": "python",
   "nbconvert_exporter": "python",
   "pygments_lexer": "ipython3",
   "version": "3.10.10"
  },
  "orig_nbformat": 4
 },
 "nbformat": 4,
 "nbformat_minor": 2
}
